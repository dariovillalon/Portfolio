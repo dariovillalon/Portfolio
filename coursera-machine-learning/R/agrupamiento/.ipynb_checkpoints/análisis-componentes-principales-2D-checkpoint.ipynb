{
 "cells": [
  {
   "cell_type": "markdown",
   "metadata": {},
   "source": [
    "# Análisis de componentes principales en dataset 2D"
   ]
  },
  {
   "cell_type": "markdown",
   "metadata": {
    "collapsed": true
   },
   "source": [
    "En este ejemplo utilizaremos el análisis del componentes principales (PCA) para realizar reducción de dimensionalidad en un dataset 2D. En el ejemplo visualizaremos que sucede cuando se utiliza PCA para reducir de 2D a 1D. "
   ]
  },
  {
   "cell_type": "markdown",
   "metadata": {},
   "source": [
    "#### Configuración de tamaño de gráficos"
   ]
  },
  {
   "cell_type": "code",
   "execution_count": 2,
   "metadata": {
    "collapsed": true
   },
   "outputs": [],
   "source": [
    "options(repr.plot.width=5, repr.plot.height=4, scipen = 999)"
   ]
  },
  {
   "cell_type": "markdown",
   "metadata": {},
   "source": [
    "#### Instalación y carga de paquetes necesarios"
   ]
  },
  {
   "cell_type": "code",
   "execution_count": 8,
   "metadata": {
    "collapsed": false
   },
   "outputs": [],
   "source": [
    "list.of.packages <- c('ggplot2', 'R.matlab', 'ggthemes')\n",
    "\n",
    "new.packages <- list.of.packages[!(list.of.packages %in% installed.packages()[,\"Package\"])]\n",
    "if(length(new.packages)) install.packages(new.packages, repos = \"https://cran.r-project.org\")\n",
    "\n",
    "library(ggplot2)\n",
    "library(R.matlab)\n",
    "library(ggthemes)"
   ]
  },
  {
   "cell_type": "markdown",
   "metadata": {},
   "source": [
    "### Carga y exploración de datos"
   ]
  },
  {
   "cell_type": "code",
   "execution_count": 4,
   "metadata": {
    "collapsed": true
   },
   "outputs": [],
   "source": [
    "X <- as.data.frame(readMat('ex7data1.mat'))\n",
    "str(X)\n",
    "head(X)"
   ]
  },
  {
   "cell_type": "markdown",
   "metadata": {},
   "source": [
    "## Visualización de datos\n",
    "\n",
    "### Gráfico de dispersión"
   ]
  },
  {
   "cell_type": "code",
   "execution_count": 9,
   "metadata": {
    "collapsed": false
   },
   "outputs": [
    {
     "data": {},
     "metadata": {},
     "output_type": "display_data"
    },
    {
     "data": {
      "image/png": "[encoded data removed]",
      "text/plain": [
       "plot without title"
      ]
     },
     "metadata": {},
     "output_type": "display_data"
    }
   ],
   "source": [
    "ggplot() + geom_point(aes(x = X[,1], y = X[,2])) + xlab('X1') + ylab('X2') + ggtitle('Datos de ejemplo') + theme_tufte()"
   ]
  },
  {
   "cell_type": "markdown",
   "metadata": {},
   "source": [
    "#### Antes de realizar PCA debemos escalar los datos."
   ]
  },
  {
   "cell_type": "code",
   "execution_count": 33,
   "metadata": {
    "collapsed": false
   },
   "outputs": [],
   "source": [
    "X_norm <- scale(X)"
   ]
  },
  {
   "cell_type": "markdown",
   "metadata": {},
   "source": [
    "#### Ejecutamos el algoritmo PCA"
   ]
  },
  {
   "cell_type": "code",
   "execution_count": 40,
   "metadata": {
    "collapsed": false
   },
   "outputs": [],
   "source": [
    "pca <- function(X) {\n",
    "    \n",
    "    m <- nrow(X)\n",
    "    n <- ncol(X)\n",
    "    \n",
    "    U <- rep(0, n)\n",
    "    S <- rep(0, n)\n",
    "    \n",
    "    #Calculamos la matriz de covarianza\n",
    "    Sigma <- (1 / m) * (t(X) %*% X) # matriz nxn\n",
    "    \n",
    "    USV <- svd(Sigma)\n",
    "    \n",
    "    return(USV)\n",
    "}\n",
    "\n",
    "USV <- pca(X_norm)"
   ]
  },
  {
   "cell_type": "markdown",
   "metadata": {},
   "source": [
    "#### U contiene el componente principal, S ( USV['d'] en este caso) contiene la matriz diagonal"
   ]
  },
  {
   "cell_type": "code",
   "execution_count": 43,
   "metadata": {
    "collapsed": false
   },
   "outputs": [
    {
     "data": {
      "text/html": [
       "<dl>\n",
       "\t<dt>$d</dt>\n",
       "\t\t<dd><ol class=list-inline>\n",
       "\t<li>1.70081976881254</li>\n",
       "\t<li>0.259180231187457</li>\n",
       "</ol>\n",
       "</dd>\n",
       "\t<dt>$u</dt>\n",
       "\t\t<dd><table>\n",
       "<tbody>\n",
       "\t<tr><td>-0.7071068</td><td>-0.7071068</td></tr>\n",
       "\t<tr><td>-0.7071068</td><td> 0.7071068</td></tr>\n",
       "</tbody>\n",
       "</table>\n",
       "</dd>\n",
       "\t<dt>$v</dt>\n",
       "\t\t<dd><table>\n",
       "<tbody>\n",
       "\t<tr><td>-0.7071068</td><td>-0.7071068</td></tr>\n",
       "\t<tr><td>-0.7071068</td><td> 0.7071068</td></tr>\n",
       "</tbody>\n",
       "</table>\n",
       "</dd>\n",
       "</dl>\n"
      ],
      "text/latex": [
       "\\begin{description}\n",
       "\\item[\\$d] \\begin{enumerate*}\n",
       "\\item 1.70081976881254\n",
       "\\item 0.259180231187457\n",
       "\\end{enumerate*}\n",
       "\n",
       "\\item[\\$u] \\begin{tabular}{ll}\n",
       "\t -0.7071068 & -0.7071068\\\\\n",
       "\t -0.7071068 &  0.7071068\\\\\n",
       "\\end{tabular}\n",
       "\n",
       "\\item[\\$v] \\begin{tabular}{ll}\n",
       "\t -0.7071068 & -0.7071068\\\\\n",
       "\t -0.7071068 &  0.7071068\\\\\n",
       "\\end{tabular}\n",
       "\n",
       "\\end{description}\n"
      ],
      "text/markdown": [
       "$d\n",
       ":   1. 1.70081976881254\n",
       "2. 0.259180231187457\n",
       "\n",
       "\n",
       "\n",
       "$u\n",
       ":   \n",
       "| -0.7071068 | -0.7071068 | \n",
       "| -0.7071068 |  0.7071068 | \n",
       "\n",
       "\n",
       "\n",
       "$v\n",
       ":   \n",
       "| -0.7071068 | -0.7071068 | \n",
       "| -0.7071068 |  0.7071068 | \n",
       "\n",
       "\n",
       "\n",
       "\n",
       "\n"
      ],
      "text/plain": [
       "$d\n",
       "[1] 1.7008198 0.2591802\n",
       "\n",
       "$u\n",
       "           [,1]       [,2]\n",
       "[1,] -0.7071068 -0.7071068\n",
       "[2,] -0.7071068  0.7071068\n",
       "\n",
       "$v\n",
       "           [,1]       [,2]\n",
       "[1,] -0.7071068 -0.7071068\n",
       "[2,] -0.7071068  0.7071068\n"
      ]
     },
     "metadata": {},
     "output_type": "display_data"
    }
   ],
   "source": [
    "USV\n",
    "S <- USV$d\n",
    "U <- USV$u"
   ]
  },
  {
   "cell_type": "markdown",
   "metadata": {},
   "source": [
    "#### Preparamos los datos para graficar"
   ]
  },
  {
   "cell_type": "code",
   "execution_count": 111,
   "metadata": {
    "collapsed": false
   },
   "outputs": [
    {
     "data": {},
     "metadata": {},
     "output_type": "display_data"
    },
    {
     "data": {
      "image/png": "[encoded data removed]",
      "text/plain": [
       "plot without title"
      ]
     },
     "metadata": {},
     "output_type": "display_data"
    }
   ],
   "source": [
    "p1 <- c(mu)\n",
    "p2 <- mu + 1.5 * S[1] %*% t(U[,1])\n",
    "q2 <- mu + 1.5 * S[2] %*% t(U[,2])\n",
    "\n",
    "df <- data.frame(x1 = c(p1[1], p2[1], p1[1], q2[1]), x2 = c(p1[2], p2[2], p1[2], q2[2]))\n",
    "\n",
    "ggplot() + geom_point(aes(x = X[,1], y = X[,2])) + \n",
    "    geom_point(data = df[1:2,], aes(x=x1, y = x2, col = 'red'), shape = 4) +\n",
    "    geom_line(data = df[1:2,], aes(x=x1, y = x2, col = 'red')) +\n",
    "    geom_point(data = df[3:4,], aes(x=x1, y = x2, col = 'red'), shape = 4) +\n",
    "    geom_line(data = df[3:4,], aes(x=x1, y = x2, col = 'red')) +\n",
    "    xlab('X1') + ylab('X2') + ggtitle('Eigenvectores') + theme_tufte() + theme(legend.position=\"none\")   "
   ]
  },
  {
   "cell_type": "markdown",
   "metadata": {},
   "source": [
    "El gráfico muestra los componentes principales encontrados y los valores del componente principal mayor es:"
   ]
  },
  {
   "cell_type": "code",
   "execution_count": 102,
   "metadata": {
    "collapsed": false
   },
   "outputs": [
    {
     "data": {
      "text/html": [
       "<ol class=list-inline>\n",
       "\t<li>-0.707106781186548</li>\n",
       "\t<li>-0.707106781186548</li>\n",
       "</ol>\n"
      ],
      "text/latex": [
       "\\begin{enumerate*}\n",
       "\\item -0.707106781186548\n",
       "\\item -0.707106781186548\n",
       "\\end{enumerate*}\n"
      ],
      "text/markdown": [
       "1. -0.707106781186548\n",
       "2. -0.707106781186548\n",
       "\n",
       "\n"
      ],
      "text/plain": [
       "[1] -0.7071068 -0.7071068"
      ]
     },
     "metadata": {},
     "output_type": "display_data"
    }
   ],
   "source": [
    "U[,1]"
   ]
  },
  {
   "cell_type": "markdown",
   "metadata": {
    "collapsed": true
   },
   "source": [
    "***\n",
    "## Reducción de dimensionalidad con PCA\n",
    "\n",
    "Una vez que calculamos los componentes principales podemos usarlos para reducir la cantidad de dimensiones de nuestro dataset proyectando cada observación a un espacio dimensional menor x(i) -> z(i), en este caso proyectaremos de 2D a 1D.\n",
    "En este ejemplo utilizaremos los eigenvectores encontrados para proyectar el dataset a 1D.\n",
    "\n",
    "Proyectamos los datos a 1D:"
   ]
  },
  {
   "cell_type": "code",
   "execution_count": 130,
   "metadata": {
    "collapsed": false
   },
   "outputs": [
    {
     "data": {
      "text/html": [
       "<table>\n",
       "<tbody>\n",
       "\t<tr><td> 1.4812739</td></tr>\n",
       "\t<tr><td>-0.9129123</td></tr>\n",
       "\t<tr><td> 1.2120866</td></tr>\n",
       "\t<tr><td> 1.6273401</td></tr>\n",
       "\t<tr><td> 1.2604241</td></tr>\n",
       "\t<tr><td>-0.9670022</td></tr>\n",
       "</tbody>\n",
       "</table>\n"
      ],
      "text/latex": [
       "\\begin{tabular}{l}\n",
       "\t  1.4812739\\\\\n",
       "\t -0.9129123\\\\\n",
       "\t  1.2120866\\\\\n",
       "\t  1.6273401\\\\\n",
       "\t  1.2604241\\\\\n",
       "\t -0.9670022\\\\\n",
       "\\end{tabular}\n"
      ],
      "text/markdown": [
       "\n",
       "|  1.4812739 | \n",
       "| -0.9129123 | \n",
       "|  1.2120866 | \n",
       "|  1.6273401 | \n",
       "|  1.2604241 | \n",
       "| -0.9670022 | \n",
       "\n",
       "\n"
      ],
      "text/plain": [
       "     [,1]      \n",
       "[1,]  1.4812739\n",
       "[2,] -0.9129123\n",
       "[3,]  1.2120866\n",
       "[4,]  1.6273401\n",
       "[5,]  1.2604241\n",
       "[6,] -0.9670022"
      ]
     },
     "metadata": {},
     "output_type": "display_data"
    }
   ],
   "source": [
    "K <- 1\n",
    "\n",
    "projectData <- function(X, U, K) {\n",
    "    \n",
    "    \n",
    "    Z <- matrix(0, nrow = nrow(X), ncol = K)\n",
    "    U_reduce <- U[,1:K]\n",
    "    \n",
    "    Z <- X %*% U_reduce #o t(U_reduce) %*% X    si X es una matriz y no un dataframe\n",
    "    \n",
    "    Z    \n",
    "}\n",
    "\n",
    "Z <- projectData(X_norm, U, K)\n",
    "\n",
    "head(Z) #Las proyecciones de las primeras observaciones"
   ]
  },
  {
   "cell_type": "markdown",
   "metadata": {},
   "source": [
    "Para recuperar una aproximación de los datos nuevamente a partir de las proyecciones:"
   ]
  },
  {
   "cell_type": "code",
   "execution_count": 146,
   "metadata": {
    "collapsed": false
   },
   "outputs": [
    {
     "name": "stdout",
     "output_type": "stream",
     "text": [
      " num [1:50, 1:2] -1.047 0.646 -0.857 -1.151 -0.891 ...\n"
     ]
    },
    {
     "data": {
      "text/html": [
       "<table>\n",
       "<tbody>\n",
       "\t<tr><td>-1.0474188</td><td>-1.0474188</td></tr>\n",
       "\t<tr><td> 0.6455265</td><td> 0.6455265</td></tr>\n",
       "\t<tr><td>-0.8570746</td><td>-0.8570746</td></tr>\n",
       "\t<tr><td>-1.1507032</td><td>-1.1507032</td></tr>\n",
       "\t<tr><td>-0.8912544</td><td>-0.8912544</td></tr>\n",
       "\t<tr><td> 0.6837738</td><td> 0.6837738</td></tr>\n",
       "</tbody>\n",
       "</table>\n"
      ],
      "text/latex": [
       "\\begin{tabular}{ll}\n",
       "\t -1.0474188 & -1.0474188\\\\\n",
       "\t  0.6455265 &  0.6455265\\\\\n",
       "\t -0.8570746 & -0.8570746\\\\\n",
       "\t -1.1507032 & -1.1507032\\\\\n",
       "\t -0.8912544 & -0.8912544\\\\\n",
       "\t  0.6837738 &  0.6837738\\\\\n",
       "\\end{tabular}\n"
      ],
      "text/markdown": [
       "\n",
       "| -1.0474188 | -1.0474188 | \n",
       "|  0.6455265 |  0.6455265 | \n",
       "| -0.8570746 | -0.8570746 | \n",
       "| -1.1507032 | -1.1507032 | \n",
       "| -0.8912544 | -0.8912544 | \n",
       "|  0.6837738 |  0.6837738 | \n",
       "\n",
       "\n"
      ],
      "text/plain": [
       "     [,1]       [,2]      \n",
       "[1,] -1.0474188 -1.0474188\n",
       "[2,]  0.6455265  0.6455265\n",
       "[3,] -0.8570746 -0.8570746\n",
       "[4,] -1.1507032 -1.1507032\n",
       "[5,] -0.8912544 -0.8912544\n",
       "[6,]  0.6837738  0.6837738"
      ]
     },
     "metadata": {},
     "output_type": "display_data"
    }
   ],
   "source": [
    "recoverData <- function(Z, U, K) {\n",
    "    \n",
    "    X_rec <- matrix(0, nrow(Z), length(K))\n",
    "    U_reduce <- U[,1:K]\n",
    "    X_rec <- Z %*% t(U_reduce)\n",
    "    X_rec\n",
    "}\n",
    "\n",
    "X_rec <- recoverData(Z, U, K)"
   ]
  },
  {
   "cell_type": "markdown",
   "metadata": {},
   "source": [
    "Chequeamos que X_rec (los datos aproximados recuperados) tenga 2 atributos:"
   ]
  },
  {
   "cell_type": "code",
   "execution_count": null,
   "metadata": {
    "collapsed": true
   },
   "outputs": [],
   "source": [
    "str(X_rec)\n",
    "head(X_rec)"
   ]
  },
  {
   "cell_type": "markdown",
   "metadata": {},
   "source": [
    "### Graficamos los datos proyectados y los datos originales"
   ]
  },
  {
   "cell_type": "code",
   "execution_count": 277,
   "metadata": {
    "collapsed": false
   },
   "outputs": [
    {
     "data": {},
     "metadata": {},
     "output_type": "display_data"
    },
    {
     "data": {
      "image/png": "[encoded data removed]",
      "text/plain": [
       "plot without title"
      ]
     },
     "metadata": {},
     "output_type": "display_data"
    }
   ],
   "source": [
    "X_lines <- NULL\n",
    "for(i in 1:nrow(X_norm)) {\n",
    "    X_lines <- rbind(X_lines, X_norm[i,])\n",
    "    X_lines <- rbind(X_lines, X_rec[i,])\n",
    "}\n",
    "\n",
    "X_lines <- as.data.frame(X_lines)\n",
    "X_lines$c1 <- row(X_lines)[,1] %% 2 != 0\n",
    "X_lines$l1 <- rep(1:nrow(X_rec), each=2)\n",
    "\n",
    "ggplot() + \n",
    "geom_point(data = X_lines, aes(x = X.1, y = X.2, col = c1), shape = 1) + \n",
    "geom_line(data = X_lines, aes(x = X.1, y = X.2, group = l1), linetype=\"dashed\") +\n",
    "ggtitle(\"Datos originales y sus respectivas proyecciones\") + xlab('X1') + ylab('X2') + theme_tufte() +\n",
    "theme(legend.position=\"none\")  "
   ]
  },
  {
   "cell_type": "markdown",
   "metadata": {
    "collapsed": true
   },
   "source": [
    "## Conclusiones:\n",
    "Este sencillo ejemplo nos da una idea de como podemos reducir la cantidad de dimensiones de nuestro dataset con el algoritmo PCA. Esto es útil cuando tengamos por ejemplo 10000 atributos y querramos reducirlo para que nuestro algoritmo de aprendizaje autómatico (reg. logistica, red neuronal, etc) sea más rápido, ya que en nuestro training set, test set y set de validación utilizaremos el dataset proyectado (con menos dimensiones o atributos)."
   ]
  }
 ],
 "metadata": {
  "kernelspec": {
   "display_name": "R",
   "language": "R",
   "name": "ir"
  },
  "language_info": {
   "codemirror_mode": "r",
   "file_extension": ".r",
   "mimetype": "text/x-r-source",
   "name": "R",
   "pygments_lexer": "r",
   "version": "3.3.2"
  }
 },
 "nbformat": 4,
 "nbformat_minor": 0
}
