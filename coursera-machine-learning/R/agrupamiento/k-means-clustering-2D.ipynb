{
 "cells": [
  {
   "cell_type": "markdown",
   "metadata": {},
   "source": [
    "# Clustering con el algoritmo k-means en dataset 2D"
   ]
  },
  {
   "cell_type": "markdown",
   "metadata": {
    "collapsed": true
   },
   "source": [
    "En este ejemplo aplicaremos el algoritmo k-means para agrupar un conjunto de observaciones en 2D y ver como funciona el algoritmo básico."
   ]
  },
  {
   "cell_type": "markdown",
   "metadata": {},
   "source": [
    "#### Configuración de tamaño de gráficos"
   ]
  },
  {
   "cell_type": "code",
   "execution_count": 1,
   "metadata": {
    "collapsed": true
   },
   "outputs": [],
   "source": [
    "options(repr.plot.width=5, repr.plot.height=4, scipen = 999)"
   ]
  },
  {
   "cell_type": "markdown",
   "metadata": {},
   "source": [
    "#### Instalación y carga de paquetes necesarios"
   ]
  },
  {
   "cell_type": "code",
   "execution_count": 2,
   "metadata": {
    "collapsed": false
   },
   "outputs": [
    {
     "name": "stderr",
     "output_type": "stream",
     "text": [
      "R.matlab v3.6.1 (2016-10-19) successfully loaded. See ?R.matlab for help.\n",
      "\n",
      "Attaching package: 'R.matlab'\n",
      "\n",
      "The following objects are masked from 'package:base':\n",
      "\n",
      "    getOption, isOpen\n",
      "\n"
     ]
    }
   ],
   "source": [
    "list.of.packages <- c('ggplot2', 'ggthemes', 'R.matlab')\n",
    "\n",
    "new.packages <- list.of.packages[!(list.of.packages %in% installed.packages()[,\"Package\"])]\n",
    "if(length(new.packages)) install.packages(new.packages, repos = \"https://cran.r-project.org\")\n",
    "\n",
    "library(ggplot2)\n",
    "library(ggthemes)\n",
    "library(R.matlab)"
   ]
  },
  {
   "cell_type": "markdown",
   "metadata": {},
   "source": [
    "#### Carga de datos"
   ]
  },
  {
   "cell_type": "code",
   "execution_count": 3,
   "metadata": {
    "collapsed": false
   },
   "outputs": [],
   "source": [
    "X <- as.data.frame(readMat('ex7data2.mat'))"
   ]
  },
  {
   "cell_type": "markdown",
   "metadata": {},
   "source": [
    "### Exploración de datos"
   ]
  },
  {
   "cell_type": "code",
   "execution_count": 4,
   "metadata": {
    "collapsed": false
   },
   "outputs": [
    {
     "name": "stdout",
     "output_type": "stream",
     "text": [
      "'data.frame':\t300 obs. of  2 variables:\n",
      " $ X.1: num  1.84 5.66 6.35 2.9 3.23 ...\n",
      " $ X.2: num  4.61 4.8 3.29 4.61 4.94 ...\n"
     ]
    },
    {
     "data": {
      "text/html": [
       "<table>\n",
       "<thead><tr><th scope=col>X.1</th><th scope=col>X.2</th></tr></thead>\n",
       "<tbody>\n",
       "\t<tr><td>1.842080</td><td>4.607572</td></tr>\n",
       "\t<tr><td>5.658583</td><td>4.799964</td></tr>\n",
       "\t<tr><td>6.352579</td><td>3.290854</td></tr>\n",
       "\t<tr><td>2.904017</td><td>4.612204</td></tr>\n",
       "\t<tr><td>3.231979</td><td>4.939894</td></tr>\n",
       "\t<tr><td>1.247923</td><td>4.932678</td></tr>\n",
       "</tbody>\n",
       "</table>\n"
      ],
      "text/latex": [
       "\\begin{tabular}{r|ll}\n",
       " X.1 & X.2\\\\\n",
       "\\hline\n",
       "\t 1.842080 & 4.607572\\\\\n",
       "\t 5.658583 & 4.799964\\\\\n",
       "\t 6.352579 & 3.290854\\\\\n",
       "\t 2.904017 & 4.612204\\\\\n",
       "\t 3.231979 & 4.939894\\\\\n",
       "\t 1.247923 & 4.932678\\\\\n",
       "\\end{tabular}\n"
      ],
      "text/markdown": [
       "\n",
       "X.1 | X.2 | \n",
       "|---|---|---|---|---|---|\n",
       "| 1.842080 | 4.607572 | \n",
       "| 5.658583 | 4.799964 | \n",
       "| 6.352579 | 3.290854 | \n",
       "| 2.904017 | 4.612204 | \n",
       "| 3.231979 | 4.939894 | \n",
       "| 1.247923 | 4.932678 | \n",
       "\n",
       "\n"
      ],
      "text/plain": [
       "  X.1      X.2     \n",
       "1 1.842080 4.607572\n",
       "2 5.658583 4.799964\n",
       "3 6.352579 3.290854\n",
       "4 2.904017 4.612204\n",
       "5 3.231979 4.939894\n",
       "6 1.247923 4.932678"
      ]
     },
     "metadata": {},
     "output_type": "display_data"
    }
   ],
   "source": [
    "str(X)\n",
    "head(X)"
   ]
  },
  {
   "cell_type": "markdown",
   "metadata": {},
   "source": [
    "## Visualización\n",
    "\n",
    "### Gráfico de dispersión "
   ]
  },
  {
   "cell_type": "code",
   "execution_count": 5,
   "metadata": {
    "collapsed": false
   },
   "outputs": [
    {
     "data": {},
     "metadata": {},
     "output_type": "display_data"
    },
    {
     "data": {
      "image/png": "[encoded data removed]",
      "text/plain": [
       "plot without title"
      ]
     },
     "metadata": {},
     "output_type": "display_data"
    }
   ],
   "source": [
    "ggplot(X, aes(x = X.1, y = X.2)) + geom_point() + ggtitle('Gráfico de dispersión del dataset') + theme_tufte() + \n",
    "        geom_rangeframe()"
   ]
  },
  {
   "cell_type": "markdown",
   "metadata": {},
   "source": [
    "A simple viste podemos ver que existen 3 grupos bastante heterogéneos."
   ]
  },
  {
   "cell_type": "markdown",
   "metadata": {},
   "source": [
    "#### Inicializamos la cantidad de centroides y sus posiciones"
   ]
  },
  {
   "cell_type": "code",
   "execution_count": 6,
   "metadata": {
    "collapsed": false
   },
   "outputs": [
    {
     "data": {
      "text/html": [
       "<table>\n",
       "<tbody>\n",
       "\t<tr><td>3</td><td>2</td></tr>\n",
       "\t<tr><td>3</td><td>8</td></tr>\n",
       "\t<tr><td>6</td><td>5</td></tr>\n",
       "</tbody>\n",
       "</table>\n"
      ],
      "text/latex": [
       "\\begin{tabular}{ll}\n",
       "\t 3 & 2\\\\\n",
       "\t 3 & 8\\\\\n",
       "\t 6 & 5\\\\\n",
       "\\end{tabular}\n"
      ],
      "text/markdown": [
       "\n",
       "| 3 | 2 | \n",
       "| 3 | 8 | \n",
       "| 6 | 5 | \n",
       "\n",
       "\n"
      ],
      "text/plain": [
       "     [,1] [,2]\n",
       "[1,] 3    2   \n",
       "[2,] 3    8   \n",
       "[3,] 6    5   "
      ]
     },
     "metadata": {},
     "output_type": "display_data"
    }
   ],
   "source": [
    "K <- 3\n",
    "\n",
    "initial_centroids <- matrix(c(3, 3, 6, 2, 8 , 5), ncol = 2)\n",
    "initial_centroids"
   ]
  },
  {
   "cell_type": "markdown",
   "metadata": {},
   "source": [
    "#### Agregamos los centroides iniciales a nuestro gráfico"
   ]
  },
  {
   "cell_type": "code",
   "execution_count": 7,
   "metadata": {
    "collapsed": false
   },
   "outputs": [
    {
     "data": {},
     "metadata": {},
     "output_type": "display_data"
    },
    {
     "data": {
      "image/png": "[encoded data removed]",
      "text/plain": [
       "plot without title"
      ]
     },
     "metadata": {},
     "output_type": "display_data"
    }
   ],
   "source": [
    "temp_centroids <- as.data.frame(initial_centroids)\n",
    "names(temp_centroids) <- c('X.1', 'X.2')\n",
    "\n",
    "ggplot(X, aes(x = X.1, y = X.2)) + geom_point() + ggtitle('Datos con centroides iniciales') + theme_tufte() + geom_rangeframe() +\n",
    "    geom_point(data = temp_centroids, aes(x = X.1, y = X.2), colour = 'red')"
   ]
  },
  {
   "cell_type": "markdown",
   "metadata": {},
   "source": [
    "Ahora tenemos que encontrar el centroide más cercano para cada observación en X"
   ]
  },
  {
   "cell_type": "code",
   "execution_count": 8,
   "metadata": {
    "collapsed": false,
    "scrolled": true
   },
   "outputs": [],
   "source": [
    "findClosestCentroids <- function(X, centroids) {\n",
    "    \n",
    "    K <- nrow(centroids)\n",
    "    m <- nrow(X)\n",
    "    \n",
    "    idx <- rep(0, m)\n",
    "    \n",
    "    for(i in 1:m) {\n",
    "        \n",
    "        d_min <- 99999999\n",
    "        \n",
    "        for(j in 1:K) {\n",
    "            \n",
    "            distance <- (sum((X[i,] - centroids[j,]) ^ 2)) ^ (1/2)\n",
    "            \n",
    "            if(distance < d_min) {\n",
    "                d_min <- distance\n",
    "                idx[i] <- j\n",
    "            }\n",
    "        }\n",
    "    }\n",
    "    \n",
    "    return(idx)\n",
    "    \n",
    "}\n",
    "\n",
    "\n",
    "idx <- findClosestCentroids(X, initial_centroids)"
   ]
  },
  {
   "cell_type": "markdown",
   "metadata": {},
   "source": [
    "Graficamos los puntos teniendo en cuenta la primera asignación de centroides (en azul) para las observaciones."
   ]
  },
  {
   "cell_type": "code",
   "execution_count": 9,
   "metadata": {
    "collapsed": false
   },
   "outputs": [
    {
     "data": {},
     "metadata": {},
     "output_type": "display_data"
    },
    {
     "data": {
      "image/png": "[encoded data removed]",
      "text/plain": [
       "plot without title"
      ]
     },
     "metadata": {},
     "output_type": "display_data"
    }
   ],
   "source": [
    "temp_centroids <- as.data.frame(initial_centroids)\n",
    "names(temp_centroids) <- c('X.1', 'X.2')\n",
    "\n",
    "gg <- ggplot(X, aes(x = X.1, y = X.2)) + geom_point(col = idx) +\n",
    "        geom_point(data = temp_centroids, aes(x = X.1, y = X.2), colour = 'blue') +\n",
    "        ggtitle('Ejemplo datos para clustering') + \n",
    "        theme_tufte()\n",
    "\n",
    "gg"
   ]
  },
  {
   "cell_type": "markdown",
   "metadata": {},
   "source": [
    "El siguiente paso es mover los centroides de tal forma que sean igual al promedio de los puntos que agrupa."
   ]
  },
  {
   "cell_type": "code",
   "execution_count": 10,
   "metadata": {
    "collapsed": false
   },
   "outputs": [],
   "source": [
    "computeCentroids <- function(X, idx, K) {\n",
    "    \n",
    "    m <- nrow(X)\n",
    "    n <- ncol(X)\n",
    "    idx <- as.numeric(idx)\n",
    "    \n",
    "    centroids <- matrix(rep(0, K * n), ncol = n, nrow = K)\n",
    "    \n",
    "    for(i in 1:K) {\n",
    "        \n",
    "        idx_X <- which(idx %in% i)\n",
    "        \n",
    "        centroids[i,] <- colMeans(X[idx_X,])\n",
    "    }\n",
    "    \n",
    "    return(centroids)\n",
    "}\n",
    "\n",
    "centroids <- computeCentroids(X, idx, K)"
   ]
  },
  {
   "cell_type": "markdown",
   "metadata": {},
   "source": [
    "Nuevas posiciones de los centroides:"
   ]
  },
  {
   "cell_type": "code",
   "execution_count": 11,
   "metadata": {
    "collapsed": false
   },
   "outputs": [
    {
     "data": {
      "text/html": [
       "<table>\n",
       "<tbody>\n",
       "\t<tr><td>2.863568</td><td>2.140427</td></tr>\n",
       "\t<tr><td>1.833826</td><td>5.269081</td></tr>\n",
       "\t<tr><td>5.986722</td><td>3.200406</td></tr>\n",
       "</tbody>\n",
       "</table>\n"
      ],
      "text/latex": [
       "\\begin{tabular}{ll}\n",
       "\t 2.863568 & 2.140427\\\\\n",
       "\t 1.833826 & 5.269081\\\\\n",
       "\t 5.986722 & 3.200406\\\\\n",
       "\\end{tabular}\n"
      ],
      "text/markdown": [
       "\n",
       "| 2.863568 | 2.140427 | \n",
       "| 1.833826 | 5.269081 | \n",
       "| 5.986722 | 3.200406 | \n",
       "\n",
       "\n"
      ],
      "text/plain": [
       "     [,1]     [,2]    \n",
       "[1,] 2.863568 2.140427\n",
       "[2,] 1.833826 5.269081\n",
       "[3,] 5.986722 3.200406"
      ]
     },
     "metadata": {},
     "output_type": "display_data"
    }
   ],
   "source": [
    "centroids"
   ]
  },
  {
   "cell_type": "markdown",
   "metadata": {},
   "source": [
    "Graficamos las nuevas posiciones de los centroides."
   ]
  },
  {
   "cell_type": "code",
   "execution_count": 12,
   "metadata": {
    "collapsed": false
   },
   "outputs": [
    {
     "data": {},
     "metadata": {},
     "output_type": "display_data"
    },
    {
     "data": {
      "image/png": "[encoded data removed]",
      "text/plain": [
       "plot without title"
      ]
     },
     "metadata": {},
     "output_type": "display_data"
    }
   ],
   "source": [
    "temp_centroids <- as.data.frame(centroids)\n",
    "names(temp_centroids) <- c('X.1', 'X.2')\n",
    "\n",
    "gg <- ggplot(X, aes(x = X.1, y = X.2)) + geom_point(col = idx) +\n",
    "        geom_point(data = temp_centroids, aes(x = X.1, y = X.2), colour = 'blue') +\n",
    "        ggtitle('Ejemplo datos para clustering') + \n",
    "        theme_tufte()\n",
    "\n",
    "gg"
   ]
  },
  {
   "cell_type": "markdown",
   "metadata": {},
   "source": [
    "#### Ahora que sabemos como funciona el algoritmo lo utilizaremos con varias iteraciones\n",
    "\n",
    "Inicializamos algunos parámetros:"
   ]
  },
  {
   "cell_type": "code",
   "execution_count": 13,
   "metadata": {
    "collapsed": false
   },
   "outputs": [],
   "source": [
    "K <- 3\n",
    "max_iters <- 10\n",
    "initial_centroids <- matrix(c(3, 3, 6, 2, 8 , 5), ncol = 2)\n",
    "\n",
    "runkMeans <- function(X, initial_centroids, max_iters) {\n",
    "    \n",
    "    m <- nrow(X)\n",
    "    n <- ncol(X)\n",
    "    \n",
    "    K <- nrow(initial_centroids)\n",
    "    centroids <- initial_centroids\n",
    "    idx <- rep(0, m)\n",
    "    \n",
    "    for(i in 1:max_iters) {\n",
    "        \n",
    "        idx <- findClosestCentroids(X, centroids)\n",
    "        centroids <- computeCentroids(X, idx, K)\n",
    "        \n",
    "    }\n",
    "    \n",
    "    return(list(centroids = centroids, idx = idx))\n",
    "    \n",
    "}\n",
    "\n",
    "results <- runkMeans(X, initial_centroids, max_iters)\n",
    "centroids <- results[[1]]\n",
    "idx <- results[[2]]"
   ]
  },
  {
   "cell_type": "markdown",
   "metadata": {},
   "source": [
    "#### Graficamos los clusters y centroides resultantes luego de 10 iteraciones"
   ]
  },
  {
   "cell_type": "code",
   "execution_count": 14,
   "metadata": {
    "collapsed": false
   },
   "outputs": [
    {
     "data": {},
     "metadata": {},
     "output_type": "display_data"
    },
    {
     "data": {
      "image/png": "[encoded data removed]",
      "text/plain": [
       "plot without title"
      ]
     },
     "metadata": {},
     "output_type": "display_data"
    }
   ],
   "source": [
    "temp_centroids <- as.data.frame(centroids)\n",
    "names(temp_centroids) <- c('X.1', 'X.2')\n",
    "\n",
    "gg <- ggplot(X, aes(x = X.1, y = X.2)) + geom_point(col = idx) +\n",
    "        geom_point(data = temp_centroids, aes(x = X.1, y = X.2), colour = 'blue') +\n",
    "        ggtitle('Ejemplo datos para clustering') + \n",
    "        theme_tufte()\n",
    "\n",
    "gg"
   ]
  },
  {
   "cell_type": "markdown",
   "metadata": {},
   "source": [
    "También podemos almacenar los valores historicos de los centroides y ver como se fueron \"moviendo\". \n",
    "***\n",
    "En el siguiente caso los centroides iniciales serán iguales a puntos al azar en nuestros datos.\n",
    "Por otro lado aumentaremos el número de iteraciones.\n",
    "\n",
    "#### Inicializamos algunos parámetros"
   ]
  },
  {
   "cell_type": "code",
   "execution_count": 15,
   "metadata": {
    "collapsed": false
   },
   "outputs": [
    {
     "name": "stdout",
     "output_type": "stream",
     "text": [
      "Posiciones iniciales de centroides:\n"
     ]
    },
    {
     "data": {
      "text/html": [
       "<table>\n",
       "<thead><tr><th></th><th scope=col>X.1</th><th scope=col>X.2</th></tr></thead>\n",
       "<tbody>\n",
       "\t<tr><th scope=row>87</th><td>2.568695</td><td>5.206879</td></tr>\n",
       "\t<tr><th scope=row>236</th><td>5.860679</td><td>2.995771</td></tr>\n",
       "\t<tr><th scope=row>122</th><td>4.431530</td><td>0.540410</td></tr>\n",
       "</tbody>\n",
       "</table>\n"
      ],
      "text/latex": [
       "\\begin{tabular}{r|ll}\n",
       "  & X.1 & X.2\\\\\n",
       "\\hline\n",
       "\t87 & 2.568695 & 5.206879\\\\\n",
       "\t236 & 5.860679 & 2.995771\\\\\n",
       "\t122 & 4.431530 & 0.540410\\\\\n",
       "\\end{tabular}\n"
      ],
      "text/markdown": [
       "\n",
       "| <!--/--> | X.1 | X.2 | \n",
       "|---|---|---|\n",
       "| 87 | 2.568695 | 5.206879 | \n",
       "| 236 | 5.860679 | 2.995771 | \n",
       "| 122 | 4.431530 | 0.540410 | \n",
       "\n",
       "\n"
      ],
      "text/plain": [
       "    X.1      X.2     \n",
       "87  2.568695 5.206879\n",
       "236 5.860679 2.995771\n",
       "122 4.431530 0.540410"
      ]
     },
     "metadata": {},
     "output_type": "display_data"
    },
    {
     "name": "stdout",
     "output_type": "stream",
     "text": [
      "Posiciones finales de centroides:\n"
     ]
    },
    {
     "data": {
      "text/html": [
       "<table>\n",
       "<thead><tr><th scope=col>X.1</th><th scope=col>X.2</th></tr></thead>\n",
       "<tbody>\n",
       "\t<tr><td>1.953995</td><td>5.025570</td></tr>\n",
       "\t<tr><td>6.033667</td><td>3.000525</td></tr>\n",
       "\t<tr><td>3.043671</td><td>1.015410</td></tr>\n",
       "</tbody>\n",
       "</table>\n"
      ],
      "text/latex": [
       "\\begin{tabular}{r|ll}\n",
       " X.1 & X.2\\\\\n",
       "\\hline\n",
       "\t 1.953995 & 5.025570\\\\\n",
       "\t 6.033667 & 3.000525\\\\\n",
       "\t 3.043671 & 1.015410\\\\\n",
       "\\end{tabular}\n"
      ],
      "text/markdown": [
       "\n",
       "X.1 | X.2 | \n",
       "|---|---|---|\n",
       "| 1.953995 | 5.025570 | \n",
       "| 6.033667 | 3.000525 | \n",
       "| 3.043671 | 1.015410 | \n",
       "\n",
       "\n"
      ],
      "text/plain": [
       "  X.1      X.2     \n",
       "1 1.953995 5.025570\n",
       "2 6.033667 3.000525\n",
       "3 3.043671 1.015410"
      ]
     },
     "metadata": {},
     "output_type": "display_data"
    }
   ],
   "source": [
    "K <- 3\n",
    "max_iters <- 50\n",
    "\n",
    "set.seed(123)\n",
    "index <- sample(1:nrow(X), 3)\n",
    "initial_centroids <- as.matrix(X[index,])\n",
    "\n",
    "runkMeans <- function(X, initial_centroids, max_iters) {\n",
    "    \n",
    "    m <- nrow(X)\n",
    "    n <- ncol(X)\n",
    "    \n",
    "    K <- nrow(initial_centroids)\n",
    "    centroids <- initial_centroids\n",
    "    idx <- rep(0, m)\n",
    "    c1_hist <- centroids[1,]\n",
    "    c2_hist <- centroids[2,]\n",
    "    c3_hist <- centroids[3,]\n",
    "    \n",
    "    for(i in 1:max_iters) {\n",
    "        \n",
    "        idx <- findClosestCentroids(X, centroids)\n",
    "        centroids <- computeCentroids(X, idx, K)\n",
    "        c1_hist <- rbind(c1_hist, centroids[1,])\n",
    "        c2_hist <- rbind(c2_hist, centroids[2,])\n",
    "        c3_hist <- rbind(c3_hist, centroids[3,])\n",
    "        \n",
    "    }\n",
    "    \n",
    "    return(list(centroids = centroids, idx = idx, c1_hist = c1_hist, c2_hist = c2_hist, c3_hist = c3_hist))\n",
    "    \n",
    "}\n",
    "\n",
    "#Ejecutamos el algoritmo de clustering \n",
    "results <- runkMeans(X, initial_centroids, max_iters)\n",
    "\n",
    "cat(\"Posiciones iniciales de centroides:\\n\")\n",
    "initial_centroids\n",
    "\n",
    "cat(\"Posiciones finales de centroides:\\n\")\n",
    "centroids <- as.data.frame(results$centroids)\n",
    "names(centroids) <- c('X.1', 'X.2')\n",
    "centroids"
   ]
  },
  {
   "cell_type": "markdown",
   "metadata": {},
   "source": [
    "#### Preparamos los datos y graficamos."
   ]
  },
  {
   "cell_type": "code",
   "execution_count": 16,
   "metadata": {
    "collapsed": false
   },
   "outputs": [
    {
     "data": {},
     "metadata": {},
     "output_type": "display_data"
    },
    {
     "data": {
      "image/png": "[encoded data removed]",
      "text/plain": [
       "plot without title"
      ]
     },
     "metadata": {},
     "output_type": "display_data"
    }
   ],
   "source": [
    "plotKmeans <- function() {\n",
    "\n",
    "        idx <- results$idx\n",
    "                \n",
    "        c1_pos <- as.data.frame(results$c1_hist)\n",
    "        names(c1_pos) <- c('X.1', 'X.2')\n",
    "\n",
    "        c2_pos <- as.data.frame(results$c2_hist)\n",
    "        names(c2_pos) <- c('X.1', 'X.2')\n",
    "\n",
    "        c3_pos <- as.data.frame(results$c3_hist)\n",
    "        names(c3_pos) <- c('X.1', 'X.2')\n",
    "\n",
    "        gg <- ggplot(X, aes(x = X.1, y = X.2)) + geom_point(col = idx) +\n",
    "                \n",
    "                geom_point(data = c1_pos, aes(x = X.1, y = X.2), col = \"blue\", shape = 4) +\n",
    "                geom_line(data = c1_pos, aes(x = X.1, y = X.2), col = \"blue\") +\n",
    "\n",
    "                geom_point(data = c2_pos, aes(x = X.1, y = X.2), col = \"blue\", shape = 4) +\n",
    "                geom_line(data = c2_pos, aes(x = X.1, y = X.2), col = \"blue\") +\n",
    "\n",
    "                geom_point(data = c3_pos, aes(x = X.1, y = X.2), col = \"blue\", shape = 4) +\n",
    "                geom_line(data = c3_pos, aes(x = X.1, y = X.2), col = \"blue\") +\n",
    "\n",
    "                ggtitle('Movimientos de centroides') + \n",
    "                theme_tufte()\n",
    "\n",
    "        gg\n",
    "    }\n",
    "\n",
    "plotKmeans() + ggtitle(\"Resultado del algoritmo k-means\")"
   ]
  },
  {
   "cell_type": "markdown",
   "metadata": {},
   "source": [
    "***\n",
    "Para el siguiente caso podemos ver como el algoritmo se queda en un minimo local, es decir, reasignar cualquier punto a un nuevo cluster incrementaría la distancia total entre puntos y centroides, pero se puede llegar a una mejor solución si se inicializa de manera diferente los centroides."
   ]
  },
  {
   "cell_type": "code",
   "execution_count": 17,
   "metadata": {
    "collapsed": false
   },
   "outputs": [
    {
     "name": "stdout",
     "output_type": "stream",
     "text": [
      "Posiciones iniciales de centroides:\n"
     ]
    },
    {
     "data": {
      "text/html": [
       "<table>\n",
       "<thead><tr><th></th><th scope=col>X.1</th><th scope=col>X.2</th></tr></thead>\n",
       "<tbody>\n",
       "\t<tr><th scope=row>100</th><td>1.7281820</td><td>5.360284 </td></tr>\n",
       "\t<tr><th scope=row>200</th><td>2.7391191</td><td>1.100723 </td></tr>\n",
       "\t<tr><th scope=row>300</th><td>0.9404894</td><td>5.715568 </td></tr>\n",
       "</tbody>\n",
       "</table>\n"
      ],
      "text/latex": [
       "\\begin{tabular}{r|ll}\n",
       "  & X.1 & X.2\\\\\n",
       "\\hline\n",
       "\t100 & 1.7281820 & 5.360284 \\\\\n",
       "\t200 & 2.7391191 & 1.100723 \\\\\n",
       "\t300 & 0.9404894 & 5.715568 \\\\\n",
       "\\end{tabular}\n"
      ],
      "text/markdown": [
       "\n",
       "| <!--/--> | X.1 | X.2 | \n",
       "|---|---|---|\n",
       "| 100 | 1.7281820 | 5.360284  | \n",
       "| 200 | 2.7391191 | 1.100723  | \n",
       "| 300 | 0.9404894 | 5.715568  | \n",
       "\n",
       "\n"
      ],
      "text/plain": [
       "    X.1       X.2     \n",
       "100 1.7281820 5.360284\n",
       "200 2.7391191 1.100723\n",
       "300 0.9404894 5.715568"
      ]
     },
     "metadata": {},
     "output_type": "display_data"
    },
    {
     "name": "stdout",
     "output_type": "stream",
     "text": [
      "Posiciones finales de centroides:\n"
     ]
    },
    {
     "data": {
      "text/html": [
       "<table>\n",
       "<thead><tr><th scope=col>X.1</th><th scope=col>X.2</th></tr></thead>\n",
       "<tbody>\n",
       "\t<tr><td>2.576205</td><td>5.048910</td></tr>\n",
       "\t<tr><td>4.522055</td><td>1.980685</td></tr>\n",
       "\t<tr><td>1.032396</td><td>5.000765</td></tr>\n",
       "</tbody>\n",
       "</table>\n"
      ],
      "text/latex": [
       "\\begin{tabular}{r|ll}\n",
       " X.1 & X.2\\\\\n",
       "\\hline\n",
       "\t 2.576205 & 5.048910\\\\\n",
       "\t 4.522055 & 1.980685\\\\\n",
       "\t 1.032396 & 5.000765\\\\\n",
       "\\end{tabular}\n"
      ],
      "text/markdown": [
       "\n",
       "X.1 | X.2 | \n",
       "|---|---|---|\n",
       "| 2.576205 | 5.048910 | \n",
       "| 4.522055 | 1.980685 | \n",
       "| 1.032396 | 5.000765 | \n",
       "\n",
       "\n"
      ],
      "text/plain": [
       "  X.1      X.2     \n",
       "1 2.576205 5.048910\n",
       "2 4.522055 1.980685\n",
       "3 1.032396 5.000765"
      ]
     },
     "metadata": {},
     "output_type": "display_data"
    },
    {
     "data": {},
     "metadata": {},
     "output_type": "display_data"
    },
    {
     "data": {
      "image/png": "[encoded data removed]",
      "text/plain": [
       "plot without title"
      ]
     },
     "metadata": {},
     "output_type": "display_data"
    }
   ],
   "source": [
    "K <- 3\n",
    "max_iters <- 30\n",
    "initial_centroids <- as.matrix(X[c(100,200,300),])\n",
    "\n",
    "#Ejecutamos el algoritmo de clustering \n",
    "results <- runkMeans(X, initial_centroids, max_iters)\n",
    "\n",
    "cat(\"Posiciones iniciales de centroides:\\n\")\n",
    "initial_centroids\n",
    "\n",
    "cat(\"Posiciones finales de centroides:\\n\")\n",
    "centroids <- as.data.frame(results$centroids)\n",
    "names(centroids) <- c('X.1', 'X.2')\n",
    "centroids\n",
    "\n",
    "#Graficamos\n",
    "plotKmeans() + ggtitle('Ejemplo de mínimo local')"
   ]
  }
 ],
 "metadata": {
  "anaconda-cloud": {},
  "kernelspec": {
   "display_name": "R",
   "language": "R",
   "name": "ir"
  },
  "language_info": {
   "codemirror_mode": "r",
   "file_extension": ".r",
   "mimetype": "text/x-r-source",
   "name": "R",
   "pygments_lexer": "r",
   "version": "3.3.2"
  }
 },
 "nbformat": 4,
 "nbformat_minor": 0
}
