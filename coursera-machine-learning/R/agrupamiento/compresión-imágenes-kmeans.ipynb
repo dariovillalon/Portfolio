{
 "cells": [
  {
   "cell_type": "markdown",
   "metadata": {},
   "source": [
    "# Compresión de imágenes con el algoritmo k-means"
   ]
  },
  {
   "cell_type": "markdown",
   "metadata": {
    "collapsed": true
   },
   "source": [
    "En este ejemplo usaremos k-means para comprimir una imagen en formato PNG.\n",
    "\n",
    "En una representación color de 24-bit de una imagen, cada pixel como 3 enteros sin signo de 8 bits (con rango de 0 a 255) que especifican la intesidad del Rojo, Verde y Azul. Esta codificación por lo general se lo denomina codificación RGB.\n",
    "\n",
    "En este ejemplo nuestra imagen tiene miles de colores y vamos a reducirla a 16 colores. De esta manera podemos representar (comprimir) la imagen de una manera eficiente. Es decir, solo necesitamos almacenar los valores RGB de los 16 valores, y por cada pixel en la imagen ahora necesitamos almacenar solo el indice del color en ese pixel (donde solo necesitamos 4 bits para representar 16 posibilidades)."
   ]
  },
  {
   "cell_type": "markdown",
   "metadata": {},
   "source": [
    "#### Configuración de tamaño de gráficos"
   ]
  },
  {
   "cell_type": "code",
   "execution_count": 1,
   "metadata": {
    "collapsed": true
   },
   "outputs": [],
   "source": [
    "options(repr.plot.width=5, repr.plot.height=4, scipen = 999)"
   ]
  },
  {
   "cell_type": "markdown",
   "metadata": {},
   "source": [
    "#### Instalación y carga de paquetes necesarios"
   ]
  },
  {
   "cell_type": "code",
   "execution_count": 2,
   "metadata": {
    "collapsed": false
   },
   "outputs": [
    {
     "name": "stderr",
     "output_type": "stream",
     "text": [
      "also installing the dependencies 'R.methodsS3', 'R.oo', 'R.utils'\n",
      "\n"
     ]
    },
    {
     "name": "stdout",
     "output_type": "stream",
     "text": [
      "package 'R.methodsS3' successfully unpacked and MD5 sums checked\n",
      "package 'R.oo' successfully unpacked and MD5 sums checked\n",
      "package 'R.utils' successfully unpacked and MD5 sums checked\n",
      "package 'R.matlab' successfully unpacked and MD5 sums checked\n",
      "package 'png' successfully unpacked and MD5 sums checked\n",
      "\n",
      "The downloaded binary packages are in\n",
      "\tC:\\Users\\Administrator\\AppData\\Local\\Temp\\Rtmpk5xpCs\\downloaded_packages\n"
     ]
    },
    {
     "name": "stderr",
     "output_type": "stream",
     "text": [
      "Warning message:\n",
      "\"package 'R.matlab' was built under R version 3.3.3\"R.matlab v3.6.1 (2016-10-19) successfully loaded. See ?R.matlab for help.\n",
      "\n",
      "Attaching package: 'R.matlab'\n",
      "\n",
      "The following objects are masked from 'package:base':\n",
      "\n",
      "    getOption, isOpen\n",
      "\n"
     ]
    }
   ],
   "source": [
    "list.of.packages <- c('ggplot2', 'R.matlab', 'png', 'IRdisplay')\n",
    "\n",
    "new.packages <- list.of.packages[!(list.of.packages %in% installed.packages()[,\"Package\"])]\n",
    "if(length(new.packages)) install.packages(new.packages, repos = \"https://cran.r-project.org\")\n",
    "\n",
    "library(ggplot2)\n",
    "library(R.matlab)\n",
    "library(png)\n",
    "library(IRdisplay)"
   ]
  },
  {
   "cell_type": "markdown",
   "metadata": {},
   "source": [
    "#### Cargamos la imagen en un formato array de dimensiones: altura x ancho x canales. Estos canales son los RGB."
   ]
  },
  {
   "cell_type": "code",
   "execution_count": 3,
   "metadata": {
    "collapsed": false,
    "scrolled": true
   },
   "outputs": [
    {
     "data": {
      "text/html": [
       "<ol class=list-inline>\n",
       "\t<li>128</li>\n",
       "\t<li>128</li>\n",
       "\t<li>3</li>\n",
       "</ol>\n"
      ],
      "text/latex": [
       "\\begin{enumerate*}\n",
       "\\item 128\n",
       "\\item 128\n",
       "\\item 3\n",
       "\\end{enumerate*}\n"
      ],
      "text/markdown": [
       "1. 128\n",
       "2. 128\n",
       "3. 3\n",
       "\n",
       "\n"
      ],
      "text/plain": [
       "[1] 128 128   3"
      ]
     },
     "metadata": {},
     "output_type": "display_data"
    },
    {
     "data": {
      "text/html": [
       "<ol class=list-inline>\n",
       "\t<li>0.0235294117647059</li>\n",
       "\t<li>1</li>\n",
       "</ol>\n"
      ],
      "text/latex": [
       "\\begin{enumerate*}\n",
       "\\item 0.0235294117647059\n",
       "\\item 1\n",
       "\\end{enumerate*}\n"
      ],
      "text/markdown": [
       "1. 0.0235294117647059\n",
       "2. 1\n",
       "\n",
       "\n"
      ],
      "text/plain": [
       "[1] 0.02352941 1.00000000"
      ]
     },
     "metadata": {},
     "output_type": "display_data"
    }
   ],
   "source": [
    "A <- readPNG('bird_small.png')\n",
    "\n",
    "dim(A) #El array que representa a la imagen es de 128 x 128 x 3 \n",
    "\n",
    "range(A) #los valores de este array están entre 0 y 1 no hace falta escalar"
   ]
  },
  {
   "cell_type": "markdown",
   "metadata": {},
   "source": [
    "#### Visualizamos la imagen con la que vamos a trabajar"
   ]
  },
  {
   "cell_type": "code",
   "execution_count": 4,
   "metadata": {
    "collapsed": false
   },
   "outputs": [
    {
     "data": {
      "image/png": "[encoded data removed]"
     },
     "metadata": {},
     "output_type": "display_data"
    }
   ],
   "source": [
    "display_png(file='bird_small.png')"
   ]
  },
  {
   "cell_type": "markdown",
   "metadata": {
    "collapsed": true
   },
   "source": [
    "#### Extraemos las dimensiones del array"
   ]
  },
  {
   "cell_type": "code",
   "execution_count": 6,
   "metadata": {
    "collapsed": false
   },
   "outputs": [
    {
     "data": {
      "text/html": [
       "<ol class=list-inline>\n",
       "\t<li>128</li>\n",
       "\t<li>128</li>\n",
       "\t<li>3</li>\n",
       "</ol>\n"
      ],
      "text/latex": [
       "\\begin{enumerate*}\n",
       "\\item 128\n",
       "\\item 128\n",
       "\\item 3\n",
       "\\end{enumerate*}\n"
      ],
      "text/markdown": [
       "1. 128\n",
       "2. 128\n",
       "3. 3\n",
       "\n",
       "\n"
      ],
      "text/plain": [
       "[1] 128 128   3"
      ]
     },
     "metadata": {},
     "output_type": "display_data"
    }
   ],
   "source": [
    "img_size <- dim(A)\n",
    "img_size"
   ]
  },
  {
   "cell_type": "markdown",
   "metadata": {},
   "source": [
    "Transformamos nuestra imagen a una matriz de Nx3 donde N es la cantidad de bits de la imagen (128x128 en este caso)\n",
    "Cada fila tendrá la intensidad del pixel Rojo, Azul o Verde.\n",
    "Sobre esta matriz utilizaremos el algoritmo de clustering k-means."
   ]
  },
  {
   "cell_type": "code",
   "execution_count": 7,
   "metadata": {
    "collapsed": false
   },
   "outputs": [
    {
     "name": "stdout",
     "output_type": "stream",
     "text": [
      " num [1:16384, 1:3] 0.859 0.902 0.894 0.855 0.827 ...\n"
     ]
    },
    {
     "data": {
      "text/html": [
       "<table>\n",
       "<tbody>\n",
       "\t<tr><td>0.8588235</td><td>0.7058824</td><td>0.4039216</td></tr>\n",
       "\t<tr><td>0.9019608</td><td>0.7568627</td><td>0.4666667</td></tr>\n",
       "\t<tr><td>0.8941176</td><td>0.7490196</td><td>0.4823529</td></tr>\n",
       "\t<tr><td>0.8549020</td><td>0.7137255</td><td>0.4745098</td></tr>\n",
       "\t<tr><td>0.8274510</td><td>0.6901961</td><td>0.4274510</td></tr>\n",
       "\t<tr><td>0.8627451</td><td>0.7098039</td><td>0.4470588</td></tr>\n",
       "</tbody>\n",
       "</table>\n"
      ],
      "text/latex": [
       "\\begin{tabular}{lll}\n",
       "\t 0.8588235 & 0.7058824 & 0.4039216\\\\\n",
       "\t 0.9019608 & 0.7568627 & 0.4666667\\\\\n",
       "\t 0.8941176 & 0.7490196 & 0.4823529\\\\\n",
       "\t 0.8549020 & 0.7137255 & 0.4745098\\\\\n",
       "\t 0.8274510 & 0.6901961 & 0.4274510\\\\\n",
       "\t 0.8627451 & 0.7098039 & 0.4470588\\\\\n",
       "\\end{tabular}\n"
      ],
      "text/markdown": [
       "\n",
       "| 0.8588235 | 0.7058824 | 0.4039216 | \n",
       "| 0.9019608 | 0.7568627 | 0.4666667 | \n",
       "| 0.8941176 | 0.7490196 | 0.4823529 | \n",
       "| 0.8549020 | 0.7137255 | 0.4745098 | \n",
       "| 0.8274510 | 0.6901961 | 0.4274510 | \n",
       "| 0.8627451 | 0.7098039 | 0.4470588 | \n",
       "\n",
       "\n"
      ],
      "text/plain": [
       "     [,1]      [,2]      [,3]     \n",
       "[1,] 0.8588235 0.7058824 0.4039216\n",
       "[2,] 0.9019608 0.7568627 0.4666667\n",
       "[3,] 0.8941176 0.7490196 0.4823529\n",
       "[4,] 0.8549020 0.7137255 0.4745098\n",
       "[5,] 0.8274510 0.6901961 0.4274510\n",
       "[6,] 0.8627451 0.7098039 0.4470588"
      ]
     },
     "metadata": {},
     "output_type": "display_data"
    }
   ],
   "source": [
    "X <- matrix(A, img_size[1] * img_size[2], 3)\n",
    "str(X)\n",
    "head(X)"
   ]
  },
  {
   "cell_type": "markdown",
   "metadata": {},
   "source": [
    "### Aplicación del algoritmo K-means sobre el dataset\n",
    "\n",
    "#### Inicializamos algunos valores"
   ]
  },
  {
   "cell_type": "code",
   "execution_count": 8,
   "metadata": {
    "collapsed": true
   },
   "outputs": [],
   "source": [
    "K <- 16\n",
    "max_iters <- 10"
   ]
  },
  {
   "cell_type": "markdown",
   "metadata": {},
   "source": [
    "Como usaremos 16 centroides utilizaremos 16 puntos como centroides iniciales, para ello tomaremos 16 puntos al azar de nuestro dataset."
   ]
  },
  {
   "cell_type": "code",
   "execution_count": 9,
   "metadata": {
    "collapsed": false
   },
   "outputs": [
    {
     "name": "stdout",
     "output_type": "stream",
     "text": [
      "Posiciones iniciales de centroides:\n"
     ]
    },
    {
     "data": {
      "text/html": [
       "<table>\n",
       "<tbody>\n",
       "\t<tr><td>0.10980392</td><td>0.10980392</td><td>0.10980392</td></tr>\n",
       "\t<tr><td>0.63137255</td><td>0.49803922</td><td>0.41568627</td></tr>\n",
       "\t<tr><td>0.63921569</td><td>0.41176471</td><td>0.35686275</td></tr>\n",
       "\t<tr><td>0.05098039</td><td>0.05882353</td><td>0.05490196</td></tr>\n",
       "\t<tr><td>0.13725490</td><td>0.13725490</td><td>0.10980392</td></tr>\n",
       "\t<tr><td>0.07058824</td><td>0.07450980</td><td>0.06666667</td></tr>\n",
       "\t<tr><td>0.99607843</td><td>0.95686275</td><td>0.72941176</td></tr>\n",
       "\t<tr><td>0.08627451</td><td>0.10588235</td><td>0.05882353</td></tr>\n",
       "\t<tr><td>0.95686275</td><td>0.92549020</td><td>0.56862745</td></tr>\n",
       "\t<tr><td>0.99607843</td><td>0.82352941</td><td>0.72549020</td></tr>\n",
       "\t<tr><td>0.16470588</td><td>0.15294118</td><td>0.10588235</td></tr>\n",
       "\t<tr><td>0.10196078</td><td>0.10980392</td><td>0.11764706</td></tr>\n",
       "\t<tr><td>0.94117647</td><td>0.90588235</td><td>0.43137255</td></tr>\n",
       "\t<tr><td>0.83529412</td><td>0.68235294</td><td>0.26666667</td></tr>\n",
       "\t<tr><td>0.89019608</td><td>0.74117647</td><td>0.47058824</td></tr>\n",
       "\t<tr><td>0.07450980</td><td>0.07450980</td><td>0.07058824</td></tr>\n",
       "</tbody>\n",
       "</table>\n"
      ],
      "text/latex": [
       "\\begin{tabular}{lll}\n",
       "\t 0.10980392 & 0.10980392 & 0.10980392\\\\\n",
       "\t 0.63137255 & 0.49803922 & 0.41568627\\\\\n",
       "\t 0.63921569 & 0.41176471 & 0.35686275\\\\\n",
       "\t 0.05098039 & 0.05882353 & 0.05490196\\\\\n",
       "\t 0.13725490 & 0.13725490 & 0.10980392\\\\\n",
       "\t 0.07058824 & 0.07450980 & 0.06666667\\\\\n",
       "\t 0.99607843 & 0.95686275 & 0.72941176\\\\\n",
       "\t 0.08627451 & 0.10588235 & 0.05882353\\\\\n",
       "\t 0.95686275 & 0.92549020 & 0.56862745\\\\\n",
       "\t 0.99607843 & 0.82352941 & 0.72549020\\\\\n",
       "\t 0.16470588 & 0.15294118 & 0.10588235\\\\\n",
       "\t 0.10196078 & 0.10980392 & 0.11764706\\\\\n",
       "\t 0.94117647 & 0.90588235 & 0.43137255\\\\\n",
       "\t 0.83529412 & 0.68235294 & 0.26666667\\\\\n",
       "\t 0.89019608 & 0.74117647 & 0.47058824\\\\\n",
       "\t 0.07450980 & 0.07450980 & 0.07058824\\\\\n",
       "\\end{tabular}\n"
      ],
      "text/markdown": [
       "\n",
       "| 0.10980392 | 0.10980392 | 0.10980392 | \n",
       "| 0.63137255 | 0.49803922 | 0.41568627 | \n",
       "| 0.63921569 | 0.41176471 | 0.35686275 | \n",
       "| 0.05098039 | 0.05882353 | 0.05490196 | \n",
       "| 0.13725490 | 0.13725490 | 0.10980392 | \n",
       "| 0.07058824 | 0.07450980 | 0.06666667 | \n",
       "| 0.99607843 | 0.95686275 | 0.72941176 | \n",
       "| 0.08627451 | 0.10588235 | 0.05882353 | \n",
       "| 0.95686275 | 0.92549020 | 0.56862745 | \n",
       "| 0.99607843 | 0.82352941 | 0.72549020 | \n",
       "| 0.16470588 | 0.15294118 | 0.10588235 | \n",
       "| 0.10196078 | 0.10980392 | 0.11764706 | \n",
       "| 0.94117647 | 0.90588235 | 0.43137255 | \n",
       "| 0.83529412 | 0.68235294 | 0.26666667 | \n",
       "| 0.89019608 | 0.74117647 | 0.47058824 | \n",
       "| 0.07450980 | 0.07450980 | 0.07058824 | \n",
       "\n",
       "\n"
      ],
      "text/plain": [
       "      [,1]       [,2]       [,3]      \n",
       " [1,] 0.10980392 0.10980392 0.10980392\n",
       " [2,] 0.63137255 0.49803922 0.41568627\n",
       " [3,] 0.63921569 0.41176471 0.35686275\n",
       " [4,] 0.05098039 0.05882353 0.05490196\n",
       " [5,] 0.13725490 0.13725490 0.10980392\n",
       " [6,] 0.07058824 0.07450980 0.06666667\n",
       " [7,] 0.99607843 0.95686275 0.72941176\n",
       " [8,] 0.08627451 0.10588235 0.05882353\n",
       " [9,] 0.95686275 0.92549020 0.56862745\n",
       "[10,] 0.99607843 0.82352941 0.72549020\n",
       "[11,] 0.16470588 0.15294118 0.10588235\n",
       "[12,] 0.10196078 0.10980392 0.11764706\n",
       "[13,] 0.94117647 0.90588235 0.43137255\n",
       "[14,] 0.83529412 0.68235294 0.26666667\n",
       "[15,] 0.89019608 0.74117647 0.47058824\n",
       "[16,] 0.07450980 0.07450980 0.07058824"
      ]
     },
     "metadata": {},
     "output_type": "display_data"
    }
   ],
   "source": [
    "set.seed(123)\n",
    "index <- sample(1:nrow(X), K)\n",
    "initial_centroids <- as.matrix(X[index,])\n",
    "\n",
    "cat(\"Posiciones iniciales de centroides:\\n\")\n",
    "initial_centroids"
   ]
  },
  {
   "cell_type": "markdown",
   "metadata": {},
   "source": [
    "### Ejecutamos el algoritmo kmeans\n",
    "\n",
    "#### Función para encontrar los centroides más cercanos"
   ]
  },
  {
   "cell_type": "code",
   "execution_count": 10,
   "metadata": {
    "collapsed": true
   },
   "outputs": [],
   "source": [
    "findClosestCentroids <- function(X, centroids) {\n",
    "    \n",
    "    K <- nrow(centroids)\n",
    "    m <- nrow(X)\n",
    "    \n",
    "    idx <- rep(0, m)\n",
    "    \n",
    "    for(i in 1:m) {\n",
    "        \n",
    "        d_min <- 99999999\n",
    "        \n",
    "        for(j in 1:K) {\n",
    "            \n",
    "            distance <- (sum((X[i,] - centroids[j,]) ^ 2)) ^ (1/2)\n",
    "            \n",
    "            if(distance < d_min) {\n",
    "                d_min <- distance\n",
    "                idx[i] <- j\n",
    "            }\n",
    "        }\n",
    "    }\n",
    "    \n",
    "    return(idx)\n",
    "    \n",
    "}"
   ]
  },
  {
   "cell_type": "markdown",
   "metadata": {},
   "source": [
    "#### Función para calcular las nuevas posiciones de cada centroide"
   ]
  },
  {
   "cell_type": "code",
   "execution_count": 11,
   "metadata": {
    "collapsed": true
   },
   "outputs": [],
   "source": [
    "computeCentroids <- function(X, idx, K) {\n",
    "    \n",
    "    m <- nrow(X)\n",
    "    n <- ncol(X)\n",
    "    idx <- as.numeric(idx)\n",
    "    \n",
    "    centroids <- matrix(rep(0, K * n), ncol = n, nrow = K)\n",
    "    \n",
    "    for(i in 1:K) {\n",
    "        \n",
    "        idx_X <- which(idx %in% i)\n",
    "        \n",
    "        centroids[i,] <- colMeans(X[idx_X,])\n",
    "    }\n",
    "    \n",
    "    return(centroids)\n",
    "}"
   ]
  },
  {
   "cell_type": "markdown",
   "metadata": {},
   "source": [
    "#### Función que encapsula el algoritmo kmeans"
   ]
  },
  {
   "cell_type": "code",
   "execution_count": 12,
   "metadata": {
    "collapsed": true
   },
   "outputs": [],
   "source": [
    "runkMeans <- function(X, initial_centroids, max_iters) {\n",
    "    \n",
    "    m <- nrow(X)\n",
    "    n <- ncol(X)\n",
    "    \n",
    "    K <- nrow(initial_centroids)\n",
    "    centroids <- initial_centroids\n",
    "    idx <- rep(0, m)\n",
    "    \n",
    "    for(i in 1:max_iters) {\n",
    "        \n",
    "        idx <- findClosestCentroids(X, centroids)\n",
    "        centroids <- computeCentroids(X, idx, K)\n",
    "        \n",
    "    }\n",
    "    \n",
    "    return(list(centroids = centroids, idx = idx))\n",
    "    \n",
    "}\n",
    "\n",
    "results <- runkMeans(X, initial_centroids, max_iters)\n",
    "centroids <- results[[1]]\n",
    "idx <- results[[2]]"
   ]
  },
  {
   "cell_type": "markdown",
   "metadata": {},
   "source": [
    "Ahora tenemos el cluster más cercano a cada observación (o pixel)"
   ]
  },
  {
   "cell_type": "code",
   "execution_count": 13,
   "metadata": {
    "collapsed": false
   },
   "outputs": [
    {
     "data": {
      "text/html": [
       "<table>\n",
       "<tbody>\n",
       "\t<tr><th scope=row>[16379,]</th><td>0.3921569</td><td>0.2470588</td><td>0.2431373</td><td>11       </td></tr>\n",
       "\t<tr><th scope=row>[16380,]</th><td>0.3411765</td><td>0.2039216</td><td>0.1960784</td><td> 5       </td></tr>\n",
       "\t<tr><th scope=row>[16381,]</th><td>0.3058824</td><td>0.1686275</td><td>0.1568627</td><td> 5       </td></tr>\n",
       "\t<tr><th scope=row>[16382,]</th><td>0.2823529</td><td>0.2000000</td><td>0.1686275</td><td> 5       </td></tr>\n",
       "\t<tr><th scope=row>[16383,]</th><td>0.2313725</td><td>0.1686275</td><td>0.1647059</td><td> 5       </td></tr>\n",
       "\t<tr><th scope=row>[16384,]</th><td>0.2039216</td><td>0.1529412</td><td>0.1333333</td><td>12       </td></tr>\n",
       "</tbody>\n",
       "</table>\n"
      ],
      "text/latex": [
       "\\begin{tabular}{r|llll}\n",
       "\t{[}16379,{]} & 0.3921569 & 0.2470588 & 0.2431373 & 11       \\\\\n",
       "\t{[}16380,{]} & 0.3411765 & 0.2039216 & 0.1960784 &  5       \\\\\n",
       "\t{[}16381,{]} & 0.3058824 & 0.1686275 & 0.1568627 &  5       \\\\\n",
       "\t{[}16382,{]} & 0.2823529 & 0.2000000 & 0.1686275 &  5       \\\\\n",
       "\t{[}16383,{]} & 0.2313725 & 0.1686275 & 0.1647059 &  5       \\\\\n",
       "\t{[}16384,{]} & 0.2039216 & 0.1529412 & 0.1333333 & 12       \\\\\n",
       "\\end{tabular}\n"
      ],
      "text/markdown": [
       "\n",
       "| [16379,] | 0.3921569 | 0.2470588 | 0.2431373 | 11        | \n",
       "| [16380,] | 0.3411765 | 0.2039216 | 0.1960784 |  5        | \n",
       "| [16381,] | 0.3058824 | 0.1686275 | 0.1568627 |  5        | \n",
       "| [16382,] | 0.2823529 | 0.2000000 | 0.1686275 |  5        | \n",
       "| [16383,] | 0.2313725 | 0.1686275 | 0.1647059 |  5        | \n",
       "| [16384,] | 0.2039216 | 0.1529412 | 0.1333333 | 12        | \n",
       "\n",
       "\n"
      ],
      "text/plain": [
       "         [,1]      [,2]      [,3]      [,4]\n",
       "[16379,] 0.3921569 0.2470588 0.2431373 11  \n",
       "[16380,] 0.3411765 0.2039216 0.1960784  5  \n",
       "[16381,] 0.3058824 0.1686275 0.1568627  5  \n",
       "[16382,] 0.2823529 0.2000000 0.1686275  5  \n",
       "[16383,] 0.2313725 0.1686275 0.1647059  5  \n",
       "[16384,] 0.2039216 0.1529412 0.1333333 12  "
      ]
     },
     "metadata": {},
     "output_type": "display_data"
    }
   ],
   "source": [
    "cbind(tail(X), tail(idx))"
   ]
  },
  {
   "cell_type": "markdown",
   "metadata": {},
   "source": [
    "Ahora podemos recuperar la imagen desde los indices (idx, contiene el cluster al que corresponde cada pixel) mapeando cada pixel al valor del centroide de dicho pixel."
   ]
  },
  {
   "cell_type": "code",
   "execution_count": 14,
   "metadata": {
    "collapsed": false
   },
   "outputs": [
    {
     "name": "stdout",
     "output_type": "stream",
     "text": [
      " num [1:16384, 1:3] 0.889 0.889 0.889 0.889 0.889 ...\n"
     ]
    }
   ],
   "source": [
    "X_recovered <- centroids[idx,]\n",
    "str(X_recovered)"
   ]
  },
  {
   "cell_type": "markdown",
   "metadata": {},
   "source": [
    "Volvemos a transformar nuestro array a las dimensiones apropiadas."
   ]
  },
  {
   "cell_type": "code",
   "execution_count": 15,
   "metadata": {
    "collapsed": false
   },
   "outputs": [
    {
     "name": "stdout",
     "output_type": "stream",
     "text": [
      " num [1:128, 1:128, 1:3] 0.889 0.889 0.889 0.889 0.889 ...\n"
     ]
    }
   ],
   "source": [
    "X_recovered <- array(X_recovered, img_size)\n",
    "str(X_recovered)"
   ]
  },
  {
   "cell_type": "markdown",
   "metadata": {},
   "source": [
    "Guardamos la imagen comprimida"
   ]
  },
  {
   "cell_type": "code",
   "execution_count": 16,
   "metadata": {
    "collapsed": false
   },
   "outputs": [],
   "source": [
    "writePNG(X_recovered, target = \"compressed_bird.png\")"
   ]
  },
  {
   "cell_type": "code",
   "execution_count": 18,
   "metadata": {
    "collapsed": false
   },
   "outputs": [
    {
     "name": "stdout",
     "output_type": "stream",
     "text": [
      "Imagen original:"
     ]
    },
    {
     "data": {
      "image/png": "[encoded data removed]"
     },
     "metadata": {},
     "output_type": "display_data"
    }
   ],
   "source": [
    "cat(\"Imagen original:\")\n",
    "display_png(file='bird_small.png')"
   ]
  },
  {
   "cell_type": "code",
   "execution_count": 19,
   "metadata": {
    "collapsed": false
   },
   "outputs": [
    {
     "name": "stdout",
     "output_type": "stream",
     "text": [
      "Imagen comprimida con 16 colores:\n"
     ]
    },
    {
     "data": {
      "image/png": "[encoded data removed]"
     },
     "metadata": {},
     "output_type": "display_data"
    }
   ],
   "source": [
    "cat(\"Imagen comprimida con\", K, \"colores:\\n\")\n",
    "display_png(file='compressed_bird.png')"
   ]
  },
  {
   "cell_type": "markdown",
   "metadata": {
    "collapsed": true
   },
   "source": [
    "Notemos que hemos reducido considerablemente la cantidad de bits necesarios para representar la imagen. La imagen original requería 24-bits para cada uno de los 128x128 pixeles, resultando en un total de: *128 x 128 x 24 = 393.216 bits*.\n",
    "La nueva representación requiere algo de costo de almacenamiento en cuanto al diccionario de 16 colores, donde cada uno  requiere 24 bits, pero la imagen en sí solo necesita 4 bits por pixel. Por lo tanto el número final de bits es de: *16 x 24 + 128 x 128 x 4 = 65.920 bits*. Esto es 6 veces menos que la imagen original."
   ]
  },
  {
   "cell_type": "markdown",
   "metadata": {},
   "source": [
    "### Ejemplo con 3 clusters:"
   ]
  },
  {
   "cell_type": "code",
   "execution_count": 20,
   "metadata": {
    "collapsed": false
   },
   "outputs": [
    {
     "name": "stdout",
     "output_type": "stream",
     "text": [
      "Imagen comprimida con 3 colores:\n"
     ]
    },
    {
     "data": {
      "image/png": "[encoded data removed]"
     },
     "metadata": {},
     "output_type": "display_data"
    }
   ],
   "source": [
    "K <- 3\n",
    "max_iters <- 10\n",
    "\n",
    "set.seed(123)\n",
    "index <- sample(1:nrow(X), K)\n",
    "initial_centroids <- as.matrix(X[index,])\n",
    "\n",
    "results <- runkMeans(X, initial_centroids, max_iters)\n",
    "centroids <- results[[1]]\n",
    "idx <- results[[2]]\n",
    "\n",
    "X_recovered <- centroids[idx,]\n",
    "X_recovered <- array(X_recovered, img_size)\n",
    "\n",
    "writePNG(X_recovered, target = \"very_compressed_bird.png\")\n",
    "\n",
    "cat(\"Imagen comprimida con\", K, \"colores:\\n\")\n",
    "display_png(file='very_compressed_bird.png')"
   ]
  },
  {
   "cell_type": "code",
   "execution_count": 21,
   "metadata": {
    "collapsed": false
   },
   "outputs": [
    {
     "name": "stdout",
     "output_type": "stream",
     "text": [
      "La cantidad de bits requeridos para representar esta imagen será: 32840 bits."
     ]
    }
   ],
   "source": [
    "cat('La cantidad de bits requeridos para representar esta imagen será:', K * 24 + 128 * 128 * 2, 'bits.') "
   ]
  }
 ],
 "metadata": {
  "anaconda-cloud": {},
  "kernelspec": {
   "display_name": "R",
   "language": "R",
   "name": "ir"
  },
  "language_info": {
   "codemirror_mode": "r",
   "file_extension": ".r",
   "mimetype": "text/x-r-source",
   "name": "R",
   "pygments_lexer": "r",
   "version": "3.3.2"
  }
 },
 "nbformat": 4,
 "nbformat_minor": 0
}
