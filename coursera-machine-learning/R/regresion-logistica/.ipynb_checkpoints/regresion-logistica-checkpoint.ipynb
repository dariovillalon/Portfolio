{
 "cells": [
  {
   "cell_type": "markdown",
   "metadata": {},
   "source": [
    "# Regresión logística"
   ]
  },
  {
   "cell_type": "markdown",
   "metadata": {
    "collapsed": true
   },
   "source": [
    "Supongamos que trabajas en una universidad y quieres determinar la probabilidad de admision de cada postulante basado en los resultados de sus dos exámenes.\n",
    "Tienes datos históricos sobre postulantes anteriores que puedes usar como datos de entrenamiento para la regresión logística (o clasificación). Para cada ejemplo de entrenamiento, se tiene el puntaje de dos exámenes y la decisión de si lo admitió o no.\n",
    "\n",
    "La tarea es construir un modelo de clasificación que estime la probabilidad de admisión de un aplicante basado en los puntajes de los dos exámenes."
   ]
  },
  {
   "cell_type": "markdown",
   "metadata": {},
   "source": [
    "#### Configuración de tamaño de gráficos"
   ]
  },
  {
   "cell_type": "code",
   "execution_count": 4,
   "metadata": {
    "collapsed": true
   },
   "outputs": [],
   "source": [
    "options(repr.plot.width=5, repr.plot.height=4, scipen = 999)"
   ]
  },
  {
   "cell_type": "markdown",
   "metadata": {},
   "source": [
    "#### Instalación y carga de paquetes necesarios"
   ]
  },
  {
   "cell_type": "code",
   "execution_count": 5,
   "metadata": {
    "collapsed": true
   },
   "outputs": [],
   "source": [
    "list.of.packages <- c('ggplot2')\n",
    "\n",
    "new.packages <- list.of.packages[!(list.of.packages %in% installed.packages()[,\"Package\"])]\n",
    "if(length(new.packages)) install.packages(new.packages, repos = \"https://cran.r-project.org\")\n",
    "\n",
    "library(ggplot2)"
   ]
  },
  {
   "cell_type": "markdown",
   "metadata": {
    "collapsed": true
   },
   "source": [
    "#### Carga de datos"
   ]
  },
  {
   "cell_type": "code",
   "execution_count": 19,
   "metadata": {
    "collapsed": true
   },
   "outputs": [],
   "source": [
    "admission <- read.table(file = 'ex2data1.txt', header = TRUE, \n",
    "                        col.names = c('score1', 'score2', 'admitted'), sep = \",\", dec = \".\")"
   ]
  },
  {
   "cell_type": "markdown",
   "metadata": {
    "collapsed": true
   },
   "source": [
    "## Exploración de datos"
   ]
  },
  {
   "cell_type": "code",
   "execution_count": 20,
   "metadata": {
    "collapsed": false
   },
   "outputs": [
    {
     "data": {
      "text/html": [
       "<table>\n",
       "<thead><tr><th scope=col>score1</th><th scope=col>score2</th><th scope=col>admitted</th></tr></thead>\n",
       "<tbody>\n",
       "\t<tr><td>30.28671</td><td>43.89500</td><td>0       </td></tr>\n",
       "\t<tr><td>35.84741</td><td>72.90220</td><td>0       </td></tr>\n",
       "\t<tr><td>60.18260</td><td>86.30855</td><td>1       </td></tr>\n",
       "\t<tr><td>79.03274</td><td>75.34438</td><td>1       </td></tr>\n",
       "\t<tr><td>45.08328</td><td>56.31637</td><td>0       </td></tr>\n",
       "\t<tr><td>61.10666</td><td>96.51143</td><td>1       </td></tr>\n",
       "</tbody>\n",
       "</table>\n"
      ],
      "text/latex": [
       "\\begin{tabular}{r|lll}\n",
       " score1 & score2 & admitted\\\\\n",
       "\\hline\n",
       "\t 30.28671 & 43.89500 & 0       \\\\\n",
       "\t 35.84741 & 72.90220 & 0       \\\\\n",
       "\t 60.18260 & 86.30855 & 1       \\\\\n",
       "\t 79.03274 & 75.34438 & 1       \\\\\n",
       "\t 45.08328 & 56.31637 & 0       \\\\\n",
       "\t 61.10666 & 96.51143 & 1       \\\\\n",
       "\\end{tabular}\n"
      ],
      "text/markdown": [
       "\n",
       "score1 | score2 | admitted | \n",
       "|---|---|---|---|---|---|\n",
       "| 30.28671 | 43.89500 | 0        | \n",
       "| 35.84741 | 72.90220 | 0        | \n",
       "| 60.18260 | 86.30855 | 1        | \n",
       "| 79.03274 | 75.34438 | 1        | \n",
       "| 45.08328 | 56.31637 | 0        | \n",
       "| 61.10666 | 96.51143 | 1        | \n",
       "\n",
       "\n"
      ],
      "text/plain": [
       "  score1   score2   admitted\n",
       "1 30.28671 43.89500 0       \n",
       "2 35.84741 72.90220 0       \n",
       "3 60.18260 86.30855 1       \n",
       "4 79.03274 75.34438 1       \n",
       "5 45.08328 56.31637 0       \n",
       "6 61.10666 96.51143 1       "
      ]
     },
     "metadata": {},
     "output_type": "display_data"
    },
    {
     "name": "stdout",
     "output_type": "stream",
     "text": [
      "'data.frame':\t99 obs. of  3 variables:\n",
      " $ score1  : num  30.3 35.8 60.2 79 45.1 ...\n",
      " $ score2  : num  43.9 72.9 86.3 75.3 56.3 ...\n",
      " $ admitted: Factor w/ 2 levels \"Admitido\",\"No admitido\": 2 2 1 1 2 1 1 1 1 2 ...\n"
     ]
    }
   ],
   "source": [
    "head(admission)\n",
    "admission$admitted <- factor(admission$admitted, levels = c(1, 0), labels = c('Admitido', 'No admitido'))\n",
    "str(admission)"
   ]
  },
  {
   "cell_type": "markdown",
   "metadata": {},
   "source": [
    "## Visualización de datos\n",
    "\n",
    "### Gráfico de dispersión"
   ]
  },
  {
   "cell_type": "code",
   "execution_count": 21,
   "metadata": {
    "collapsed": false
   },
   "outputs": [
    {
     "data": {},
     "metadata": {},
     "output_type": "display_data"
    },
    {
     "data": {
      "image/png": "[encoded data removed]",
      "text/plain": [
       "plot without title"
      ]
     },
     "metadata": {},
     "output_type": "display_data"
    }
   ],
   "source": [
    "ggplot(data = admission, aes(x = score1, y = score2, col = admitted)) + geom_point() +\n",
    "    labs(x = 'Puntaje examen 1', y = 'Puntaje examen 2') + ggtitle('Admisiones según puntajes de exámenes') +\n",
    "    theme(legend.title=element_blank()) +\n",
    "    scale_colour_manual(name='', values=c('Admitido'='blue', 'No admitido'='red'))"
   ]
  },
  {
   "cell_type": "markdown",
   "metadata": {},
   "source": [
    "A simple vista vemos que podemos separar ambas clases por medio de una línea recta. O por una función cuadrática pero por simplicidad en este ejemplo lo haremos por una función lineal."
   ]
  },
  {
   "cell_type": "markdown",
   "metadata": {},
   "source": [
    "#### Preparamos los datos para la regresión"
   ]
  },
  {
   "cell_type": "code",
   "execution_count": 22,
   "metadata": {
    "collapsed": false
   },
   "outputs": [],
   "source": [
    "X <- admission$score1\n",
    "X <- cbind(X, admission$score2)\n",
    "\n",
    "y <- 2 - as.integer(admission$admitted)"
   ]
  },
  {
   "cell_type": "markdown",
   "metadata": {},
   "source": [
    "#### Chequeamos las primeras 10 observaciones"
   ]
  },
  {
   "cell_type": "code",
   "execution_count": 23,
   "metadata": {
    "collapsed": false
   },
   "outputs": [
    {
     "data": {
      "text/html": [
       "<table>\n",
       "<thead><tr><th scope=col>X</th><th scope=col></th></tr></thead>\n",
       "<tbody>\n",
       "\t<tr><td>30.28671</td><td>43.89500</td></tr>\n",
       "\t<tr><td>35.84741</td><td>72.90220</td></tr>\n",
       "\t<tr><td>60.18260</td><td>86.30855</td></tr>\n",
       "\t<tr><td>79.03274</td><td>75.34438</td></tr>\n",
       "\t<tr><td>45.08328</td><td>56.31637</td></tr>\n",
       "\t<tr><td>61.10666</td><td>96.51143</td></tr>\n",
       "\t<tr><td>75.02475</td><td>46.55401</td></tr>\n",
       "\t<tr><td>76.09879</td><td>87.42057</td></tr>\n",
       "\t<tr><td>84.43282</td><td>43.53339</td></tr>\n",
       "\t<tr><td>95.86156</td><td>38.22528</td></tr>\n",
       "</tbody>\n",
       "</table>\n"
      ],
      "text/latex": [
       "\\begin{tabular}{ll}\n",
       " X & \\\\\n",
       "\\hline\n",
       "\t 30.28671 & 43.89500\\\\\n",
       "\t 35.84741 & 72.90220\\\\\n",
       "\t 60.18260 & 86.30855\\\\\n",
       "\t 79.03274 & 75.34438\\\\\n",
       "\t 45.08328 & 56.31637\\\\\n",
       "\t 61.10666 & 96.51143\\\\\n",
       "\t 75.02475 & 46.55401\\\\\n",
       "\t 76.09879 & 87.42057\\\\\n",
       "\t 84.43282 & 43.53339\\\\\n",
       "\t 95.86156 & 38.22528\\\\\n",
       "\\end{tabular}\n"
      ],
      "text/markdown": [
       "\n",
       "X |  | \n",
       "|---|---|---|---|---|---|---|---|---|---|\n",
       "| 30.28671 | 43.89500 | \n",
       "| 35.84741 | 72.90220 | \n",
       "| 60.18260 | 86.30855 | \n",
       "| 79.03274 | 75.34438 | \n",
       "| 45.08328 | 56.31637 | \n",
       "| 61.10666 | 96.51143 | \n",
       "| 75.02475 | 46.55401 | \n",
       "| 76.09879 | 87.42057 | \n",
       "| 84.43282 | 43.53339 | \n",
       "| 95.86156 | 38.22528 | \n",
       "\n",
       "\n"
      ],
      "text/plain": [
       "      X                \n",
       " [1,] 30.28671 43.89500\n",
       " [2,] 35.84741 72.90220\n",
       " [3,] 60.18260 86.30855\n",
       " [4,] 79.03274 75.34438\n",
       " [5,] 45.08328 56.31637\n",
       " [6,] 61.10666 96.51143\n",
       " [7,] 75.02475 46.55401\n",
       " [8,] 76.09879 87.42057\n",
       " [9,] 84.43282 43.53339\n",
       "[10,] 95.86156 38.22528"
      ]
     },
     "metadata": {},
     "output_type": "display_data"
    },
    {
     "data": {
      "text/html": [
       "<ol class=list-inline>\n",
       "\t<li>0</li>\n",
       "\t<li>0</li>\n",
       "\t<li>1</li>\n",
       "\t<li>1</li>\n",
       "\t<li>0</li>\n",
       "\t<li>1</li>\n",
       "\t<li>1</li>\n",
       "\t<li>1</li>\n",
       "\t<li>1</li>\n",
       "\t<li>0</li>\n",
       "</ol>\n"
      ],
      "text/latex": [
       "\\begin{enumerate*}\n",
       "\\item 0\n",
       "\\item 0\n",
       "\\item 1\n",
       "\\item 1\n",
       "\\item 0\n",
       "\\item 1\n",
       "\\item 1\n",
       "\\item 1\n",
       "\\item 1\n",
       "\\item 0\n",
       "\\end{enumerate*}\n"
      ],
      "text/markdown": [
       "1. 0\n",
       "2. 0\n",
       "3. 1\n",
       "4. 1\n",
       "5. 0\n",
       "6. 1\n",
       "7. 1\n",
       "8. 1\n",
       "9. 1\n",
       "10. 0\n",
       "\n",
       "\n"
      ],
      "text/plain": [
       " [1] 0 0 1 1 0 1 1 1 1 0"
      ]
     },
     "metadata": {},
     "output_type": "display_data"
    }
   ],
   "source": [
    "head(X,10)\n",
    "head(y,10)"
   ]
  },
  {
   "cell_type": "markdown",
   "metadata": {},
   "source": [
    "#### Almacenamos la cantidad de observaciones (m) y la cantidad de atributos de entrada (n)"
   ]
  },
  {
   "cell_type": "code",
   "execution_count": 24,
   "metadata": {
    "collapsed": false
   },
   "outputs": [
    {
     "name": "stdout",
     "output_type": "stream",
     "text": [
      "Cantidad de ejemplos en los datos: 99\n",
      "Cantidad de atributos de entrada: 2"
     ]
    }
   ],
   "source": [
    "m <- nrow(X)\n",
    "n <- ncol(X)\n",
    "cat('Cantidad de ejemplos en los datos:', m)\n",
    "cat('\\nCantidad de atributos de entrada:', n)"
   ]
  },
  {
   "cell_type": "markdown",
   "metadata": {},
   "source": [
    "#### Añadimos el término de intersección"
   ]
  },
  {
   "cell_type": "code",
   "execution_count": 25,
   "metadata": {
    "collapsed": false
   },
   "outputs": [
    {
     "data": {
      "text/html": [
       "<table>\n",
       "<thead><tr><th scope=col></th><th scope=col>X</th><th scope=col></th></tr></thead>\n",
       "<tbody>\n",
       "\t<tr><td>1       </td><td>30.28671</td><td>43.89500</td></tr>\n",
       "\t<tr><td>1       </td><td>35.84741</td><td>72.90220</td></tr>\n",
       "\t<tr><td>1       </td><td>60.18260</td><td>86.30855</td></tr>\n",
       "\t<tr><td>1       </td><td>79.03274</td><td>75.34438</td></tr>\n",
       "\t<tr><td>1       </td><td>45.08328</td><td>56.31637</td></tr>\n",
       "\t<tr><td>1       </td><td>61.10666</td><td>96.51143</td></tr>\n",
       "\t<tr><td>1       </td><td>75.02475</td><td>46.55401</td></tr>\n",
       "\t<tr><td>1       </td><td>76.09879</td><td>87.42057</td></tr>\n",
       "</tbody>\n",
       "</table>\n"
      ],
      "text/latex": [
       "\\begin{tabular}{lll}\n",
       "  & X & \\\\\n",
       "\\hline\n",
       "\t 1        & 30.28671 & 43.89500\\\\\n",
       "\t 1        & 35.84741 & 72.90220\\\\\n",
       "\t 1        & 60.18260 & 86.30855\\\\\n",
       "\t 1        & 79.03274 & 75.34438\\\\\n",
       "\t 1        & 45.08328 & 56.31637\\\\\n",
       "\t 1        & 61.10666 & 96.51143\\\\\n",
       "\t 1        & 75.02475 & 46.55401\\\\\n",
       "\t 1        & 76.09879 & 87.42057\\\\\n",
       "\\end{tabular}\n"
      ],
      "text/markdown": [
       "\n",
       " | X |  | \n",
       "|---|---|---|---|---|---|---|---|\n",
       "| 1        | 30.28671 | 43.89500 | \n",
       "| 1        | 35.84741 | 72.90220 | \n",
       "| 1        | 60.18260 | 86.30855 | \n",
       "| 1        | 79.03274 | 75.34438 | \n",
       "| 1        | 45.08328 | 56.31637 | \n",
       "| 1        | 61.10666 | 96.51143 | \n",
       "| 1        | 75.02475 | 46.55401 | \n",
       "| 1        | 76.09879 | 87.42057 | \n",
       "\n",
       "\n"
      ],
      "text/plain": [
       "       X                \n",
       "[1,] 1 30.28671 43.89500\n",
       "[2,] 1 35.84741 72.90220\n",
       "[3,] 1 60.18260 86.30855\n",
       "[4,] 1 79.03274 75.34438\n",
       "[5,] 1 45.08328 56.31637\n",
       "[6,] 1 61.10666 96.51143\n",
       "[7,] 1 75.02475 46.55401\n",
       "[8,] 1 76.09879 87.42057"
      ]
     },
     "metadata": {},
     "output_type": "display_data"
    }
   ],
   "source": [
    "X <- cbind(1, X)\n",
    "head(X, 8)"
   ]
  },
  {
   "cell_type": "markdown",
   "metadata": {},
   "source": [
    "#### Inicializamos los parámetros theta"
   ]
  },
  {
   "cell_type": "code",
   "execution_count": 26,
   "metadata": {
    "collapsed": true
   },
   "outputs": [],
   "source": [
    "initial_theta <- numeric(3)"
   ]
  },
  {
   "cell_type": "markdown",
   "metadata": {},
   "source": [
    "#### Creamos la función sigmoidal"
   ]
  },
  {
   "cell_type": "code",
   "execution_count": 27,
   "metadata": {
    "collapsed": true
   },
   "outputs": [],
   "source": [
    "sigmoid <- function(z) {\n",
    "  \n",
    "  g <- 1 / (1 + exp(1) ^ (-z))\n",
    "}"
   ]
  },
  {
   "cell_type": "markdown",
   "metadata": {},
   "source": [
    "#### Construimos la función de costo y de gradientes"
   ]
  },
  {
   "cell_type": "code",
   "execution_count": 28,
   "metadata": {
    "collapsed": true
   },
   "outputs": [],
   "source": [
    "computeCost <- function(theta) {\n",
    "    \n",
    "    hyp <-  sigmoid(X %*% theta)\n",
    "    J <- (-1 / m) * (t(y) %*% log(hyp) + (t((1 - y)) %*% log(1 - hyp)))\n",
    "    J\n",
    "}\n",
    "\n",
    "computeGrad <- function(theta) {\n",
    "    \n",
    "    grad <- matrix(0,dim(as.matrix(theta)))\n",
    "    m <- length(y)\n",
    "    \n",
    "    hyp <-  sigmoid(X %*% theta)\n",
    "    grad <- (t(X) %*% (hyp - y)) / m\n",
    "    \n",
    "    grad\n",
    "}"
   ]
  },
  {
   "cell_type": "markdown",
   "metadata": {},
   "source": [
    "#### Calculamos el costo inicial"
   ]
  },
  {
   "cell_type": "code",
   "execution_count": 29,
   "metadata": {
    "collapsed": false
   },
   "outputs": [
    {
     "name": "stdout",
     "output_type": "stream",
     "text": [
      "Costo inicial con parámetros en 0:  0.6931472\n",
      "Gradientes iniciales: -0.1060606 -12.30539 -11.77067"
     ]
    }
   ],
   "source": [
    "J <- computeCost(initial_theta)\n",
    "grad <- computeGrad(initial_theta)\n",
    "\n",
    "cat(\"Costo inicial con parámetros en 0: \", J)\n",
    "cat('\\nGradientes iniciales:', grad)"
   ]
  },
  {
   "cell_type": "markdown",
   "metadata": {},
   "source": [
    "#### Optimización\n",
    "A diferencia de la regresión lineal en lugar de iterar para encontrar los valores óptimos de theta utilizaremos la función optim, tenemos que pasar como parámetros los valores iniciales de theta y las funciones de costo y gradiesntes.\n",
    "Con la función optim no es necesario especificar el tamaño del \"paso\" del gradiente (alpha)."
   ]
  },
  {
   "cell_type": "code",
   "execution_count": 30,
   "metadata": {
    "collapsed": false
   },
   "outputs": [
    {
     "name": "stdout",
     "output_type": "stream",
     "text": [
      "Los valores óptimos de theta son:  -24.87226 0.2034023 0.1998984\n",
      "El valor final del costo es:  0.2045574\n",
      "La ecuación final es:  -24.87226 + 0.2034023 x score1 + 0.1998984 x score2"
     ]
    }
   ],
   "source": [
    "results_optim <- optim(par = initial_theta, fn = computeCost, gr = computeGrad, method=\"BFGS\", control = list(maxit = 400))\n",
    "theta <- results_optim$par\n",
    "J <-  results_optim$value\n",
    "\n",
    "cat(\"Los valores óptimos de theta son: \", theta)\n",
    "cat(\"\\nEl valor final del costo es: \", J)\n",
    "cat(\"\\nLa ecuación final es: \", theta[1], \"+\", theta[2], \"x score1 +\", theta[3], \"x score2\")"
   ]
  },
  {
   "cell_type": "markdown",
   "metadata": {},
   "source": [
    "### Graficamos los datos y la frontera que separa a las clases"
   ]
  },
  {
   "cell_type": "code",
   "execution_count": 31,
   "metadata": {
    "collapsed": false
   },
   "outputs": [
    {
     "data": {},
     "metadata": {},
     "output_type": "display_data"
    },
    {
     "data": {
      "image/png": "[encoded data removed]",
      "text/plain": [
       "plot without title"
      ]
     },
     "metadata": {},
     "output_type": "display_data"
    }
   ],
   "source": [
    "#Ahora dibujamos la recta que divide ambos grupos\n",
    "if(ncol(X) <= 3) {\n",
    "  \n",
    "  #necesitamos dos puntos para dibujar la recta\n",
    "  plot_x <- c(min(X[,2])-2, max(X[,2])+2) #posicion de puntos segun eje x\n",
    "  plot_y <- (-1/theta[3])*(theta[2]*plot_x + theta[1]) #posicion de puntos segun eje y\n",
    "  \n",
    "}\n",
    "ggplot() + geom_point(aes(x = X[,2], y = X[,3], col = factor(y))) +\n",
    "    geom_line(aes(x = plot_x, y= plot_y)) +\n",
    "    labs(x = 'Puntaje examen 1', y = 'Puntaje examen 2') + ggtitle('Admisiones según puntajes de exámenes') +\n",
    "    theme(legend.title=element_blank()) + theme(legend.position=\"none\")\n"
   ]
  },
  {
   "cell_type": "markdown",
   "metadata": {},
   "source": [
    "Ahora si quisieramos por ejemplo predecir la probabilidad de ser admitido de un estudiante con puntaje de 45 en el examen 1 y puntaje 85 en el examen 2 lo haríamos de la siguiente manera:"
   ]
  },
  {
   "cell_type": "code",
   "execution_count": 33,
   "metadata": {
    "collapsed": false
   },
   "outputs": [
    {
     "name": "stdout",
     "output_type": "stream",
     "text": [
      "Probabilidades de ser admitido: 78.11"
     ]
    }
   ],
   "source": [
    "notas <- c(1, 45, 85) #el 1 es el término de intercepto (siempre es 1)\n",
    "prob <- sigmoid(notas %*% theta)\n",
    "\n",
    "cat('Probabilidades de ser admitido:', round(prob *100,2))"
   ]
  },
  {
   "cell_type": "markdown",
   "metadata": {},
   "source": [
    "Los puntos por encima a la linea corresponde a alumnos admitidos y los que estan por debajo corresponden a combinaciones de puntajes de alumnos no admitidos.\n",
    "\n",
    "### Predicciones y precisión:\n",
    "Ahora realizamos las predicciones con los parámetros obtenidos y vemos que tan exacto es nuestro clasificador."
   ]
  },
  {
   "cell_type": "code",
   "execution_count": 34,
   "metadata": {
    "collapsed": false
   },
   "outputs": [
    {
     "data": {
      "text/plain": [
       "                  predicciones\n",
       "valores.observados  0  1\n",
       "                 0 33  6\n",
       "                 1  5 55"
      ]
     },
     "metadata": {},
     "output_type": "display_data"
    }
   ],
   "source": [
    "predicciones <- round(sigmoid(X %*% theta))\n",
    "table(valores.observados = y, predicciones)"
   ]
  },
  {
   "cell_type": "markdown",
   "metadata": {
    "collapsed": false
   },
   "source": [
    "En una prueba rápida podemos ver que 11 alumnos fueron mal clasificados por nuestro modelo de regresión logistica."
   ]
  },
  {
   "cell_type": "code",
   "execution_count": 35,
   "metadata": {
    "collapsed": false
   },
   "outputs": [
    {
     "name": "stdout",
     "output_type": "stream",
     "text": [
      "Precisión: 88.89"
     ]
    }
   ],
   "source": [
    "cat('Precisión:', round(mean(round(sigmoid(X %*% theta)) == y) *100, 2))"
   ]
  }
 ],
 "metadata": {
  "anaconda-cloud": {},
  "kernelspec": {
   "display_name": "R",
   "language": "R",
   "name": "ir"
  },
  "language_info": {
   "codemirror_mode": "r",
   "file_extension": ".r",
   "mimetype": "text/x-r-source",
   "name": "R",
   "pygments_lexer": "r",
   "version": "3.3.2"
  }
 },
 "nbformat": 4,
 "nbformat_minor": 0
}
