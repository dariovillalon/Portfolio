{
 "cells": [
  {
   "cell_type": "markdown",
   "metadata": {},
   "source": [
    "# Regresión logística regularizada"
   ]
  },
  {
   "cell_type": "markdown",
   "metadata": {
    "collapsed": true
   },
   "source": [
    "La regularización es una técnica utilizada para evitar el problema de sobreajuste (overfitting) en modelos estadísticos.\n",
    "A medida que vamos agregando nuevos atributos a nuestro modelo, el mismo se va tornando más interesante pero también mucho más complejo (agregamos términos polinómicos, etc). El mismo quizás tenga un buen desempeño haciendo predicciones sobre el conjunto de entrenamiento pero tiene un bajo desempeño predictivo generalizando nuevos ejemplos.\n",
    "\n",
    "En este ejericicio utilizaremos la regresión logística regularizada para saber si los microchips de una planta de fabricacion pasan el test de calidad. Durante los tests de calidad los microchips pasan por varias pruebas para asegurar su correcto funcionamiento.\n",
    "\n",
    "Supongamos que eres el gerente del producto de la fábrica y tienes los resultados de algunos microchips para dos tipos de pruebas. A partir de estas dos pruebas quieres determinar si los microchips deberían ser aceptados o rechazados.\n",
    "Para ello se tienen datos históricos de resultados de pruebas anteriores, desde el cual vamos a construir el modelo logistico."
   ]
  },
  {
   "cell_type": "markdown",
   "metadata": {},
   "source": [
    "#### Configuración de tamaño de gráficos"
   ]
  },
  {
   "cell_type": "code",
   "execution_count": 18,
   "metadata": {
    "collapsed": true
   },
   "outputs": [],
   "source": [
    "options(repr.plot.width=5, repr.plot.height=4, scipen = 999)"
   ]
  },
  {
   "cell_type": "markdown",
   "metadata": {},
   "source": [
    "#### Instalación y carga de paquetes necesarios"
   ]
  },
  {
   "cell_type": "code",
   "execution_count": 19,
   "metadata": {
    "collapsed": true
   },
   "outputs": [],
   "source": [
    "list.of.packages <- c('ggplot2')\n",
    "\n",
    "new.packages <- list.of.packages[!(list.of.packages %in% installed.packages()[,\"Package\"])]\n",
    "if(length(new.packages)) install.packages(new.packages, repos = \"https://cran.r-project.org\")\n",
    "\n",
    "library(ggplot2)"
   ]
  },
  {
   "cell_type": "markdown",
   "metadata": {},
   "source": [
    "#### Carga de datos"
   ]
  },
  {
   "cell_type": "code",
   "execution_count": 20,
   "metadata": {
    "collapsed": true
   },
   "outputs": [],
   "source": [
    "microchips <- read.table(file = 'ex2data2.txt', header = TRUE, \n",
    "                        col.names = c('test1', 'test2', 'accepted'), sep = \",\", dec = \".\")"
   ]
  },
  {
   "cell_type": "markdown",
   "metadata": {},
   "source": [
    "## Exploración de datos"
   ]
  },
  {
   "cell_type": "code",
   "execution_count": 21,
   "metadata": {
    "collapsed": false
   },
   "outputs": [
    {
     "data": {
      "text/html": [
       "<table>\n",
       "<thead><tr><th scope=col>test1</th><th scope=col>test2</th><th scope=col>accepted</th></tr></thead>\n",
       "<tbody>\n",
       "\t<tr><td>-0.092742</td><td>0.684940 </td><td>1        </td></tr>\n",
       "\t<tr><td>-0.213710</td><td>0.692250 </td><td>1        </td></tr>\n",
       "\t<tr><td>-0.375000</td><td>0.502190 </td><td>1        </td></tr>\n",
       "\t<tr><td>-0.513250</td><td>0.465640 </td><td>1        </td></tr>\n",
       "\t<tr><td>-0.524770</td><td>0.209800 </td><td>1        </td></tr>\n",
       "\t<tr><td>-0.398040</td><td>0.034357 </td><td>1        </td></tr>\n",
       "</tbody>\n",
       "</table>\n"
      ],
      "text/latex": [
       "\\begin{tabular}{r|lll}\n",
       " test1 & test2 & accepted\\\\\n",
       "\\hline\n",
       "\t -0.092742 & 0.684940  & 1        \\\\\n",
       "\t -0.213710 & 0.692250  & 1        \\\\\n",
       "\t -0.375000 & 0.502190  & 1        \\\\\n",
       "\t -0.513250 & 0.465640  & 1        \\\\\n",
       "\t -0.524770 & 0.209800  & 1        \\\\\n",
       "\t -0.398040 & 0.034357  & 1        \\\\\n",
       "\\end{tabular}\n"
      ],
      "text/markdown": [
       "\n",
       "test1 | test2 | accepted | \n",
       "|---|---|---|---|---|---|\n",
       "| -0.092742 | 0.684940  | 1         | \n",
       "| -0.213710 | 0.692250  | 1         | \n",
       "| -0.375000 | 0.502190  | 1         | \n",
       "| -0.513250 | 0.465640  | 1         | \n",
       "| -0.524770 | 0.209800  | 1         | \n",
       "| -0.398040 | 0.034357  | 1         | \n",
       "\n",
       "\n"
      ],
      "text/plain": [
       "  test1     test2    accepted\n",
       "1 -0.092742 0.684940 1       \n",
       "2 -0.213710 0.692250 1       \n",
       "3 -0.375000 0.502190 1       \n",
       "4 -0.513250 0.465640 1       \n",
       "5 -0.524770 0.209800 1       \n",
       "6 -0.398040 0.034357 1       "
      ]
     },
     "metadata": {},
     "output_type": "display_data"
    },
    {
     "name": "stdout",
     "output_type": "stream",
     "text": [
      "'data.frame':\t117 obs. of  3 variables:\n",
      " $ test1   : num  -0.0927 -0.2137 -0.375 -0.5132 -0.5248 ...\n",
      " $ test2   : num  0.685 0.692 0.502 0.466 0.21 ...\n",
      " $ accepted: Factor w/ 2 levels \"Aceptado\",\"Rechazado\": 1 1 1 1 1 1 1 1 1 1 ...\n"
     ]
    }
   ],
   "source": [
    "head(microchips)\n",
    "microchips$accepted <- factor(microchips$accepted, levels = c(1, 0), labels = c('Aceptado', 'Rechazado'))\n",
    "str(microchips)"
   ]
  },
  {
   "cell_type": "markdown",
   "metadata": {},
   "source": [
    "## Visualización de datos\n",
    "\n",
    "### Gráfico de dispersión"
   ]
  },
  {
   "cell_type": "code",
   "execution_count": 22,
   "metadata": {
    "collapsed": false
   },
   "outputs": [
    {
     "data": {},
     "metadata": {},
     "output_type": "display_data"
    },
    {
     "data": {
      "image/png": "[encoded data removed]",
      "text/plain": [
       "plot without title"
      ]
     },
     "metadata": {},
     "output_type": "display_data"
    }
   ],
   "source": [
    "ggplot(data = microchips, aes(x = test1, y = test2, col = accepted)) + geom_point() +\n",
    "    labs(x = 'Prueba de microchip 1', y = 'Prueba de microchip 2') + ggtitle('Resultados de pruebas de microchips') +\n",
    "    theme(legend.title=element_blank()) +\n",
    "    scale_colour_manual(name='', values=c('Aceptado'='blue', 'Rechazado'='red'))"
   ]
  },
  {
   "cell_type": "markdown",
   "metadata": {
    "collapsed": true
   },
   "source": [
    "A simple viste vemos que ambas clases no pueden ser separados a través de una linea recta, por lo tanto utilizar una enfoque directo de la regresión lineal no sería conveniente. \n",
    "\n",
    "Por lo tanto tendremos que construir más atributos de entrada a partir de los dos que tenemos. Para ello usaremos términos polinómicos hasta el grado 6.\n",
    "\n",
    "Es decir, no solo tendremos x0, x1 y x2, sino que deberíamos tener: x0, x1, x2, x1*x2, x1*x2^2, x1^2*x2... x1^6 * x2^6.\n",
    "\n",
    "Una regresión logística con estas entradas tendrá una frontera entre clases mucho más compleja y se ajustará mucho mejor a los datos pero por otro lado es más susceptible a sobreajustarse, por lo tanto debemos **REGULARIZAR**."
   ]
  },
  {
   "cell_type": "markdown",
   "metadata": {},
   "source": [
    "#### Preparamos los datos para la regresión"
   ]
  },
  {
   "cell_type": "code",
   "execution_count": 23,
   "metadata": {
    "collapsed": false
   },
   "outputs": [],
   "source": [
    "X <- microchips$test1\n",
    "X <- cbind(X, microchips$test2)\n",
    "\n",
    "y <- 2 - as.integer(microchips$accepted)\n",
    "\n",
    "m <- nrow(X)\n",
    "degree <- 6\n",
    "lambda <- 1"
   ]
  },
  {
   "cell_type": "markdown",
   "metadata": {},
   "source": [
    "#### Chequeamos las primeras 10 observaciones"
   ]
  },
  {
   "cell_type": "code",
   "execution_count": 24,
   "metadata": {
    "collapsed": false
   },
   "outputs": [
    {
     "data": {
      "text/html": [
       "<table>\n",
       "<thead><tr><th scope=col>X</th><th scope=col></th></tr></thead>\n",
       "<tbody>\n",
       "\t<tr><td>-0.092742</td><td> 0.684940</td></tr>\n",
       "\t<tr><td>-0.213710</td><td> 0.692250</td></tr>\n",
       "\t<tr><td>-0.375000</td><td> 0.502190</td></tr>\n",
       "\t<tr><td>-0.513250</td><td> 0.465640</td></tr>\n",
       "\t<tr><td>-0.524770</td><td> 0.209800</td></tr>\n",
       "\t<tr><td>-0.398040</td><td> 0.034357</td></tr>\n",
       "\t<tr><td>-0.305880</td><td>-0.192250</td></tr>\n",
       "\t<tr><td> 0.016705</td><td>-0.404240</td></tr>\n",
       "\t<tr><td> 0.131910</td><td>-0.513890</td></tr>\n",
       "\t<tr><td> 0.385370</td><td>-0.565060</td></tr>\n",
       "</tbody>\n",
       "</table>\n"
      ],
      "text/latex": [
       "\\begin{tabular}{ll}\n",
       " X & \\\\\n",
       "\\hline\n",
       "\t -0.092742 &  0.684940\\\\\n",
       "\t -0.213710 &  0.692250\\\\\n",
       "\t -0.375000 &  0.502190\\\\\n",
       "\t -0.513250 &  0.465640\\\\\n",
       "\t -0.524770 &  0.209800\\\\\n",
       "\t -0.398040 &  0.034357\\\\\n",
       "\t -0.305880 & -0.192250\\\\\n",
       "\t  0.016705 & -0.404240\\\\\n",
       "\t  0.131910 & -0.513890\\\\\n",
       "\t  0.385370 & -0.565060\\\\\n",
       "\\end{tabular}\n"
      ],
      "text/markdown": [
       "\n",
       "X |  | \n",
       "|---|---|---|---|---|---|---|---|---|---|\n",
       "| -0.092742 |  0.684940 | \n",
       "| -0.213710 |  0.692250 | \n",
       "| -0.375000 |  0.502190 | \n",
       "| -0.513250 |  0.465640 | \n",
       "| -0.524770 |  0.209800 | \n",
       "| -0.398040 |  0.034357 | \n",
       "| -0.305880 | -0.192250 | \n",
       "|  0.016705 | -0.404240 | \n",
       "|  0.131910 | -0.513890 | \n",
       "|  0.385370 | -0.565060 | \n",
       "\n",
       "\n"
      ],
      "text/plain": [
       "      X                  \n",
       " [1,] -0.092742  0.684940\n",
       " [2,] -0.213710  0.692250\n",
       " [3,] -0.375000  0.502190\n",
       " [4,] -0.513250  0.465640\n",
       " [5,] -0.524770  0.209800\n",
       " [6,] -0.398040  0.034357\n",
       " [7,] -0.305880 -0.192250\n",
       " [8,]  0.016705 -0.404240\n",
       " [9,]  0.131910 -0.513890\n",
       "[10,]  0.385370 -0.565060"
      ]
     },
     "metadata": {},
     "output_type": "display_data"
    },
    {
     "data": {
      "text/html": [
       "<ol class=list-inline>\n",
       "\t<li>1</li>\n",
       "\t<li>1</li>\n",
       "\t<li>1</li>\n",
       "\t<li>1</li>\n",
       "\t<li>1</li>\n",
       "\t<li>1</li>\n",
       "\t<li>1</li>\n",
       "\t<li>1</li>\n",
       "\t<li>1</li>\n",
       "\t<li>1</li>\n",
       "</ol>\n"
      ],
      "text/latex": [
       "\\begin{enumerate*}\n",
       "\\item 1\n",
       "\\item 1\n",
       "\\item 1\n",
       "\\item 1\n",
       "\\item 1\n",
       "\\item 1\n",
       "\\item 1\n",
       "\\item 1\n",
       "\\item 1\n",
       "\\item 1\n",
       "\\end{enumerate*}\n"
      ],
      "text/markdown": [
       "1. 1\n",
       "2. 1\n",
       "3. 1\n",
       "4. 1\n",
       "5. 1\n",
       "6. 1\n",
       "7. 1\n",
       "8. 1\n",
       "9. 1\n",
       "10. 1\n",
       "\n",
       "\n"
      ],
      "text/plain": [
       " [1] 1 1 1 1 1 1 1 1 1 1"
      ]
     },
     "metadata": {},
     "output_type": "display_data"
    }
   ],
   "source": [
    "head(X,10)\n",
    "head(y,10)"
   ]
  },
  {
   "cell_type": "markdown",
   "metadata": {},
   "source": [
    "#### Creamos los nuevos términos polinómicos"
   ]
  },
  {
   "cell_type": "code",
   "execution_count": 25,
   "metadata": {
    "collapsed": false
   },
   "outputs": [],
   "source": [
    "agregarAtributos <- function(X1, X2) {\n",
    "    \n",
    "    out <- matrix(1,length(X1),1)\n",
    "  \n",
    "    for (i in 1:degree)\n",
    "       for (j in 0:i)\n",
    "         out <- cbind(out, (X1 ^ (i - j)) * (X2 ^ j))\n",
    "\n",
    "    out\n",
    "}\n",
    "        \n",
    "X <- agregarAtributos(X[,1], X[,2])"
   ]
  },
  {
   "cell_type": "markdown",
   "metadata": {},
   "source": [
    "#### Creamos la función sigmoidal."
   ]
  },
  {
   "cell_type": "code",
   "execution_count": 26,
   "metadata": {
    "collapsed": true
   },
   "outputs": [],
   "source": [
    "sigmoid <- function(z) {\n",
    "  \n",
    "  g <- 1 / (1 + exp(1) ^ (-z))\n",
    "}"
   ]
  },
  {
   "cell_type": "markdown",
   "metadata": {},
   "source": [
    "#### Construimos la función para calcular el costo y los gradientes."
   ]
  },
  {
   "cell_type": "code",
   "execution_count": 27,
   "metadata": {
    "collapsed": true
   },
   "outputs": [],
   "source": [
    "computeCost <- function(theta) {\n",
    "    \n",
    "    hyp <-  sigmoid(X %*% theta)\n",
    "    \n",
    "    J_noreg <- (-1 / m) * (t(y) %*% log(hyp) + (t((1 - y)) %*% log(1 - hyp)))\n",
    "        \n",
    "    theta[1] <- 0\n",
    "    \n",
    "    J_reg <- J_noreg + (lambda / (2 * m)) * sum(theta ^ 2)\n",
    "    \n",
    "    J_reg\n",
    "    \n",
    "}\n",
    "\n",
    "computeGrad <- function(theta) {\n",
    "    \n",
    "    hyp <- sigmoid(X %*% theta)\n",
    "    \n",
    "    theta1 <- c(0,theta[-1])\n",
    "    \n",
    "    grad <- (t(X) %*% (hyp - y) + lambda * theta1) / m\n",
    "    grad\n",
    "}"
   ]
  },
  {
   "cell_type": "markdown",
   "metadata": {},
   "source": [
    "#### Inicializamos los parámetros theta"
   ]
  },
  {
   "cell_type": "code",
   "execution_count": 28,
   "metadata": {
    "collapsed": true
   },
   "outputs": [],
   "source": [
    "initial_theta <- numeric(ncol(X))"
   ]
  },
  {
   "cell_type": "markdown",
   "metadata": {},
   "source": [
    "#### Configuramos las opciones de optim\n",
    "optim() es una librería en R para optimizar funciones (minimizar/maximizar)"
   ]
  },
  {
   "cell_type": "code",
   "execution_count": 29,
   "metadata": {
    "collapsed": true
   },
   "outputs": [],
   "source": [
    "results_optim <- optim(par = initial_theta, fn = computeCost, gr = computeGrad, method=\"BFGS\", control = list(maxit = 400))\n",
    "\n",
    "theta <- results_optim$par\n",
    "J <- results_optim$value"
   ]
  },
  {
   "cell_type": "code",
   "execution_count": 36,
   "metadata": {
    "collapsed": false
   },
   "outputs": [
    {
     "name": "stdout",
     "output_type": "stream",
     "text": [
      "Costo final: 0.5304075\n",
      "\n",
      "Valores óptimos de theta:\n",
      " 1.257178 0.6184102 1.151225 -1.9899 -0.9210801 -1.447153 0.1268861 -0.3430642 -0.3608105 -0.1790847 -1.454376 -0.04757986 -0.6032457 -0.2769599 -1.18793 -0.2428991 -0.1992249 -0.04355907 -0.2679924 -0.2977525 -0.443909 -1.044985 0.02951311 -0.2896819 0.01685307 -0.3209932 -0.1456206 -0.9081981"
     ]
    }
   ],
   "source": [
    "cat('Costo final:', J)\n",
    "cat('\\n\\nValores óptimos de theta:\\n', theta)"
   ]
  },
  {
   "cell_type": "markdown",
   "metadata": {},
   "source": [
    "## Visualización de límites entre cada clase"
   ]
  },
  {
   "cell_type": "code",
   "execution_count": 39,
   "metadata": {
    "collapsed": false
   },
   "outputs": [
    {
     "data": {
      "image/png": "[encoded data removed]",
      "text/plain": [
       "Plot with title \"Test de microchips\""
      ]
     },
     "metadata": {},
     "output_type": "display_data"
    }
   ],
   "source": [
    "#Graficamos los puntos\n",
    "plot(X[,2], X[,3], col = factor(y), pch = 19, xlab = \"Prueba de microchip 1\", ylab = \"Prueba de microchip 2\",\n",
    "    main = \"Test de microchips\")\n",
    "\n",
    "# Creamos la grilla para dibujar el limite entre las clases\n",
    "u <- seq(-1,1.5, length.out = 50)\n",
    "v <- seq(-1,1.5, length.out = 50)\n",
    "z <- matrix(0, length(u), length(v))\n",
    "\n",
    "# Evaluamos z sobre la grilla de puntos\n",
    "for (i in 1:length(u))\n",
    "    for (j in 1:length(v))\n",
    "      z[i,j] <- agregarAtributos(u[i], v[j]) %*% theta\n",
    "\n",
    "#Dibujamos el limite\n",
    "contour(u, v, z, levels = 0, lwd = 2, add = TRUE, drawlabels = FALSE, col = \"green\")"
   ]
  },
  {
   "cell_type": "markdown",
   "metadata": {},
   "source": [
    "## Precisión del modelo (%)\n"
   ]
  },
  {
   "cell_type": "code",
   "execution_count": 32,
   "metadata": {
    "collapsed": false
   },
   "outputs": [
    {
     "data": {
      "text/html": [
       "82.91"
      ],
      "text/latex": [
       "82.91"
      ],
      "text/markdown": [
       "82.91"
      ],
      "text/plain": [
       "[1] 82.91"
      ]
     },
     "metadata": {},
     "output_type": "display_data"
    }
   ],
   "source": [
    "p <- round(sigmoid(X %*% theta))\n",
    "round(mean(p == y) * 100, 2)"
   ]
  }
 ],
 "metadata": {
  "kernelspec": {
   "display_name": "R",
   "language": "R",
   "name": "ir"
  },
  "language_info": {
   "codemirror_mode": "r",
   "file_extension": ".r",
   "mimetype": "text/x-r-source",
   "name": "R",
   "pygments_lexer": "r",
   "version": "3.3.2"
  }
 },
 "nbformat": 4,
 "nbformat_minor": 0
}
