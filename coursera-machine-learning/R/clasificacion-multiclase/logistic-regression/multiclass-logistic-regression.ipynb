{
 "cells": [
  {
   "cell_type": "code",
   "execution_count": 1,
   "metadata": {
    "collapsed": true
   },
   "outputs": [],
   "source": [
    "#En este ejemplo utilizaremos la regresión logística para reconocer dígitos escritos a mano (de 0 a 9).\n",
    "\n",
    "#El reconocimiento automático de dígitos es ampliamente utilizado en la actualidad- desde el reconocimiento de códigos\n",
    "#postales en sobre hasta el reconocimiento de cantidades escritos en cheques bancarios.\n",
    "\n",
    "#El dataset contiene 5000 digitos donde cada fila corresponde a datos de la imagen en escala de grises de 20px x 20px. Es\n",
    "#decir, tenemos 400 atributos o pixeles que representan a cada dígito. Cada pixel contiene un número real correspondiente\n",
    "#a la intensidad de la escala de gris correspondiente a dicha ubicación.\n",
    "\n",
    "#Por otro lado se tiene un vector de 5000x1 que corresponde al dígito que se está representando (la clase a reconocer).\n",
    "#En este caso se tienen clases del 1 al 10 donde el 10 mapea el valor 0. Esto hace que sean más facil manejar los indices."
   ]
  },
  {
   "cell_type": "code",
   "execution_count": 3,
   "metadata": {
    "collapsed": true
   },
   "outputs": [],
   "source": [
    "#Configuraciones iniciales\n",
    "options(scipen = 999, repr.plot.width=4, repr.plot.height= 4, warn = -1)"
   ]
  },
  {
   "cell_type": "code",
   "execution_count": 4,
   "metadata": {
    "collapsed": false
   },
   "outputs": [
    {
     "name": "stderr",
     "output_type": "stream",
     "text": [
      "R.matlab v3.6.1 (2016-10-19) successfully loaded. See ?R.matlab for help.\n",
      "\n",
      "Attaching package: 'R.matlab'\n",
      "\n",
      "The following objects are masked from 'package:base':\n",
      "\n",
      "    getOption, isOpen\n",
      "\n"
     ]
    }
   ],
   "source": [
    "#Instalación y carga de paquetes necesarios\n",
    "list.of.packages <- c('R.matlab')\n",
    "\n",
    "new.packages <- list.of.packages[!(list.of.packages %in% installed.packages()[,\"Package\"])]\n",
    "if(length(new.packages)) install.packages(new.packages, repos = \"https://cran.r-project.org\")\n",
    "\n",
    "library(R.matlab)"
   ]
  },
  {
   "cell_type": "code",
   "execution_count": 7,
   "metadata": {
    "collapsed": false
   },
   "outputs": [
    {
     "name": "stdout",
     "output_type": "stream",
     "text": [
      "'data.frame':\t5000 obs. of  401 variables:\n",
      " $ X.1  : num  0 0 0 0 0 0 0 0 0 0 ...\n",
      " $ X.2  : num  0 0 0 0 0 0 0 0 0 0 ...\n",
      " $ X.3  : num  0 0 0 0 0 0 0 0 0 0 ...\n",
      " $ X.4  : num  0 0 0 0 0 0 0 0 0 0 ...\n",
      " $ X.5  : num  0 0 0 0 0 0 0 0 0 0 ...\n",
      " $ X.6  : num  0 0 0 0 0 0 0 0 0 0 ...\n",
      " $ X.7  : num  0 0 0 0 0 0 0 0 0 0 ...\n",
      " $ X.8  : num  0 0 0 0 0 0 0 0 0 0 ...\n",
      " $ X.9  : num  0 0 0 0 0 0 0 0 0 0 ...\n",
      " $ X.10 : num  0 0 0 0 0 0 0 0 0 0 ...\n",
      " $ X.11 : num  0 0 0 0 0 0 0 0 0 0 ...\n",
      " $ X.12 : num  0 0 0 0 0 0 0 0 0 0 ...\n",
      " $ X.13 : num  0 0 0 0 0 0 0 0 0 0 ...\n",
      " $ X.14 : num  0 0 0 0 0 0 0 0 0 0 ...\n",
      " $ X.15 : num  0 0 0 0 0 0 0 0 0 0 ...\n",
      " $ X.16 : num  0 0 0 0 0 0 0 0 0 0 ...\n",
      " $ X.17 : num  0 0 0 0 0 0 0 0 0 0 ...\n",
      " $ X.18 : num  0 0 0 0 0 0 0 0 0 0 ...\n",
      " $ X.19 : num  0 0 0 0 0 0 0 0 0 0 ...\n",
      " $ X.20 : num  0 0 0 0 0 0 0 0 0 0 ...\n",
      " $ X.21 : num  0 0 0 0 0 0 0 0 0 0 ...\n",
      " $ X.22 : num  0 0 0 0 0 0 0 0 0 0 ...\n",
      " $ X.23 : num  0 0 0 0 0 0 0 0 0 0 ...\n",
      " $ X.24 : num  0 0 0 0 0 0 0 0 0 0 ...\n",
      " $ X.25 : num  0 0 0 0 0 0 0 0 0 0 ...\n",
      " $ X.26 : num  0 0 0 0 0 0 0 0 0 0 ...\n",
      " $ X.27 : num  0 0 0 0 0 0 0 0 0 0 ...\n",
      " $ X.28 : num  0 0 0 0 0 0 0 0 0 0 ...\n",
      " $ X.29 : num  0 0 0 0 0 0 0 0 0 0 ...\n",
      " $ X.30 : num  0 0 0 0 0 0 0 0 0 0 ...\n",
      " $ X.31 : num  0 0 0 0 0 ...\n",
      " $ X.32 : num  0 0 0 0 0.0000783 ...\n",
      " $ X.33 : num  0 0 0 0 -0.000727 ...\n",
      " $ X.34 : num  0 0 0 0 -0.00223 ...\n",
      " $ X.35 : num  0 0 0 0 0.000196 ...\n",
      " $ X.36 : num  0 0 0 0 0 ...\n",
      " $ X.37 : num  0 0 0 0 0 ...\n",
      " $ X.38 : num  0 0 0 0 0 ...\n",
      " $ X.39 : num  0 0 0 0 0 0 0 0 0 0 ...\n",
      " $ X.40 : num  0 0 0 0 0 0 0 0 0 0 ...\n",
      " $ X.41 : num  0 0 0 0 0 0 0 0 0 0 ...\n",
      " $ X.42 : num  0 0 0 0 0 0 0 0 0 0 ...\n",
      " $ X.43 : num  0 0 0 0 0 0 0 0 0 0 ...\n",
      " $ X.44 : num  0 0 0 0 0 0 0 0 0 0 ...\n",
      " $ X.45 : num  0 0 0 0 0 0 0 0 0 0 ...\n",
      " $ X.46 : num  0 0 0 0 0 ...\n",
      " $ X.47 : num  0 0 0 0 0 ...\n",
      " $ X.48 : num  0 0 0 0 0 ...\n",
      " $ X.49 : num  0 0 0 0 0 ...\n",
      " $ X.50 : num  0 0.000323 0 0 0.000873 ...\n",
      " $ X.51 : num  0 -0.000916 0 0 -0.006511 ...\n",
      " $ X.52 : num  0 -0.0254 0 0 -0.0245 ...\n",
      " $ X.53 : num  0 -0.0386 0 0 -0.0203 ...\n",
      " $ X.54 : num  0 -0.0384 0 0 -0.0145 ...\n",
      " $ X.55 : num  0 -0.0194 0 0 -0.0241 ...\n",
      " $ X.56 : num  0 0.000391 0 0 -0.021958 ...\n",
      " $ X.57 : num  0 0.0000819 0 0 -0.0065444 ...\n",
      " $ X.58 : num  0 0 0 0 0.000801 ...\n",
      " $ X.59 : num  0 0 0 0 0 ...\n",
      " $ X.60 : num  0 0 0 0 0 0 0 0 0 0 ...\n",
      " $ X.61 : num  0 0 0 0 0 0 0 0 0 0 ...\n",
      " $ X.62 : num  0 0 0 0 0 0 0 0 0 0 ...\n",
      " $ X.63 : num  0 0 0 0 0 0 0 0 0 0 ...\n",
      " $ X.64 : num  0 0 0 0 0 ...\n",
      " $ X.65 : num  0 0 0 0 0 ...\n",
      " $ X.66 : num  0 0 0 0 0.000000000000000000389 ...\n",
      " $ X.67 : num  0 0 0 0 0.000105 ...\n",
      " $ X.68 : num  0.00000856 0.0001174 0 0 -0.00071608 ...\n",
      " $ X.69 : num  0.00000194 -0.00082475 0 0.00000169 -0.00817203 ...\n",
      " $ X.70 : num  -0.000737 -0.007053 0 0.000108 -0.0353 ...\n",
      " $ X.71 : num  -0.00813 -0.01097 0 -0.00108 0.02545 ...\n",
      " $ X.72 : num  -0.01861 0.19688 0 -0.00426 0.17806 ...\n",
      " $ X.73 : num  -0.01874 0.32091 0 -0.00356 0.23222 ...\n",
      " $ X.74 : num  -0.01876 0.31891 0 -0.00482 0.35208 ...\n",
      " $ X.75 : num  -0.0191 0.14172 0 -0.00375 0.16125 ...\n",
      " $ X.76 : num  -0.0164 -0.01568 0 -0.00345 0.16438 ...\n",
      " $ X.77 : num  -0.0037819 -0.0002651 0 -0.0000463 0.0258285 ...\n",
      " $ X.78 : num  0.0003303 0.000033 0 0.0000257 -0.0201399 ...\n",
      " $ X.79 : num  0.0000128 0 0 0 0.0006684 ...\n",
      " $ X.80 : num  0 0 0 0 0 0 0 0 0 0 ...\n",
      " $ X.81 : num  0 0 0 0 0 0 0 0 0 0 ...\n",
      " $ X.82 : num  0 0 0 0 0 0 0 0 0 0 ...\n",
      " $ X.83 : num  0 0 0 0 0 0 0 0 0 0 ...\n",
      " $ X.84 : num  0 0 0 0 0 ...\n",
      " $ X.85 : num  0 0 0 0 0.0000882 ...\n",
      " $ X.86 : num  0 0 0 0 -0.0000211 ...\n",
      " $ X.87 : num  0.000116 0.000245 0 0 -0.010274 ...\n",
      " $ X.88 : num  0.00012 -0.001962 0 0.000345 -0.021901 ...\n",
      " $ X.89 : num  -0.01404 -0.01207 0 -0.00254 0.07872 ...\n",
      " $ X.90 : num  -0.02845 0.00562 0 -0.01486 0.41258 ...\n",
      " $ X.91 : num  0.080383 0.290347 0.000483 -0.013016 0.623638 ...\n",
      " $ X.92 : num  0.26654 0.86441 -0.00517 0.01494 0.89336 ...\n",
      " $ X.93 : num  0.27385 0.98839 -0.01552 0.00706 0.90769 ...\n",
      " $ X.94 : num  0.2787 0.9855 -0.0162 0.0224 0.9577 ...\n",
      " $ X.95 : num  0.27429 0.79947 -0.01622 0.00887 0.88023 ...\n",
      " $ X.96 : num  0.22468 0.15672 -0.0161 0.00705 0.85251 ...\n",
      " $ X.97 : num  0.02776 -0.01742 -0.00574 -0.01361 0.62102 ...\n",
      " $ X.98 : num  -0.007063 0.000539 0.000682 0.000189 0.161895 ...\n",
      " $ X.99 : num  0.000235 0 0 0.000095 -0.010614 ...\n",
      "  [list output truncated]\n"
     ]
    },
    {
     "data": {
      "text/html": [
       "<table>\n",
       "<thead><tr><th scope=col>X.1</th><th scope=col>X.2</th><th scope=col>X.3</th><th scope=col>X.4</th><th scope=col>X.5</th><th scope=col>X.6</th><th scope=col>X.7</th><th scope=col>X.8</th><th scope=col>X.9</th><th scope=col>X.10</th><th scope=col>...</th><th scope=col>X.392</th><th scope=col>X.393</th><th scope=col>X.394</th><th scope=col>X.395</th><th scope=col>X.396</th><th scope=col>X.397</th><th scope=col>X.398</th><th scope=col>X.399</th><th scope=col>X.400</th><th scope=col>y</th></tr></thead>\n",
       "<tbody>\n",
       "\t<tr><td>0  </td><td>0  </td><td>0  </td><td>0  </td><td>0  </td><td>0  </td><td>0  </td><td>0  </td><td>0  </td><td>0  </td><td>...</td><td>0  </td><td>0  </td><td>0  </td><td>0  </td><td>0  </td><td>0  </td><td>0  </td><td>0  </td><td>0  </td><td>10 </td></tr>\n",
       "\t<tr><td>0  </td><td>0  </td><td>0  </td><td>0  </td><td>0  </td><td>0  </td><td>0  </td><td>0  </td><td>0  </td><td>0  </td><td>...</td><td>0  </td><td>0  </td><td>0  </td><td>0  </td><td>0  </td><td>0  </td><td>0  </td><td>0  </td><td>0  </td><td>10 </td></tr>\n",
       "\t<tr><td>0  </td><td>0  </td><td>0  </td><td>0  </td><td>0  </td><td>0  </td><td>0  </td><td>0  </td><td>0  </td><td>0  </td><td>...</td><td>0  </td><td>0  </td><td>0  </td><td>0  </td><td>0  </td><td>0  </td><td>0  </td><td>0  </td><td>0  </td><td>10 </td></tr>\n",
       "\t<tr><td>0  </td><td>0  </td><td>0  </td><td>0  </td><td>0  </td><td>0  </td><td>0  </td><td>0  </td><td>0  </td><td>0  </td><td>...</td><td>0  </td><td>0  </td><td>0  </td><td>0  </td><td>0  </td><td>0  </td><td>0  </td><td>0  </td><td>0  </td><td>10 </td></tr>\n",
       "\t<tr><td>0  </td><td>0  </td><td>0  </td><td>0  </td><td>0  </td><td>0  </td><td>0  </td><td>0  </td><td>0  </td><td>0  </td><td>...</td><td>0  </td><td>0  </td><td>0  </td><td>0  </td><td>0  </td><td>0  </td><td>0  </td><td>0  </td><td>0  </td><td>10 </td></tr>\n",
       "\t<tr><td>0  </td><td>0  </td><td>0  </td><td>0  </td><td>0  </td><td>0  </td><td>0  </td><td>0  </td><td>0  </td><td>0  </td><td>...</td><td>0  </td><td>0  </td><td>0  </td><td>0  </td><td>0  </td><td>0  </td><td>0  </td><td>0  </td><td>0  </td><td>10 </td></tr>\n",
       "</tbody>\n",
       "</table>\n"
      ],
      "text/latex": [
       "\\begin{tabular}{r|lllllllllllllllllllllllllllllllllllllllllllllllllllllllllllllllllllllllllllllllllllllllllllllllllllllllllllllllllllllllllllllllllllllllllllllllllllllllllllllllllllllllllllllllllllllllllllllllllllllllllllllllllllllllllllllllllllllllllllllllllllllllllllllllllllllllllllllllllllllllllllllllllllllllllllllllllllllllllllllllllllllllllllllllllllllllllllllllllllllllllllllllllllllllllllllllllllllllllllllllll}\n",
       " X.1 & X.2 & X.3 & X.4 & X.5 & X.6 & X.7 & X.8 & X.9 & X.10 & ... & X.392 & X.393 & X.394 & X.395 & X.396 & X.397 & X.398 & X.399 & X.400 & y\\\\\n",
       "\\hline\n",
       "\t 0   & 0   & 0   & 0   & 0   & 0   & 0   & 0   & 0   & 0   & ... & 0   & 0   & 0   & 0   & 0   & 0   & 0   & 0   & 0   & 10 \\\\\n",
       "\t 0   & 0   & 0   & 0   & 0   & 0   & 0   & 0   & 0   & 0   & ... & 0   & 0   & 0   & 0   & 0   & 0   & 0   & 0   & 0   & 10 \\\\\n",
       "\t 0   & 0   & 0   & 0   & 0   & 0   & 0   & 0   & 0   & 0   & ... & 0   & 0   & 0   & 0   & 0   & 0   & 0   & 0   & 0   & 10 \\\\\n",
       "\t 0   & 0   & 0   & 0   & 0   & 0   & 0   & 0   & 0   & 0   & ... & 0   & 0   & 0   & 0   & 0   & 0   & 0   & 0   & 0   & 10 \\\\\n",
       "\t 0   & 0   & 0   & 0   & 0   & 0   & 0   & 0   & 0   & 0   & ... & 0   & 0   & 0   & 0   & 0   & 0   & 0   & 0   & 0   & 10 \\\\\n",
       "\t 0   & 0   & 0   & 0   & 0   & 0   & 0   & 0   & 0   & 0   & ... & 0   & 0   & 0   & 0   & 0   & 0   & 0   & 0   & 0   & 10 \\\\\n",
       "\\end{tabular}\n"
      ],
      "text/markdown": [
       "\n",
       "X.1 | X.2 | X.3 | X.4 | X.5 | X.6 | X.7 | X.8 | X.9 | X.10 | ... | X.392 | X.393 | X.394 | X.395 | X.396 | X.397 | X.398 | X.399 | X.400 | y | \n",
       "|---|---|---|---|---|---|\n",
       "| 0   | 0   | 0   | 0   | 0   | 0   | 0   | 0   | 0   | 0   | ... | 0   | 0   | 0   | 0   | 0   | 0   | 0   | 0   | 0   | 10  | \n",
       "| 0   | 0   | 0   | 0   | 0   | 0   | 0   | 0   | 0   | 0   | ... | 0   | 0   | 0   | 0   | 0   | 0   | 0   | 0   | 0   | 10  | \n",
       "| 0   | 0   | 0   | 0   | 0   | 0   | 0   | 0   | 0   | 0   | ... | 0   | 0   | 0   | 0   | 0   | 0   | 0   | 0   | 0   | 10  | \n",
       "| 0   | 0   | 0   | 0   | 0   | 0   | 0   | 0   | 0   | 0   | ... | 0   | 0   | 0   | 0   | 0   | 0   | 0   | 0   | 0   | 10  | \n",
       "| 0   | 0   | 0   | 0   | 0   | 0   | 0   | 0   | 0   | 0   | ... | 0   | 0   | 0   | 0   | 0   | 0   | 0   | 0   | 0   | 10  | \n",
       "| 0   | 0   | 0   | 0   | 0   | 0   | 0   | 0   | 0   | 0   | ... | 0   | 0   | 0   | 0   | 0   | 0   | 0   | 0   | 0   | 10  | \n",
       "\n",
       "\n"
      ],
      "text/plain": [
       "  X.1 X.2 X.3 X.4 X.5 X.6 X.7 X.8 X.9 X.10 ... X.392 X.393 X.394 X.395 X.396\n",
       "1 0   0   0   0   0   0   0   0   0   0    ... 0     0     0     0     0    \n",
       "2 0   0   0   0   0   0   0   0   0   0    ... 0     0     0     0     0    \n",
       "3 0   0   0   0   0   0   0   0   0   0    ... 0     0     0     0     0    \n",
       "4 0   0   0   0   0   0   0   0   0   0    ... 0     0     0     0     0    \n",
       "5 0   0   0   0   0   0   0   0   0   0    ... 0     0     0     0     0    \n",
       "6 0   0   0   0   0   0   0   0   0   0    ... 0     0     0     0     0    \n",
       "  X.397 X.398 X.399 X.400 y \n",
       "1 0     0     0     0     10\n",
       "2 0     0     0     0     10\n",
       "3 0     0     0     0     10\n",
       "4 0     0     0     0     10\n",
       "5 0     0     0     0     10\n",
       "6 0     0     0     0     10"
      ]
     },
     "metadata": {},
     "output_type": "display_data"
    }
   ],
   "source": [
    "#Carga de datos\n",
    "digits <- as.data.frame(readMat('ex3data1.mat'))\n",
    "\n",
    "str(digits)\n",
    "head(digits)"
   ]
  },
  {
   "cell_type": "code",
   "execution_count": 54,
   "metadata": {
    "collapsed": true
   },
   "outputs": [],
   "source": [
    "X <- df[,1:400]\n",
    "y <- df[, 401]"
   ]
  },
  {
   "cell_type": "code",
   "execution_count": 55,
   "metadata": {
    "collapsed": false
   },
   "outputs": [
    {
     "data": {
      "text/plain": [
       "y\n",
       "  1   2   3   4   5   6   7   8   9  10 \n",
       "500 500 500 500 500 500 500 500 500 500 "
      ]
     },
     "metadata": {},
     "output_type": "display_data"
    }
   ],
   "source": [
    "#Inicialización de"
   ]
  },
  {
   "cell_type": "code",
   "execution_count": 56,
   "metadata": {
    "collapsed": false
   },
   "outputs": [],
   "source": [
    "input_layer_size  = 400;  % 20x20 Input Images of Digits\n",
    "hidden_layer_size = 25;   % 25 hidden units\n",
    "num_labels = 10;"
   ]
  },
  {
   "cell_type": "code",
   "execution_count": 57,
   "metadata": {
    "collapsed": true
   },
   "outputs": [],
   "source": [
    "rand_indices <- sample(m, 100)\n",
    "sel <- X[rand_indices, ]"
   ]
  },
  {
   "cell_type": "code",
   "execution_count": 58,
   "metadata": {
    "collapsed": true
   },
   "outputs": [],
   "source": [
    "visualizarDigitos <- function(X) {\n",
    "    \n",
    "    \n",
    "    example_width <- round(sqrt(dim(X)[2]))\n",
    "    \n",
    "    if (is.vector(X))\n",
    "        X <- t(X)\n",
    "  \n",
    "    # Calcular número de filas y columnas\n",
    "    m <- dim(X)[1]\n",
    "    n <- dim(X)[2]\n",
    "\n",
    "    example_height <- (n / example_width) #altura en pixeles de c/imagen\n",
    "\n",
    "    # Cantidad de observaciones a mostrar\n",
    "    display_rows <- floor(sqrt(m)) #10\n",
    "    display_cols <- ceiling(m / display_rows) #10\n",
    "           \n",
    "    # Espaciado entre dígitos\n",
    "    pad <- 1\n",
    "\n",
    "    display_array <- -matrix(0,pad + display_rows * (example_height + pad), pad + display_cols * (example_width + pad))\n",
    "    curr_ex <- 1\n",
    "\n",
    "    for (j in 1:display_rows) {\n",
    "        for (i in 1:display_cols) {\n",
    "          if (curr_ex > m)\n",
    "            break\n",
    "      \n",
    "          max_val <- max(abs(X[curr_ex,]))\n",
    "          display_array[pad + (j - 1) * (example_height + pad) + (1:example_height), pad + (i - 1) * (example_width + pad) + \n",
    "                        (1:example_width)] <- matrix(unlist(X[curr_ex,]), example_height, example_width) / max_val\n",
    "          curr_ex <- curr_ex + 1\n",
    "        }\n",
    "    \n",
    "        if (curr_ex > m)\n",
    "          break\n",
    "    }\n",
    "\n",
    "    # Mostrar imagen\n",
    "    op <- par(bg = \"gray\")\n",
    "\n",
    "    #La imagen se dibuja por fila de abajo a arriba, pero R indexa las matrices por columnas, de arriba a abajo\n",
    "    dispArr <- t(apply(display_array,2,rev))\n",
    "\n",
    "    image(z = dispArr, col = gray.colors(100), xaxt = 'n', yaxt = 'n')\n",
    "\n",
    "    grid(nx = display_cols, display_rows, col = 'black', lwd = 2, lty = 1)\n",
    "    box()\n",
    "    par(op)\n",
    "    \n",
    "}"
   ]
  },
  {
   "cell_type": "code",
   "execution_count": 30,
   "metadata": {
    "collapsed": false
   },
   "outputs": [
    {
     "data": {
      "image/png": "[encoded data removed]",
      "text/plain": [
       "plot without title"
      ]
     },
     "metadata": {},
     "output_type": "display_data"
    }
   ],
   "source": [
    "#Visualizamos una muestra del dataset\n",
    "visualizarDigitos(sel)"
   ]
  },
  {
   "cell_type": "code",
   "execution_count": 59,
   "metadata": {
    "collapsed": true
   },
   "outputs": [],
   "source": [
    "lambda <- 0.1"
   ]
  },
  {
   "cell_type": "code",
   "execution_count": 60,
   "metadata": {
    "collapsed": true
   },
   "outputs": [],
   "source": [
    "#Creamos la función sigmoidal\n",
    "sigmoid <- function(z) {\n",
    "  \n",
    "  g <- 1 / (1 + exp(1) ^ (-z))\n",
    "}"
   ]
  },
  {
   "cell_type": "code",
   "execution_count": 61,
   "metadata": {
    "collapsed": true
   },
   "outputs": [],
   "source": [
    "#Construimos la función de costo \n",
    "computeCost <- function(theta) {\n",
    "    \n",
    "    hyp <-  sigmoid(X %*% theta)\n",
    "    \n",
    "    J_noreg <- (-1 / m) * (t(y) %*% log(hyp) + (t((1 - y)) %*% log(1 - hyp)))\n",
    "        \n",
    "    theta[1] <- 0\n",
    "    \n",
    "    J_reg <- J_noreg + (lambda / (2 * m)) * sum(theta ^ 2)\n",
    "    \n",
    "    J_reg\n",
    "    \n",
    "}"
   ]
  },
  {
   "cell_type": "code",
   "execution_count": 45,
   "metadata": {
    "collapsed": false
   },
   "outputs": [],
   "source": [
    "oneVsAll <- function(X, y, num_labels, lambda) {\n",
    "    \n",
    "    m <- nrow(X)\n",
    "    n <- ncol(X)\n",
    "    \n",
    "    all_theta <- matrix(0, num_labels, n + 1)\n",
    "    \n",
    "    #Agrego el término de intercepto en X\n",
    "    X <- cbind(1,X)\n",
    "    \n",
    "    for(c in 1:num_labels) {\n",
    "        \n",
    "        initial_theta <- matrix(0, n + 1, 1)\n",
    "        temp_y <- (y == c)\n",
    "        \n",
    "        theta_optim <- optim(par = initial_theta, fn = computeCost)\n",
    "        \n",
    "        all_theta[c, ] <- t(theta_optim)\n",
    "    }\n",
    "    \n",
    "}"
   ]
  },
  {
   "cell_type": "code",
   "execution_count": 48,
   "metadata": {
    "collapsed": false
   },
   "outputs": [],
   "source": [
    "#all_theta <- oneVsAll(X, y, num_labels, lambda)"
   ]
  },
  {
   "cell_type": "code",
   "execution_count": 62,
   "metadata": {
    "collapsed": false
   },
   "outputs": [
    {
     "data": {
      "text/html": [
       "<ol class=list-inline>\n",
       "\t<li>10</li>\n",
       "\t<li>401</li>\n",
       "</ol>\n"
      ],
      "text/latex": [
       "\\begin{enumerate*}\n",
       "\\item 10\n",
       "\\item 401\n",
       "\\end{enumerate*}\n"
      ],
      "text/markdown": [
       "1. 10\n",
       "2. 401\n",
       "\n",
       "\n"
      ],
      "text/plain": [
       "[1]  10 401"
      ]
     },
     "metadata": {},
     "output_type": "display_data"
    }
   ],
   "source": [
    "m <- nrow(X)\n",
    "n<- ncol(X)\n",
    "all_theta <- matrix(0, num_labels, n + 1)\n",
    "dim(all_theta)\n",
    "X <- cbind(1,X)\n",
    "\n"
   ]
  },
  {
   "cell_type": "code",
   "execution_count": 65,
   "metadata": {
    "collapsed": false
   },
   "outputs": [
    {
     "data": {
      "text/html": [
       "<ol class=list-inline>\n",
       "\t<li>401</li>\n",
       "\t<li>1</li>\n",
       "</ol>\n"
      ],
      "text/latex": [
       "\\begin{enumerate*}\n",
       "\\item 401\n",
       "\\item 1\n",
       "\\end{enumerate*}\n"
      ],
      "text/markdown": [
       "1. 401\n",
       "2. 1\n",
       "\n",
       "\n"
      ],
      "text/plain": [
       "[1] 401   1"
      ]
     },
     "metadata": {},
     "output_type": "display_data"
    }
   ],
   "source": [
    "c <- 3\n",
    "initial_theta <- matrix(0, n + 1, 1)\n",
    "dim(initial_theta)"
   ]
  },
  {
   "cell_type": "code",
   "execution_count": 67,
   "metadata": {
    "collapsed": false
   },
   "outputs": [
    {
     "ename": "ERROR",
     "evalue": "Error in X %*% theta: requires numeric/complex matrix/vector arguments\n",
     "output_type": "error",
     "traceback": [
      "Error in X %*% theta: requires numeric/complex matrix/vector arguments\nTraceback:\n",
      "1. optim(par = initial_theta, fn = computeCost)",
      "2. (function (par) \n . fn(par, ...))(c(0, 0, 0, 0, 0, 0, 0, 0, 0, 0, 0, 0, 0, 0, 0, \n . 0, 0, 0, 0, 0, 0, 0, 0, 0, 0, 0, 0, 0, 0, 0, 0, 0, 0, 0, 0, 0, \n . 0, 0, 0, 0, 0, 0, 0, 0, 0, 0, 0, 0, 0, 0, 0, 0, 0, 0, 0, 0, 0, \n . 0, 0, 0, 0, 0, 0, 0, 0, 0, 0, 0, 0, 0, 0, 0, 0, 0, 0, 0, 0, 0, \n . 0, 0, 0, 0, 0, 0, 0, 0, 0, 0, 0, 0, 0, 0, 0, 0, 0, 0, 0, 0, 0, \n . 0, 0, 0, 0, 0, 0, 0, 0, 0, 0, 0, 0, 0, 0, 0, 0, 0, 0, 0, 0, 0, \n . 0, 0, 0, 0, 0, 0, 0, 0, 0, 0, 0, 0, 0, 0, 0, 0, 0, 0, 0, 0, 0, \n . 0, 0, 0, 0, 0, 0, 0, 0, 0, 0, 0, 0, 0, 0, 0, 0, 0, 0, 0, 0, 0, \n . 0, 0, 0, 0, 0, 0, 0, 0, 0, 0, 0, 0, 0, 0, 0, 0, 0, 0, 0, 0, 0, \n . 0, 0, 0, 0, 0, 0, 0, 0, 0, 0, 0, 0, 0, 0, 0, 0, 0, 0, 0, 0, 0, \n . 0, 0, 0, 0, 0, 0, 0, 0, 0, 0, 0, 0, 0, 0, 0, 0, 0, 0, 0, 0, 0, \n . 0, 0, 0, 0, 0, 0, 0, 0, 0, 0, 0, 0, 0, 0, 0, 0, 0, 0, 0, 0, 0, \n . 0, 0, 0, 0, 0, 0, 0, 0, 0, 0, 0, 0, 0, 0, 0, 0, 0, 0, 0, 0, 0, \n . 0, 0, 0, 0, 0, 0, 0, 0, 0, 0, 0, 0, 0, 0, 0, 0, 0, 0, 0, 0, 0, \n . 0, 0, 0, 0, 0, 0, 0, 0, 0, 0, 0, 0, 0, 0, 0, 0, 0, 0, 0, 0, 0, \n . 0, 0, 0, 0, 0, 0, 0, 0, 0, 0, 0, 0, 0, 0, 0, 0, 0, 0, 0, 0, 0, \n . 0, 0, 0, 0, 0, 0, 0, 0, 0, 0, 0, 0, 0, 0, 0, 0, 0, 0, 0, 0, 0, \n . 0, 0, 0, 0, 0, 0, 0, 0, 0, 0, 0, 0, 0, 0, 0, 0, 0, 0, 0, 0, 0, \n . 0, 0, 0, 0, 0, 0, 0, 0, 0, 0, 0, 0, 0, 0, 0, 0, 0, 0, 0, 0, 0, \n . 0, 0, 0, 0, 0, 0, 0, 0))",
      "3. fn(par, ...)",
      "4. sigmoid(X %*% theta)   # at line 4 of file <text>"
     ]
    }
   ],
   "source": [
    "temp_y <- (y == c)\n",
    "   \n",
    "theta_optim <- optim(par = initial_theta, fn = computeCost)\n",
    "theta_optim"
   ]
  },
  {
   "cell_type": "code",
   "execution_count": null,
   "metadata": {
    "collapsed": true
   },
   "outputs": [],
   "source": [
    "\n",
    "        \n",
    "all_theta[c, ] <- t(theta_optim)"
   ]
  }
 ],
 "metadata": {
  "anaconda-cloud": {},
  "kernelspec": {
   "display_name": "R",
   "language": "R",
   "name": "ir"
  },
  "language_info": {
   "codemirror_mode": "r",
   "file_extension": ".r",
   "mimetype": "text/x-r-source",
   "name": "R",
   "pygments_lexer": "r",
   "version": "3.3.2"
  }
 },
 "nbformat": 4,
 "nbformat_minor": 0
}
