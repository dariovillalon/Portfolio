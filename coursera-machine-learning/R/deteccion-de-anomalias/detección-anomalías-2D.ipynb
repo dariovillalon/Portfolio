{
 "cells": [
  {
   "cell_type": "markdown",
   "metadata": {},
   "source": [
    "# Detección de anomalías en dataset 2D"
   ]
  },
  {
   "cell_type": "markdown",
   "metadata": {
    "collapsed": true
   },
   "source": [
    "En este ejemplo implementaremos el algoritmo de detección de anomalías y lo aplicaremos para detectar fallas en servidores de una red. Este dataset solo comprende 2 dimensiones, es decir, dos atributos.\n",
    "\n",
    "Los atributos del dataset son el rendimiento(mb/s) y la latencia(ms) de respuesta de cada servidor.\n",
    "\n",
    "Utilizaremos un modelo de distribución Gaussiano para detectar observaciones anómalas en el dataset."
   ]
  },
  {
   "cell_type": "markdown",
   "metadata": {},
   "source": [
    "#### Configuración de tamaño de gráficos"
   ]
  },
  {
   "cell_type": "code",
   "execution_count": 2,
   "metadata": {
    "collapsed": true
   },
   "outputs": [],
   "source": [
    "options(repr.plot.width=5, repr.plot.height=4, scipen = 999)"
   ]
  },
  {
   "cell_type": "markdown",
   "metadata": {},
   "source": [
    "#### Instalación y carga de paquetes necesarios"
   ]
  },
  {
   "cell_type": "code",
   "execution_count": 3,
   "metadata": {
    "collapsed": false
   },
   "outputs": [
    {
     "name": "stderr",
     "output_type": "stream",
     "text": [
      "R.matlab v3.6.1 (2016-10-19) successfully loaded. See ?R.matlab for help.\n",
      "\n",
      "Attaching package: 'R.matlab'\n",
      "\n",
      "The following objects are masked from 'package:base':\n",
      "\n",
      "    getOption, isOpen\n",
      "\n"
     ]
    }
   ],
   "source": [
    "list.of.packages <- c('ggplot2', 'R.matlab', 'ggthemes', 'AtmRay')\n",
    "\n",
    "new.packages <- list.of.packages[!(list.of.packages %in% installed.packages()[,\"Package\"])]\n",
    "if(length(new.packages)) install.packages(new.packages, repos = \"https://cran.r-project.org\")\n",
    "\n",
    "library(ggplot2)\n",
    "library(R.matlab)\n",
    "library(ggthemes)\n",
    "library(AtmRay)"
   ]
  },
  {
   "cell_type": "markdown",
   "metadata": {},
   "source": [
    "### Carga de datos y exploración"
   ]
  },
  {
   "cell_type": "code",
   "execution_count": 4,
   "metadata": {
    "collapsed": false
   },
   "outputs": [
    {
     "name": "stdout",
     "output_type": "stream",
     "text": [
      "'data.frame':\t307 obs. of  5 variables:\n",
      " $ X.1   : num  13 13.4 14.2 14.9 13.6 ...\n",
      " $ X.2   : num  14.7 13.8 15.9 16.2 14 ...\n",
      " $ Xval.1: num  15.8 13.6 14.9 13.6 13.5 ...\n",
      " $ Xval.2: num  14.9 15.3 16.5 14 15.6 ...\n",
      " $ yval  : num  0 0 0 0 0 0 0 0 0 1 ...\n"
     ]
    },
    {
     "data": {
      "text/html": [
       "<table>\n",
       "<thead><tr><th scope=col>X.1</th><th scope=col>X.2</th><th scope=col>Xval.1</th><th scope=col>Xval.2</th><th scope=col>yval</th></tr></thead>\n",
       "<tbody>\n",
       "\t<tr><td>13.04682</td><td>14.74115</td><td>15.79026</td><td>14.92102</td><td>0       </td></tr>\n",
       "\t<tr><td>13.40852</td><td>13.76327</td><td>13.63962</td><td>15.32996</td><td>0       </td></tr>\n",
       "\t<tr><td>14.19591</td><td>15.85318</td><td>14.86590</td><td>16.47387</td><td>0       </td></tr>\n",
       "\t<tr><td>14.91470</td><td>16.17426</td><td>13.58468</td><td>13.98931</td><td>0       </td></tr>\n",
       "\t<tr><td>13.57670</td><td>14.04285</td><td>13.46404</td><td>15.63533</td><td>0       </td></tr>\n",
       "\t<tr><td>13.92240</td><td>13.40647</td><td>12.94889</td><td>16.14007</td><td>0       </td></tr>\n",
       "</tbody>\n",
       "</table>\n"
      ],
      "text/latex": [
       "\\begin{tabular}{r|lllll}\n",
       " X.1 & X.2 & Xval.1 & Xval.2 & yval\\\\\n",
       "\\hline\n",
       "\t 13.04682 & 14.74115 & 15.79026 & 14.92102 & 0       \\\\\n",
       "\t 13.40852 & 13.76327 & 13.63962 & 15.32996 & 0       \\\\\n",
       "\t 14.19591 & 15.85318 & 14.86590 & 16.47387 & 0       \\\\\n",
       "\t 14.91470 & 16.17426 & 13.58468 & 13.98931 & 0       \\\\\n",
       "\t 13.57670 & 14.04285 & 13.46404 & 15.63533 & 0       \\\\\n",
       "\t 13.92240 & 13.40647 & 12.94889 & 16.14007 & 0       \\\\\n",
       "\\end{tabular}\n"
      ],
      "text/markdown": [
       "\n",
       "X.1 | X.2 | Xval.1 | Xval.2 | yval | \n",
       "|---|---|---|---|---|---|\n",
       "| 13.04682 | 14.74115 | 15.79026 | 14.92102 | 0        | \n",
       "| 13.40852 | 13.76327 | 13.63962 | 15.32996 | 0        | \n",
       "| 14.19591 | 15.85318 | 14.86590 | 16.47387 | 0        | \n",
       "| 14.91470 | 16.17426 | 13.58468 | 13.98931 | 0        | \n",
       "| 13.57670 | 14.04285 | 13.46404 | 15.63533 | 0        | \n",
       "| 13.92240 | 13.40647 | 12.94889 | 16.14007 | 0        | \n",
       "\n",
       "\n"
      ],
      "text/plain": [
       "  X.1      X.2      Xval.1   Xval.2   yval\n",
       "1 13.04682 14.74115 15.79026 14.92102 0   \n",
       "2 13.40852 13.76327 13.63962 15.32996 0   \n",
       "3 14.19591 15.85318 14.86590 16.47387 0   \n",
       "4 14.91470 16.17426 13.58468 13.98931 0   \n",
       "5 13.57670 14.04285 13.46404 15.63533 0   \n",
       "6 13.92240 13.40647 12.94889 16.14007 0   "
      ]
     },
     "metadata": {},
     "output_type": "display_data"
    },
    {
     "name": "stdout",
     "output_type": "stream",
     "text": [
      "'data.frame':\t307 obs. of  2 variables:\n",
      " $ Xval.1: num  15.8 13.6 14.9 13.6 13.5 ...\n",
      " $ Xval.2: num  14.9 15.3 16.5 14 15.6 ...\n",
      " num [1:307] 0 0 0 0 0 0 0 0 0 1 ...\n",
      "'data.frame':\t307 obs. of  2 variables:\n",
      " $ X.1: num  13 13.4 14.2 14.9 13.6 ...\n",
      " $ X.2: num  14.7 13.8 15.9 16.2 14 ...\n"
     ]
    }
   ],
   "source": [
    "X <- as.data.frame(readMat('ex8data1.mat'))\n",
    "\n",
    "str(X)\n",
    "head(X)\n",
    "\n",
    "Xval <- data.frame(Xval.1 = X$Xval.1, Xval.2 = X$Xval.2)\n",
    "yval <- X$yval\n",
    "X <- X[,1:2]\n",
    "\n",
    "str(Xval)\n",
    "str(yval)\n",
    "str(X)"
   ]
  },
  {
   "cell_type": "markdown",
   "metadata": {},
   "source": [
    "### Visualización de datos"
   ]
  },
  {
   "cell_type": "code",
   "execution_count": 5,
   "metadata": {
    "collapsed": false
   },
   "outputs": [
    {
     "data": {},
     "metadata": {},
     "output_type": "display_data"
    },
    {
     "data": {
      "image/png": "[encoded data removed]",
      "text/plain": [
       "plot without title"
      ]
     },
     "metadata": {},
     "output_type": "display_data"
    }
   ],
   "source": [
    "ggplot(data = X, aes(x = X.1, y = X.2)) + geom_point() + xlab('Rendimiento (mb/s)') + ylab('Latencia (ms)') + theme_tufte()"
   ]
  },
  {
   "cell_type": "markdown",
   "metadata": {},
   "source": [
    "Podemos ver que ciertos puntos se encuentran relativamente lejos de la concentración de puntos central. Debemos hallar un modelo que identifique estos puntos lejanos como outliers o datos anómalos. \n",
    "\n",
    "Ahora tenemos que estimar un modelo Gaussiano para cada uno de los atributos, es decir, debemos encontrar los parámetros **mu** y **sigma cuadrado** para cada modelo. (mu = promedio, sigma2 = varianza)"
   ]
  },
  {
   "cell_type": "code",
   "execution_count": 6,
   "metadata": {
    "collapsed": false
   },
   "outputs": [
    {
     "data": {
      "text/html": [
       "<dl class=dl-horizontal>\n",
       "\t<dt>X.1</dt>\n",
       "\t\t<dd>14.1122257839456</dd>\n",
       "\t<dt>X.2</dt>\n",
       "\t\t<dd>14.9977105081362</dd>\n",
       "</dl>\n"
      ],
      "text/latex": [
       "\\begin{description*}\n",
       "\\item[X.1] 14.1122257839456\n",
       "\\item[X.2] 14.9977105081362\n",
       "\\end{description*}\n"
      ],
      "text/markdown": [
       "X.1\n",
       ":   14.1122257839456X.2\n",
       ":   14.9977105081362\n",
       "\n"
      ],
      "text/plain": [
       "     X.1      X.2 \n",
       "14.11223 14.99771 "
      ]
     },
     "metadata": {},
     "output_type": "display_data"
    },
    {
     "data": {
      "text/html": [
       "<dl class=dl-horizontal>\n",
       "\t<dt>X.1</dt>\n",
       "\t\t<dd>1.83862040504188</dd>\n",
       "\t<dt>X.2</dt>\n",
       "\t\t<dd>1.7153327338707</dd>\n",
       "</dl>\n"
      ],
      "text/latex": [
       "\\begin{description*}\n",
       "\\item[X.1] 1.83862040504188\n",
       "\\item[X.2] 1.7153327338707\n",
       "\\end{description*}\n"
      ],
      "text/markdown": [
       "X.1\n",
       ":   1.83862040504188X.2\n",
       ":   1.7153327338707\n",
       "\n"
      ],
      "text/plain": [
       "     X.1      X.2 \n",
       "1.838620 1.715333 "
      ]
     },
     "metadata": {},
     "output_type": "display_data"
    }
   ],
   "source": [
    "estimateGaussian <- function(X) {\n",
    "    \n",
    "    m <- nrow(X)\n",
    "    n <- ncol(X)\n",
    "    mu <- rep(0, n)\n",
    "    sigma2 <- rep(0, n)\n",
    "    mu <- colMeans(X)\n",
    "    sigma2 <- apply(X, 2, var)\n",
    "    \n",
    "    return(list(mu = mu, sigma2 = sigma2))\n",
    "}\n",
    "\n",
    "results <- estimateGaussian(X)\n",
    "mu <- results$mu\n",
    "sigma2 <- results$sigma2\n",
    "\n",
    "mu\n",
    "sigma2"
   ]
  },
  {
   "cell_type": "markdown",
   "metadata": {},
   "source": [
    "#### Calculamos la densidad de la dist. normal multivariada de cada observación en X"
   ]
  },
  {
   "cell_type": "code",
   "execution_count": 7,
   "metadata": {
    "collapsed": false
   },
   "outputs": [],
   "source": [
    "multivariateGaussian <- function(X, mu, Sigma2) {\n",
    "    \n",
    "    k <- length(mu)\n",
    "    \n",
    "    if(is.vector(Sigma2)) {\n",
    "        Sigma2 <- diag(Sigma2)\n",
    "    }\n",
    "    \n",
    "    X <- as.matrix(X)\n",
    "    \n",
    "    X <- sweep(X, MARGIN=2, mu, FUN=\"-\")\n",
    "    p <- (2 * pi) ^ (- k / 2) * det(Sigma2) ^ (-0.5) * (exp(-0.5 * rowSums((X %*% solve(Sigma2)) * X)))\n",
    "    \n",
    "    return(p)\n",
    "}\n",
    "\n",
    "p <- multivariateGaussian(X, mu, sigma2)"
   ]
  },
  {
   "cell_type": "markdown",
   "metadata": {},
   "source": [
    "#### Visualizamos las gráficas de contorno para la distribución Gaussiana ajustada."
   ]
  },
  {
   "cell_type": "code",
   "execution_count": 8,
   "metadata": {
    "collapsed": false
   },
   "outputs": [
    {
     "data": {
      "image/png": "[encoded data removed]",
      "text/plain": [
       "Plot with title \"Desempeño de servidores y regiones anómalas\""
      ]
     },
     "metadata": {},
     "output_type": "display_data"
    }
   ],
   "source": [
    "plotOutliers <- function() {\n",
    "    \n",
    "    xy_seq <- seq(0, 35, 0.5)\n",
    "    mg <- meshgrid(xy_seq, xy_seq)\n",
    "    X1 <- c(mg$x)\n",
    "    X2 <- c(mg$y)\n",
    "\n",
    "    Z <- multivariateGaussian(cbind(X1, X2), mu, sigma2)\n",
    "    Z <- matrix(Z, length(xy_seq), length(xy_seq))\n",
    "\n",
    "    plot(X[,1], X[,2], col = 'blue', xlab = 'Rendimiento (mb/s)', ylab = 'Latencia (ms)', pch = 20, \n",
    "         main = 'Desempeño de servidores y regiones anómalas')\n",
    "    if (sum(is.infinite(Z)) == 0) {\n",
    "        contour(xy_seq, xy_seq, Z, levels = 10 ^ t(seq(-20,0,3)) ,add = TRUE, drawlabels = FALSE, col = \"green\")\n",
    "    }\n",
    "}\n",
    "\n",
    "plotOutliers()"
   ]
  },
  {
   "cell_type": "markdown",
   "metadata": {},
   "source": [
    "#### Selección del umbral Epsilon\n",
    "\n",
    "Ahora que estimamos los parámetros Gaussianos buscaremos las observaciones que tienen una probabilidad alta dada esta distribucion y cuales tienen una probabilidad más baja (las anomalías). Para ello utilizaremos la métrica F1-score sobre un conjunto de validación."
   ]
  },
  {
   "cell_type": "code",
   "execution_count": 9,
   "metadata": {
    "collapsed": false
   },
   "outputs": [
    {
     "name": "stdout",
     "output_type": "stream",
     "text": [
      "Mejor Epsilon encontrado usando el set de validación:  0.00008961568\n",
      "Mejor F1 en el set de validación:  0.875"
     ]
    }
   ],
   "source": [
    "pval <- multivariateGaussian(Xval, mu, sigma2)\n",
    "\n",
    "selectTreshold <- function(yval, pval) {\n",
    "    \n",
    "    bestEpsilon <- 0\n",
    "    bestF1 <- 0\n",
    "    F1 <- 0\n",
    "    \n",
    "    stepsize <- (max(pval) - min(pval)) / 1000\n",
    "    \n",
    "    for(epsilon in seq(min(pval),max(pval),stepsize)) {\n",
    "        \n",
    "        predictions <- as.integer(pval < epsilon)\n",
    "        \n",
    "        TP <- sum((yval == 1) & (predictions == 1))\n",
    "        FN <- sum((yval == 1) & (predictions == 0))\n",
    "        FP <- sum((yval == 0) & (predictions == 1))\n",
    "        \n",
    "        precision <- TP / (TP + FP) \n",
    "        recall <- TP / (TP + FN)\n",
    "        \n",
    "        F1 <- 2 * precision * recall / (precision + recall)\n",
    "        \n",
    "        if (!is.na(F1) && F1 > bestF1) {\n",
    "            \n",
    "            bestF1 <- F1\n",
    "            bestEpsilon <- epsilon\n",
    "        }\n",
    "    }\n",
    "    \n",
    "    return(list(epsilon = bestEpsilon, F1 = bestF1))\n",
    "}\n",
    "\n",
    "results <- selectTreshold(yval, pval)\n",
    "epsilon <- results$epsilon\n",
    "F1 <- results$F1\n",
    "\n",
    "cat('Mejor Epsilon encontrado usando el set de validación: ', epsilon)\n",
    "cat('\\nMejor F1 en el set de validación: ', F1)"
   ]
  },
  {
   "cell_type": "markdown",
   "metadata": {},
   "source": [
    "#### Graficamos los puntos diferenciando aquellos que corresponden a outliers"
   ]
  },
  {
   "cell_type": "code",
   "execution_count": 15,
   "metadata": {
    "collapsed": false
   },
   "outputs": [
    {
     "data": {
      "image/png": "[encoded data removed]",
      "text/plain": [
       "Plot with title \"Desempeño de servidores y regiones anómalas\""
      ]
     },
     "metadata": {},
     "output_type": "display_data"
    }
   ],
   "source": [
    "#Detectamos los outliers y volvemos a graficar\n",
    "outliers <- which((p < epsilon) %in% TRUE)\n",
    "plotOutliers()\n",
    "points(X[outliers, 1], X[outliers, 2], pch = 3, col = 'red')"
   ]
  }
 ],
 "metadata": {
  "kernelspec": {
   "display_name": "R",
   "language": "R",
   "name": "ir"
  },
  "language_info": {
   "codemirror_mode": "r",
   "file_extension": ".r",
   "mimetype": "text/x-r-source",
   "name": "R",
   "pygments_lexer": "r",
   "version": "3.3.2"
  }
 },
 "nbformat": 4,
 "nbformat_minor": 0
}
