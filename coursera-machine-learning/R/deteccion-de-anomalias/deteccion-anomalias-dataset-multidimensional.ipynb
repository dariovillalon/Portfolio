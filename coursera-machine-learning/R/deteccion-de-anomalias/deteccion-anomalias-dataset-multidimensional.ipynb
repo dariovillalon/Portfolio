{
 "cells": [
  {
   "cell_type": "markdown",
   "metadata": {},
   "source": [
    "# Detección de anomalías en dataset multidimensional"
   ]
  },
  {
   "cell_type": "markdown",
   "metadata": {
    "collapsed": true
   },
   "source": [
    "En este ejemplo implementaremos el algoritmo de detección de outliers para un dataset de mayores dimensiones (3D o más). \n",
    "El escenario es una red en donde los servidores poseen 11 característcas por lo tanto es la cantidad de atributos por\n",
    "observación en el dataset."
   ]
  },
  {
   "cell_type": "markdown",
   "metadata": {},
   "source": [
    "#### Configuración de tamaño de gráficos"
   ]
  },
  {
   "cell_type": "code",
   "execution_count": 2,
   "metadata": {
    "collapsed": true
   },
   "outputs": [],
   "source": [
    "options(repr.plot.width=5, repr.plot.height=4, scipen = 999)"
   ]
  },
  {
   "cell_type": "markdown",
   "metadata": {},
   "source": [
    "#### Instalación y carga de paquetes necesarios"
   ]
  },
  {
   "cell_type": "code",
   "execution_count": 3,
   "metadata": {
    "collapsed": false
   },
   "outputs": [
    {
     "name": "stderr",
     "output_type": "stream",
     "text": [
      "R.matlab v3.6.1 (2016-10-19) successfully loaded. See ?R.matlab for help.\n",
      "\n",
      "Attaching package: 'R.matlab'\n",
      "\n",
      "The following objects are masked from 'package:base':\n",
      "\n",
      "    getOption, isOpen\n",
      "\n"
     ]
    }
   ],
   "source": [
    "list.of.packages <- c('R.matlab', 'gmodels')\n",
    "\n",
    "new.packages <- list.of.packages[!(list.of.packages %in% installed.packages()[,\"Package\"])]\n",
    "if(length(new.packages)) install.packages(new.packages, repos = \"https://cran.r-project.org\")\n",
    "\n",
    "library(R.matlab)\n",
    "library(gmodels)"
   ]
  },
  {
   "cell_type": "markdown",
   "metadata": {},
   "source": [
    "### Carga y exploración de estructuras de datos"
   ]
  },
  {
   "cell_type": "code",
   "execution_count": 4,
   "metadata": {
    "collapsed": false
   },
   "outputs": [
    {
     "name": "stdout",
     "output_type": "stream",
     "text": [
      "'data.frame':\t1000 obs. of  11 variables:\n",
      " $ X.1 : num  6.65 -5.63 9.72 -4.64 -12.84 ...\n",
      " $ X.2 : num  13.69 -18.94 -9.98 -10.72 -20.39 ...\n",
      " $ X.3 : num  17.55 18.64 15.57 20.36 9.49 ...\n",
      " $ X.4 : num  -11.93 -6.16 -32.22 -9 -7.04 ...\n",
      " $ X.5 : num  -5.76 -25.99 -5.6 -4.92 -9.92 ...\n",
      " $ X.6 : num  15.44 15.41 24.32 -4.26 -3.72 ...\n",
      " $ X.7 : num  -12.137 -16.596 0.833 -1.306 -9.385 ...\n",
      " $ X.8 : num  8.22 9.45 10.79 0.95 -2.33 ...\n",
      " $ X.9 : num  -4.884 -2.877 0.728 -8.634 -13.519 ...\n",
      " $ X.10: num  5.349 -6.009 10.393 0.198 11.007 ...\n",
      " $ X.11: num  17.35137 19.21064 7.08599 0.00677 14.00321 ...\n",
      "'data.frame':\t1000 obs. of  11 variables:\n",
      " $ Xval.1 : num  18.27 -3.19 -5.26 12.95 3.76 ...\n",
      " $ Xval.2 : num  -12.36 -19.71 -12.92 -10.35 -5.73 ...\n",
      " $ Xval.3 : num  5 6.53 25.44 19.86 11.4 ...\n",
      " $ Xval.4 : num  1.61 -21.57 -7.23 -24.42 -17.56 ...\n",
      " $ Xval.5 : num  1.09 3.05 3.65 3.27 -6.25 ...\n",
      " $ Xval.6 : num  29.3 23.5 12.4 30.4 16.2 ...\n",
      " $ Xval.7 : num  -8.31 -1.13 -6.51 -11.13 -9.72 ...\n",
      " $ Xval.8 : num  36.44 12.69 8.75 12.82 17 ...\n",
      " $ Xval.9 : num  -9.477 -10.968 -0.769 9.351 -5.169 ...\n",
      " $ Xval.10: num  -25.928 -1.199 -3.261 -6.114 0.188 ...\n",
      " $ Xval.11: num  7.11 1.91 13.73 17.63 11.4 ...\n",
      " num [1:1000] 1 0 0 1 0 0 0 0 0 0 ...\n"
     ]
    }
   ],
   "source": [
    "X <- as.data.frame(readMat('ex8data2.mat'))\n",
    "\n",
    "Xval <- X[, 12:22]\n",
    "yval <- X[, 'yval']\n",
    "X <- X[, 1:11]\n",
    "\n",
    "str(X)\n",
    "str(Xval)\n",
    "str(yval)"
   ]
  },
  {
   "cell_type": "markdown",
   "metadata": {},
   "source": [
    "Ahora tenemos que estimar un modelo Gaussiano para cada uno de los atributos. Tendremos que encontrar los parámetros **mu** y **sigma cuadrado** para cada modelo."
   ]
  },
  {
   "cell_type": "code",
   "execution_count": 5,
   "metadata": {
    "collapsed": false
   },
   "outputs": [
    {
     "name": "stdout",
     "output_type": "stream",
     "text": [
      "mu =  4.9394 -9.637268 13.81471 -10.46449 -7.956229 10.1995 -6.019408 7.969829 -6.253182 2.324513 8.473723\n",
      "sigma2 =  61.03593 53.25898 58.57404 84.28833 65.33393 89.66454 55.68919 87.24959 29.65893 70.85606 50.55412"
     ]
    }
   ],
   "source": [
    "estimateGaussian <- function(X) {\n",
    "    \n",
    "    m <- nrow(X)\n",
    "    n <- ncol(X)\n",
    "    mu <- rep(0, n)\n",
    "    sigma2 <- rep(0, n)\n",
    "    mu <- colMeans(X)\n",
    "    sigma2 <- apply(X, 2, var)\n",
    "    \n",
    "    return(list(mu = mu, sigma2 = sigma2))\n",
    "}\n",
    "\n",
    "results <- estimateGaussian(X)\n",
    "mu <- results$mu\n",
    "sigma2 <- results$sigma2\n",
    "\n",
    "cat('mu = ', mu)\n",
    "cat('\\nsigma2 = ', sigma2)"
   ]
  },
  {
   "cell_type": "markdown",
   "metadata": {},
   "source": [
    "#### Calculamos la densidad de la dist. normal multivariada de cada observación en X para set de entrenamiento"
   ]
  },
  {
   "cell_type": "code",
   "execution_count": 6,
   "metadata": {
    "collapsed": true
   },
   "outputs": [],
   "source": [
    "multivariateGaussian <- function(X, mu, Sigma2) {\n",
    "    \n",
    "    k <- length(mu)\n",
    "    \n",
    "    if(is.vector(Sigma2)) {\n",
    "        Sigma2 <- diag(Sigma2)\n",
    "    }\n",
    "    \n",
    "    X <- as.matrix(X)\n",
    "    \n",
    "    X <- sweep(X, MARGIN=2, mu, FUN=\"-\")\n",
    "    p <- (2 * pi) ^ (- k / 2) * det(Sigma2) ^ (-0.5) * (exp(-0.5 * rowSums((X %*% solve(Sigma2)) * X)))\n",
    "    \n",
    "    return(p)\n",
    "}\n",
    "\n",
    "p <- multivariateGaussian(X, mu, sigma2)"
   ]
  },
  {
   "cell_type": "markdown",
   "metadata": {},
   "source": [
    "#### Selección del umbral Epsilon\n",
    "\n",
    "Ahora que estimamos los parámetros Gaussianos buscaremos las observaciones que tienen una probabilidad alta dada esta distribucion y cuales tienen una probabilidad más baja (las anomalías). Evaluaremos con F1-score sobre un conjunto de validación cual es el mejor valor para **epsilon**."
   ]
  },
  {
   "cell_type": "code",
   "execution_count": 7,
   "metadata": {
    "collapsed": false
   },
   "outputs": [
    {
     "name": "stdout",
     "output_type": "stream",
     "text": [
      "Mejor Epsilon encontrado usando el set de validación:  0.000000000000000001371661\n",
      "Mejor F1 en el set de validación:  0.6153846\n",
      "Cantidad de outliers encontrados:  160"
     ]
    }
   ],
   "source": [
    "pval <- multivariateGaussian(Xval, mu, sigma2)\n",
    "\n",
    "selectTreshold <- function(yval, pval) {\n",
    "    \n",
    "    bestEpsilon <- 0\n",
    "    bestF1 <- 0\n",
    "    F1 <- 0\n",
    "    \n",
    "    stepsize <- (max(pval) - min(pval)) / 1000\n",
    "    \n",
    "    for(epsilon in seq(min(pval),max(pval),stepsize)) {\n",
    "        \n",
    "        predictions <- as.integer(pval < epsilon)\n",
    "        \n",
    "        TP <- sum((yval == 1) & (predictions == 1))\n",
    "        FN <- sum((yval == 1) & (predictions == 0))\n",
    "        FP <- sum((yval == 0) & (predictions == 1))\n",
    "        \n",
    "        precision <- TP / (TP + FP) \n",
    "        recall <- TP / (TP + FN)\n",
    "        \n",
    "        F1 <- 2 * precision * recall / (precision + recall)\n",
    "        \n",
    "        if (!is.na(F1) && !is.na(bestF1) && F1 > bestF1) {\n",
    "            \n",
    "            bestF1 <- F1\n",
    "            bestEpsilon <- epsilon\n",
    "        }\n",
    "    }\n",
    "    \n",
    "    return(list(epsilon = bestEpsilon, F1 = bestF1))\n",
    "}\n",
    "\n",
    "results <- selectTreshold(yval, pval)\n",
    "epsilon <- results$epsilon\n",
    "F1 <- results$F1\n",
    "\n",
    "cat('Mejor Epsilon encontrado usando el set de validación: ', epsilon)\n",
    "cat('\\nMejor F1 en el set de validación: ', F1)\n",
    "cat('\\nCantidad de outliers encontrados: ', sum(pval < epsilon))"
   ]
  },
  {
   "cell_type": "markdown",
   "metadata": {},
   "source": [
    "Se tiene un valor de F1-score bajo porque la recuperación es alta pero la precisión es **baja**."
   ]
  },
  {
   "cell_type": "code",
   "execution_count": 8,
   "metadata": {
    "collapsed": false
   },
   "outputs": [
    {
     "name": "stdout",
     "output_type": "stream",
     "text": [
      "Precisión:  0.5\n",
      "Recuperación:  0.8"
     ]
    }
   ],
   "source": [
    "predictions <- as.integer(pval < epsilon)\n",
    "        \n",
    "TP <- sum((yval == 1) & (predictions == 1))\n",
    "FN <- sum((yval == 1) & (predictions == 0))\n",
    "FP <- sum((yval == 0) & (predictions == 1))\n",
    "        \n",
    "precision <- TP / (TP + FP) \n",
    "recall <- TP / (TP + FN)\n",
    "cat('Precisión: ', round(precision, 2))\n",
    "cat('\\nRecuperación: ', round(recall, 2))"
   ]
  },
  {
   "cell_type": "markdown",
   "metadata": {},
   "source": [
    "#### Matriz de confusión"
   ]
  },
  {
   "cell_type": "code",
   "execution_count": 9,
   "metadata": {
    "collapsed": false
   },
   "outputs": [
    {
     "name": "stdout",
     "output_type": "stream",
     "text": [
      "\n",
      " \n",
      "   Cell Contents\n",
      "|-------------------------|\n",
      "|                       N |\n",
      "|-------------------------|\n",
      "\n",
      " \n",
      "Total Observations in Table:  1000 \n",
      "\n",
      " \n",
      "             | predictions \n",
      "        yval |         0 |         1 | Row Total | \n",
      "-------------|-----------|-----------|-----------|\n",
      "           0 |       820 |        80 |       900 | \n",
      "-------------|-----------|-----------|-----------|\n",
      "           1 |        20 |        80 |       100 | \n",
      "-------------|-----------|-----------|-----------|\n",
      "Column Total |       840 |       160 |      1000 | \n",
      "-------------|-----------|-----------|-----------|\n",
      "\n",
      " \n"
     ]
    }
   ],
   "source": [
    "CrossTable(yval, predictions, prop.t = FALSE, prop.r = FALSE, prop.c = FALSE, prop.chisq = FALSE)"
   ]
  },
  {
   "cell_type": "markdown",
   "metadata": {},
   "source": [
    "Podemos ver que nuestro algoritmo detectó el 80% de los casos de outliers pero clasificó 80 casos de observaciones normales como outliers."
   ]
  }
 ],
 "metadata": {
  "kernelspec": {
   "display_name": "R",
   "language": "R",
   "name": "ir"
  },
  "language_info": {
   "codemirror_mode": "r",
   "file_extension": ".r",
   "mimetype": "text/x-r-source",
   "name": "R",
   "pygments_lexer": "r",
   "version": "3.3.2"
  }
 },
 "nbformat": 4,
 "nbformat_minor": 0
}
