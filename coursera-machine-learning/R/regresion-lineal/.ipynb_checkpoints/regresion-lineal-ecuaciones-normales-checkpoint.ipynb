{
 "cells": [
  {
   "cell_type": "markdown",
   "metadata": {
    "collapsed": true
   },
   "source": [
    "# Regresión lineal: método de ecuaciones normales\n",
    "\n",
    "A diferencia del gradiente descendente este es un método analítico directo y no tenemos que realizar iteraciones."
   ]
  },
  {
   "cell_type": "markdown",
   "metadata": {
    "collapsed": false
   },
   "source": [
    "Supongamos que eres el CEO de una franquicia de restaurantes y estás considerando varias ciudades para abrir una nueva sucursal. La cadena de restaurantes ya tiene sucursales en varias ciudades y se tiene datos de ganancias y cantidad de habitantes de cada ciudad.\n",
    "Estas pensando en usar estos datos para ayudarte a seleccionar en que ciudad expandirte proximamente.\n",
    "\n",
    "La primer columna de los datos corresponde a la cantidad de habitantes de la ciudad y la segunda columna corresponde a las ganancias de una sucursal en esa ciudad Un valor negativo de ganancias indica una pérdida."
   ]
  },
  {
   "cell_type": "code",
   "execution_count": 2,
   "metadata": {
    "collapsed": true
   },
   "outputs": [],
   "source": [
    "#Tamaño de gráficos\n",
    "options(repr.plot.width=6, repr.plot.height=4)\n",
    "\n",
    "#Instalación y carga de paquetes necesarios\n",
    "list.of.packages <- c('ggplot2', 'gridExtra')\n",
    "\n",
    "new.packages <- list.of.packages[!(list.of.packages %in% installed.packages()[,\"Package\"])]\n",
    "if(length(new.packages)) install.packages(new.packages, repos = \"https://cran.r-project.org\")\n",
    "\n",
    "library(ggplot2)\n",
    "library(gridExtra)    "
   ]
  },
  {
   "cell_type": "code",
   "execution_count": 5,
   "metadata": {
    "collapsed": true
   },
   "outputs": [],
   "source": [
    "#Carga de datos\n",
    "foodtruck <- read.table(file = 'foodtruck.txt', header = TRUE, \n",
    "                        col.names = c('population', 'profit'), sep = \",\", dec = \".\")"
   ]
  },
  {
   "cell_type": "markdown",
   "metadata": {},
   "source": [
    "### Exploramos tipos y estructuras de datos del dataset"
   ]
  },
  {
   "cell_type": "code",
   "execution_count": 4,
   "metadata": {
    "collapsed": false
   },
   "outputs": [
    {
     "name": "stdout",
     "output_type": "stream",
     "text": [
      "'data.frame':\t96 obs. of  2 variables:\n",
      " $ population: num  5.53 8.52 7 5.86 8.38 ...\n",
      " $ profit    : num  9.13 13.66 11.85 6.82 11.89 ...\n"
     ]
    },
    {
     "data": {
      "text/html": [
       "<table>\n",
       "<thead><tr><th scope=col>population</th><th scope=col>profit</th></tr></thead>\n",
       "<tbody>\n",
       "\t<tr><td>5.5277 </td><td> 9.1302</td></tr>\n",
       "\t<tr><td>8.5186 </td><td>13.6620</td></tr>\n",
       "\t<tr><td>7.0032 </td><td>11.8540</td></tr>\n",
       "\t<tr><td>5.8598 </td><td> 6.8233</td></tr>\n",
       "\t<tr><td>8.3829 </td><td>11.8860</td></tr>\n",
       "\t<tr><td>7.4764 </td><td> 4.3483</td></tr>\n",
       "</tbody>\n",
       "</table>\n"
      ],
      "text/latex": [
       "\\begin{tabular}{r|ll}\n",
       " population & profit\\\\\n",
       "\\hline\n",
       "\t 5.5277  &  9.1302\\\\\n",
       "\t 8.5186  & 13.6620\\\\\n",
       "\t 7.0032  & 11.8540\\\\\n",
       "\t 5.8598  &  6.8233\\\\\n",
       "\t 8.3829  & 11.8860\\\\\n",
       "\t 7.4764  &  4.3483\\\\\n",
       "\\end{tabular}\n"
      ],
      "text/markdown": [
       "\n",
       "population | profit | \n",
       "|---|---|---|---|---|---|\n",
       "| 5.5277  |  9.1302 | \n",
       "| 8.5186  | 13.6620 | \n",
       "| 7.0032  | 11.8540 | \n",
       "| 5.8598  |  6.8233 | \n",
       "| 8.3829  | 11.8860 | \n",
       "| 7.4764  |  4.3483 | \n",
       "\n",
       "\n"
      ],
      "text/plain": [
       "  population profit \n",
       "1 5.5277      9.1302\n",
       "2 8.5186     13.6620\n",
       "3 7.0032     11.8540\n",
       "4 5.8598      6.8233\n",
       "5 8.3829     11.8860\n",
       "6 7.4764      4.3483"
      ]
     },
     "metadata": {},
     "output_type": "display_data"
    }
   ],
   "source": [
    "str(foodtruck)\n",
    "head(foodtruck)"
   ]
  },
  {
   "cell_type": "markdown",
   "metadata": {},
   "source": [
    "### Exploramos algunas estadísticas básicas"
   ]
  },
  {
   "cell_type": "code",
   "execution_count": 4,
   "metadata": {
    "collapsed": false
   },
   "outputs": [
    {
     "data": {
      "text/plain": [
       "   population         profit      \n",
       " Min.   : 5.027   Min.   :-2.681  \n",
       " 1st Qu.: 5.691   1st Qu.: 1.953  \n",
       " Median : 6.736   Median : 4.455  \n",
       " Mean   : 8.181   Mean   : 5.717  \n",
       " 3rd Qu.: 8.640   3rd Qu.: 6.879  \n",
       " Max.   :22.203   Max.   :24.147  "
      ]
     },
     "metadata": {},
     "output_type": "display_data"
    }
   ],
   "source": [
    "summary(foodtruck)"
   ]
  },
  {
   "cell_type": "markdown",
   "metadata": {},
   "source": [
    "## Visualizciones\n",
    "\n",
    "### Gráfico de cajas"
   ]
  },
  {
   "cell_type": "code",
   "execution_count": 5,
   "metadata": {
    "collapsed": false
   },
   "outputs": [
    {
     "data": {
      "image/png": "[encoded data removed]",
      "text/plain": [
       "plot without title"
      ]
     },
     "metadata": {},
     "output_type": "display_data"
    }
   ],
   "source": [
    "plot1 <- ggplot(foodtruck, aes(x = \"\", y= population)) + geom_boxplot() + labs(y = \"Población (1:10000)\")\n",
    "plot2 <- ggplot(foodtruck, aes(x = \"\", y= profit)) + geom_boxplot() + labs(y = 'Ganancias en USD (1:10000)')\n",
    "grid.arrange(plot1, plot2, ncol = 2)"
   ]
  },
  {
   "cell_type": "markdown",
   "metadata": {},
   "source": [
    "### Gráfico de dispersión"
   ]
  },
  {
   "cell_type": "code",
   "execution_count": 6,
   "metadata": {
    "collapsed": false
   },
   "outputs": [
    {
     "name": "stderr",
     "output_type": "stream",
     "text": [
      "`geom_smooth()` using method = 'loess'\n"
     ]
    },
    {
     "data": {},
     "metadata": {},
     "output_type": "display_data"
    },
    {
     "data": {
      "image/png": "[encoded data removed]",
      "text/plain": [
       "plot without title"
      ]
     },
     "metadata": {},
     "output_type": "display_data"
    }
   ],
   "source": [
    "ggplot(data = foodtruck, aes(x = population, y = profit)) + geom_point() +\n",
    "    labs(x = 'Cantidad de habitantes (en 10000)', y = 'Ganancias (en $10000 USD)') +\n",
    "    ggtitle('Ganancia de sucursal según cantidad de habitantes') +\n",
    "    theme(plot.title = element_text(hjust = 0.5)) +\n",
    "    geom_smooth()"
   ]
  },
  {
   "cell_type": "markdown",
   "metadata": {
    "collapsed": true
   },
   "source": [
    "A simple viste se ve una clara relación lineal entre ambos atributos por ello vamos a realizar una regresión lineal y en este caso por el método de ecuaciones normales."
   ]
  },
  {
   "cell_type": "code",
   "execution_count": 8,
   "metadata": {
    "collapsed": false
   },
   "outputs": [],
   "source": [
    "#Extraemos la variable predictora (X) y la que queremos predecir (y)\n",
    "X = foodtruck$population\n",
    "y = foodtruck$profit\n",
    "\n",
    "#Agregamos una columna de 1's (para el coeficiente de intersección)\n",
    "X <- cbind(1,X)"
   ]
  },
  {
   "cell_type": "code",
   "execution_count": 9,
   "metadata": {
    "collapsed": false
   },
   "outputs": [
    {
     "name": "stdout",
     "output_type": "stream",
     "text": [
      "Ordenada:  -4.211504 \n",
      "Pendiente:  1.213547\n",
      "Ecuación de la recta:\n",
      "y =  -4.211504  +  1.213547 x"
     ]
    }
   ],
   "source": [
    "#Obtenemos los valores de los coeficientes directamente con la fórmula:\n",
    "#theta = ((X' * X)^(-1)) * X' * y    -> donde X' es la transpuesta de X. Y ^-1 indica la inversa de la matriz resultante\n",
    "\n",
    "theta <- solve(t(X) %*% X) %*% t(X) %*% y\n",
    "\n",
    "cat('Ordenada: ', theta[1], '\\nPendiente: ', theta[2])\n",
    "cat('\\nEcuación de la recta:\\ny = ', theta[1], ' + ', theta[2], 'x')"
   ]
  },
  {
   "cell_type": "markdown",
   "metadata": {},
   "source": [
    "Finalmente graficamos los puntos y la recta de regresión correspondiente"
   ]
  },
  {
   "cell_type": "code",
   "execution_count": 10,
   "metadata": {
    "collapsed": false
   },
   "outputs": [
    {
     "data": {},
     "metadata": {},
     "output_type": "display_data"
    },
    {
     "data": {
      "image/png": "[encoded data removed]",
      "text/plain": [
       "plot without title"
      ]
     },
     "metadata": {},
     "output_type": "display_data"
    }
   ],
   "source": [
    "ggplot(foodtruck, aes(population, profit)) + geom_point() + \n",
    "    geom_abline(intercept = theta[1], slope = theta[2], col = \"red\") + \n",
    "    labs(x = \"Población (1:10000)\", y = \"Ganancias (1:10000)\") +\n",
    "    ggtitle(\"Recta de regresión vs. datos observados\") +\n",
    "    theme(plot.title = element_text(hjust = 0.5))"
   ]
  },
  {
   "cell_type": "markdown",
   "metadata": {
    "collapsed": true
   },
   "source": [
    "### Conclusiones:\n",
    "1. No hace falta elegir un valor de alpha.\n",
    "2. No necesita iterar ya que encuentra theta de manera directa analíticamente.\n",
    "3. Cuando el numero de atributos es grande requiere un gran costo computacional O(n^3) al calcular X' * X\n",
    "4. Lento si el número de atributos es muy grande."
   ]
  }
 ],
 "metadata": {
  "kernelspec": {
   "display_name": "R",
   "language": "R",
   "name": "ir"
  },
  "language_info": {
   "codemirror_mode": "r",
   "file_extension": ".r",
   "mimetype": "text/x-r-source",
   "name": "R",
   "pygments_lexer": "r",
   "version": "3.3.2"
  }
 },
 "nbformat": 4,
 "nbformat_minor": 0
}
