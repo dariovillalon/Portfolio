{
 "cells": [
  {
   "cell_type": "markdown",
   "metadata": {},
   "source": [
    "# Titanic: Machine Learning from disaster\n",
    "\n",
    "<img src=\"titanic.png\" alt=\"Smiley face\" height=\"400\" width=\"400\">\n",
    "\n",
    "#### Descripción de la competencia\n",
    "El hundimiento del RMS Titanic es uno de los naufragios más infames de la historia.\n",
    "El 15 de Abril de 1912, el Titanic se hundió luego de colisionar con un iceberg, en donde murieron 1502 de 2224 pasajeros y tripulantes. Esta sensacional tragedia conmocionó a la comunidad internacional y condujo a mejores reglamentos de seguridad para los buques.\n",
    "Una de las razones por la cual el naufragio causó tal pérdida de vida fue que no había suficiente botes salvavidas para los pasajeros y tripulación. Aunque hubo un elemento de suerte al sobrevivir al hundimiento, algunos grupos de personas tenían mayores probabilidades de sobrevivir que otros, como mujeres y niños, y la clase alta.\n",
    "\n",
    "En esta competencia queremos que analizar que tipos de personas tenían más posibilidades de sobrevivir. En particular, queremos utilizar técnicas de aprendizaje automático para predecir que pasajeros sobrevivieron a la tragedia. \n",
    "\n",
    "**DESCRIPCIÓN DE VARIABLES:**\n",
    "\n",
    "**survival:** Sobreviviente (0 = No; 1 = Sí)<br/>\n",
    "**pclass:** Clase social del pasajero (1 = 1ra; 2 = 2da; 3 = 3ra)<br/>\n",
    "**name:** Nombre<br/>\n",
    "**sex:** Sexo<br/>\n",
    "**age:** Edad<br/>\n",
    "**sibsp:** Número de Hermanos/Esposas a bordo<br/>\n",
    "**parch:** Número de Padres/Hijos a bordo<br/>\n",
    "**ticket:** Número de Ticket<br/>\n",
    "**fare:** Precio del Ticket<br/>\n",
    "**cabin** Cabina<br/>\n",
    "**embarked** Puerto de Embarque (C = Cherbourg; Q = Queenstown; S = Southampton)<br/>\n",
    "\n",
    "**NOTAS ESPECIALES:**<br/>\n",
    "Pclass is una representación para el estado socio-económico<br/>\n",
    " 1ra ~ Alta; 2da ~ Media; 3ra ~ Baja\n",
    "\n",
    "Age está en Años; Fraccionado si Age es menor a uno (1)<br/>\n",
    " Si Age está estimada, está en la forma xx.5\n",
    "\n",
    "Con respecto a las variables relacionadas con la familia (por ej. sibsp y parch) algunas relaciones fueron ignoradas. Las siguientes son definiciones usadas para sibsp y parch.\n",
    "\n",
    "Hermanos: Hermano, Hermana, Hermanastro, o Hermanastra de pasajero a bordo del Titanic.\n",
    "Esposo: Marido o Esposa del pasajero a bordo del Titanic\n",
    "Padres:   Madre o padre del pasajero a bordo del Titanic\n",
    "Hijos:    Hijo, hija, hijastro o hijastra de pasajero a bordo de Titanic\n",
    "\n",
    "Otras relaciones excluídas de este estudio incluyen primos, sobrinos/sobrinas, tías/tíos. Algunos niños viajaban solo con una niñera, por lo tanto parch=0 para ellos. También, algunos viajaban con amigos muy cercanos o vecinos, sin embargo, las definiciones no tienen en cuenta esas relaciones."
   ]
  },
  {
   "cell_type": "markdown",
   "metadata": {},
   "source": [
    "#### Configuraciones iniciales"
   ]
  },
  {
   "cell_type": "code",
   "execution_count": null,
   "metadata": {
    "collapsed": true
   },
   "outputs": [],
   "source": [
    "options(scipen = 999, repr.plot.width=4, repr.plot.height= 4, warn = -1)"
   ]
  },
  {
   "cell_type": "markdown",
   "metadata": {},
   "source": [
    "#### Instalación y carga de paquetes necesarios"
   ]
  },
  {
   "cell_type": "code",
   "execution_count": null,
   "metadata": {
    "collapsed": false
   },
   "outputs": [],
   "source": [
    "list.of.packages <- c('ggplot2', 'VIM', 'mice', 'mlbench', 'caret', 'caretEnsemble', 'gbm', 'ipred', 'FSelector', 'Matrix')\n",
    "\n",
    "new.packages <- list.of.packages[!(list.of.packages %in% installed.packages()[,\"Package\"])]\n",
    "if(length(new.packages)) install.packages(new.packages, repos = \"https://cran.r-project.org\")\n",
    "\n",
    "library(ggplot2)\n",
    "library(VIM)\n",
    "library(mice)\n",
    "library(mlbench)\n",
    "library(caret)\n",
    "library(caretEnsemble)\n",
    "library(gbm)\n",
    "library(ipred)\n",
    "library(FSelector)\n",
    "library(Matrix)"
   ]
  },
  {
   "cell_type": "markdown",
   "metadata": {},
   "source": [
    "## Comprensión de datos"
   ]
  },
  {
   "cell_type": "markdown",
   "metadata": {},
   "source": [
    "En una primera instancia debemos cargar y explorar los datos para entender el contexto en donde nos encontramos."
   ]
  },
  {
   "cell_type": "code",
   "execution_count": null,
   "metadata": {
    "collapsed": false
   },
   "outputs": [],
   "source": [
    "df_train <- read.csv(\"train.csv\", na.string = c('NA', \"\"))\n",
    "df_test <- read.csv(\"test.csv\", na.string = c('NA', \"\"))\n",
    "\n",
    "train.size <- nrow(df_train)\n",
    "test.size <- nrow(df_test)\n",
    "\n",
    "pass.id <- df_test$PassengerId\n",
    "\n",
    "df_test$Survived <- NA\n",
    "df_train <- rbind(df_train, df_test)\n",
    "\n",
    "head(df_train)"
   ]
  },
  {
   "cell_type": "code",
   "execution_count": null,
   "metadata": {
    "collapsed": false
   },
   "outputs": [],
   "source": [
    "str(df_train)"
   ]
  },
  {
   "cell_type": "markdown",
   "metadata": {},
   "source": [
    "### Verificación de datos faltantes."
   ]
  },
  {
   "cell_type": "code",
   "execution_count": null,
   "metadata": {
    "collapsed": false
   },
   "outputs": [],
   "source": [
    "aggr(df_train, digits = 3, numbers = TRUE, labels = names(df_train), cex.axis = .5, cex.numbers = .6,\n",
    "       gap = 2, ylabs = c(\"Histograma de datos faltantes\", \"Patron de datos faltantes\"), col = c('#0072B2', '#D55E00'))"
   ]
  },
  {
   "cell_type": "code",
   "execution_count": null,
   "metadata": {
    "collapsed": false
   },
   "outputs": [],
   "source": [
    "matrixplot(df_train, interactive = F, sortby = \"Survived\")"
   ]
  },
  {
   "cell_type": "markdown",
   "metadata": {},
   "source": [
    "Los atributos que más valores faltantes tienen son Cabin y Age. El atributo Survived presenta 50% de datos faltantes porque corresponde al conjunto de prueba y es lo que intentamos predecir."
   ]
  },
  {
   "cell_type": "markdown",
   "metadata": {},
   "source": [
    "### Atributo: Survived\n",
    "Indica si el pasajero sobrevivió o no (Sí = 1; No = 0)."
   ]
  },
  {
   "cell_type": "code",
   "execution_count": 3,
   "metadata": {
    "collapsed": false
   },
   "outputs": [
    {
     "ename": "ERROR",
     "evalue": "Error in ifelse(df_train$Survived == 0, \"No\", \"Yes\"): objeto 'df_train' no encontrado\n",
     "output_type": "error",
     "traceback": [
      "Error in ifelse(df_train$Survived == 0, \"No\", \"Yes\"): objeto 'df_train' no encontrado\nTraceback:\n",
      "1. ifelse(df_train$Survived == 0, \"No\", \"Yes\")"
     ]
    }
   ],
   "source": [
    "df_train$Survived <- ifelse(df_train$Survived == 0, \"No\", \"Yes\")\n",
    "\n",
    "df_train$Survived <- factor(df_train$Survived)\n",
    "table(df_train$Survived)\n",
    "round(prop.table(table(df_train$Survived) * 100), 2)"
   ]
  },
  {
   "cell_type": "code",
   "execution_count": 8,
   "metadata": {
    "collapsed": false
   },
   "outputs": [
    {
     "data": {},
     "metadata": {},
     "output_type": "display_data"
    },
    {
     "data": {
      "image/png": "[encoded data removed]",
      "text/plain": [
       "plot without title"
      ]
     },
     "metadata": {},
     "output_type": "display_data"
    }
   ],
   "source": [
    "ggplot(data = subset(df_train, !is.na(Survived)), aes(x = Survived)) + \n",
    "    geom_bar(col=\"black\", fill=\"blue\", alpha = .2) + \n",
    "    ggtitle('Atributo: Survived') + \n",
    "    xlab('') + \n",
    "    ylab('No. de pasajeros')"
   ]
  },
  {
   "cell_type": "markdown",
   "metadata": {},
   "source": [
    "El 62% de los pasajeros sobrevivieron mientras que el 38% no pudieron sobrevivir."
   ]
  },
  {
   "cell_type": "markdown",
   "metadata": {},
   "source": [
    "### Atributo: Pclass\n",
    "Indica la clase social del pasajero: Primera, segunda o tercera clase. (1 = 1st; 2 = 2nd; 3 = 3rd)"
   ]
  },
  {
   "cell_type": "code",
   "execution_count": 9,
   "metadata": {
    "collapsed": false
   },
   "outputs": [
    {
     "data": {
      "text/plain": [
       "\n",
       "1st 2nd 3rd \n",
       "323 277 709 "
      ]
     },
     "metadata": {},
     "output_type": "display_data"
    },
    {
     "data": {
      "text/plain": [
       "\n",
       " 1st  2nd  3rd \n",
       "0.25 0.21 0.54 "
      ]
     },
     "metadata": {},
     "output_type": "display_data"
    }
   ],
   "source": [
    "df_train$Pclass[df_train$Pclass == 1] <- \"1st\"\n",
    "df_train$Pclass[df_train$Pclass == 2] <- \"2nd\"\n",
    "df_train$Pclass[df_train$Pclass == 3] <- \"3rd\"\n",
    "\n",
    "df_train$Pclass <- factor(df_train$Pclass)\n",
    "\n",
    "table(df_train$Pclass)\n",
    "round(prop.table(table(df_train$Pclass) * 100), 2)"
   ]
  },
  {
   "cell_type": "code",
   "execution_count": 10,
   "metadata": {
    "collapsed": false
   },
   "outputs": [
    {
     "data": {},
     "metadata": {},
     "output_type": "display_data"
    },
    {
     "data": {
      "image/png": "[encoded data removed]",
      "text/plain": [
       "plot without title"
      ]
     },
     "metadata": {},
     "output_type": "display_data"
    }
   ],
   "source": [
    "ggplot(data = df_train, aes(x = as.factor(Pclass))) + \n",
    "    geom_bar(col=\"black\", fill=\"blue\", alpha = .2) + \n",
    "    ggtitle('Atributo: Pclass') + \n",
    "    xlab('') + \n",
    "    ylab('No. de pasajeros')"
   ]
  },
  {
   "cell_type": "markdown",
   "metadata": {},
   "source": [
    "El 55% de los pasajeros correspondían a la tercera clase. Esto es el doble de las primera o la segunda clase."
   ]
  },
  {
   "cell_type": "markdown",
   "metadata": {},
   "source": [
    "### Atributo: Name\n",
    "Nombre del pasajero.\n",
    "Los nombres están compuestos de la siguiente forma: Apellido, TituloHonorífico. Nombre\n",
    "Lo que haremos es extraer el Título como una columna aparte."
   ]
  },
  {
   "cell_type": "code",
   "execution_count": 11,
   "metadata": {
    "collapsed": false
   },
   "outputs": [
    {
     "data": {
      "text/html": [
       "<ol class=list-inline>\n",
       "\t<li>Braund, Mr. Owen Harris</li>\n",
       "\t<li>Cumings, Mrs. John Bradley (Florence Briggs Thayer)</li>\n",
       "\t<li>Heikkinen, Miss. Laina</li>\n",
       "\t<li>Futrelle, Mrs. Jacques Heath (Lily May Peel)</li>\n",
       "\t<li>Allen, Mr. William Henry</li>\n",
       "\t<li>Moran, Mr. James</li>\n",
       "</ol>\n"
      ],
      "text/latex": [
       "\\begin{enumerate*}\n",
       "\\item Braund, Mr. Owen Harris\n",
       "\\item Cumings, Mrs. John Bradley (Florence Briggs Thayer)\n",
       "\\item Heikkinen, Miss. Laina\n",
       "\\item Futrelle, Mrs. Jacques Heath (Lily May Peel)\n",
       "\\item Allen, Mr. William Henry\n",
       "\\item Moran, Mr. James\n",
       "\\end{enumerate*}\n"
      ],
      "text/markdown": [
       "1. Braund, Mr. Owen Harris\n",
       "2. Cumings, Mrs. John Bradley (Florence Briggs Thayer)\n",
       "3. Heikkinen, Miss. Laina\n",
       "4. Futrelle, Mrs. Jacques Heath (Lily May Peel)\n",
       "5. Allen, Mr. William Henry\n",
       "6. Moran, Mr. James\n",
       "\n",
       "\n"
      ],
      "text/plain": [
       "[1] Braund, Mr. Owen Harris                            \n",
       "[2] Cumings, Mrs. John Bradley (Florence Briggs Thayer)\n",
       "[3] Heikkinen, Miss. Laina                             \n",
       "[4] Futrelle, Mrs. Jacques Heath (Lily May Peel)       \n",
       "[5] Allen, Mr. William Henry                           \n",
       "[6] Moran, Mr. James                                   \n",
       "1307 Levels: Abbing, Mr. Anthony ... Zakarian, Mr. Ortin"
      ]
     },
     "metadata": {},
     "output_type": "display_data"
    }
   ],
   "source": [
    "head(df_train$Name)"
   ]
  },
  {
   "cell_type": "markdown",
   "metadata": {},
   "source": [
    "Como podemos observar cada nombre tiene un título honorífico asociado, esto nos puede servir para más adelante construir un nuevo atributo."
   ]
  },
  {
   "cell_type": "markdown",
   "metadata": {},
   "source": [
    "### Atributo: Sex\n",
    "Género del pasajero: Male (hombre) o Female (mujer) "
   ]
  },
  {
   "cell_type": "code",
   "execution_count": 12,
   "metadata": {
    "collapsed": false
   },
   "outputs": [
    {
     "data": {
      "text/plain": [
       "\n",
       "female   male \n",
       "   466    843 "
      ]
     },
     "metadata": {},
     "output_type": "display_data"
    },
    {
     "data": {
      "text/plain": [
       "\n",
       "female   male \n",
       "  35.6   64.4 "
      ]
     },
     "metadata": {},
     "output_type": "display_data"
    },
    {
     "data": {
      "text/plain": [
       "\n",
       "FALSE \n",
       " 1309 "
      ]
     },
     "metadata": {},
     "output_type": "display_data"
    }
   ],
   "source": [
    "table(df_train$Sex)\n",
    "round(prop.table(table(df_train$Sex))*100,2)\n",
    "\n",
    "table(is.na(df_train$Sex))"
   ]
  },
  {
   "cell_type": "code",
   "execution_count": 13,
   "metadata": {
    "collapsed": false
   },
   "outputs": [
    {
     "data": {},
     "metadata": {},
     "output_type": "display_data"
    },
    {
     "data": {
      "image/png": "[encoded data removed]",
      "text/plain": [
       "plot without title"
      ]
     },
     "metadata": {},
     "output_type": "display_data"
    }
   ],
   "source": [
    "ggplot(data = df_train, aes(x = as.factor(Sex))) + \n",
    "    geom_bar(col=\"black\", fill=\"blue\", alpha = .2) + \n",
    "    ggtitle('Atributo: Sex') + \n",
    "    xlab('') + \n",
    "    ylab('No. de pasajeros')"
   ]
  },
  {
   "cell_type": "markdown",
   "metadata": {},
   "source": [
    "El 65% de los pasajeros son hombres."
   ]
  },
  {
   "cell_type": "markdown",
   "metadata": {},
   "source": [
    "### Atributo: Age\n",
    "Edad del pasajero."
   ]
  },
  {
   "cell_type": "code",
   "execution_count": 14,
   "metadata": {
    "collapsed": false
   },
   "outputs": [
    {
     "data": {
      "text/plain": [
       "   Min. 1st Qu.  Median    Mean 3rd Qu.    Max.    NA's \n",
       "   0.17   21.00   28.00   29.88   39.00   80.00     263 "
      ]
     },
     "metadata": {},
     "output_type": "display_data"
    }
   ],
   "source": [
    "summary(df_train$Age)"
   ]
  },
  {
   "cell_type": "markdown",
   "metadata": {},
   "source": [
    "La edad promedio de los pasajeros es de 30 años mientras que la mediana es de 28 años. La edad máxima es de 80 años.\n",
    "No se tiene la edad de 263 pasajeros."
   ]
  },
  {
   "cell_type": "code",
   "execution_count": 15,
   "metadata": {
    "collapsed": false
   },
   "outputs": [
    {
     "data": {},
     "metadata": {},
     "output_type": "display_data"
    },
    {
     "data": {
      "image/png": "[encoded data removed]",
      "text/plain": [
       "plot without title"
      ]
     },
     "metadata": {},
     "output_type": "display_data"
    }
   ],
   "source": [
    "ggplot(data = df_train, aes(x = Age)) + geom_histogram(binwidth = 2, col=\"black\", fill=\"blue\", alpha = .2)"
   ]
  },
  {
   "cell_type": "markdown",
   "metadata": {},
   "source": [
    "La mayor parte de los pasajeros tienen entre 20 y 40 años. Como vimos la mediana es de 28 años.\n",
    "\n",
    "#### Imputación: Age\n",
    "\n",
    "Para aquellos que no tienen las edades cargadas lo reemplazaremos con valores aleatorios entre el primer y tercer cuartil."
   ]
  },
  {
   "cell_type": "code",
   "execution_count": 16,
   "metadata": {
    "collapsed": false
   },
   "outputs": [
    {
     "data": {
      "text/html": [
       "<ol class=list-inline>\n",
       "\t<li>26.18</li>\n",
       "\t<li>35.19</li>\n",
       "\t<li>28.36</li>\n",
       "\t<li>36.89</li>\n",
       "\t<li>37.93</li>\n",
       "\t<li>21.82</li>\n",
       "</ol>\n"
      ],
      "text/latex": [
       "\\begin{enumerate*}\n",
       "\\item 26.18\n",
       "\\item 35.19\n",
       "\\item 28.36\n",
       "\\item 36.89\n",
       "\\item 37.93\n",
       "\\item 21.82\n",
       "\\end{enumerate*}\n"
      ],
      "text/markdown": [
       "1. 26.18\n",
       "2. 35.19\n",
       "3. 28.36\n",
       "4. 36.89\n",
       "5. 37.93\n",
       "6. 21.82\n",
       "\n",
       "\n"
      ],
      "text/plain": [
       "[1] 26.18 35.19 28.36 36.89 37.93 21.82"
      ]
     },
     "metadata": {},
     "output_type": "display_data"
    }
   ],
   "source": [
    "na_count <- sum(is.na(df_train$Age))\n",
    "set.seed(123)\n",
    "\n",
    "ages <- round(runif(na_count, summary(df_train$Age)[2], summary(df_train$Age)[5]), 2)\n",
    "head(ages)"
   ]
  },
  {
   "cell_type": "code",
   "execution_count": 17,
   "metadata": {
    "collapsed": false
   },
   "outputs": [],
   "source": [
    "df_train$Age[which(is.na(df_train$Age))] <- ages"
   ]
  },
  {
   "cell_type": "markdown",
   "metadata": {},
   "source": [
    "Una vez que imputamos los datos volvemos a graficar."
   ]
  },
  {
   "cell_type": "code",
   "execution_count": 18,
   "metadata": {
    "collapsed": false
   },
   "outputs": [
    {
     "data": {},
     "metadata": {},
     "output_type": "display_data"
    },
    {
     "data": {
      "image/png": "[encoded data removed]",
      "text/plain": [
       "plot without title"
      ]
     },
     "metadata": {},
     "output_type": "display_data"
    }
   ],
   "source": [
    "ggplot(data = df_train, aes(x = Age)) + geom_histogram(binwidth = 2, col=\"black\", fill=\"blue\", alpha = .2)"
   ]
  },
  {
   "cell_type": "markdown",
   "metadata": {},
   "source": [
    "Como vemos mantenemos el histograma bastante similiar antes de la imputación."
   ]
  },
  {
   "cell_type": "markdown",
   "metadata": {},
   "source": [
    "### Atributo: SibSp\n",
    "Número de hermanos/matrimonio a bordo por pasajero."
   ]
  },
  {
   "cell_type": "code",
   "execution_count": 19,
   "metadata": {
    "collapsed": false
   },
   "outputs": [
    {
     "data": {},
     "metadata": {},
     "output_type": "display_data"
    },
    {
     "data": {
      "image/png": "[encoded data removed]",
      "text/plain": [
       "plot without title"
      ]
     },
     "metadata": {},
     "output_type": "display_data"
    }
   ],
   "source": [
    "df_train$SibSp <- factor(df_train$SibSp, levels = sort(unique(df_train$SibSp)), labels = sort(unique(df_train$SibSp)))\n",
    "\n",
    "ggplot(data = df_train, aes(x = as.factor(SibSp))) + \n",
    "    geom_bar(col=\"black\", fill=\"blue\", alpha = .2) + \n",
    "    ggtitle('Atributo: Hermanos/Matrimonio') + \n",
    "    xlab('') + \n",
    "    ylab('No. de pasajeros') + \n",
    "    theme(axis.text.x = element_text(angle = 90, hjust = 1, vjust = 0.4))"
   ]
  },
  {
   "cell_type": "code",
   "execution_count": 20,
   "metadata": {
    "collapsed": false
   },
   "outputs": [
    {
     "data": {
      "text/plain": [
       "\n",
       "  0   1   2   3   4   5   8 \n",
       "891 319  42  20  22   6   9 "
      ]
     },
     "metadata": {},
     "output_type": "display_data"
    },
    {
     "data": {
      "text/plain": [
       "\n",
       "    0     1     2     3     4     5     8 \n",
       "68.07 24.37  3.21  1.53  1.68  0.46  0.69 "
      ]
     },
     "metadata": {},
     "output_type": "display_data"
    }
   ],
   "source": [
    "table(df_train$SibSp)\n",
    "round(prop.table(table(df_train$SibSp)) * 100, 2)"
   ]
  },
  {
   "cell_type": "markdown",
   "metadata": {},
   "source": [
    "### Atributo: parch\n",
    "Número de padres/hijos a bordo."
   ]
  },
  {
   "cell_type": "code",
   "execution_count": 21,
   "metadata": {
    "collapsed": false
   },
   "outputs": [
    {
     "data": {},
     "metadata": {},
     "output_type": "display_data"
    },
    {
     "data": {
      "image/png": "[encoded data removed]",
      "text/plain": [
       "plot without title"
      ]
     },
     "metadata": {},
     "output_type": "display_data"
    }
   ],
   "source": [
    "df_train$Parch<- factor(df_train$Parch, levels = sort(unique(df_train$Parch)), labels = sort(unique(df_train$Parch)))\n",
    "\n",
    "ggplot(data = df_train, aes(x = as.factor(Parch))) + \n",
    "    geom_bar(col=\"black\", fill=\"blue\", alpha = .2) + \n",
    "    ggtitle('Atributo: Padres/Hijos') + \n",
    "    xlab('') + \n",
    "    ylab('No. de pasajeros') + \n",
    "    theme(axis.text.x = element_text(angle = 90, hjust = 1, vjust = 0.4))"
   ]
  },
  {
   "cell_type": "code",
   "execution_count": 22,
   "metadata": {
    "collapsed": false
   },
   "outputs": [
    {
     "data": {
      "text/plain": [
       "\n",
       "   0    1    2    3    4    5    6    9 \n",
       "1002  170  113    8    6    6    2    2 "
      ]
     },
     "metadata": {},
     "output_type": "display_data"
    },
    {
     "data": {
      "text/plain": [
       "\n",
       "    0     1     2     3     4     5     6     9 \n",
       "76.55 12.99  8.63  0.61  0.46  0.46  0.15  0.15 "
      ]
     },
     "metadata": {},
     "output_type": "display_data"
    }
   ],
   "source": [
    "table(df_train$Parch)\n",
    "round(prop.table(table(df_train$Parch)) * 100, 2)"
   ]
  },
  {
   "cell_type": "markdown",
   "metadata": {},
   "source": [
    "El 75% de los pasajeros no tenían padres o hijos a bordo."
   ]
  },
  {
   "cell_type": "markdown",
   "metadata": {},
   "source": [
    "### Atributo: Ticket\n",
    "Número del ticket."
   ]
  },
  {
   "cell_type": "code",
   "execution_count": 23,
   "metadata": {
    "collapsed": false
   },
   "outputs": [],
   "source": [
    "df_train$Ticket <- as.integer(df_train$Ticket)"
   ]
  },
  {
   "cell_type": "markdown",
   "metadata": {},
   "source": [
    "### Atributo: Fare\n",
    "Es la tarifa que pagó el pasajero."
   ]
  },
  {
   "cell_type": "code",
   "execution_count": 24,
   "metadata": {
    "collapsed": false
   },
   "outputs": [
    {
     "data": {
      "text/plain": [
       "   Min. 1st Qu.  Median    Mean 3rd Qu.    Max.    NA's \n",
       "  0.000   7.896  14.450  33.300  31.280 512.300       1 "
      ]
     },
     "metadata": {},
     "output_type": "display_data"
    }
   ],
   "source": [
    "summary(df_train$Fare)"
   ]
  },
  {
   "cell_type": "code",
   "execution_count": 25,
   "metadata": {
    "collapsed": false
   },
   "outputs": [
    {
     "data": {},
     "metadata": {},
     "output_type": "display_data"
    },
    {
     "data": {
      "image/png": "[encoded data removed]",
      "text/plain": [
       "plot without title"
      ]
     },
     "metadata": {},
     "output_type": "display_data"
    }
   ],
   "source": [
    "ggplot(data = df_train, aes(x = Fare)) + geom_histogram(binwidth = 6, col=\"black\", fill=\"blue\", alpha = .2)"
   ]
  },
  {
   "cell_type": "markdown",
   "metadata": {},
   "source": [
    "El promedio del precio de un ticket es de \\$33, mientras que lo máximo que se pagó por uno fue más de \\$500 (Quizás viajaban en grupo). Podemos ver que hay tickets con valor \\$0, podríamos atribuir estos tickes a niños o bebés pero si exploramos bien los datos estos tickets corresponden a adultos. Hay un valor faltante que también lo reemplazaremos con la media."
   ]
  },
  {
   "cell_type": "code",
   "execution_count": 26,
   "metadata": {
    "collapsed": false
   },
   "outputs": [
    {
     "data": {
      "text/html": [
       "<table>\n",
       "<thead><tr><th></th><th scope=col>PassengerId</th><th scope=col>Survived</th><th scope=col>Pclass</th><th scope=col>Name</th><th scope=col>Sex</th><th scope=col>Age</th><th scope=col>SibSp</th><th scope=col>Parch</th><th scope=col>Ticket</th><th scope=col>Fare</th><th scope=col>Cabin</th><th scope=col>Embarked</th></tr></thead>\n",
       "<tbody>\n",
       "\t<tr><th scope=row>180</th><td> 180                                 </td><td>No                                   </td><td>3rd                                  </td><td>Leonard, Mr. Lionel                  </td><td>male                                 </td><td>36.00                                </td><td>0                                    </td><td>0                                    </td><td>575                                  </td><td> 0                                   </td><td>NA                                   </td><td>S                                    </td></tr>\n",
       "\t<tr><th scope=row>264</th><td> 264                                 </td><td>No                                   </td><td>1st                                  </td><td>Harrison, Mr. William                </td><td>male                                 </td><td>40.00                                </td><td>0                                    </td><td>0                                    </td><td> 17                                  </td><td> 0                                   </td><td>B94                                  </td><td>S                                    </td></tr>\n",
       "\t<tr><th scope=row>272</th><td> 272                                 </td><td>Yes                                  </td><td>3rd                                  </td><td>Tornquist, Mr. William Henry         </td><td>male                                 </td><td>25.00                                </td><td>0                                    </td><td>0                                    </td><td>575                                  </td><td> 0                                   </td><td>NA                                   </td><td>S                                    </td></tr>\n",
       "\t<tr><th scope=row>278</th><td> 278                                 </td><td>No                                   </td><td>2nd                                  </td><td>Parkes, Mr. Francis \"Frank\"          </td><td>male                                 </td><td>31.10                                </td><td>0                                    </td><td>0                                    </td><td>136                                  </td><td> 0                                   </td><td>NA                                   </td><td>S                                    </td></tr>\n",
       "\t<tr><th scope=row>303</th><td> 303                                 </td><td>No                                   </td><td>3rd                                  </td><td>Johnson, Mr. William Cahoone Jr      </td><td>male                                 </td><td>19.00                                </td><td>0                                    </td><td>0                                    </td><td>575                                  </td><td> 0                                   </td><td>NA                                   </td><td>S                                    </td></tr>\n",
       "\t<tr><th scope=row>414</th><td> 414                                 </td><td>No                                   </td><td>2nd                                  </td><td>Cunningham, Mr. Alfred Fleming       </td><td>male                                 </td><td>33.03                                </td><td>0                                    </td><td>0                                    </td><td>136                                  </td><td> 0                                   </td><td>NA                                   </td><td>S                                    </td></tr>\n",
       "\t<tr><th scope=row>467</th><td> 467                                 </td><td>No                                   </td><td>2nd                                  </td><td>Campbell, Mr. William                </td><td>male                                 </td><td>32.82                                </td><td>0                                    </td><td>0                                    </td><td>136                                  </td><td> 0                                   </td><td>NA                                   </td><td>S                                    </td></tr>\n",
       "\t<tr><th scope=row>482</th><td> 482                                 </td><td>No                                   </td><td>2nd                                  </td><td>Frost, Mr. Anthony Wood \"Archie\"     </td><td>male                                 </td><td>22.68                                </td><td>0                                    </td><td>0                                    </td><td>137                                  </td><td> 0                                   </td><td>NA                                   </td><td>S                                    </td></tr>\n",
       "\t<tr><th scope=row>598</th><td> 598                                 </td><td>No                                   </td><td>3rd                                  </td><td>Johnson, Mr. Alfred                  </td><td>male                                 </td><td>49.00                                </td><td>0                                    </td><td>0                                    </td><td>575                                  </td><td> 0                                   </td><td>NA                                   </td><td>S                                    </td></tr>\n",
       "\t<tr><th scope=row>634</th><td> 634                                 </td><td>No                                   </td><td>1st                                  </td><td>Parr, Mr. William Henry Marsh        </td><td>male                                 </td><td>33.11                                </td><td>0                                    </td><td>0                                    </td><td> 14                                  </td><td> 0                                   </td><td>NA                                   </td><td>S                                    </td></tr>\n",
       "\t<tr><th scope=row>675</th><td> 675                                 </td><td>No                                   </td><td>2nd                                  </td><td>Watson, Mr. Ennis Hastings           </td><td>male                                 </td><td>28.37                                </td><td>0                                    </td><td>0                                    </td><td>139                                  </td><td> 0                                   </td><td>NA                                   </td><td>S                                    </td></tr>\n",
       "\t<tr><th scope=row>733</th><td> 733                                 </td><td>No                                   </td><td>2nd                                  </td><td>Knight, Mr. Robert J                 </td><td>male                                 </td><td>34.18                                </td><td>0                                    </td><td>0                                    </td><td>138                                  </td><td> 0                                   </td><td>NA                                   </td><td>S                                    </td></tr>\n",
       "\t<tr><th scope=row>807</th><td> 807                                 </td><td>No                                   </td><td>1st                                  </td><td>Andrews, Mr. Thomas Jr               </td><td>male                                 </td><td>39.00                                </td><td>0                                    </td><td>0                                    </td><td> 13                                  </td><td> 0                                   </td><td>A36                                  </td><td>S                                    </td></tr>\n",
       "\t<tr><th scope=row>816</th><td> 816                                 </td><td>No                                   </td><td>1st                                  </td><td>Fry, Mr. Richard                     </td><td>male                                 </td><td>27.74                                </td><td>0                                    </td><td>0                                    </td><td> 16                                  </td><td> 0                                   </td><td>B102                                 </td><td>S                                    </td></tr>\n",
       "\t<tr><th scope=row>823</th><td> 823                                 </td><td>No                                   </td><td>1st                                  </td><td>Reuchlin, Jonkheer. John George      </td><td>male                                 </td><td>38.00                                </td><td>0                                    </td><td>0                                    </td><td> 98                                  </td><td> 0                                   </td><td>NA                                   </td><td>S                                    </td></tr>\n",
       "\t<tr><th scope=row>NA</th><td>  NA                                 </td><td>NA                                   </td><td>NA                                   </td><td>NA                                   </td><td>NA                                   </td><td>   NA                                </td><td>NA                                   </td><td>NA                                   </td><td> NA                                  </td><td>NA                                   </td><td>NA                                   </td><td>NA                                   </td></tr>\n",
       "\t<tr><th scope=row>1158</th><td>1158                                 </td><td>NA                                   </td><td>1st                                  </td><td>Chisholm, Mr. Roderick Robert Crispin</td><td>male                                 </td><td>28.71                                </td><td>0                                    </td><td>0                                    </td><td>685                                  </td><td> 0                                   </td><td>NA                                   </td><td>S                                    </td></tr>\n",
       "\t<tr><th scope=row>1264</th><td>1264                                 </td><td>NA                                   </td><td>1st                                  </td><td>Ismay, Mr. Joseph Bruce              </td><td>male                                 </td><td>49.00                                </td><td>0                                    </td><td>0                                    </td><td> 16                                  </td><td> 0                                   </td><td>B52 B54 B56                          </td><td>S                                    </td></tr>\n",
       "</tbody>\n",
       "</table>\n"
      ],
      "text/latex": [
       "\\begin{tabular}{r|llllllllllll}\n",
       "  & PassengerId & Survived & Pclass & Name & Sex & Age & SibSp & Parch & Ticket & Fare & Cabin & Embarked\\\\\n",
       "\\hline\n",
       "\t180 &  180                                  & No                                    & 3rd                                   & Leonard, Mr. Lionel                   & male                                  & 36.00                                 & 0                                     & 0                                     & 575                                   &  0                                    & NA                                    & S                                    \\\\\n",
       "\t264 &  264                                  & No                                    & 1st                                   & Harrison, Mr. William                 & male                                  & 40.00                                 & 0                                     & 0                                     &  17                                   &  0                                    & B94                                   & S                                    \\\\\n",
       "\t272 &  272                                  & Yes                                   & 3rd                                   & Tornquist, Mr. William Henry          & male                                  & 25.00                                 & 0                                     & 0                                     & 575                                   &  0                                    & NA                                    & S                                    \\\\\n",
       "\t278 &  278                                  & No                                    & 2nd                                   & Parkes, Mr. Francis \"Frank\"           & male                                  & 31.10                                 & 0                                     & 0                                     & 136                                   &  0                                    & NA                                    & S                                    \\\\\n",
       "\t303 &  303                                  & No                                    & 3rd                                   & Johnson, Mr. William Cahoone Jr       & male                                  & 19.00                                 & 0                                     & 0                                     & 575                                   &  0                                    & NA                                    & S                                    \\\\\n",
       "\t414 &  414                                  & No                                    & 2nd                                   & Cunningham, Mr. Alfred Fleming        & male                                  & 33.03                                 & 0                                     & 0                                     & 136                                   &  0                                    & NA                                    & S                                    \\\\\n",
       "\t467 &  467                                  & No                                    & 2nd                                   & Campbell, Mr. William                 & male                                  & 32.82                                 & 0                                     & 0                                     & 136                                   &  0                                    & NA                                    & S                                    \\\\\n",
       "\t482 &  482                                  & No                                    & 2nd                                   & Frost, Mr. Anthony Wood \"Archie\"      & male                                  & 22.68                                 & 0                                     & 0                                     & 137                                   &  0                                    & NA                                    & S                                    \\\\\n",
       "\t598 &  598                                  & No                                    & 3rd                                   & Johnson, Mr. Alfred                   & male                                  & 49.00                                 & 0                                     & 0                                     & 575                                   &  0                                    & NA                                    & S                                    \\\\\n",
       "\t634 &  634                                  & No                                    & 1st                                   & Parr, Mr. William Henry Marsh         & male                                  & 33.11                                 & 0                                     & 0                                     &  14                                   &  0                                    & NA                                    & S                                    \\\\\n",
       "\t675 &  675                                  & No                                    & 2nd                                   & Watson, Mr. Ennis Hastings            & male                                  & 28.37                                 & 0                                     & 0                                     & 139                                   &  0                                    & NA                                    & S                                    \\\\\n",
       "\t733 &  733                                  & No                                    & 2nd                                   & Knight, Mr. Robert J                  & male                                  & 34.18                                 & 0                                     & 0                                     & 138                                   &  0                                    & NA                                    & S                                    \\\\\n",
       "\t807 &  807                                  & No                                    & 1st                                   & Andrews, Mr. Thomas Jr                & male                                  & 39.00                                 & 0                                     & 0                                     &  13                                   &  0                                    & A36                                   & S                                    \\\\\n",
       "\t816 &  816                                  & No                                    & 1st                                   & Fry, Mr. Richard                      & male                                  & 27.74                                 & 0                                     & 0                                     &  16                                   &  0                                    & B102                                  & S                                    \\\\\n",
       "\t823 &  823                                  & No                                    & 1st                                   & Reuchlin, Jonkheer. John George       & male                                  & 38.00                                 & 0                                     & 0                                     &  98                                   &  0                                    & NA                                    & S                                    \\\\\n",
       "\tNA &   NA                                  & NA                                    & NA                                    & NA                                    & NA                                    &    NA                                 & NA                                    & NA                                    &  NA                                   & NA                                    & NA                                    & NA                                   \\\\\n",
       "\t1158 & 1158                                  & NA                                    & 1st                                   & Chisholm, Mr. Roderick Robert Crispin & male                                  & 28.71                                 & 0                                     & 0                                     & 685                                   &  0                                    & NA                                    & S                                    \\\\\n",
       "\t1264 & 1264                                  & NA                                    & 1st                                   & Ismay, Mr. Joseph Bruce               & male                                  & 49.00                                 & 0                                     & 0                                     &  16                                   &  0                                    & B52 B54 B56                           & S                                    \\\\\n",
       "\\end{tabular}\n"
      ],
      "text/markdown": [
       "\n",
       "| <!--/--> | PassengerId | Survived | Pclass | Name | Sex | Age | SibSp | Parch | Ticket | Fare | Cabin | Embarked | \n",
       "|---|---|---|---|---|---|---|---|---|---|---|---|---|---|---|---|---|---|\n",
       "| 180 |  180                                  | No                                    | 3rd                                   | Leonard, Mr. Lionel                   | male                                  | 36.00                                 | 0                                     | 0                                     | 575                                   |  0                                    | NA                                    | S                                     | \n",
       "| 264 |  264                                  | No                                    | 1st                                   | Harrison, Mr. William                 | male                                  | 40.00                                 | 0                                     | 0                                     |  17                                   |  0                                    | B94                                   | S                                     | \n",
       "| 272 |  272                                  | Yes                                   | 3rd                                   | Tornquist, Mr. William Henry          | male                                  | 25.00                                 | 0                                     | 0                                     | 575                                   |  0                                    | NA                                    | S                                     | \n",
       "| 278 |  278                                  | No                                    | 2nd                                   | Parkes, Mr. Francis \"Frank\"           | male                                  | 31.10                                 | 0                                     | 0                                     | 136                                   |  0                                    | NA                                    | S                                     | \n",
       "| 303 |  303                                  | No                                    | 3rd                                   | Johnson, Mr. William Cahoone Jr       | male                                  | 19.00                                 | 0                                     | 0                                     | 575                                   |  0                                    | NA                                    | S                                     | \n",
       "| 414 |  414                                  | No                                    | 2nd                                   | Cunningham, Mr. Alfred Fleming        | male                                  | 33.03                                 | 0                                     | 0                                     | 136                                   |  0                                    | NA                                    | S                                     | \n",
       "| 467 |  467                                  | No                                    | 2nd                                   | Campbell, Mr. William                 | male                                  | 32.82                                 | 0                                     | 0                                     | 136                                   |  0                                    | NA                                    | S                                     | \n",
       "| 482 |  482                                  | No                                    | 2nd                                   | Frost, Mr. Anthony Wood \"Archie\"      | male                                  | 22.68                                 | 0                                     | 0                                     | 137                                   |  0                                    | NA                                    | S                                     | \n",
       "| 598 |  598                                  | No                                    | 3rd                                   | Johnson, Mr. Alfred                   | male                                  | 49.00                                 | 0                                     | 0                                     | 575                                   |  0                                    | NA                                    | S                                     | \n",
       "| 634 |  634                                  | No                                    | 1st                                   | Parr, Mr. William Henry Marsh         | male                                  | 33.11                                 | 0                                     | 0                                     |  14                                   |  0                                    | NA                                    | S                                     | \n",
       "| 675 |  675                                  | No                                    | 2nd                                   | Watson, Mr. Ennis Hastings            | male                                  | 28.37                                 | 0                                     | 0                                     | 139                                   |  0                                    | NA                                    | S                                     | \n",
       "| 733 |  733                                  | No                                    | 2nd                                   | Knight, Mr. Robert J                  | male                                  | 34.18                                 | 0                                     | 0                                     | 138                                   |  0                                    | NA                                    | S                                     | \n",
       "| 807 |  807                                  | No                                    | 1st                                   | Andrews, Mr. Thomas Jr                | male                                  | 39.00                                 | 0                                     | 0                                     |  13                                   |  0                                    | A36                                   | S                                     | \n",
       "| 816 |  816                                  | No                                    | 1st                                   | Fry, Mr. Richard                      | male                                  | 27.74                                 | 0                                     | 0                                     |  16                                   |  0                                    | B102                                  | S                                     | \n",
       "| 823 |  823                                  | No                                    | 1st                                   | Reuchlin, Jonkheer. John George       | male                                  | 38.00                                 | 0                                     | 0                                     |  98                                   |  0                                    | NA                                    | S                                     | \n",
       "| NA |   NA                                  | NA                                    | NA                                    | NA                                    | NA                                    |    NA                                 | NA                                    | NA                                    |  NA                                   | NA                                    | NA                                    | NA                                    | \n",
       "| 1158 | 1158                                  | NA                                    | 1st                                   | Chisholm, Mr. Roderick Robert Crispin | male                                  | 28.71                                 | 0                                     | 0                                     | 685                                   |  0                                    | NA                                    | S                                     | \n",
       "| 1264 | 1264                                  | NA                                    | 1st                                   | Ismay, Mr. Joseph Bruce               | male                                  | 49.00                                 | 0                                     | 0                                     |  16                                   |  0                                    | B52 B54 B56                           | S                                     | \n",
       "\n",
       "\n"
      ],
      "text/plain": [
       "     PassengerId Survived Pclass Name                                  Sex \n",
       "180   180        No       3rd    Leonard, Mr. Lionel                   male\n",
       "264   264        No       1st    Harrison, Mr. William                 male\n",
       "272   272        Yes      3rd    Tornquist, Mr. William Henry          male\n",
       "278   278        No       2nd    Parkes, Mr. Francis \"Frank\"           male\n",
       "303   303        No       3rd    Johnson, Mr. William Cahoone Jr       male\n",
       "414   414        No       2nd    Cunningham, Mr. Alfred Fleming        male\n",
       "467   467        No       2nd    Campbell, Mr. William                 male\n",
       "482   482        No       2nd    Frost, Mr. Anthony Wood \"Archie\"      male\n",
       "598   598        No       3rd    Johnson, Mr. Alfred                   male\n",
       "634   634        No       1st    Parr, Mr. William Henry Marsh         male\n",
       "675   675        No       2nd    Watson, Mr. Ennis Hastings            male\n",
       "733   733        No       2nd    Knight, Mr. Robert J                  male\n",
       "807   807        No       1st    Andrews, Mr. Thomas Jr                male\n",
       "816   816        No       1st    Fry, Mr. Richard                      male\n",
       "823   823        No       1st    Reuchlin, Jonkheer. John George       male\n",
       "NA     NA        NA       NA     NA                                    NA  \n",
       "1158 1158        NA       1st    Chisholm, Mr. Roderick Robert Crispin male\n",
       "1264 1264        NA       1st    Ismay, Mr. Joseph Bruce               male\n",
       "     Age   SibSp Parch Ticket Fare Cabin       Embarked\n",
       "180  36.00 0     0     575     0   NA          S       \n",
       "264  40.00 0     0      17     0   B94         S       \n",
       "272  25.00 0     0     575     0   NA          S       \n",
       "278  31.10 0     0     136     0   NA          S       \n",
       "303  19.00 0     0     575     0   NA          S       \n",
       "414  33.03 0     0     136     0   NA          S       \n",
       "467  32.82 0     0     136     0   NA          S       \n",
       "482  22.68 0     0     137     0   NA          S       \n",
       "598  49.00 0     0     575     0   NA          S       \n",
       "634  33.11 0     0      14     0   NA          S       \n",
       "675  28.37 0     0     139     0   NA          S       \n",
       "733  34.18 0     0     138     0   NA          S       \n",
       "807  39.00 0     0      13     0   A36         S       \n",
       "816  27.74 0     0      16     0   B102        S       \n",
       "823  38.00 0     0      98     0   NA          S       \n",
       "NA      NA NA    NA     NA    NA   NA          NA      \n",
       "1158 28.71 0     0     685     0   NA          S       \n",
       "1264 49.00 0     0      16     0   B52 B54 B56 S       "
      ]
     },
     "metadata": {},
     "output_type": "display_data"
    },
    {
     "data": {
      "text/html": [
       "<table>\n",
       "<thead><tr><th></th><th scope=col>PassengerId</th><th scope=col>Survived</th><th scope=col>Pclass</th><th scope=col>Name</th><th scope=col>Sex</th><th scope=col>Age</th><th scope=col>SibSp</th><th scope=col>Parch</th><th scope=col>Ticket</th><th scope=col>Fare</th><th scope=col>Cabin</th><th scope=col>Embarked</th></tr></thead>\n",
       "<tbody>\n",
       "\t<tr><th scope=row>1044</th><td>1044              </td><td>NA                </td><td>3rd               </td><td>Storey, Mr. Thomas</td><td>male              </td><td>60.5              </td><td>0                 </td><td>0                 </td><td>855               </td><td>NA                </td><td>NA                </td><td>S                 </td></tr>\n",
       "</tbody>\n",
       "</table>\n"
      ],
      "text/latex": [
       "\\begin{tabular}{r|llllllllllll}\n",
       "  & PassengerId & Survived & Pclass & Name & Sex & Age & SibSp & Parch & Ticket & Fare & Cabin & Embarked\\\\\n",
       "\\hline\n",
       "\t1044 & 1044               & NA                 & 3rd                & Storey, Mr. Thomas & male               & 60.5               & 0                  & 0                  & 855                & NA                 & NA                 & S                 \\\\\n",
       "\\end{tabular}\n"
      ],
      "text/markdown": [
       "\n",
       "| <!--/--> | PassengerId | Survived | Pclass | Name | Sex | Age | SibSp | Parch | Ticket | Fare | Cabin | Embarked | \n",
       "|---|\n",
       "| 1044 | 1044               | NA                 | 3rd                | Storey, Mr. Thomas | male               | 60.5               | 0                  | 0                  | 855                | NA                 | NA                 | S                  | \n",
       "\n",
       "\n"
      ],
      "text/plain": [
       "     PassengerId Survived Pclass Name               Sex  Age  SibSp Parch\n",
       "1044 1044        NA       3rd    Storey, Mr. Thomas male 60.5 0     0    \n",
       "     Ticket Fare Cabin Embarked\n",
       "1044 855    NA   NA    S       "
      ]
     },
     "metadata": {},
     "output_type": "display_data"
    }
   ],
   "source": [
    "df_train[df_train$Fare == 0,]\n",
    "df_train[is.na(df_train$Fare),]"
   ]
  },
  {
   "cell_type": "markdown",
   "metadata": {},
   "source": [
    "Reemplazemos estos valores con la mediana."
   ]
  },
  {
   "cell_type": "code",
   "execution_count": 27,
   "metadata": {
    "collapsed": false
   },
   "outputs": [],
   "source": [
    "df_train$Fare[which(df_train$Fare == 0)] <- median(df_train$Fare, na.rm = TRUE)\n",
    "df_train$Fare[which(is.na(df_train$Fare))] <- median(df_train$Fare, na.rm = TRUE)\n",
    "df_train$Fare[which(df_train$Fare > 300)] <- median(df_train$Fare, na.rm = TRUE)"
   ]
  },
  {
   "cell_type": "markdown",
   "metadata": {},
   "source": [
    "Ahora vemos que el mínimo es \\$3.17. Volvemos a graficar el histograma."
   ]
  },
  {
   "cell_type": "code",
   "execution_count": 28,
   "metadata": {
    "collapsed": false
   },
   "outputs": [
    {
     "data": {
      "text/plain": [
       "   Min. 1st Qu.  Median    Mean 3rd Qu.    Max. \n",
       "  3.171   7.925  14.450  31.950  31.000 263.000 "
      ]
     },
     "metadata": {},
     "output_type": "display_data"
    },
    {
     "data": {},
     "metadata": {},
     "output_type": "display_data"
    },
    {
     "data": {
      "image/png": "[encoded data removed]",
      "text/plain": [
       "plot without title"
      ]
     },
     "metadata": {},
     "output_type": "display_data"
    }
   ],
   "source": [
    "summary(df_train$Fare)\n",
    "ggplot(data = df_train, aes(x = Fare)) + geom_histogram(binwidth = 6, col=\"black\", fill=\"blue\", alpha = .2)"
   ]
  },
  {
   "cell_type": "markdown",
   "metadata": {},
   "source": [
    "### Atributo: Cabin\n",
    "Cabina."
   ]
  },
  {
   "cell_type": "code",
   "execution_count": 29,
   "metadata": {
    "collapsed": false
   },
   "outputs": [
    {
     "name": "stdout",
     "output_type": "stream",
     "text": [
      " Factor w/ 186 levels \"A10\",\"A14\",\"A16\",..: NA 82 NA 56 NA NA 130 NA NA NA ...\n"
     ]
    },
    {
     "data": {
      "text/html": [
       "<ol class=list-inline>\n",
       "\t<li>NA</li>\n",
       "\t<li>C85</li>\n",
       "\t<li>NA</li>\n",
       "\t<li>C123</li>\n",
       "\t<li>NA</li>\n",
       "\t<li>NA</li>\n",
       "</ol>\n"
      ],
      "text/latex": [
       "\\begin{enumerate*}\n",
       "\\item NA\n",
       "\\item C85\n",
       "\\item NA\n",
       "\\item C123\n",
       "\\item NA\n",
       "\\item NA\n",
       "\\end{enumerate*}\n"
      ],
      "text/markdown": [
       "1. NA\n",
       "2. C85\n",
       "3. NA\n",
       "4. C123\n",
       "5. NA\n",
       "6. NA\n",
       "\n",
       "\n"
      ],
      "text/plain": [
       "[1] <NA> C85  <NA> C123 <NA> <NA>\n",
       "186 Levels: A10 A14 A16 A19 A20 A23 A24 A26 A31 A32 A34 A36 A5 A6 A7 ... F E57"
      ]
     },
     "metadata": {},
     "output_type": "display_data"
    },
    {
     "data": {
      "text/plain": [
       "\n",
       "FALSE  TRUE \n",
       "  295  1014 "
      ]
     },
     "metadata": {},
     "output_type": "display_data"
    },
    {
     "data": {
      "text/plain": [
       "\n",
       "FALSE  TRUE \n",
       " 0.23  0.77 "
      ]
     },
     "metadata": {},
     "output_type": "display_data"
    }
   ],
   "source": [
    "str(df_train$Cabin)\n",
    "head(df_train$Cabin)\n",
    "\n",
    "table(is.na(df_train$Cabin))\n",
    "round(prop.table(table(is.na(df_train$Cabin)) * 100),2)"
   ]
  },
  {
   "cell_type": "markdown",
   "metadata": {},
   "source": [
    "#### Imputación: Cabin\n",
    "\n",
    "No vamos a imputar estos datos porque falta el 75%."
   ]
  },
  {
   "cell_type": "markdown",
   "metadata": {},
   "source": [
    "### Atributo: Embarked\n",
    "Embarque. (C = Cherbourg; Q = Queenstown; S = Southampton)"
   ]
  },
  {
   "cell_type": "code",
   "execution_count": 30,
   "metadata": {
    "collapsed": false
   },
   "outputs": [
    {
     "name": "stdout",
     "output_type": "stream",
     "text": [
      " Factor w/ 3 levels \"C\",\"Q\",\"S\": 3 1 3 3 3 2 3 3 3 1 ...\n"
     ]
    },
    {
     "data": {
      "text/plain": [
       "\n",
       "  C   Q   S \n",
       "270 123 914 "
      ]
     },
     "metadata": {},
     "output_type": "display_data"
    },
    {
     "data": {
      "text/plain": [
       "\n",
       "    C     Q     S \n",
       "20.66  9.41 69.93 "
      ]
     },
     "metadata": {},
     "output_type": "display_data"
    },
    {
     "data": {
      "text/plain": [
       "\n",
       "FALSE  TRUE \n",
       " 1307     2 "
      ]
     },
     "metadata": {},
     "output_type": "display_data"
    }
   ],
   "source": [
    "str(df_train$Embarked)\n",
    "\n",
    "df_train$Embarked[df_train$Embarked == \"\"] <- NA\n",
    "\n",
    "table(df_train$Embarked)\n",
    "round(prop.table(table(df_train$Embarked)) *100, 2)\n",
    "\n",
    "table(is.na(df_train$Embarked))"
   ]
  },
  {
   "cell_type": "markdown",
   "metadata": {},
   "source": [
    "#### Imputación: Embarked\n",
    "\n",
    "Hay dos pasajeros que no tienen una Embarque asignado. Así que les asignaremos el valor más común que es S."
   ]
  },
  {
   "cell_type": "code",
   "execution_count": 31,
   "metadata": {
    "collapsed": false
   },
   "outputs": [],
   "source": [
    "idx <- which(is.na(df_train$Embarked))\n",
    "df_train$Embarked[idx] <- \"S\"\n",
    "df_train$Embarked <- factor(df_train$Embarked)"
   ]
  },
  {
   "cell_type": "code",
   "execution_count": 32,
   "metadata": {
    "collapsed": false
   },
   "outputs": [
    {
     "data": {},
     "metadata": {},
     "output_type": "display_data"
    },
    {
     "data": {
      "image/png": "[encoded data removed]",
      "text/plain": [
       "plot without title"
      ]
     },
     "metadata": {},
     "output_type": "display_data"
    }
   ],
   "source": [
    "ggplot(data = df_train, aes(x = Embarked)) + \n",
    "    geom_bar(col=\"black\", fill=\"blue\", alpha = .2) + \n",
    "    ggtitle('Atributo: Embarked') + \n",
    "    xlab('') + \n",
    "    ylab('No. de pasajeros')"
   ]
  },
  {
   "cell_type": "markdown",
   "metadata": {},
   "source": [
    "El 70% de los pasajeros partieron del mismo puerto."
   ]
  },
  {
   "cell_type": "markdown",
   "metadata": {},
   "source": [
    "***  \n",
    "### Construcción de nuevos atributos\n",
    "A partir de los atributos que ya tenemos construiremos nuevos atributos que nos pueden sumar poder predictivo a nuestro modelo."
   ]
  },
  {
   "cell_type": "markdown",
   "metadata": {},
   "source": [
    "### Atributo: Title\n",
    "Vamos a extraer el título honorífico de cada pasajero/tripulante y utilizarlo como un nuevo atributo."
   ]
  },
  {
   "cell_type": "code",
   "execution_count": 33,
   "metadata": {
    "collapsed": false
   },
   "outputs": [
    {
     "data": {
      "text/html": [
       "<ol class=list-inline>\n",
       "\t<li>'Mr'</li>\n",
       "\t<li>'Mrs'</li>\n",
       "\t<li>'Miss'</li>\n",
       "\t<li>'Master'</li>\n",
       "\t<li>'Don'</li>\n",
       "\t<li>'Rev'</li>\n",
       "\t<li>'Dr'</li>\n",
       "\t<li>'Mme'</li>\n",
       "\t<li>'Ms'</li>\n",
       "\t<li>'Major'</li>\n",
       "\t<li>'Lady'</li>\n",
       "\t<li>'Sir'</li>\n",
       "\t<li>'Mlle'</li>\n",
       "\t<li>'Col'</li>\n",
       "\t<li>'Capt'</li>\n",
       "\t<li>'the Countess'</li>\n",
       "\t<li>'Jonkheer'</li>\n",
       "\t<li>'Dona'</li>\n",
       "</ol>\n"
      ],
      "text/latex": [
       "\\begin{enumerate*}\n",
       "\\item 'Mr'\n",
       "\\item 'Mrs'\n",
       "\\item 'Miss'\n",
       "\\item 'Master'\n",
       "\\item 'Don'\n",
       "\\item 'Rev'\n",
       "\\item 'Dr'\n",
       "\\item 'Mme'\n",
       "\\item 'Ms'\n",
       "\\item 'Major'\n",
       "\\item 'Lady'\n",
       "\\item 'Sir'\n",
       "\\item 'Mlle'\n",
       "\\item 'Col'\n",
       "\\item 'Capt'\n",
       "\\item 'the Countess'\n",
       "\\item 'Jonkheer'\n",
       "\\item 'Dona'\n",
       "\\end{enumerate*}\n"
      ],
      "text/markdown": [
       "1. 'Mr'\n",
       "2. 'Mrs'\n",
       "3. 'Miss'\n",
       "4. 'Master'\n",
       "5. 'Don'\n",
       "6. 'Rev'\n",
       "7. 'Dr'\n",
       "8. 'Mme'\n",
       "9. 'Ms'\n",
       "10. 'Major'\n",
       "11. 'Lady'\n",
       "12. 'Sir'\n",
       "13. 'Mlle'\n",
       "14. 'Col'\n",
       "15. 'Capt'\n",
       "16. 'the Countess'\n",
       "17. 'Jonkheer'\n",
       "18. 'Dona'\n",
       "\n",
       "\n"
      ],
      "text/plain": [
       " [1] \"Mr\"           \"Mrs\"          \"Miss\"         \"Master\"       \"Don\"         \n",
       " [6] \"Rev\"          \"Dr\"           \"Mme\"          \"Ms\"           \"Major\"       \n",
       "[11] \"Lady\"         \"Sir\"          \"Mlle\"         \"Col\"          \"Capt\"        \n",
       "[16] \"the Countess\" \"Jonkheer\"     \"Dona\"        "
      ]
     },
     "metadata": {},
     "output_type": "display_data"
    },
    {
     "data": {
      "text/html": [
       "18"
      ],
      "text/latex": [
       "18"
      ],
      "text/markdown": [
       "18"
      ],
      "text/plain": [
       "[1] 18"
      ]
     },
     "metadata": {},
     "output_type": "display_data"
    },
    {
     "data": {
      "text/plain": [
       "\n",
       "        Capt          Col          Don         Dona           Dr     Jonkheer \n",
       "           1            4            1            1            8            1 \n",
       "        Lady        Major       Master         Miss         Mlle          Mme \n",
       "           1            2           61          260            2            1 \n",
       "          Mr          Mrs           Ms          Rev          Sir the Countess \n",
       "         757          197            2            8            1            1 "
      ]
     },
     "metadata": {},
     "output_type": "display_data"
    }
   ],
   "source": [
    "df_train$Title <- gsub(\"(.*, )|(\\\\..*)\", \"\", df_train$Name)\n",
    "unique(df_train$Title)\n",
    "length(unique(df_train$Title))\n",
    "table(df_train$Title)\n",
    "\n",
    "df_train$Title <- as.factor(df_train$Title)"
   ]
  },
  {
   "cell_type": "markdown",
   "metadata": {},
   "source": [
    "Tenemos 18 titulos honoríficos diferentes. La mayor parte corresponde a Mr. Mrs. y Miss. Hay varios titulos un tanto inusuales así que podríamos convertirlos a los titulos más comunes. Mme (Madame) y Mlle (Mademoiselle) son bastantes similares así que podríamos tomar como uno solo.\n",
    "Para los hombres tenemos titulos menos usuales como: Captain, Don, Major y Sir.\n",
    "Para las mujeres tenemos, Dona, Lady, Johnkeer and the Countess."
   ]
  },
  {
   "cell_type": "code",
   "execution_count": 34,
   "metadata": {
    "collapsed": false
   },
   "outputs": [
    {
     "data": {
      "text/plain": [
       "\n",
       "   Col     Dr   Lady Master   Miss   Mlle     Mr    Mrs     Ms    Rev    Sir \n",
       "     4      8      4     61    260      3    757    197      2      8      5 "
      ]
     },
     "metadata": {},
     "output_type": "display_data"
    }
   ],
   "source": [
    "df_train$Title[df_train$Title %in% c('Mme', 'Mlle')] <- 'Mlle'\n",
    "df_train$Title[df_train$Title %in% c('Capt', 'Don', 'Major', 'Sir')] <- 'Sir'\n",
    "df_train$Title[df_train$Title %in% c('Dona', 'Lady', 'the Countess', 'Jonkheer')] <- 'Lady'\n",
    "\n",
    "df_train$Title <- factor(df_train$Title)\n",
    "\n",
    "table(df_train$Title)"
   ]
  },
  {
   "cell_type": "code",
   "execution_count": 35,
   "metadata": {
    "collapsed": false
   },
   "outputs": [
    {
     "data": {},
     "metadata": {},
     "output_type": "display_data"
    },
    {
     "data": {
      "image/png": "[encoded data removed]",
      "text/plain": [
       "plot without title"
      ]
     },
     "metadata": {},
     "output_type": "display_data"
    }
   ],
   "source": [
    "ggplot(data = df_train, aes(x = Title)) + \n",
    "    geom_bar(col=\"black\", fill=\"blue\", alpha = .2) + \n",
    "    ggtitle('Atributo: Title') + \n",
    "    xlab('') + \n",
    "    ylab('No. de pasajeros') + \n",
    "    theme(axis.text.x = element_text(angle = 90, hjust = 1, vjust = 0.4))"
   ]
  },
  {
   "cell_type": "markdown",
   "metadata": {},
   "source": [
    "### Atributo: AgeD (Discretización de la edad)\n",
    "A partir de la edad vamos a obtener rangos de cada uno. Esto nos puede dar una mejor visión de la política: Niños y mujeres primero, con respecto a la prioridad en los botes salvavidas.\n",
    "\n",
    "Ahora discreticemos el atributo Age de la siguiente forma:\n",
    "1. Niño: entre 0 y 18 años\n",
    "2. Adulto: entre 18 y 50 años\n",
    "4. Anciano: mayor a 50 años"
   ]
  },
  {
   "cell_type": "code",
   "execution_count": 36,
   "metadata": {
    "collapsed": false
   },
   "outputs": [
    {
     "data": {
      "text/plain": [
       "\n",
       "  Adult   Child Elderly \n",
       "   1006     193     110 "
      ]
     },
     "metadata": {},
     "output_type": "display_data"
    },
    {
     "data": {
      "text/plain": [
       "\n",
       "  Adult   Child Elderly \n",
       "  76.85   14.74    8.40 "
      ]
     },
     "metadata": {},
     "output_type": "display_data"
    }
   ],
   "source": [
    "df_train$AgeD[df_train$Age >= 0] <- \"Child\"\n",
    "df_train$AgeD[df_train$Age > 18] <- \"Adult\"\n",
    "df_train$AgeD[df_train$Age >= 50] <- \"Elderly\"\n",
    "\n",
    "df_train$AgeD <- factor(df_train$AgeD)\n",
    "\n",
    "table(df_train$AgeD)\n",
    "round(prop.table(table(df_train$AgeD)) * 100,2)\n"
   ]
  },
  {
   "cell_type": "code",
   "execution_count": 37,
   "metadata": {
    "collapsed": false
   },
   "outputs": [
    {
     "data": {},
     "metadata": {},
     "output_type": "display_data"
    },
    {
     "data": {
      "image/png": "[encoded data removed]",
      "text/plain": [
       "plot without title"
      ]
     },
     "metadata": {},
     "output_type": "display_data"
    }
   ],
   "source": [
    "ggplot(data = df_train, aes(x = AgeD)) + \n",
    "    geom_bar(col=\"black\", fill=\"blue\", alpha = .2) + \n",
    "    ggtitle('Atributo: Edad') + \n",
    "    xlab('') + \n",
    "    ylab('No. de pasajeros') + \n",
    "    theme(axis.text.x = element_text(angle = 90, hjust = 1, vjust = 0.4))   "
   ]
  },
  {
   "cell_type": "markdown",
   "metadata": {},
   "source": [
    "3/4 de los pasajeros/tripulantes eran adultos."
   ]
  },
  {
   "cell_type": "markdown",
   "metadata": {},
   "source": [
    "### Atributo: Family\n",
    "A partir de los atributos SibSp y Parch podemos estimar el tamaño de la familia del pasajero."
   ]
  },
  {
   "cell_type": "code",
   "execution_count": 38,
   "metadata": {
    "collapsed": false
   },
   "outputs": [
    {
     "data": {
      "text/plain": [
       "\n",
       "  3   4   5   6   7   8   9  10  11 \n",
       "790 235 159  43  22  25  16   8  11 "
      ]
     },
     "metadata": {},
     "output_type": "display_data"
    },
    {
     "data": {
      "text/plain": [
       "\n",
       "    3     4     5     6     7     8     9    10    11 \n",
       "60.35 17.95 12.15  3.28  1.68  1.91  1.22  0.61  0.84 "
      ]
     },
     "metadata": {},
     "output_type": "display_data"
    }
   ],
   "source": [
    "df_train$Family <- as.integer(df_train$SibSp) + as.integer(df_train$Parch) + 1\n",
    "df_train$Family <- factor(df_train$Family)\n",
    "\n",
    "table(df_train$Family)\n",
    "round(prop.table(table(df_train$Family)) * 100, 2)"
   ]
  },
  {
   "cell_type": "markdown",
   "metadata": {},
   "source": [
    "Como vemos tenemos familia a partir de 3 hasta 11. Discretizaremos en rangos estos valores."
   ]
  },
  {
   "cell_type": "code",
   "execution_count": 39,
   "metadata": {
    "collapsed": false
   },
   "outputs": [
    {
     "data": {
      "text/plain": [
       "\n",
       " Large Medium  Small \n",
       "    11    114   1184 "
      ]
     },
     "metadata": {},
     "output_type": "display_data"
    }
   ],
   "source": [
    "df_train$FamilySize <- NULL\n",
    "df_train$Family <- as.integer(df_train$Family)\n",
    "\n",
    "df_train$FamilySize[df_train$Family > 0] <- \"Small\"\n",
    "df_train$FamilySize[df_train$Family >= 4] <- \"Medium\"\n",
    "df_train$FamilySize[df_train$Family > 8] <- \"Large\"\n",
    "\n",
    "df_train$FamilySize <- factor(df_train$FamilySize)\n",
    "\n",
    "table(df_train$FamilySize)"
   ]
  },
  {
   "cell_type": "code",
   "execution_count": 40,
   "metadata": {
    "collapsed": false
   },
   "outputs": [
    {
     "data": {},
     "metadata": {},
     "output_type": "display_data"
    },
    {
     "data": {
      "image/png": "[encoded data removed]",
      "text/plain": [
       "plot without title"
      ]
     },
     "metadata": {},
     "output_type": "display_data"
    }
   ],
   "source": [
    "ggplot(data = df_train, aes(x = FamilySize)) + \n",
    "    geom_bar(col=\"black\", fill=\"blue\", alpha = .2) + \n",
    "    ggtitle('Atributo: Family Size') + \n",
    "    xlab('') + \n",
    "    ylab('No. de pasajeros') + \n",
    "    theme(axis.text.x = element_text(angle = 90, hjust = 1, vjust = 0.4))"
   ]
  },
  {
   "cell_type": "markdown",
   "metadata": {},
   "source": [
    "### Atributo: Deck\n",
    "La cabina de cada pasajero está compuesto por una letra que corresponde a la cubierta seguido del número de cabina. Ahora vamos a extraer la cubierta del atributo cabina porque quizás sea un buen predictor.\n",
    "Hay pasajeros que tienen asignados tres cabinas por ej. C23 C25 C27, pero la cubierta se mantiene consistente así que de todas formas vamos a extraer el primer caracter."
   ]
  },
  {
   "cell_type": "code",
   "execution_count": 41,
   "metadata": {
    "collapsed": false
   },
   "outputs": [
    {
     "data": {
      "text/html": [
       "<ol class=list-inline>\n",
       "\t<li>C85</li>\n",
       "\t<li>C123</li>\n",
       "\t<li>E46</li>\n",
       "\t<li>G6</li>\n",
       "\t<li>C103</li>\n",
       "\t<li>D56</li>\n",
       "\t<li>A6</li>\n",
       "\t<li>C23 C25 C27</li>\n",
       "\t<li>B78</li>\n",
       "\t<li>D33</li>\n",
       "</ol>\n"
      ],
      "text/latex": [
       "\\begin{enumerate*}\n",
       "\\item C85\n",
       "\\item C123\n",
       "\\item E46\n",
       "\\item G6\n",
       "\\item C103\n",
       "\\item D56\n",
       "\\item A6\n",
       "\\item C23 C25 C27\n",
       "\\item B78\n",
       "\\item D33\n",
       "\\end{enumerate*}\n"
      ],
      "text/markdown": [
       "1. C85\n",
       "2. C123\n",
       "3. E46\n",
       "4. G6\n",
       "5. C103\n",
       "6. D56\n",
       "7. A6\n",
       "8. C23 C25 C27\n",
       "9. B78\n",
       "10. D33\n",
       "\n",
       "\n"
      ],
      "text/plain": [
       " [1] C85         C123        E46         G6          C103        D56        \n",
       " [7] A6          C23 C25 C27 B78         D33        \n",
       "186 Levels: A10 A14 A16 A19 A20 A23 A24 A26 A31 A32 A34 A36 A5 A6 A7 ... F E57"
      ]
     },
     "metadata": {},
     "output_type": "display_data"
    }
   ],
   "source": [
    "head(df_train$Cabin[!is.na(df_train$Cabin)], 10)"
   ]
  },
  {
   "cell_type": "code",
   "execution_count": 42,
   "metadata": {
    "collapsed": false
   },
   "outputs": [
    {
     "data": {
      "text/plain": [
       "\n",
       " A  B  C  D  E  F  G  T \n",
       "22 65 94 46 41 21  5  1 "
      ]
     },
     "metadata": {},
     "output_type": "display_data"
    }
   ],
   "source": [
    "df_train$Deck <- substring(df_train$Cabin, 1, 1)\n",
    "df_train$Deck <- factor(df_train$Deck)\n",
    "\n",
    "table(df_train$Deck)"
   ]
  },
  {
   "cell_type": "code",
   "execution_count": 43,
   "metadata": {
    "collapsed": false
   },
   "outputs": [
    {
     "data": {},
     "metadata": {},
     "output_type": "display_data"
    },
    {
     "data": {
      "image/png": "[encoded data removed]",
      "text/plain": [
       "plot without title"
      ]
     },
     "metadata": {},
     "output_type": "display_data"
    }
   ],
   "source": [
    "ggplot(data = subset(df_train, !is.na(Deck)), aes(x = Deck)) + \n",
    "    geom_bar(col=\"black\", fill=\"blue\", alpha = .2) + \n",
    "    ggtitle('Atributo: Deck') + \n",
    "    xlab('') + \n",
    "    ylab('No. de pasajeros') + \n",
    "    theme(axis.text.x = element_text(angle = 90, hjust = 1, vjust = 0.4))"
   ]
  },
  {
   "cell_type": "markdown",
   "metadata": {},
   "source": [
    "### Atributo: WomanOrChild\n",
    "Construiremos un atributo que indica si el pasajero era mujer o niño, es decir, tenía prioridad con respecto a los botes salvavidas."
   ]
  },
  {
   "cell_type": "code",
   "execution_count": 44,
   "metadata": {
    "collapsed": true
   },
   "outputs": [],
   "source": [
    "df_train$WomanOrChild <- ifelse(df_train$Sex == 'female' | df_train$AgeD == \"Child\", \"Yes\", \"No\")\n",
    "\n",
    "df_train$WomanOrChild <- factor(df_train$WomanOrChild)"
   ]
  },
  {
   "cell_type": "code",
   "execution_count": 45,
   "metadata": {
    "collapsed": false
   },
   "outputs": [
    {
     "data": {},
     "metadata": {},
     "output_type": "display_data"
    },
    {
     "data": {
      "image/png": "[encoded data removed]",
      "text/plain": [
       "plot without title"
      ]
     },
     "metadata": {},
     "output_type": "display_data"
    }
   ],
   "source": [
    "ggplot(df_train, aes(x = WomanOrChild)) + \n",
    "    geom_bar(col=\"black\", fill=\"blue\", alpha = .2) + \n",
    "    ggtitle('Atributo: WomanOrChild') + \n",
    "    xlab('') + \n",
    "    ylab('No. de pasajeros') + \n",
    "    theme(axis.text.x = element_text(angle = 90, hjust = 1, vjust = 0.4))"
   ]
  },
  {
   "cell_type": "markdown",
   "metadata": {},
   "source": [
    "*** \n",
    "\n",
    "### Análisis multivariado\n",
    "\n",
    "Ahora veremos como se relacionan las variables entre sí para encontrar correlaciones."
   ]
  },
  {
   "cell_type": "code",
   "execution_count": 46,
   "metadata": {
    "collapsed": false
   },
   "outputs": [
    {
     "name": "stdout",
     "output_type": "stream",
     "text": [
      "'data.frame':\t1309 obs. of  18 variables:\n",
      " $ PassengerId : int  1 2 3 4 5 6 7 8 9 10 ...\n",
      " $ Survived    : Factor w/ 2 levels \"No\",\"Yes\": 1 2 2 2 1 1 1 1 2 2 ...\n",
      " $ Pclass      : Factor w/ 3 levels \"1st\",\"2nd\",\"3rd\": 3 1 3 1 3 3 1 3 3 2 ...\n",
      " $ Name        : Factor w/ 1307 levels \"Abbing, Mr. Anthony\",..: 109 191 358 277 16 559 520 629 417 581 ...\n",
      " $ Sex         : Factor w/ 2 levels \"female\",\"male\": 2 1 1 1 2 2 2 2 1 1 ...\n",
      " $ Age         : num  22 38 26 35 35 ...\n",
      " $ SibSp       : Factor w/ 7 levels \"0\",\"1\",\"2\",\"3\",..: 2 2 1 2 1 1 1 4 1 2 ...\n",
      " $ Parch       : Factor w/ 8 levels \"0\",\"1\",\"2\",\"3\",..: 1 1 1 1 1 1 1 2 3 1 ...\n",
      " $ Ticket      : int  524 597 670 50 473 276 86 396 345 133 ...\n",
      " $ Fare        : num  7.25 71.28 7.92 53.1 8.05 ...\n",
      " $ Cabin       : Factor w/ 186 levels \"A10\",\"A14\",\"A16\",..: NA 82 NA 56 NA NA 130 NA NA NA ...\n",
      " $ Embarked    : Factor w/ 3 levels \"C\",\"Q\",\"S\": 3 1 3 3 3 2 3 3 3 1 ...\n",
      " $ Title       : Factor w/ 11 levels \"Col\",\"Dr\",\"Lady\",..: 7 8 5 8 7 7 7 4 8 8 ...\n",
      " $ AgeD        : Factor w/ 3 levels \"Adult\",\"Child\",..: 1 1 1 1 1 1 3 2 1 2 ...\n",
      " $ Family      : int  2 2 1 2 1 1 1 5 3 2 ...\n",
      " $ FamilySize  : Factor w/ 3 levels \"Large\",\"Medium\",..: 3 3 3 3 3 3 3 2 3 3 ...\n",
      " $ Deck        : Factor w/ 8 levels \"A\",\"B\",\"C\",\"D\",..: NA 3 NA 3 NA NA 5 NA NA NA ...\n",
      " $ WomanOrChild: Factor w/ 2 levels \"No\",\"Yes\": 1 2 2 2 1 1 1 2 2 2 ...\n"
     ]
    }
   ],
   "source": [
    "str(df_train)"
   ]
  },
  {
   "cell_type": "markdown",
   "metadata": {},
   "source": [
    "### Atributos: Pclass vs. AgeD"
   ]
  },
  {
   "cell_type": "code",
   "execution_count": 47,
   "metadata": {
    "collapsed": false
   },
   "outputs": [
    {
     "data": {},
     "metadata": {},
     "output_type": "display_data"
    },
    {
     "data": {
      "image/png": "[encoded data removed]",
      "text/plain": [
       "plot without title"
      ]
     },
     "metadata": {},
     "output_type": "display_data"
    }
   ],
   "source": [
    "ggplot(data = subset(df_train, !is.na(Survived)), aes(Survived, ..count..)) + \n",
    "    geom_bar(col=\"black\", fill=\"blue\", alpha = .2, position = \"dodge\") +\n",
    "    ggtitle(\"Sobrevivientes según clase social y edad\") +\n",
    "    facet_grid(Pclass ~ AgeD)"
   ]
  },
  {
   "cell_type": "markdown",
   "metadata": {},
   "source": [
    "    Podemos ver que los que tuvieron menos suerte son los adultos pertenecientes a la tercera clase.\n",
    "    Los niños que pertenecían a la primera clase fueron más afortunados que los demás."
   ]
  },
  {
   "cell_type": "markdown",
   "metadata": {},
   "source": [
    "### Atributos: Pclass vs. Sex"
   ]
  },
  {
   "cell_type": "code",
   "execution_count": 48,
   "metadata": {
    "collapsed": false
   },
   "outputs": [
    {
     "data": {},
     "metadata": {},
     "output_type": "display_data"
    },
    {
     "data": {
      "image/png": "[encoded data removed]",
      "text/plain": [
       "plot without title"
      ]
     },
     "metadata": {},
     "output_type": "display_data"
    }
   ],
   "source": [
    "ggplot(data = subset(df_train, !is.na(Survived)), aes(Survived, ..count..)) + \n",
    "    geom_bar(col=\"black\", fill=\"blue\", alpha = .2, position = \"dodge\") +\n",
    "    ggtitle(\"Sobrevivientes según clase social y sexo\") +\n",
    "    facet_grid(Pclass ~ Sex)"
   ]
  },
  {
   "cell_type": "markdown",
   "metadata": {},
   "source": [
    "    Es mucho mayor la proporción de mujeres que sobrevivieron en todas las clases, esto es debido a la prioridad que tenían las mujeres para subirse a los botes salvavidas.\n",
    "    Las mujeres de tercera clase tuvieron fueron menos afortunadas.\n",
    "    En la segunda clase sobrevivieron muy pocos hombres."
   ]
  },
  {
   "cell_type": "markdown",
   "metadata": {},
   "source": [
    "### Atributos: AgeD vs. Sex"
   ]
  },
  {
   "cell_type": "code",
   "execution_count": 49,
   "metadata": {
    "collapsed": false
   },
   "outputs": [
    {
     "data": {},
     "metadata": {},
     "output_type": "display_data"
    },
    {
     "data": {
      "image/png": "[encoded data removed]",
      "text/plain": [
       "plot without title"
      ]
     },
     "metadata": {},
     "output_type": "display_data"
    }
   ],
   "source": [
    "ggplot(data = subset(df_train, !is.na(Survived)), aes(Survived, ..count..)) + \n",
    "    geom_bar(col=\"black\", fill=\"blue\", alpha = .2, position = \"dodge\") +\n",
    "    ggtitle(\"Sobrevivientes según edad y sexo\") +\n",
    "    facet_grid(AgeD ~ Sex)"
   ]
  },
  {
   "cell_type": "markdown",
   "metadata": {},
   "source": [
    "    Según la política de prioridad de mujeres y niños la columna \"female\" y la fila \"Child\" por el lado del \"No\" deberían ser más bajas que las del \"Yes\". No así cumpliendose para los niños donde la mayor parte no pudo sobrevivir.\n",
    "    Los ancianos tenían menos chances de sobrevivir siendo hombres."
   ]
  },
  {
   "cell_type": "markdown",
   "metadata": {},
   "source": [
    "### Atributos: Pclass vs FamilySize"
   ]
  },
  {
   "cell_type": "code",
   "execution_count": 50,
   "metadata": {
    "collapsed": false
   },
   "outputs": [
    {
     "data": {},
     "metadata": {},
     "output_type": "display_data"
    },
    {
     "data": {
      "image/png": "[encoded data removed]",
      "text/plain": [
       "plot without title"
      ]
     },
     "metadata": {},
     "output_type": "display_data"
    }
   ],
   "source": [
    "ggplot(data = subset(df_train, !is.na(Survived)), aes(Survived, ..count..)) + \n",
    "    geom_bar(col=\"black\", fill=\"blue\", alpha = .2, position = \"dodge\") +\n",
    "    ggtitle(\"Sobrevivientes según clase y\\ntamaño de familia\") +\n",
    "    facet_grid(Pclass ~ FamilySize)"
   ]
  },
  {
   "cell_type": "markdown",
   "metadata": {},
   "source": [
    "    En la tercera clase las familias más pequeñas tuvieron menos suerte. En cambio, en la segunda clase las familias medianas tuvieron mas chances de sobrevivir."
   ]
  },
  {
   "cell_type": "markdown",
   "metadata": {},
   "source": [
    "### Atributos: Pclass vs Deck"
   ]
  },
  {
   "cell_type": "code",
   "execution_count": 51,
   "metadata": {
    "collapsed": false
   },
   "outputs": [
    {
     "data": {},
     "metadata": {},
     "output_type": "display_data"
    },
    {
     "data": {
      "image/png": "[encoded data removed]",
      "text/plain": [
       "plot without title"
      ]
     },
     "metadata": {},
     "output_type": "display_data"
    }
   ],
   "source": [
    "df_temp <- subset(df_train, !is.na(Deck))\n",
    "ggplot(data = subset(df_temp, !is.na(Survived)), aes(Survived, ..count..)) + \n",
    "    geom_bar(col=\"black\", fill=\"blue\", alpha = .2, position = \"dodge\") +\n",
    "    ggtitle(\"Sobrevivientes según clase y cubierta\") +\n",
    "    facet_grid(Pclass ~ Deck)"
   ]
  },
  {
   "cell_type": "markdown",
   "metadata": {},
   "source": [
    "### Atributos: Pclass vs. Embarked"
   ]
  },
  {
   "cell_type": "code",
   "execution_count": 52,
   "metadata": {
    "collapsed": false
   },
   "outputs": [
    {
     "data": {},
     "metadata": {},
     "output_type": "display_data"
    },
    {
     "data": {
      "image/png": "[encoded data removed]",
      "text/plain": [
       "plot without title"
      ]
     },
     "metadata": {},
     "output_type": "display_data"
    }
   ],
   "source": [
    "ggplot(data = subset(df_train, !is.na(Survived)), aes(Survived, ..count..)) + \n",
    "    geom_bar(col=\"black\", fill=\"blue\", alpha = .2, position = \"dodge\") +\n",
    "    ggtitle(\"Sobrevivientes según clase y cubierta\") +\n",
    "    facet_grid(Pclass ~ Embarked)"
   ]
  },
  {
   "cell_type": "markdown",
   "metadata": {},
   "source": [
    "    En Cherbourg embarcaron más gente de primera clase. En cambio, en Southampton la amplia mayoría pertenecía a tercera clase."
   ]
  },
  {
   "cell_type": "markdown",
   "metadata": {},
   "source": [
    "### Atributos: Pclass vs. Title"
   ]
  },
  {
   "cell_type": "code",
   "execution_count": 53,
   "metadata": {
    "collapsed": false
   },
   "outputs": [
    {
     "data": {},
     "metadata": {},
     "output_type": "display_data"
    },
    {
     "data": {
      "image/png": "[encoded data removed]",
      "text/plain": [
       "plot without title"
      ]
     },
     "metadata": {},
     "output_type": "display_data"
    }
   ],
   "source": [
    "ggplot(data = subset(df_train, !is.na(Survived)), aes(Survived, ..count..)) + \n",
    "    geom_bar(col=\"black\", fill=\"blue\", alpha = .2, position = \"dodge\") +\n",
    "    ggtitle(\"Sobrevivientes según clase\\n y titulo honorífico\") +\n",
    "    facet_grid(Pclass ~ Title)"
   ]
  },
  {
   "cell_type": "markdown",
   "metadata": {},
   "source": [
    "### Atributos: Survived vs. Fare"
   ]
  },
  {
   "cell_type": "code",
   "execution_count": 54,
   "metadata": {
    "collapsed": false
   },
   "outputs": [
    {
     "data": {},
     "metadata": {},
     "output_type": "display_data"
    },
    {
     "data": {
      "image/png": "[encoded data removed]",
      "text/plain": [
       "plot without title"
      ]
     },
     "metadata": {},
     "output_type": "display_data"
    }
   ],
   "source": [
    "ggplot(data = subset(df_train, !is.na(Survived)), aes(x= Survived, y = Fare)) + \n",
    "    geom_boxplot() +\n",
    "    ggtitle(\"Sobrevivientes según tarifa del ticket\")"
   ]
  },
  {
   "cell_type": "markdown",
   "metadata": {},
   "source": [
    "### Atributos: Pclass vs. Fare"
   ]
  },
  {
   "cell_type": "code",
   "execution_count": 55,
   "metadata": {
    "collapsed": false
   },
   "outputs": [
    {
     "data": {},
     "metadata": {},
     "output_type": "display_data"
    },
    {
     "data": {
      "image/png": "[encoded data removed]",
      "text/plain": [
       "plot without title"
      ]
     },
     "metadata": {},
     "output_type": "display_data"
    }
   ],
   "source": [
    "ggplot(data = subset(df_train, !is.na(Survived)), aes(x= Survived, y = Fare)) + \n",
    "    geom_boxplot() +\n",
    "    ggtitle(\"Sobrevivientes según clase\\n y tarifa del ticket\") +\n",
    "    facet_grid(Pclass ~ Embarked)"
   ]
  },
  {
   "cell_type": "markdown",
   "metadata": {},
   "source": [
    "    Los tickets más caros eran los de primera clases obviamente, en especial de los que embarcaron en Cherbourg y Southampton."
   ]
  },
  {
   "cell_type": "markdown",
   "metadata": {},
   "source": [
    "### Atributos: Embarked vs FamilySize"
   ]
  },
  {
   "cell_type": "code",
   "execution_count": 56,
   "metadata": {
    "collapsed": false
   },
   "outputs": [
    {
     "data": {},
     "metadata": {},
     "output_type": "display_data"
    },
    {
     "data": {
      "image/png": "[encoded data removed]",
      "text/plain": [
       "plot without title"
      ]
     },
     "metadata": {},
     "output_type": "display_data"
    }
   ],
   "source": [
    "ggplot(data = df_train, aes(Pclass, ..count..)) + \n",
    "    geom_bar(col=\"black\", fill=\"blue\", alpha = .2, position = \"dodge\") +\n",
    "    ggtitle(\"Tamaño de familias según embarque\") +\n",
    "    facet_grid(Embarked ~ FamilySize)"
   ]
  },
  {
   "cell_type": "markdown",
   "metadata": {},
   "source": [
    "### Atributos: Pclass vs WomanOrChild"
   ]
  },
  {
   "cell_type": "code",
   "execution_count": 57,
   "metadata": {
    "collapsed": false
   },
   "outputs": [
    {
     "data": {},
     "metadata": {},
     "output_type": "display_data"
    },
    {
     "data": {
      "image/png": "[encoded data removed]",
      "text/plain": [
       "plot without title"
      ]
     },
     "metadata": {},
     "output_type": "display_data"
    }
   ],
   "source": [
    "ggplot(data = subset(df_train, !is.na(Survived)), aes(Survived, ..count..)) + \n",
    "    geom_bar(col=\"black\", fill=\"blue\", alpha = .2, position = \"dodge\") +\n",
    "    ggtitle(\"Sobrevivientes según política\\n mujeres y niños primero\") +\n",
    "    facet_grid(Pclass ~ WomanOrChild)"
   ]
  },
  {
   "cell_type": "markdown",
   "metadata": {},
   "source": [
    "    La prioridad de \"mujeres y niños primero\" se cumple para la primera y segunda clase, no así para la tercera clase donde la mayoría de las mujeres o niños no sobrevivieron.\n",
    "    De igual forma la mayoría de los pasajeros que no eran mujeres o niños no sobrevivieron al hundimiento."
   ]
  },
  {
   "cell_type": "markdown",
   "metadata": {},
   "source": [
    "*** \n",
    "## Preparación de datos"
   ]
  },
  {
   "cell_type": "code",
   "execution_count": 59,
   "metadata": {
    "collapsed": false
   },
   "outputs": [
    {
     "name": "stdout",
     "output_type": "stream",
     "text": [
      "'data.frame':\t1309 obs. of  18 variables:\n",
      " $ PassengerId : int  1 2 3 4 5 6 7 8 9 10 ...\n",
      " $ Survived    : Factor w/ 2 levels \"No\",\"Yes\": 1 2 2 2 1 1 1 1 2 2 ...\n",
      " $ Pclass      : Factor w/ 3 levels \"1st\",\"2nd\",\"3rd\": 3 1 3 1 3 3 1 3 3 2 ...\n",
      " $ Name        : Factor w/ 1307 levels \"Abbing, Mr. Anthony\",..: 109 191 358 277 16 559 520 629 417 581 ...\n",
      " $ Sex         : Factor w/ 2 levels \"female\",\"male\": 2 1 1 1 2 2 2 2 1 1 ...\n",
      " $ Age         : num  22 38 26 35 35 ...\n",
      " $ SibSp       : Factor w/ 7 levels \"0\",\"1\",\"2\",\"3\",..: 2 2 1 2 1 1 1 4 1 2 ...\n",
      " $ Parch       : Factor w/ 8 levels \"0\",\"1\",\"2\",\"3\",..: 1 1 1 1 1 1 1 2 3 1 ...\n",
      " $ Ticket      : int  524 597 670 50 473 276 86 396 345 133 ...\n",
      " $ Fare        : num  7.25 71.28 7.92 53.1 8.05 ...\n",
      " $ Cabin       : Factor w/ 186 levels \"A10\",\"A14\",\"A16\",..: NA 82 NA 56 NA NA 130 NA NA NA ...\n",
      " $ Embarked    : Factor w/ 3 levels \"C\",\"Q\",\"S\": 3 1 3 3 3 2 3 3 3 1 ...\n",
      " $ Title       : Factor w/ 11 levels \"Col\",\"Dr\",\"Lady\",..: 7 8 5 8 7 7 7 4 8 8 ...\n",
      " $ AgeD        : Factor w/ 3 levels \"Adult\",\"Child\",..: 1 1 1 1 1 1 3 2 1 2 ...\n",
      " $ Family      : int  2 2 1 2 1 1 1 5 3 2 ...\n",
      " $ FamilySize  : Factor w/ 3 levels \"Large\",\"Medium\",..: 3 3 3 3 3 3 3 2 3 3 ...\n",
      " $ Deck        : Factor w/ 8 levels \"A\",\"B\",\"C\",\"D\",..: NA 3 NA 3 NA NA 5 NA NA NA ...\n",
      " $ WomanOrChild: Factor w/ 2 levels \"No\",\"Yes\": 1 2 2 2 1 1 1 2 2 2 ...\n"
     ]
    }
   ],
   "source": [
    "str(df_train)"
   ]
  },
  {
   "cell_type": "code",
   "execution_count": 60,
   "metadata": {
    "collapsed": false
   },
   "outputs": [
    {
     "name": "stdout",
     "output_type": "stream",
     "text": [
      "'data.frame':\t1309 obs. of  9 variables:\n",
      " $ Survived    : Factor w/ 2 levels \"No\",\"Yes\": 1 2 2 2 1 1 1 1 2 2 ...\n",
      " $ Pclass      : Factor w/ 3 levels \"1st\",\"2nd\",\"3rd\": 3 1 3 1 3 3 1 3 3 2 ...\n",
      " $ Sex         : Factor w/ 2 levels \"female\",\"male\": 2 1 1 1 2 2 2 2 1 1 ...\n",
      " $ Fare        : num  7.25 71.28 7.92 53.1 8.05 ...\n",
      " $ Embarked    : Factor w/ 3 levels \"C\",\"Q\",\"S\": 3 1 3 3 3 2 3 3 3 1 ...\n",
      " $ Title       : Factor w/ 11 levels \"Col\",\"Dr\",\"Lady\",..: 7 8 5 8 7 7 7 4 8 8 ...\n",
      " $ AgeD        : Factor w/ 3 levels \"Adult\",\"Child\",..: 1 1 1 1 1 1 3 2 1 2 ...\n",
      " $ WomanOrChild: Factor w/ 2 levels \"No\",\"Yes\": 1 2 2 2 1 1 1 2 2 2 ...\n",
      " $ FamilySize  : Factor w/ 3 levels \"Large\",\"Medium\",..: 3 3 3 3 3 3 3 2 3 3 ...\n"
     ]
    }
   ],
   "source": [
    "dataset <- df_train[, c('Survived', 'Pclass', 'Sex', 'Fare', 'Embarked', 'Title', \n",
    "                         'AgeD', 'WomanOrChild', 'FamilySize')]\n",
    "str(dataset)"
   ]
  },
  {
   "cell_type": "code",
   "execution_count": 61,
   "metadata": {
    "collapsed": false
   },
   "outputs": [
    {
     "name": "stdout",
     "output_type": "stream",
     "text": [
      "'data.frame':\t714 obs. of  9 variables:\n",
      " $ Survived    : Factor w/ 2 levels \"No\",\"Yes\": 1 2 2 2 1 1 1 2 2 2 ...\n",
      " $ Pclass      : Factor w/ 3 levels \"1st\",\"2nd\",\"3rd\": 3 1 3 1 3 1 3 3 2 3 ...\n",
      " $ Sex         : Factor w/ 2 levels \"female\",\"male\": 2 1 1 1 2 2 2 1 1 1 ...\n",
      " $ Fare        : num  7.25 71.28 7.92 53.1 8.46 ...\n",
      " $ Embarked    : Factor w/ 3 levels \"C\",\"Q\",\"S\": 3 1 3 3 2 3 3 3 1 3 ...\n",
      " $ Title       : Factor w/ 11 levels \"Col\",\"Dr\",\"Lady\",..: 7 8 5 8 7 7 4 8 8 5 ...\n",
      " $ AgeD        : Factor w/ 3 levels \"Adult\",\"Child\",..: 1 1 1 1 1 3 2 1 2 2 ...\n",
      " $ WomanOrChild: Factor w/ 2 levels \"No\",\"Yes\": 1 2 2 2 1 1 2 2 2 2 ...\n",
      " $ FamilySize  : Factor w/ 3 levels \"Large\",\"Medium\",..: 3 3 3 3 3 3 2 3 3 3 ...\n",
      "'data.frame':\t177 obs. of  8 variables:\n",
      " $ Pclass      : Factor w/ 3 levels \"1st\",\"2nd\",\"3rd\": 3 3 2 3 1 3 1 3 3 3 ...\n",
      " $ Sex         : Factor w/ 2 levels \"female\",\"male\": 2 2 2 1 2 1 1 1 2 2 ...\n",
      " $ Fare        : num  8.05 8.05 13 18 35.5 ...\n",
      " $ Embarked    : Factor w/ 3 levels \"C\",\"Q\",\"S\": 3 3 3 3 3 3 1 1 1 2 ...\n",
      " $ Title       : Factor w/ 11 levels \"Col\",\"Dr\",\"Lady\",..: 7 7 7 8 7 8 8 5 7 7 ...\n",
      " $ AgeD        : Factor w/ 3 levels \"Adult\",\"Child\",..: 1 1 1 1 1 1 1 2 1 1 ...\n",
      " $ WomanOrChild: Factor w/ 2 levels \"No\",\"Yes\": 1 1 1 2 1 2 2 2 1 1 ...\n",
      " $ FamilySize  : Factor w/ 3 levels \"Large\",\"Medium\",..: 3 3 3 3 3 2 3 3 3 3 ...\n"
     ]
    }
   ],
   "source": [
    "df <- dataset[1:train.size, ]\n",
    "\n",
    "trainIndex <- createDataPartition(df$Survived, p = .8, list = FALSE, times = 1)\n",
    "df.train <- df[ trainIndex,]\n",
    "df.test  <- df[-trainIndex,]\n",
    "\n",
    "y <- df.test$Survived\n",
    "df.test$Survived <- NULL\n",
    "\n",
    "str(df.train)\n",
    "str(df.test)"
   ]
  },
  {
   "cell_type": "markdown",
   "metadata": {},
   "source": [
    "#### Importancia de atributos"
   ]
  },
  {
   "cell_type": "code",
   "execution_count": 62,
   "metadata": {
    "collapsed": false
   },
   "outputs": [
    {
     "data": {
      "text/html": [
       "<table>\n",
       "<thead><tr><th></th><th scope=col>attr_importance</th></tr></thead>\n",
       "<tbody>\n",
       "\t<tr><th scope=row>Pclass</th><td>0.059815317</td></tr>\n",
       "\t<tr><th scope=row>Sex</th><td>0.211951297</td></tr>\n",
       "\t<tr><th scope=row>Fare</th><td>0.064519014</td></tr>\n",
       "\t<tr><th scope=row>Embarked</th><td>0.021286635</td></tr>\n",
       "\t<tr><th scope=row>Title</th><td>0.136043501</td></tr>\n",
       "\t<tr><th scope=row>AgeD</th><td>0.008433918</td></tr>\n",
       "\t<tr><th scope=row>WomanOrChild</th><td>0.191535814</td></tr>\n",
       "\t<tr><th scope=row>FamilySize</th><td>0.014664516</td></tr>\n",
       "</tbody>\n",
       "</table>\n"
      ],
      "text/latex": [
       "\\begin{tabular}{r|l}\n",
       "  & attr\\_importance\\\\\n",
       "\\hline\n",
       "\tPclass & 0.059815317\\\\\n",
       "\tSex & 0.211951297\\\\\n",
       "\tFare & 0.064519014\\\\\n",
       "\tEmbarked & 0.021286635\\\\\n",
       "\tTitle & 0.136043501\\\\\n",
       "\tAgeD & 0.008433918\\\\\n",
       "\tWomanOrChild & 0.191535814\\\\\n",
       "\tFamilySize & 0.014664516\\\\\n",
       "\\end{tabular}\n"
      ],
      "text/markdown": [
       "\n",
       "| <!--/--> | attr_importance | \n",
       "|---|---|---|---|---|---|---|---|\n",
       "| Pclass | 0.059815317 | \n",
       "| Sex | 0.211951297 | \n",
       "| Fare | 0.064519014 | \n",
       "| Embarked | 0.021286635 | \n",
       "| Title | 0.136043501 | \n",
       "| AgeD | 0.008433918 | \n",
       "| WomanOrChild | 0.191535814 | \n",
       "| FamilySize | 0.014664516 | \n",
       "\n",
       "\n"
      ],
      "text/plain": [
       "             attr_importance\n",
       "Pclass       0.059815317    \n",
       "Sex          0.211951297    \n",
       "Fare         0.064519014    \n",
       "Embarked     0.021286635    \n",
       "Title        0.136043501    \n",
       "AgeD         0.008433918    \n",
       "WomanOrChild 0.191535814    \n",
       "FamilySize   0.014664516    "
      ]
     },
     "metadata": {},
     "output_type": "display_data"
    }
   ],
   "source": [
    "res <- gain.ratio(Survived ~ ., data = df.train)\n",
    "res"
   ]
  },
  {
   "cell_type": "code",
   "execution_count": 63,
   "metadata": {
    "collapsed": false
   },
   "outputs": [
    {
     "data": {
      "image/png": "[encoded data removed]",
      "text/plain": [
       "plot without title"
      ]
     },
     "metadata": {},
     "output_type": "display_data"
    }
   ],
   "source": [
    "matrixplot(df.train, interactive = F, sortby = \"Survived\")"
   ]
  },
  {
   "cell_type": "markdown",
   "metadata": {},
   "source": [
    "*** \n",
    "## Modelado"
   ]
  },
  {
   "cell_type": "markdown",
   "metadata": {},
   "source": [
    "### Boosting algorithms\n",
    "Consiste en construir modelos (tipicamente del mismo tipo) en donde cada uno aprende a arreglar los errores de predicción a partir de un modelo anterior en la cadena.\n",
    "\n",
    "En primer lugar utilizaremos los algoritmos con boosting: C5.0 y Stochastic Gradient Boosting (gbm)"
   ]
  },
  {
   "cell_type": "code",
   "execution_count": 64,
   "metadata": {
    "collapsed": false
   },
   "outputs": [
    {
     "name": "stderr",
     "output_type": "stream",
     "text": [
      "Loading required package: C50\n",
      "Loading required package: plyr\n"
     ]
    },
    {
     "data": {
      "text/plain": [
       "\n",
       "Call:\n",
       "summary.resamples(object = boosting_results)\n",
       "\n",
       "Models: c5.0, gbm \n",
       "Number of resamples: 30 \n",
       "\n",
       "Accuracy \n",
       "       Min. 1st Qu. Median   Mean 3rd Qu.   Max. NA's\n",
       "c5.0 0.7639  0.7945 0.8194 0.8254  0.8562 0.8889    0\n",
       "gbm  0.7222  0.7923 0.8322 0.8249  0.8592 0.9167    0\n",
       "\n",
       "Kappa \n",
       "       Min. 1st Qu. Median   Mean 3rd Qu.   Max. NA's\n",
       "c5.0 0.4724  0.5521 0.5938 0.6165  0.6767 0.7600    0\n",
       "gbm  0.3919  0.5455 0.6330 0.6169  0.6866 0.8247    0\n"
      ]
     },
     "metadata": {},
     "output_type": "display_data"
    },
    {
     "data": {},
     "metadata": {},
     "output_type": "display_data"
    },
    {
     "data": {
      "image/png": "[encoded data removed]",
      "text/plain": [
       "plot without title"
      ]
     },
     "metadata": {},
     "output_type": "display_data"
    }
   ],
   "source": [
    "#Inicializamos algunos parámetros\n",
    "control <- trainControl(method = \"repeatedcv\", number = 10, repeats = 3)\n",
    "seed <- 7\n",
    "metric <- \"Accuracy\"\n",
    "\n",
    "# C5.0\n",
    "set.seed(seed)\n",
    "fit.c50 <- train(Survived~., data=df.train, method=\"C5.0\", metric=metric, trControl=control)\n",
    "\n",
    "# Stochastic Gradient Boosting\n",
    "set.seed(seed)\n",
    "fit.gbm <- train(Survived~., data=df.train, method=\"gbm\", metric=metric, trControl=control, verbose=FALSE)\n",
    "\n",
    "# Resumen de resultados\n",
    "boosting_results <- resamples(list(c5.0=fit.c50, gbm=fit.gbm))\n",
    "summary(boosting_results)\n",
    "dotplot(boosting_results)"
   ]
  },
  {
   "cell_type": "markdown",
   "metadata": {},
   "source": [
    "#### Resultados en el test set"
   ]
  },
  {
   "cell_type": "code",
   "execution_count": 65,
   "metadata": {
    "collapsed": false
   },
   "outputs": [
    {
     "data": {
      "text/html": [
       "0.819209039548023"
      ],
      "text/latex": [
       "0.819209039548023"
      ],
      "text/markdown": [
       "0.819209039548023"
      ],
      "text/plain": [
       "[1] 0.819209"
      ]
     },
     "metadata": {},
     "output_type": "display_data"
    },
    {
     "data": {
      "text/html": [
       "0.80225988700565"
      ],
      "text/latex": [
       "0.80225988700565"
      ],
      "text/markdown": [
       "0.80225988700565"
      ],
      "text/plain": [
       "[1] 0.8022599"
      ]
     },
     "metadata": {},
     "output_type": "display_data"
    }
   ],
   "source": [
    "predictions <- predict(fit.c50, df.test)\n",
    "mean(predictions == y)\n",
    "\n",
    "predictions <- predict(fit.gbm, df.test)\n",
    "mean(predictions == y)"
   ]
  },
  {
   "cell_type": "markdown",
   "metadata": {},
   "source": [
    "### Bagging algorithms\n",
    "Consiste en construir multiples modelos (tipicamente del mismo tipo) a partir de diferentes submuestras del conjunto de entrenamiento.\n",
    "\n",
    "Los algoritmos de bagging que vamos a utilizar son: Bagged CART y el popular Random Forest"
   ]
  },
  {
   "cell_type": "code",
   "execution_count": 66,
   "metadata": {
    "collapsed": false
   },
   "outputs": [
    {
     "name": "stderr",
     "output_type": "stream",
     "text": [
      "Loading required package: e1071\n",
      "Loading required package: randomForest\n",
      "randomForest 4.6-12\n",
      "Type rfNews() to see new features/changes/bug fixes.\n",
      "\n",
      "Attaching package: 'randomForest'\n",
      "\n",
      "The following object is masked from 'package:ggplot2':\n",
      "\n",
      "    margin\n",
      "\n"
     ]
    },
    {
     "data": {
      "text/plain": [
       "\n",
       "Call:\n",
       "summary.resamples(object = bagging_results)\n",
       "\n",
       "Models: treebag, rf \n",
       "Number of resamples: 30 \n",
       "\n",
       "Accuracy \n",
       "        Min. 1st Qu. Median   Mean 3rd Qu.   Max. NA's\n",
       "treebag 0.75  0.8056 0.8322 0.8314  0.8592 0.8889    0\n",
       "rf      0.75  0.7917 0.8310 0.8319  0.8611 0.9155    0\n",
       "\n",
       "Kappa \n",
       "        Min. 1st Qu. Median   Mean 3rd Qu.   Max. NA's\n",
       "treebag 0.46  0.5875 0.6439 0.6360  0.6951 0.7662    0\n",
       "rf      0.46  0.5612 0.6414 0.6403  0.7050 0.8207    0\n"
      ]
     },
     "metadata": {},
     "output_type": "display_data"
    },
    {
     "data": {},
     "metadata": {},
     "output_type": "display_data"
    },
    {
     "data": {
      "image/png": "[encoded data removed]",
      "text/plain": [
       "plot without title"
      ]
     },
     "metadata": {},
     "output_type": "display_data"
    }
   ],
   "source": [
    "## Inicializamos algunos parámetros\n",
    "control <- trainControl(method = \"repeatedcv\", number = 10, repeats = 3)\n",
    "seed <- 7\n",
    "metric <- \"Accuracy\"\n",
    "\n",
    "# Bagged CART\n",
    "set.seed(seed)\n",
    "fit.treebag <- train(Survived~., data=df.train, method=\"treebag\", metric=metric, trControl=control)\n",
    "\n",
    "# Random Forest\n",
    "set.seed(seed)\n",
    "fit.rf <- train(Survived~., data=df.train, method=\"rf\", metric=metric, trControl=control)\n",
    "\n",
    "# Resumen de resultados\n",
    "bagging_results <- resamples(list(treebag=fit.treebag, rf=fit.rf))\n",
    "summary(bagging_results)\n",
    "dotplot(bagging_results)"
   ]
  },
  {
   "cell_type": "markdown",
   "metadata": {},
   "source": [
    "##### Resultados en el test set"
   ]
  },
  {
   "cell_type": "code",
   "execution_count": 67,
   "metadata": {
    "collapsed": false
   },
   "outputs": [
    {
     "data": {
      "text/html": [
       "0.807909604519774"
      ],
      "text/latex": [
       "0.807909604519774"
      ],
      "text/markdown": [
       "0.807909604519774"
      ],
      "text/plain": [
       "[1] 0.8079096"
      ]
     },
     "metadata": {},
     "output_type": "display_data"
    },
    {
     "data": {
      "text/html": [
       "0.830508474576271"
      ],
      "text/latex": [
       "0.830508474576271"
      ],
      "text/markdown": [
       "0.830508474576271"
      ],
      "text/plain": [
       "[1] 0.8305085"
      ]
     },
     "metadata": {},
     "output_type": "display_data"
    }
   ],
   "source": [
    "predictions <- predict(fit.treebag, df.test)\n",
    "mean(predictions == y)\n",
    "\n",
    "predictions <- predict(fit.rf, df.test)\n",
    "mean(predictions == y)"
   ]
  },
  {
   "cell_type": "markdown",
   "metadata": {},
   "source": [
    "### Stacking algorithms\n",
    "Consiste en construir multiples modelos (tipicamente de **distintos** tipos) y un modelo supervisor que aprende a combinar de la mejor forma las predicciones de los modelos primarios.\n",
    "\n",
    "Creamos 5 submodelos:\n",
    "1. Linear Discriminate Analysis (LDA)\n",
    "2. Classification and Regression Trees (CART)\n",
    "3. Logistic Regression (via Generalized Linear Model or GLM)\n",
    "4. k-Nearest Neighbors (kNN)\n",
    "5. Support Vector Machine with a Radial Basis Kernel Function (SVM)\n",
    "6. Generalized Boosted Regression Model (GBM)"
   ]
  },
  {
   "cell_type": "code",
   "execution_count": 68,
   "metadata": {
    "collapsed": false
   },
   "outputs": [
    {
     "name": "stderr",
     "output_type": "stream",
     "text": [
      "Loading required package: rpart\n"
     ]
    },
    {
     "data": {
      "text/plain": [
       "\n",
       "Call:\n",
       "summary.resamples(object = results)\n",
       "\n",
       "Models: rpart, knn, treebag \n",
       "Number of resamples: 30 \n",
       "\n",
       "Accuracy \n",
       "          Min. 1st Qu. Median   Mean 3rd Qu.   Max. NA's\n",
       "rpart   0.6806  0.7945 0.8169 0.8137  0.8472 0.8732    0\n",
       "knn     0.6944  0.7465 0.7639 0.7709  0.7852 0.8732    0\n",
       "treebag 0.7183  0.8035 0.8310 0.8281  0.8472 0.9014    0\n",
       "\n",
       "Kappa \n",
       "          Min. 1st Qu. Median   Mean 3rd Qu.   Max. NA's\n",
       "rpart   0.2862  0.5645 0.6115 0.6017  0.6669 0.7291    0\n",
       "knn     0.3487  0.4422 0.4875 0.5026  0.5366 0.7330    0\n",
       "treebag 0.3563  0.5863 0.6439 0.6303  0.6767 0.7862    0\n"
      ]
     },
     "metadata": {},
     "output_type": "display_data"
    },
    {
     "data": {},
     "metadata": {},
     "output_type": "display_data"
    },
    {
     "data": {
      "image/png": "[encoded data removed]",
      "text/plain": [
       "plot without title"
      ]
     },
     "metadata": {},
     "output_type": "display_data"
    }
   ],
   "source": [
    "# Creamos los submodelos\n",
    "\n",
    "control <- trainControl(method=\"repeatedcv\", number=10, repeats=3, savePredictions=TRUE, classProbs=TRUE)\n",
    "algorithmList <- c('rpart', 'knn', 'treebag')\n",
    "set.seed(seed)\n",
    "models <- caretList(Survived ~ ., data=df.train, trControl=control, methodList=algorithmList)\n",
    "results <- resamples(models)\n",
    "summary(results)\n",
    "dotplot(results)"
   ]
  },
  {
   "cell_type": "markdown",
   "metadata": {},
   "source": [
    "Cuando combinamos las predicciones de diferentes modelos usando stacking, es deseable que las predicciones hechas por los submodelos tengan baja correlación. Esto nos sugiere que los modelos son hábiles pero en maneras diferentes, y permiten a un nuevo clasificador averiguar como obtener lo mejor de cada modelo para mejorar la puntuación.\n",
    "\n",
    "Si las predicciones de los submodelos están altamente correlacionadas (> 0.75) entonces realizarian las mismas predicciones (o muy similares) la mayoría de las veces reduciendo así los beneficios de combinar las predicciones."
   ]
  },
  {
   "cell_type": "code",
   "execution_count": 69,
   "metadata": {
    "collapsed": false
   },
   "outputs": [
    {
     "data": {
      "text/html": [
       "<table>\n",
       "<thead><tr><th></th><th scope=col>rpart</th><th scope=col>knn</th><th scope=col>treebag</th></tr></thead>\n",
       "<tbody>\n",
       "\t<tr><th scope=row>rpart</th><td>1.0000000</td><td>0.2398908</td><td>0.5568985</td></tr>\n",
       "\t<tr><th scope=row>knn</th><td>0.2398908</td><td>1.0000000</td><td>0.3818492</td></tr>\n",
       "\t<tr><th scope=row>treebag</th><td>0.5568985</td><td>0.3818492</td><td>1.0000000</td></tr>\n",
       "</tbody>\n",
       "</table>\n"
      ],
      "text/latex": [
       "\\begin{tabular}{r|lll}\n",
       "  & rpart & knn & treebag\\\\\n",
       "\\hline\n",
       "\trpart & 1.0000000 & 0.2398908 & 0.5568985\\\\\n",
       "\tknn & 0.2398908 & 1.0000000 & 0.3818492\\\\\n",
       "\ttreebag & 0.5568985 & 0.3818492 & 1.0000000\\\\\n",
       "\\end{tabular}\n"
      ],
      "text/markdown": [
       "\n",
       "| <!--/--> | rpart | knn | treebag | \n",
       "|---|---|---|\n",
       "| rpart | 1.0000000 | 0.2398908 | 0.5568985 | \n",
       "| knn | 0.2398908 | 1.0000000 | 0.3818492 | \n",
       "| treebag | 0.5568985 | 0.3818492 | 1.0000000 | \n",
       "\n",
       "\n"
      ],
      "text/plain": [
       "        rpart     knn       treebag  \n",
       "rpart   1.0000000 0.2398908 0.5568985\n",
       "knn     0.2398908 1.0000000 0.3818492\n",
       "treebag 0.5568985 0.3818492 1.0000000"
      ]
     },
     "metadata": {},
     "output_type": "display_data"
    },
    {
     "data": {},
     "metadata": {},
     "output_type": "display_data"
    },
    {
     "data": {
      "image/png": "[encoded data removed]",
      "text/plain": [
       "plot without title"
      ]
     },
     "metadata": {},
     "output_type": "display_data"
    }
   ],
   "source": [
    "# Correlaciones entre modelos\n",
    "modelCor(results)\n",
    "splom(results)"
   ]
  },
  {
   "cell_type": "markdown",
   "metadata": {},
   "source": [
    "### Predicciones en test set"
   ]
  },
  {
   "cell_type": "code",
   "execution_count": 70,
   "metadata": {
    "collapsed": false
   },
   "outputs": [
    {
     "name": "stdout",
     "output_type": "stream",
     "text": [
      "rpart : 82.49 %\n",
      "knn : 83.62 %\n",
      "treebag : 82.49 %\n"
     ]
    }
   ],
   "source": [
    "ll <- lapply(models, function(x) {\n",
    "    \n",
    "    predictions <- predict(x, df.test)\n",
    "    cat(x[['method']], \":\", round(mean(y == predictions)*100,2), '%\\n')\n",
    "    })\n",
    "\n",
    "invisible(ll)"
   ]
  },
  {
   "cell_type": "markdown",
   "metadata": {},
   "source": [
    "#### Stacking usando glm"
   ]
  },
  {
   "cell_type": "code",
   "execution_count": 71,
   "metadata": {
    "collapsed": false
   },
   "outputs": [
    {
     "name": "stdout",
     "output_type": "stream",
     "text": [
      "A glm ensemble of 2 base models: rpart, knn, treebag\n",
      "\n",
      "Ensemble results:\n",
      "Generalized Linear Model \n",
      "\n",
      "2142 samples\n",
      "   3 predictor\n",
      "   2 classes: 'No', 'Yes' \n",
      "\n",
      "No pre-processing\n",
      "Resampling: Cross-Validated (10 fold, repeated 3 times) \n",
      "Summary of sample sizes: 1928, 1927, 1928, 1928, 1928, 1928, ... \n",
      "Resampling results:\n",
      "\n",
      "  Accuracy   Kappa    \n",
      "  0.8330269  0.6399143\n",
      "\n",
      " \n"
     ]
    }
   ],
   "source": [
    "stackControl <- trainControl(method=\"repeatedcv\", number=10, repeats=3, savePredictions=TRUE, classProbs=TRUE)\n",
    "set.seed(seed)\n",
    "stack.glm <- caretStack(models, method=\"glm\", metric=\"Accuracy\", trControl=stackControl)\n",
    "print(stack.glm)"
   ]
  },
  {
   "cell_type": "code",
   "execution_count": 72,
   "metadata": {
    "collapsed": false
   },
   "outputs": [
    {
     "data": {
      "text/html": [
       "0.853107344632768"
      ],
      "text/latex": [
       "0.853107344632768"
      ],
      "text/markdown": [
       "0.853107344632768"
      ],
      "text/plain": [
       "[1] 0.8531073"
      ]
     },
     "metadata": {},
     "output_type": "display_data"
    }
   ],
   "source": [
    "predictions <- predict(stack.glm, df.test)\n",
    "mean(y == predictions)"
   ]
  },
  {
   "cell_type": "markdown",
   "metadata": {},
   "source": [
    "#### Stacking usando gbm"
   ]
  },
  {
   "cell_type": "code",
   "execution_count": 77,
   "metadata": {
    "collapsed": false
   },
   "outputs": [
    {
     "name": "stdout",
     "output_type": "stream",
     "text": [
      "Iter   TrainDeviance   ValidDeviance   StepSize   Improve\n",
      "     1        1.2563             nan     0.1000    0.0378\n",
      "     2        1.1950             nan     0.1000    0.0303\n",
      "     3        1.1437             nan     0.1000    0.0251\n",
      "     4        1.0995             nan     0.1000    0.0217\n",
      "     5        1.0611             nan     0.1000    0.0176\n",
      "     6        1.0305             nan     0.1000    0.0156\n",
      "     7        1.0041             nan     0.1000    0.0116\n",
      "     8        0.9798             nan     0.1000    0.0113\n",
      "     9        0.9606             nan     0.1000    0.0094\n",
      "    10        0.9446             nan     0.1000    0.0085\n",
      "    20        0.8578             nan     0.1000    0.0018\n",
      "    40        0.8244             nan     0.1000   -0.0001\n",
      "    60        0.8140             nan     0.1000   -0.0001\n",
      "    80        0.8085             nan     0.1000   -0.0000\n",
      "   100        0.8037             nan     0.1000   -0.0004\n",
      "   120        0.8003             nan     0.1000   -0.0003\n",
      "   140        0.7962             nan     0.1000   -0.0002\n",
      "   150        0.7944             nan     0.1000   -0.0002\n",
      "\n",
      "Iter   TrainDeviance   ValidDeviance   StepSize   Improve\n",
      "     1        1.2515             nan     0.1000    0.0399\n",
      "     2        1.1851             nan     0.1000    0.0327\n",
      "     3        1.1312             nan     0.1000    0.0266\n",
      "     4        1.0863             nan     0.1000    0.0221\n",
      "     5        1.0490             nan     0.1000    0.0184\n",
      "     6        1.0155             nan     0.1000    0.0156\n",
      "     7        0.9866             nan     0.1000    0.0134\n",
      "     8        0.9619             nan     0.1000    0.0118\n",
      "     9        0.9409             nan     0.1000    0.0102\n",
      "    10        0.9238             nan     0.1000    0.0078\n",
      "    20        0.8375             nan     0.1000    0.0010\n",
      "    40        0.7955             nan     0.1000   -0.0001\n",
      "    60        0.7798             nan     0.1000   -0.0001\n",
      "    80        0.7655             nan     0.1000   -0.0001\n",
      "   100        0.7588             nan     0.1000    0.0001\n",
      "   120        0.7524             nan     0.1000   -0.0010\n",
      "   140        0.7469             nan     0.1000   -0.0000\n",
      "   150        0.7451             nan     0.1000   -0.0010\n",
      "\n",
      "Iter   TrainDeviance   ValidDeviance   StepSize   Improve\n",
      "     1        1.2442             nan     0.1000    0.0433\n",
      "     2        1.1769             nan     0.1000    0.0335\n",
      "     3        1.1187             nan     0.1000    0.0283\n",
      "     4        1.0715             nan     0.1000    0.0226\n",
      "     5        1.0323             nan     0.1000    0.0191\n",
      "     6        0.9983             nan     0.1000    0.0155\n",
      "     7        0.9713             nan     0.1000    0.0126\n",
      "     8        0.9463             nan     0.1000    0.0111\n",
      "     9        0.9257             nan     0.1000    0.0088\n",
      "    10        0.9094             nan     0.1000    0.0078\n",
      "    20        0.8214             nan     0.1000    0.0025\n",
      "    40        0.7756             nan     0.1000   -0.0003\n",
      "    60        0.7563             nan     0.1000   -0.0005\n",
      "    80        0.7422             nan     0.1000   -0.0003\n",
      "   100        0.7359             nan     0.1000   -0.0005\n",
      "   120        0.7305             nan     0.1000   -0.0004\n",
      "   140        0.7229             nan     0.1000   -0.0005\n",
      "   150        0.7184             nan     0.1000   -0.0005\n",
      "\n",
      "Iter   TrainDeviance   ValidDeviance   StepSize   Improve\n",
      "     1        1.2557             nan     0.1000    0.0388\n",
      "     2        1.1964             nan     0.1000    0.0301\n",
      "     3        1.1403             nan     0.1000    0.0253\n",
      "     4        1.0949             nan     0.1000    0.0225\n",
      "     5        1.0586             nan     0.1000    0.0177\n",
      "     6        1.0264             nan     0.1000    0.0158\n",
      "     7        1.0002             nan     0.1000    0.0126\n",
      "     8        0.9768             nan     0.1000    0.0107\n",
      "     9        0.9563             nan     0.1000    0.0094\n",
      "    10        0.9417             nan     0.1000    0.0064\n",
      "    20        0.8534             nan     0.1000    0.0020\n",
      "    40        0.8179             nan     0.1000   -0.0001\n",
      "    60        0.8075             nan     0.1000   -0.0001\n",
      "    80        0.8017             nan     0.1000   -0.0003\n",
      "   100        0.7964             nan     0.1000   -0.0001\n",
      "   120        0.7925             nan     0.1000   -0.0001\n",
      "   140        0.7883             nan     0.1000    0.0001\n",
      "   150        0.7868             nan     0.1000   -0.0001\n",
      "\n",
      "Iter   TrainDeviance   ValidDeviance   StepSize   Improve\n",
      "     1        1.2507             nan     0.1000    0.0407\n",
      "     2        1.1813             nan     0.1000    0.0330\n",
      "     3        1.1255             nan     0.1000    0.0276\n",
      "     4        1.0790             nan     0.1000    0.0225\n",
      "     5        1.0392             nan     0.1000    0.0196\n",
      "     6        1.0049             nan     0.1000    0.0156\n",
      "     7        0.9792             nan     0.1000    0.0129\n",
      "     8        0.9541             nan     0.1000    0.0116\n",
      "     9        0.9336             nan     0.1000    0.0092\n",
      "    10        0.9167             nan     0.1000    0.0083\n",
      "    20        0.8299             nan     0.1000    0.0017\n",
      "    40        0.7874             nan     0.1000    0.0001\n",
      "    60        0.7704             nan     0.1000   -0.0002\n",
      "    80        0.7599             nan     0.1000   -0.0003\n",
      "   100        0.7503             nan     0.1000   -0.0003\n",
      "   120        0.7421             nan     0.1000   -0.0005\n",
      "   140        0.7346             nan     0.1000   -0.0006\n",
      "   150        0.7320             nan     0.1000   -0.0003\n",
      "\n",
      "Iter   TrainDeviance   ValidDeviance   StepSize   Improve\n",
      "     1        1.2445             nan     0.1000    0.0436\n",
      "     2        1.1744             nan     0.1000    0.0327\n",
      "     3        1.1168             nan     0.1000    0.0279\n",
      "     4        1.0681             nan     0.1000    0.0230\n",
      "     5        1.0293             nan     0.1000    0.0184\n",
      "     6        0.9962             nan     0.1000    0.0153\n",
      "     7        0.9680             nan     0.1000    0.0135\n",
      "     8        0.9425             nan     0.1000    0.0114\n",
      "     9        0.9219             nan     0.1000    0.0091\n",
      "    10        0.9035             nan     0.1000    0.0082\n",
      "    20        0.8093             nan     0.1000    0.0020\n",
      "    40        0.7646             nan     0.1000   -0.0002\n",
      "    60        0.7461             nan     0.1000   -0.0004\n",
      "    80        0.7295             nan     0.1000   -0.0003\n",
      "   100        0.7188             nan     0.1000   -0.0006\n",
      "   120        0.7102             nan     0.1000   -0.0007\n",
      "   140        0.7038             nan     0.1000   -0.0006\n",
      "   150        0.7008             nan     0.1000   -0.0007\n",
      "\n",
      "Iter   TrainDeviance   ValidDeviance   StepSize   Improve\n",
      "     1        1.2572             nan     0.1000    0.0376\n",
      "     2        1.1978             nan     0.1000    0.0292\n",
      "     3        1.1475             nan     0.1000    0.0249\n",
      "     4        1.1038             nan     0.1000    0.0210\n",
      "     5        1.0654             nan     0.1000    0.0184\n",
      "     6        1.0353             nan     0.1000    0.0148\n",
      "     7        1.0069             nan     0.1000    0.0133\n",
      "     8        0.9859             nan     0.1000    0.0103\n",
      "     9        0.9658             nan     0.1000    0.0096\n",
      "    10        0.9483             nan     0.1000    0.0085\n",
      "    20        0.8601             nan     0.1000    0.0017\n",
      "    40        0.8231             nan     0.1000   -0.0001\n",
      "    60        0.8138             nan     0.1000    0.0001\n",
      "    80        0.8072             nan     0.1000    0.0000\n",
      "   100        0.8027             nan     0.1000   -0.0003\n",
      "   120        0.7985             nan     0.1000   -0.0001\n",
      "   140        0.7941             nan     0.1000    0.0000\n",
      "   150        0.7928             nan     0.1000   -0.0003\n",
      "\n",
      "Iter   TrainDeviance   ValidDeviance   StepSize   Improve\n",
      "     1        1.2538             nan     0.1000    0.0413\n",
      "     2        1.1871             nan     0.1000    0.0329\n",
      "     3        1.1346             nan     0.1000    0.0260\n",
      "     4        1.0863             nan     0.1000    0.0227\n",
      "     5        1.0480             nan     0.1000    0.0187\n",
      "     6        1.0129             nan     0.1000    0.0164\n",
      "     7        0.9838             nan     0.1000    0.0138\n",
      "     8        0.9605             nan     0.1000    0.0106\n",
      "     9        0.9399             nan     0.1000    0.0096\n",
      "    10        0.9252             nan     0.1000    0.0069\n",
      "    20        0.8329             nan     0.1000    0.0024\n",
      "    40        0.7952             nan     0.1000    0.0002\n",
      "    60        0.7801             nan     0.1000   -0.0004\n",
      "    80        0.7710             nan     0.1000   -0.0002\n",
      "   100        0.7657             nan     0.1000   -0.0009\n",
      "   120        0.7614             nan     0.1000   -0.0006\n",
      "   140        0.7539             nan     0.1000   -0.0007\n",
      "   150        0.7505             nan     0.1000   -0.0005\n",
      "\n",
      "Iter   TrainDeviance   ValidDeviance   StepSize   Improve\n",
      "     1        1.2471             nan     0.1000    0.0428\n",
      "     2        1.1770             nan     0.1000    0.0327\n",
      "     3        1.1185             nan     0.1000    0.0278\n",
      "     4        1.0722             nan     0.1000    0.0225\n",
      "     5        1.0306             nan     0.1000    0.0204\n",
      "     6        1.0013             nan     0.1000    0.0151\n",
      "     7        0.9738             nan     0.1000    0.0135\n",
      "     8        0.9493             nan     0.1000    0.0113\n",
      "     9        0.9268             nan     0.1000    0.0102\n",
      "    10        0.9105             nan     0.1000    0.0083\n",
      "    20        0.8177             nan     0.1000    0.0007\n",
      "    40        0.7765             nan     0.1000    0.0000\n",
      "    60        0.7599             nan     0.1000    0.0000\n",
      "    80        0.7446             nan     0.1000   -0.0008\n",
      "   100        0.7339             nan     0.1000   -0.0007\n",
      "   120        0.7242             nan     0.1000   -0.0007\n",
      "   140        0.7149             nan     0.1000   -0.0011\n",
      "   150        0.7117             nan     0.1000   -0.0006\n",
      "\n",
      "Iter   TrainDeviance   ValidDeviance   StepSize   Improve\n",
      "     1        1.2543             nan     0.1000    0.0402\n",
      "     2        1.1912             nan     0.1000    0.0306\n",
      "     3        1.1369             nan     0.1000    0.0259\n",
      "     4        1.0949             nan     0.1000    0.0212\n",
      "     5        1.0555             nan     0.1000    0.0190\n",
      "     6        1.0237             nan     0.1000    0.0159\n",
      "     7        0.9963             nan     0.1000    0.0138\n",
      "     8        0.9715             nan     0.1000    0.0118\n",
      "     9        0.9505             nan     0.1000    0.0098\n",
      "    10        0.9329             nan     0.1000    0.0083\n",
      "    20        0.8397             nan     0.1000    0.0018\n",
      "    40        0.8052             nan     0.1000   -0.0004\n",
      "    60        0.7973             nan     0.1000   -0.0003\n",
      "    80        0.7907             nan     0.1000    0.0001\n",
      "   100        0.7858             nan     0.1000   -0.0004\n",
      "   120        0.7812             nan     0.1000   -0.0002\n",
      "   140        0.7789             nan     0.1000   -0.0001\n",
      "   150        0.7767             nan     0.1000   -0.0001\n",
      "\n",
      "Iter   TrainDeviance   ValidDeviance   StepSize   Improve\n",
      "     1        1.2464             nan     0.1000    0.0436\n",
      "     2        1.1792             nan     0.1000    0.0331\n",
      "     3        1.1203             nan     0.1000    0.0279\n",
      "     4        1.0744             nan     0.1000    0.0217\n",
      "     5        1.0343             nan     0.1000    0.0191\n",
      "     6        1.0015             nan     0.1000    0.0160\n",
      "     7        0.9721             nan     0.1000    0.0137\n",
      "     8        0.9478             nan     0.1000    0.0120\n",
      "     9        0.9263             nan     0.1000    0.0092\n",
      "    10        0.9072             nan     0.1000    0.0080\n",
      "    20        0.8167             nan     0.1000    0.0016\n",
      "    40        0.7787             nan     0.1000   -0.0006\n",
      "    60        0.7658             nan     0.1000   -0.0005\n",
      "    80        0.7559             nan     0.1000   -0.0005\n",
      "   100        0.7485             nan     0.1000   -0.0005\n",
      "   120        0.7410             nan     0.1000    0.0000\n",
      "   140        0.7354             nan     0.1000   -0.0005\n",
      "   150        0.7323             nan     0.1000   -0.0004\n",
      "\n",
      "Iter   TrainDeviance   ValidDeviance   StepSize   Improve\n",
      "     1        1.2470             nan     0.1000    0.0447\n",
      "     2        1.1731             nan     0.1000    0.0343\n",
      "     3        1.1144             nan     0.1000    0.0296\n",
      "     4        1.0676             nan     0.1000    0.0235\n",
      "     5        1.0279             nan     0.1000    0.0191\n",
      "     6        0.9918             nan     0.1000    0.0164\n",
      "     7        0.9619             nan     0.1000    0.0139\n",
      "     8        0.9356             nan     0.1000    0.0119\n",
      "     9        0.9161             nan     0.1000    0.0090\n",
      "    10        0.8966             nan     0.1000    0.0091\n",
      "    20        0.8036             nan     0.1000    0.0019\n",
      "    40        0.7607             nan     0.1000    0.0000\n",
      "    60        0.7459             nan     0.1000    0.0001\n",
      "    80        0.7321             nan     0.1000   -0.0011\n",
      "   100        0.7206             nan     0.1000   -0.0006\n",
      "   120        0.7088             nan     0.1000   -0.0005\n",
      "   140        0.7021             nan     0.1000   -0.0007\n",
      "   150        0.6984             nan     0.1000   -0.0003\n",
      "\n",
      "Iter   TrainDeviance   ValidDeviance   StepSize   Improve\n",
      "     1        1.2554             nan     0.1000    0.0388\n",
      "     2        1.1939             nan     0.1000    0.0309\n",
      "     3        1.1422             nan     0.1000    0.0254\n",
      "     4        1.0972             nan     0.1000    0.0219\n",
      "     5        1.0596             nan     0.1000    0.0178\n",
      "     6        1.0301             nan     0.1000    0.0149\n",
      "     7        1.0003             nan     0.1000    0.0136\n",
      "     8        0.9781             nan     0.1000    0.0108\n",
      "     9        0.9580             nan     0.1000    0.0096\n",
      "    10        0.9416             nan     0.1000    0.0081\n",
      "    20        0.8524             nan     0.1000    0.0021\n",
      "    40        0.8174             nan     0.1000    0.0000\n",
      "    60        0.8087             nan     0.1000   -0.0005\n",
      "    80        0.8030             nan     0.1000   -0.0001\n",
      "   100        0.7968             nan     0.1000   -0.0004\n",
      "   120        0.7921             nan     0.1000   -0.0002\n",
      "   140        0.7884             nan     0.1000   -0.0001\n",
      "   150        0.7865             nan     0.1000   -0.0001\n",
      "\n",
      "Iter   TrainDeviance   ValidDeviance   StepSize   Improve\n",
      "     1        1.2501             nan     0.1000    0.0399\n",
      "     2        1.1801             nan     0.1000    0.0331\n",
      "     3        1.1253             nan     0.1000    0.0269\n",
      "     4        1.0788             nan     0.1000    0.0219\n",
      "     5        1.0419             nan     0.1000    0.0187\n",
      "     6        1.0045             nan     0.1000    0.0162\n",
      "     7        0.9760             nan     0.1000    0.0132\n",
      "     8        0.9528             nan     0.1000    0.0121\n",
      "     9        0.9319             nan     0.1000    0.0100\n",
      "    10        0.9140             nan     0.1000    0.0084\n",
      "    20        0.8284             nan     0.1000    0.0024\n",
      "    40        0.7874             nan     0.1000    0.0002\n",
      "    60        0.7703             nan     0.1000   -0.0003\n",
      "    80        0.7593             nan     0.1000   -0.0003\n",
      "   100        0.7519             nan     0.1000   -0.0001\n",
      "   120        0.7449             nan     0.1000   -0.0004\n",
      "   140        0.7396             nan     0.1000   -0.0001\n",
      "   150        0.7368             nan     0.1000   -0.0003\n",
      "\n",
      "Iter   TrainDeviance   ValidDeviance   StepSize   Improve\n",
      "     1        1.2462             nan     0.1000    0.0417\n",
      "     2        1.1768             nan     0.1000    0.0343\n",
      "     3        1.1170             nan     0.1000    0.0288\n",
      "     4        1.0706             nan     0.1000    0.0227\n",
      "     5        1.0324             nan     0.1000    0.0181\n",
      "     6        0.9987             nan     0.1000    0.0161\n",
      "     7        0.9693             nan     0.1000    0.0127\n",
      "     8        0.9439             nan     0.1000    0.0106\n",
      "     9        0.9230             nan     0.1000    0.0107\n",
      "    10        0.9046             nan     0.1000    0.0086\n",
      "    20        0.8121             nan     0.1000    0.0021\n",
      "    40        0.7649             nan     0.1000    0.0003\n",
      "    60        0.7439             nan     0.1000   -0.0011\n",
      "    80        0.7321             nan     0.1000   -0.0006\n",
      "   100        0.7220             nan     0.1000   -0.0006\n",
      "   120        0.7132             nan     0.1000    0.0001\n",
      "   140        0.7051             nan     0.1000   -0.0007\n",
      "   150        0.6999             nan     0.1000   -0.0004\n",
      "\n",
      "Iter   TrainDeviance   ValidDeviance   StepSize   Improve\n",
      "     1        1.2553             nan     0.1000    0.0383\n",
      "     2        1.1903             nan     0.1000    0.0313\n",
      "     3        1.1388             nan     0.1000    0.0258\n",
      "     4        1.0975             nan     0.1000    0.0210\n",
      "     5        1.0586             nan     0.1000    0.0185\n",
      "     6        1.0282             nan     0.1000    0.0147\n",
      "     7        1.0013             nan     0.1000    0.0135\n",
      "     8        0.9773             nan     0.1000    0.0119\n",
      "     9        0.9576             nan     0.1000    0.0089\n",
      "    10        0.9417             nan     0.1000    0.0069\n",
      "    20        0.8481             nan     0.1000    0.0023\n",
      "    40        0.8120             nan     0.1000   -0.0000\n",
      "    60        0.8018             nan     0.1000   -0.0000\n",
      "    80        0.7951             nan     0.1000   -0.0004\n",
      "   100        0.7911             nan     0.1000   -0.0001\n",
      "   120        0.7869             nan     0.1000   -0.0000\n",
      "   140        0.7837             nan     0.1000   -0.0004\n",
      "   150        0.7829             nan     0.1000   -0.0005\n",
      "\n",
      "Iter   TrainDeviance   ValidDeviance   StepSize   Improve\n",
      "     1        1.2483             nan     0.1000    0.0402\n",
      "     2        1.1794             nan     0.1000    0.0343\n",
      "     3        1.1244             nan     0.1000    0.0279\n",
      "     4        1.0791             nan     0.1000    0.0225\n",
      "     5        1.0410             nan     0.1000    0.0190\n",
      "     6        1.0070             nan     0.1000    0.0164\n",
      "     7        0.9787             nan     0.1000    0.0134\n",
      "     8        0.9535             nan     0.1000    0.0123\n",
      "     9        0.9338             nan     0.1000    0.0098\n",
      "    10        0.9166             nan     0.1000    0.0075\n",
      "    20        0.8262             nan     0.1000    0.0020\n",
      "    40        0.7876             nan     0.1000    0.0003\n",
      "    60        0.7720             nan     0.1000   -0.0007\n",
      "    80        0.7615             nan     0.1000   -0.0005\n",
      "   100        0.7527             nan     0.1000   -0.0005\n",
      "   120        0.7480             nan     0.1000   -0.0003\n",
      "   140        0.7421             nan     0.1000   -0.0001\n",
      "   150        0.7387             nan     0.1000   -0.0004\n",
      "\n",
      "Iter   TrainDeviance   ValidDeviance   StepSize   Improve\n",
      "     1        1.2468             nan     0.1000    0.0427\n",
      "     2        1.1783             nan     0.1000    0.0350\n",
      "     3        1.1203             nan     0.1000    0.0280\n",
      "     4        1.0698             nan     0.1000    0.0241\n",
      "     5        1.0291             nan     0.1000    0.0191\n",
      "     6        0.9961             nan     0.1000    0.0156\n",
      "     7        0.9660             nan     0.1000    0.0144\n",
      "     8        0.9407             nan     0.1000    0.0118\n",
      "     9        0.9194             nan     0.1000    0.0099\n",
      "    10        0.9018             nan     0.1000    0.0077\n",
      "    20        0.8100             nan     0.1000    0.0017\n",
      "    40        0.7654             nan     0.1000   -0.0005\n",
      "    60        0.7481             nan     0.1000    0.0002\n",
      "    80        0.7382             nan     0.1000   -0.0004\n",
      "   100        0.7292             nan     0.1000   -0.0007\n",
      "   120        0.7196             nan     0.1000   -0.0008\n",
      "   140        0.7133             nan     0.1000   -0.0002\n",
      "   150        0.7096             nan     0.1000   -0.0012\n",
      "\n",
      "Iter   TrainDeviance   ValidDeviance   StepSize   Improve\n",
      "     1        1.2574             nan     0.1000    0.0379\n",
      "     2        1.1928             nan     0.1000    0.0317\n",
      "     3        1.1414             nan     0.1000    0.0253\n",
      "     4        1.0964             nan     0.1000    0.0223\n",
      "     5        1.0579             nan     0.1000    0.0186\n",
      "     6        1.0264             nan     0.1000    0.0157\n",
      "     7        1.0002             nan     0.1000    0.0120\n",
      "     8        0.9754             nan     0.1000    0.0122\n",
      "     9        0.9551             nan     0.1000    0.0097\n",
      "    10        0.9403             nan     0.1000    0.0076\n",
      "    20        0.8498             nan     0.1000    0.0017\n",
      "    40        0.8153             nan     0.1000    0.0004\n",
      "    60        0.8068             nan     0.1000   -0.0004\n",
      "    80        0.8002             nan     0.1000    0.0001\n",
      "   100        0.7960             nan     0.1000   -0.0003\n",
      "   120        0.7920             nan     0.1000   -0.0004\n",
      "   140        0.7891             nan     0.1000   -0.0005\n",
      "   150        0.7877             nan     0.1000   -0.0001\n",
      "\n",
      "Iter   TrainDeviance   ValidDeviance   StepSize   Improve\n",
      "     1        1.2489             nan     0.1000    0.0424\n",
      "     2        1.1823             nan     0.1000    0.0335\n",
      "     3        1.1276             nan     0.1000    0.0254\n",
      "     4        1.0817             nan     0.1000    0.0229\n",
      "     5        1.0406             nan     0.1000    0.0199\n",
      "     6        1.0068             nan     0.1000    0.0159\n",
      "     7        0.9774             nan     0.1000    0.0140\n",
      "     8        0.9532             nan     0.1000    0.0114\n",
      "     9        0.9347             nan     0.1000    0.0089\n",
      "    10        0.9178             nan     0.1000    0.0088\n",
      "    20        0.8270             nan     0.1000    0.0016\n",
      "    40        0.7831             nan     0.1000   -0.0005\n",
      "    60        0.7668             nan     0.1000   -0.0004\n",
      "    80        0.7543             nan     0.1000   -0.0001\n",
      "   100        0.7461             nan     0.1000   -0.0009\n",
      "   120        0.7391             nan     0.1000   -0.0004\n",
      "   140        0.7310             nan     0.1000   -0.0001\n",
      "   150        0.7276             nan     0.1000   -0.0004\n",
      "\n",
      "Iter   TrainDeviance   ValidDeviance   StepSize   Improve\n",
      "     1        1.2441             nan     0.1000    0.0417\n",
      "     2        1.1778             nan     0.1000    0.0324\n",
      "     3        1.1192             nan     0.1000    0.0275\n",
      "     4        1.0705             nan     0.1000    0.0241\n",
      "     5        1.0293             nan     0.1000    0.0197\n",
      "     6        0.9954             nan     0.1000    0.0160\n",
      "     7        0.9630             nan     0.1000    0.0147\n",
      "     8        0.9394             nan     0.1000    0.0110\n",
      "     9        0.9192             nan     0.1000    0.0098\n",
      "    10        0.9005             nan     0.1000    0.0087\n",
      "    20        0.8104             nan     0.1000    0.0021\n",
      "    40        0.7642             nan     0.1000   -0.0002\n",
      "    60        0.7453             nan     0.1000   -0.0003\n",
      "    80        0.7313             nan     0.1000    0.0003\n",
      "   100        0.7213             nan     0.1000   -0.0009\n",
      "   120        0.7137             nan     0.1000   -0.0002\n",
      "   140        0.7062             nan     0.1000   -0.0004\n",
      "   150        0.7009             nan     0.1000   -0.0001\n",
      "\n",
      "Iter   TrainDeviance   ValidDeviance   StepSize   Improve\n",
      "     1        1.2588             nan     0.1000    0.0384\n",
      "     2        1.1958             nan     0.1000    0.0301\n",
      "     3        1.1411             nan     0.1000    0.0256\n",
      "     4        1.1018             nan     0.1000    0.0203\n",
      "     5        1.0627             nan     0.1000    0.0182\n",
      "     6        1.0313             nan     0.1000    0.0139\n",
      "     7        1.0069             nan     0.1000    0.0125\n",
      "     8        0.9848             nan     0.1000    0.0102\n",
      "     9        0.9650             nan     0.1000    0.0101\n",
      "    10        0.9489             nan     0.1000    0.0079\n",
      "    20        0.8607             nan     0.1000    0.0019\n",
      "    40        0.8259             nan     0.1000   -0.0000\n",
      "    60        0.8176             nan     0.1000   -0.0002\n",
      "    80        0.8114             nan     0.1000    0.0000\n",
      "   100        0.8069             nan     0.1000   -0.0000\n",
      "   120        0.8020             nan     0.1000   -0.0002\n",
      "   140        0.7986             nan     0.1000   -0.0003\n",
      "   150        0.7967             nan     0.1000   -0.0003\n",
      "\n",
      "Iter   TrainDeviance   ValidDeviance   StepSize   Improve\n",
      "     1        1.2507             nan     0.1000    0.0419\n",
      "     2        1.1853             nan     0.1000    0.0315\n",
      "     3        1.1302             nan     0.1000    0.0278\n",
      "     4        1.0856             nan     0.1000    0.0214\n",
      "     5        1.0472             nan     0.1000    0.0187\n",
      "     6        1.0151             nan     0.1000    0.0164\n",
      "     7        0.9893             nan     0.1000    0.0128\n",
      "     8        0.9662             nan     0.1000    0.0114\n",
      "     9        0.9457             nan     0.1000    0.0094\n",
      "    10        0.9276             nan     0.1000    0.0090\n",
      "    20        0.8391             nan     0.1000    0.0017\n",
      "    40        0.7955             nan     0.1000    0.0002\n",
      "    60        0.7797             nan     0.1000   -0.0003\n",
      "    80        0.7683             nan     0.1000    0.0003\n",
      "   100        0.7599             nan     0.1000   -0.0000\n",
      "   120        0.7541             nan     0.1000   -0.0003\n",
      "   140        0.7485             nan     0.1000   -0.0001\n",
      "   150        0.7457             nan     0.1000   -0.0006\n",
      "\n",
      "Iter   TrainDeviance   ValidDeviance   StepSize   Improve\n",
      "     1        1.2522             nan     0.1000    0.0417\n",
      "     2        1.1834             nan     0.1000    0.0333\n",
      "     3        1.1257             nan     0.1000    0.0280\n",
      "     4        1.0769             nan     0.1000    0.0243\n",
      "     5        1.0361             nan     0.1000    0.0190\n",
      "     6        1.0020             nan     0.1000    0.0148\n",
      "     7        0.9756             nan     0.1000    0.0133\n",
      "     8        0.9509             nan     0.1000    0.0112\n",
      "     9        0.9305             nan     0.1000    0.0091\n",
      "    10        0.9125             nan     0.1000    0.0080\n",
      "    20        0.8209             nan     0.1000    0.0023\n",
      "    40        0.7771             nan     0.1000   -0.0001\n",
      "    60        0.7569             nan     0.1000   -0.0009\n",
      "    80        0.7428             nan     0.1000   -0.0005\n",
      "   100        0.7328             nan     0.1000   -0.0002\n",
      "   120        0.7240             nan     0.1000   -0.0006\n",
      "   140        0.7151             nan     0.1000   -0.0010\n",
      "   150        0.7109             nan     0.1000   -0.0007\n",
      "\n",
      "Iter   TrainDeviance   ValidDeviance   StepSize   Improve\n",
      "     1        1.2582             nan     0.1000    0.0385\n",
      "     2        1.1934             nan     0.1000    0.0311\n",
      "     3        1.1417             nan     0.1000    0.0246\n",
      "     4        1.0964             nan     0.1000    0.0209\n",
      "     5        1.0601             nan     0.1000    0.0175\n",
      "     6        1.0272             nan     0.1000    0.0152\n",
      "     7        1.0007             nan     0.1000    0.0129\n",
      "     8        0.9783             nan     0.1000    0.0106\n",
      "     9        0.9584             nan     0.1000    0.0097\n",
      "    10        0.9433             nan     0.1000    0.0076\n",
      "    20        0.8544             nan     0.1000    0.0014\n",
      "    40        0.8195             nan     0.1000    0.0001\n",
      "    60        0.8108             nan     0.1000   -0.0000\n",
      "    80        0.8047             nan     0.1000   -0.0002\n",
      "   100        0.8003             nan     0.1000   -0.0002\n",
      "   120        0.7964             nan     0.1000   -0.0002\n",
      "   140        0.7924             nan     0.1000   -0.0003\n",
      "   150        0.7906             nan     0.1000   -0.0001\n",
      "\n",
      "Iter   TrainDeviance   ValidDeviance   StepSize   Improve\n",
      "     1        1.2504             nan     0.1000    0.0385\n",
      "     2        1.1820             nan     0.1000    0.0341\n",
      "     3        1.1269             nan     0.1000    0.0278\n",
      "     4        1.0784             nan     0.1000    0.0219\n",
      "     5        1.0410             nan     0.1000    0.0190\n",
      "     6        1.0090             nan     0.1000    0.0147\n",
      "     7        0.9825             nan     0.1000    0.0135\n",
      "     8        0.9578             nan     0.1000    0.0119\n",
      "     9        0.9358             nan     0.1000    0.0102\n",
      "    10        0.9186             nan     0.1000    0.0081\n",
      "    20        0.8282             nan     0.1000    0.0016\n",
      "    40        0.7911             nan     0.1000   -0.0002\n",
      "    60        0.7750             nan     0.1000   -0.0002\n",
      "    80        0.7646             nan     0.1000   -0.0003\n",
      "   100        0.7553             nan     0.1000   -0.0003\n",
      "   120        0.7477             nan     0.1000   -0.0004\n",
      "   140        0.7422             nan     0.1000   -0.0005\n",
      "   150        0.7397             nan     0.1000   -0.0002\n",
      "\n",
      "Iter   TrainDeviance   ValidDeviance   StepSize   Improve\n",
      "     1        1.2471             nan     0.1000    0.0414\n",
      "     2        1.1784             nan     0.1000    0.0346\n",
      "     3        1.1191             nan     0.1000    0.0287\n",
      "     4        1.0728             nan     0.1000    0.0227\n",
      "     5        1.0307             nan     0.1000    0.0187\n",
      "     6        0.9969             nan     0.1000    0.0158\n",
      "     7        0.9696             nan     0.1000    0.0132\n",
      "     8        0.9450             nan     0.1000    0.0115\n",
      "     9        0.9231             nan     0.1000    0.0097\n",
      "    10        0.9029             nan     0.1000    0.0091\n",
      "    20        0.8114             nan     0.1000    0.0013\n",
      "    40        0.7688             nan     0.1000    0.0001\n",
      "    60        0.7517             nan     0.1000   -0.0003\n",
      "    80        0.7380             nan     0.1000   -0.0002\n",
      "   100        0.7266             nan     0.1000   -0.0003\n",
      "   120        0.7182             nan     0.1000   -0.0004\n",
      "   140        0.7103             nan     0.1000   -0.0007\n",
      "   150        0.7068             nan     0.1000   -0.0004\n",
      "\n",
      "Iter   TrainDeviance   ValidDeviance   StepSize   Improve\n",
      "     1        1.2510             nan     0.1000    0.0391\n",
      "     2        1.1894             nan     0.1000    0.0311\n",
      "     3        1.1337             nan     0.1000    0.0249\n",
      "     4        1.0907             nan     0.1000    0.0203\n",
      "     5        1.0524             nan     0.1000    0.0176\n",
      "     6        1.0181             nan     0.1000    0.0166\n",
      "     7        0.9914             nan     0.1000    0.0139\n",
      "     8        0.9706             nan     0.1000    0.0097\n",
      "     9        0.9498             nan     0.1000    0.0097\n",
      "    10        0.9321             nan     0.1000    0.0084\n",
      "    20        0.8435             nan     0.1000    0.0019\n",
      "    40        0.8077             nan     0.1000    0.0002\n",
      "    60        0.8003             nan     0.1000   -0.0006\n",
      "    80        0.7956             nan     0.1000   -0.0002\n",
      "   100        0.7918             nan     0.1000   -0.0005\n",
      "   120        0.7894             nan     0.1000   -0.0005\n",
      "   140        0.7860             nan     0.1000    0.0001\n",
      "   150        0.7853             nan     0.1000   -0.0004\n",
      "\n",
      "Iter   TrainDeviance   ValidDeviance   StepSize   Improve\n",
      "     1        1.2452             nan     0.1000    0.0413\n",
      "     2        1.1773             nan     0.1000    0.0338\n",
      "     3        1.1242             nan     0.1000    0.0263\n",
      "     4        1.0770             nan     0.1000    0.0233\n",
      "     5        1.0378             nan     0.1000    0.0192\n",
      "     6        1.0067             nan     0.1000    0.0154\n",
      "     7        0.9789             nan     0.1000    0.0135\n",
      "     8        0.9533             nan     0.1000    0.0124\n",
      "     9        0.9327             nan     0.1000    0.0091\n",
      "    10        0.9127             nan     0.1000    0.0088\n",
      "    20        0.8234             nan     0.1000    0.0018\n",
      "    40        0.7829             nan     0.1000   -0.0002\n",
      "    60        0.7672             nan     0.1000    0.0001\n",
      "    80        0.7576             nan     0.1000   -0.0005\n",
      "   100        0.7486             nan     0.1000   -0.0006\n",
      "   120        0.7405             nan     0.1000    0.0002\n",
      "   140        0.7356             nan     0.1000   -0.0001\n",
      "   150        0.7344             nan     0.1000   -0.0004\n",
      "\n",
      "Iter   TrainDeviance   ValidDeviance   StepSize   Improve\n",
      "     1        1.2454             nan     0.1000    0.0439\n",
      "     2        1.1738             nan     0.1000    0.0357\n",
      "     3        1.1160             nan     0.1000    0.0296\n",
      "     4        1.0678             nan     0.1000    0.0232\n",
      "     5        1.0265             nan     0.1000    0.0191\n",
      "     6        0.9923             nan     0.1000    0.0173\n",
      "     7        0.9643             nan     0.1000    0.0133\n",
      "     8        0.9396             nan     0.1000    0.0113\n",
      "     9        0.9175             nan     0.1000    0.0089\n",
      "    10        0.8971             nan     0.1000    0.0088\n",
      "    20        0.8071             nan     0.1000    0.0015\n",
      "    40        0.7645             nan     0.1000   -0.0000\n",
      "    60        0.7457             nan     0.1000   -0.0008\n",
      "    80        0.7357             nan     0.1000   -0.0007\n",
      "   100        0.7268             nan     0.1000   -0.0005\n",
      "   120        0.7162             nan     0.1000   -0.0001\n",
      "   140        0.7096             nan     0.1000   -0.0008\n",
      "   150        0.7058             nan     0.1000   -0.0002\n",
      "\n",
      "Iter   TrainDeviance   ValidDeviance   StepSize   Improve\n",
      "     1        1.2522             nan     0.1000    0.0386\n",
      "     2        1.1896             nan     0.1000    0.0319\n",
      "     3        1.1364             nan     0.1000    0.0247\n",
      "     4        1.0912             nan     0.1000    0.0217\n",
      "     5        1.0521             nan     0.1000    0.0180\n",
      "     6        1.0191             nan     0.1000    0.0157\n",
      "     7        0.9935             nan     0.1000    0.0127\n",
      "     8        0.9699             nan     0.1000    0.0107\n",
      "     9        0.9494             nan     0.1000    0.0094\n",
      "    10        0.9322             nan     0.1000    0.0079\n",
      "    20        0.8420             nan     0.1000    0.0026\n",
      "    40        0.8050             nan     0.1000    0.0001\n",
      "    60        0.7967             nan     0.1000   -0.0001\n",
      "    80        0.7914             nan     0.1000   -0.0005\n",
      "   100        0.7858             nan     0.1000   -0.0001\n",
      "   120        0.7813             nan     0.1000    0.0000\n",
      "   140        0.7780             nan     0.1000   -0.0002\n",
      "   150        0.7767             nan     0.1000   -0.0001\n",
      "\n",
      "Iter   TrainDeviance   ValidDeviance   StepSize   Improve\n",
      "     1        1.2454             nan     0.1000    0.0434\n",
      "     2        1.1769             nan     0.1000    0.0346\n",
      "     3        1.1183             nan     0.1000    0.0280\n",
      "     4        1.0727             nan     0.1000    0.0218\n",
      "     5        1.0314             nan     0.1000    0.0183\n",
      "     6        0.9976             nan     0.1000    0.0152\n",
      "     7        0.9704             nan     0.1000    0.0145\n",
      "     8        0.9453             nan     0.1000    0.0120\n",
      "     9        0.9255             nan     0.1000    0.0092\n",
      "    10        0.9060             nan     0.1000    0.0082\n",
      "    20        0.8170             nan     0.1000    0.0019\n",
      "    40        0.7796             nan     0.1000   -0.0003\n",
      "    60        0.7649             nan     0.1000   -0.0006\n",
      "    80        0.7548             nan     0.1000   -0.0004\n",
      "   100        0.7475             nan     0.1000   -0.0006\n",
      "   120        0.7401             nan     0.1000   -0.0007\n",
      "   140        0.7344             nan     0.1000   -0.0002\n",
      "   150        0.7310             nan     0.1000   -0.0007\n",
      "\n",
      "Iter   TrainDeviance   ValidDeviance   StepSize   Improve\n",
      "     1        1.2428             nan     0.1000    0.0435\n",
      "     2        1.1742             nan     0.1000    0.0344\n",
      "     3        1.1154             nan     0.1000    0.0286\n",
      "     4        1.0699             nan     0.1000    0.0227\n",
      "     5        1.0256             nan     0.1000    0.0208\n",
      "     6        0.9916             nan     0.1000    0.0159\n",
      "     7        0.9592             nan     0.1000    0.0150\n",
      "     8        0.9355             nan     0.1000    0.0114\n",
      "     9        0.9135             nan     0.1000    0.0104\n",
      "    10        0.8944             nan     0.1000    0.0090\n",
      "    20        0.7989             nan     0.1000    0.0012\n",
      "    40        0.7569             nan     0.1000    0.0002\n",
      "    60        0.7378             nan     0.1000   -0.0006\n",
      "    80        0.7291             nan     0.1000   -0.0008\n",
      "   100        0.7193             nan     0.1000   -0.0005\n",
      "   120        0.7089             nan     0.1000   -0.0011\n",
      "   140        0.7002             nan     0.1000   -0.0006\n",
      "   150        0.6976             nan     0.1000   -0.0005\n",
      "\n",
      "Iter   TrainDeviance   ValidDeviance   StepSize   Improve\n",
      "     1        1.2581             nan     0.1000    0.0369\n",
      "     2        1.1945             nan     0.1000    0.0289\n",
      "     3        1.1473             nan     0.1000    0.0228\n",
      "     4        1.1015             nan     0.1000    0.0207\n",
      "     5        1.0668             nan     0.1000    0.0161\n",
      "     6        1.0325             nan     0.1000    0.0156\n",
      "     7        1.0083             nan     0.1000    0.0130\n",
      "     8        0.9850             nan     0.1000    0.0109\n",
      "     9        0.9665             nan     0.1000    0.0089\n",
      "    10        0.9488             nan     0.1000    0.0080\n",
      "    20        0.8645             nan     0.1000    0.0021\n",
      "    40        0.8304             nan     0.1000   -0.0000\n",
      "    60        0.8220             nan     0.1000   -0.0005\n",
      "    80        0.8154             nan     0.1000    0.0000\n",
      "   100        0.8094             nan     0.1000   -0.0003\n",
      "   120        0.8060             nan     0.1000   -0.0006\n",
      "   140        0.8008             nan     0.1000    0.0002\n",
      "   150        0.7998             nan     0.1000   -0.0000\n",
      "\n",
      "Iter   TrainDeviance   ValidDeviance   StepSize   Improve\n",
      "     1        1.2506             nan     0.1000    0.0409\n",
      "     2        1.1836             nan     0.1000    0.0328\n",
      "     3        1.1292             nan     0.1000    0.0252\n",
      "     4        1.0840             nan     0.1000    0.0218\n",
      "     5        1.0452             nan     0.1000    0.0178\n",
      "     6        1.0131             nan     0.1000    0.0153\n",
      "     7        0.9842             nan     0.1000    0.0132\n",
      "     8        0.9617             nan     0.1000    0.0110\n",
      "     9        0.9435             nan     0.1000    0.0086\n",
      "    10        0.9268             nan     0.1000    0.0071\n",
      "    20        0.8419             nan     0.1000    0.0010\n",
      "    40        0.8014             nan     0.1000   -0.0005\n",
      "    60        0.7852             nan     0.1000    0.0001\n",
      "    80        0.7725             nan     0.1000   -0.0006\n",
      "   100        0.7647             nan     0.1000   -0.0003\n",
      "   120        0.7553             nan     0.1000   -0.0003\n",
      "   140        0.7507             nan     0.1000   -0.0001\n",
      "   150        0.7478             nan     0.1000   -0.0002\n",
      "\n",
      "Iter   TrainDeviance   ValidDeviance   StepSize   Improve\n",
      "     1        1.2496             nan     0.1000    0.0405\n",
      "     2        1.1799             nan     0.1000    0.0337\n",
      "     3        1.1225             nan     0.1000    0.0258\n",
      "     4        1.0759             nan     0.1000    0.0232\n",
      "     5        1.0375             nan     0.1000    0.0178\n",
      "     6        1.0030             nan     0.1000    0.0160\n",
      "     7        0.9754             nan     0.1000    0.0128\n",
      "     8        0.9517             nan     0.1000    0.0111\n",
      "     9        0.9333             nan     0.1000    0.0089\n",
      "    10        0.9134             nan     0.1000    0.0086\n",
      "    20        0.8224             nan     0.1000    0.0017\n",
      "    40        0.7817             nan     0.1000    0.0000\n",
      "    60        0.7637             nan     0.1000    0.0005\n",
      "    80        0.7513             nan     0.1000   -0.0005\n",
      "   100        0.7409             nan     0.1000   -0.0011\n",
      "   120        0.7309             nan     0.1000   -0.0003\n",
      "   140        0.7209             nan     0.1000   -0.0003\n",
      "   150        0.7170             nan     0.1000   -0.0004\n",
      "\n",
      "Iter   TrainDeviance   ValidDeviance   StepSize   Improve\n",
      "     1        1.2529             nan     0.1000    0.0378\n",
      "     2        1.1924             nan     0.1000    0.0309\n",
      "     3        1.1402             nan     0.1000    0.0252\n",
      "     4        1.0930             nan     0.1000    0.0218\n",
      "     5        1.0573             nan     0.1000    0.0168\n",
      "     6        1.0274             nan     0.1000    0.0154\n",
      "     7        1.0015             nan     0.1000    0.0123\n",
      "     8        0.9774             nan     0.1000    0.0114\n",
      "     9        0.9566             nan     0.1000    0.0106\n",
      "    10        0.9390             nan     0.1000    0.0080\n",
      "    20        0.8499             nan     0.1000    0.0019\n",
      "    40        0.8162             nan     0.1000   -0.0002\n",
      "    60        0.8079             nan     0.1000   -0.0002\n",
      "    80        0.8012             nan     0.1000   -0.0002\n",
      "   100        0.7954             nan     0.1000   -0.0001\n",
      "   120        0.7923             nan     0.1000   -0.0005\n",
      "   140        0.7883             nan     0.1000    0.0001\n",
      "   150        0.7868             nan     0.1000   -0.0000\n",
      "\n",
      "Iter   TrainDeviance   ValidDeviance   StepSize   Improve\n",
      "     1        1.2460             nan     0.1000    0.0417\n",
      "     2        1.1796             nan     0.1000    0.0320\n",
      "     3        1.1257             nan     0.1000    0.0278\n",
      "     4        1.0791             nan     0.1000    0.0232\n",
      "     5        1.0406             nan     0.1000    0.0197\n",
      "     6        1.0059             nan     0.1000    0.0156\n",
      "     7        0.9776             nan     0.1000    0.0126\n",
      "     8        0.9557             nan     0.1000    0.0117\n",
      "     9        0.9339             nan     0.1000    0.0103\n",
      "    10        0.9172             nan     0.1000    0.0080\n",
      "    20        0.8300             nan     0.1000    0.0011\n",
      "    40        0.7914             nan     0.1000    0.0003\n",
      "    60        0.7757             nan     0.1000   -0.0001\n",
      "    80        0.7635             nan     0.1000   -0.0001\n",
      "   100        0.7534             nan     0.1000   -0.0008\n",
      "   120        0.7441             nan     0.1000   -0.0001\n",
      "   140        0.7373             nan     0.1000   -0.0006\n",
      "   150        0.7354             nan     0.1000   -0.0006\n",
      "\n",
      "Iter   TrainDeviance   ValidDeviance   StepSize   Improve\n",
      "     1        1.2474             nan     0.1000    0.0410\n",
      "     2        1.1789             nan     0.1000    0.0358\n",
      "     3        1.1199             nan     0.1000    0.0289\n",
      "     4        1.0717             nan     0.1000    0.0235\n",
      "     5        1.0319             nan     0.1000    0.0199\n",
      "     6        0.9959             nan     0.1000    0.0166\n",
      "     7        0.9685             nan     0.1000    0.0134\n",
      "     8        0.9422             nan     0.1000    0.0126\n",
      "     9        0.9217             nan     0.1000    0.0083\n",
      "    10        0.9037             nan     0.1000    0.0082\n",
      "    20        0.8113             nan     0.1000    0.0015\n",
      "    40        0.7676             nan     0.1000   -0.0002\n",
      "    60        0.7493             nan     0.1000   -0.0006\n",
      "    80        0.7332             nan     0.1000   -0.0005\n",
      "   100        0.7232             nan     0.1000   -0.0004\n",
      "   120        0.7157             nan     0.1000   -0.0010\n",
      "   140        0.7076             nan     0.1000   -0.0007\n",
      "   150        0.7033             nan     0.1000   -0.0007\n",
      "\n",
      "Iter   TrainDeviance   ValidDeviance   StepSize   Improve\n",
      "     1        1.2530             nan     0.1000    0.0387\n",
      "     2        1.1890             nan     0.1000    0.0309\n",
      "     3        1.1350             nan     0.1000    0.0250\n",
      "     4        1.0907             nan     0.1000    0.0210\n",
      "     5        1.0540             nan     0.1000    0.0195\n",
      "     6        1.0211             nan     0.1000    0.0157\n",
      "     7        0.9942             nan     0.1000    0.0126\n",
      "     8        0.9698             nan     0.1000    0.0115\n",
      "     9        0.9498             nan     0.1000    0.0092\n",
      "    10        0.9328             nan     0.1000    0.0084\n",
      "    20        0.8416             nan     0.1000    0.0018\n",
      "    40        0.8050             nan     0.1000    0.0002\n",
      "    60        0.7966             nan     0.1000   -0.0004\n",
      "    80        0.7910             nan     0.1000   -0.0002\n",
      "   100        0.7867             nan     0.1000   -0.0003\n",
      "   120        0.7826             nan     0.1000   -0.0003\n",
      "   140        0.7794             nan     0.1000   -0.0001\n",
      "   150        0.7780             nan     0.1000    0.0000\n",
      "\n",
      "Iter   TrainDeviance   ValidDeviance   StepSize   Improve\n",
      "     1        1.2471             nan     0.1000    0.0406\n",
      "     2        1.1761             nan     0.1000    0.0342\n",
      "     3        1.1183             nan     0.1000    0.0268\n",
      "     4        1.0718             nan     0.1000    0.0219\n",
      "     5        1.0323             nan     0.1000    0.0198\n",
      "     6        0.9974             nan     0.1000    0.0158\n",
      "     7        0.9682             nan     0.1000    0.0136\n",
      "     8        0.9451             nan     0.1000    0.0104\n",
      "     9        0.9258             nan     0.1000    0.0097\n",
      "    10        0.9061             nan     0.1000    0.0090\n",
      "    20        0.8182             nan     0.1000    0.0015\n",
      "    40        0.7818             nan     0.1000   -0.0004\n",
      "    60        0.7657             nan     0.1000   -0.0003\n",
      "    80        0.7544             nan     0.1000   -0.0008\n",
      "   100        0.7476             nan     0.1000   -0.0007\n",
      "   120        0.7422             nan     0.1000   -0.0007\n",
      "   140        0.7366             nan     0.1000   -0.0004\n",
      "   150        0.7338             nan     0.1000   -0.0003\n",
      "\n",
      "Iter   TrainDeviance   ValidDeviance   StepSize   Improve\n",
      "     1        1.2419             nan     0.1000    0.0433\n",
      "     2        1.1727             nan     0.1000    0.0341\n",
      "     3        1.1149             nan     0.1000    0.0286\n",
      "     4        1.0661             nan     0.1000    0.0237\n",
      "     5        1.0253             nan     0.1000    0.0188\n",
      "     6        0.9911             nan     0.1000    0.0164\n",
      "     7        0.9630             nan     0.1000    0.0131\n",
      "     8        0.9380             nan     0.1000    0.0102\n",
      "     9        0.9167             nan     0.1000    0.0101\n",
      "    10        0.8976             nan     0.1000    0.0082\n",
      "    20        0.7997             nan     0.1000    0.0020\n",
      "    40        0.7583             nan     0.1000    0.0005\n",
      "    60        0.7424             nan     0.1000   -0.0005\n",
      "    80        0.7312             nan     0.1000   -0.0003\n",
      "   100        0.7216             nan     0.1000   -0.0007\n",
      "   120        0.7119             nan     0.1000   -0.0004\n",
      "   140        0.7059             nan     0.1000   -0.0009\n",
      "   150        0.7010             nan     0.1000   -0.0006\n",
      "\n",
      "Iter   TrainDeviance   ValidDeviance   StepSize   Improve\n",
      "     1        1.2517             nan     0.1000    0.0369\n",
      "     2        1.1897             nan     0.1000    0.0299\n",
      "     3        1.1393             nan     0.1000    0.0248\n",
      "     4        1.0973             nan     0.1000    0.0198\n",
      "     5        1.0596             nan     0.1000    0.0186\n",
      "     6        1.0301             nan     0.1000    0.0143\n",
      "     7        1.0046             nan     0.1000    0.0133\n",
      "     8        0.9821             nan     0.1000    0.0110\n",
      "     9        0.9631             nan     0.1000    0.0088\n",
      "    10        0.9455             nan     0.1000    0.0084\n",
      "    20        0.8594             nan     0.1000    0.0017\n",
      "    40        0.8233             nan     0.1000    0.0003\n",
      "    60        0.8144             nan     0.1000   -0.0001\n",
      "    80        0.8081             nan     0.1000   -0.0002\n",
      "   100        0.8029             nan     0.1000   -0.0004\n",
      "   120        0.7991             nan     0.1000   -0.0000\n",
      "   140        0.7944             nan     0.1000   -0.0001\n",
      "   150        0.7925             nan     0.1000   -0.0000\n",
      "\n",
      "Iter   TrainDeviance   ValidDeviance   StepSize   Improve\n",
      "     1        1.2496             nan     0.1000    0.0432\n",
      "     2        1.1823             nan     0.1000    0.0312\n",
      "     3        1.1266             nan     0.1000    0.0285\n",
      "     4        1.0816             nan     0.1000    0.0219\n",
      "     5        1.0423             nan     0.1000    0.0188\n",
      "     6        1.0086             nan     0.1000    0.0151\n",
      "     7        0.9803             nan     0.1000    0.0135\n",
      "     8        0.9598             nan     0.1000    0.0103\n",
      "     9        0.9394             nan     0.1000    0.0095\n",
      "    10        0.9216             nan     0.1000    0.0087\n",
      "    20        0.8314             nan     0.1000    0.0018\n",
      "    40        0.7934             nan     0.1000    0.0004\n",
      "    60        0.7787             nan     0.1000   -0.0000\n",
      "    80        0.7668             nan     0.1000   -0.0006\n",
      "   100        0.7567             nan     0.1000   -0.0002\n",
      "   120        0.7474             nan     0.1000   -0.0003\n",
      "   140        0.7416             nan     0.1000   -0.0004\n",
      "   150        0.7393             nan     0.1000   -0.0001\n",
      "\n",
      "Iter   TrainDeviance   ValidDeviance   StepSize   Improve\n",
      "     1        1.2417             nan     0.1000    0.0412\n",
      "     2        1.1748             nan     0.1000    0.0327\n",
      "     3        1.1192             nan     0.1000    0.0276\n",
      "     4        1.0735             nan     0.1000    0.0238\n",
      "     5        1.0334             nan     0.1000    0.0193\n",
      "     6        0.9992             nan     0.1000    0.0165\n",
      "     7        0.9722             nan     0.1000    0.0139\n",
      "     8        0.9474             nan     0.1000    0.0120\n",
      "     9        0.9267             nan     0.1000    0.0094\n",
      "    10        0.9099             nan     0.1000    0.0084\n",
      "    20        0.8131             nan     0.1000    0.0019\n",
      "    40        0.7676             nan     0.1000   -0.0005\n",
      "    60        0.7507             nan     0.1000   -0.0013\n",
      "    80        0.7394             nan     0.1000   -0.0002\n",
      "   100        0.7284             nan     0.1000   -0.0009\n",
      "   120        0.7207             nan     0.1000   -0.0007\n",
      "   140        0.7134             nan     0.1000   -0.0004\n",
      "   150        0.7084             nan     0.1000   -0.0002\n",
      "\n",
      "Iter   TrainDeviance   ValidDeviance   StepSize   Improve\n",
      "     1        1.2570             nan     0.1000    0.0383\n",
      "     2        1.1917             nan     0.1000    0.0290\n",
      "     3        1.1424             nan     0.1000    0.0239\n",
      "     4        1.0978             nan     0.1000    0.0213\n",
      "     5        1.0620             nan     0.1000    0.0176\n",
      "     6        1.0298             nan     0.1000    0.0152\n",
      "     7        1.0041             nan     0.1000    0.0124\n",
      "     8        0.9827             nan     0.1000    0.0106\n",
      "     9        0.9649             nan     0.1000    0.0086\n",
      "    10        0.9483             nan     0.1000    0.0072\n",
      "    20        0.8559             nan     0.1000    0.0019\n",
      "    40        0.8209             nan     0.1000    0.0002\n",
      "    60        0.8115             nan     0.1000   -0.0001\n",
      "    80        0.8055             nan     0.1000   -0.0001\n",
      "   100        0.8000             nan     0.1000   -0.0003\n",
      "   120        0.7956             nan     0.1000   -0.0001\n",
      "   140        0.7915             nan     0.1000   -0.0001\n",
      "   150        0.7903             nan     0.1000   -0.0005\n",
      "\n",
      "Iter   TrainDeviance   ValidDeviance   StepSize   Improve\n",
      "     1        1.2488             nan     0.1000    0.0400\n",
      "     2        1.1805             nan     0.1000    0.0323\n",
      "     3        1.1251             nan     0.1000    0.0277\n",
      "     4        1.0812             nan     0.1000    0.0227\n",
      "     5        1.0432             nan     0.1000    0.0181\n",
      "     6        1.0079             nan     0.1000    0.0160\n",
      "     7        0.9805             nan     0.1000    0.0133\n",
      "     8        0.9559             nan     0.1000    0.0116\n",
      "     9        0.9357             nan     0.1000    0.0095\n",
      "    10        0.9182             nan     0.1000    0.0080\n",
      "    20        0.8330             nan     0.1000    0.0024\n",
      "    40        0.7907             nan     0.1000   -0.0005\n",
      "    60        0.7724             nan     0.1000   -0.0001\n",
      "    80        0.7621             nan     0.1000   -0.0004\n",
      "   100        0.7549             nan     0.1000   -0.0007\n",
      "   120        0.7483             nan     0.1000   -0.0002\n",
      "   140        0.7424             nan     0.1000   -0.0002\n",
      "   150        0.7405             nan     0.1000   -0.0002\n",
      "\n",
      "Iter   TrainDeviance   ValidDeviance   StepSize   Improve\n",
      "     1        1.2474             nan     0.1000    0.0410\n",
      "     2        1.1758             nan     0.1000    0.0342\n",
      "     3        1.1167             nan     0.1000    0.0291\n",
      "     4        1.0677             nan     0.1000    0.0221\n",
      "     5        1.0273             nan     0.1000    0.0189\n",
      "     6        0.9954             nan     0.1000    0.0166\n",
      "     7        0.9704             nan     0.1000    0.0129\n",
      "     8        0.9474             nan     0.1000    0.0120\n",
      "     9        0.9267             nan     0.1000    0.0098\n",
      "    10        0.9065             nan     0.1000    0.0092\n",
      "    20        0.8168             nan     0.1000    0.0016\n",
      "    40        0.7704             nan     0.1000   -0.0005\n",
      "    60        0.7503             nan     0.1000   -0.0008\n",
      "    80        0.7355             nan     0.1000   -0.0004\n",
      "   100        0.7253             nan     0.1000   -0.0008\n",
      "   120        0.7146             nan     0.1000   -0.0004\n",
      "   140        0.7077             nan     0.1000   -0.0005\n",
      "   150        0.7039             nan     0.1000   -0.0007\n",
      "\n",
      "Iter   TrainDeviance   ValidDeviance   StepSize   Improve\n",
      "     1        1.2571             nan     0.1000    0.0371\n",
      "     2        1.1950             nan     0.1000    0.0285\n",
      "     3        1.1470             nan     0.1000    0.0252\n",
      "     4        1.1037             nan     0.1000    0.0217\n",
      "     5        1.0683             nan     0.1000    0.0168\n",
      "     6        1.0356             nan     0.1000    0.0158\n",
      "     7        1.0088             nan     0.1000    0.0135\n",
      "     8        0.9853             nan     0.1000    0.0112\n",
      "     9        0.9649             nan     0.1000    0.0089\n",
      "    10        0.9479             nan     0.1000    0.0080\n",
      "    20        0.8613             nan     0.1000    0.0020\n",
      "    40        0.8243             nan     0.1000    0.0001\n",
      "    60        0.8167             nan     0.1000   -0.0002\n",
      "    80        0.8104             nan     0.1000   -0.0001\n",
      "   100        0.8053             nan     0.1000   -0.0001\n",
      "   120        0.8009             nan     0.1000   -0.0008\n",
      "   140        0.7974             nan     0.1000   -0.0006\n",
      "   150        0.7947             nan     0.1000    0.0000\n",
      "\n",
      "Iter   TrainDeviance   ValidDeviance   StepSize   Improve\n",
      "     1        1.2509             nan     0.1000    0.0402\n",
      "     2        1.1838             nan     0.1000    0.0343\n",
      "     3        1.1313             nan     0.1000    0.0262\n",
      "     4        1.0838             nan     0.1000    0.0219\n",
      "     5        1.0438             nan     0.1000    0.0199\n",
      "     6        1.0123             nan     0.1000    0.0161\n",
      "     7        0.9865             nan     0.1000    0.0118\n",
      "     8        0.9618             nan     0.1000    0.0123\n",
      "     9        0.9398             nan     0.1000    0.0095\n",
      "    10        0.9216             nan     0.1000    0.0081\n",
      "    20        0.8355             nan     0.1000    0.0016\n",
      "    40        0.7975             nan     0.1000   -0.0009\n",
      "    60        0.7802             nan     0.1000    0.0003\n",
      "    80        0.7708             nan     0.1000   -0.0005\n",
      "   100        0.7639             nan     0.1000    0.0005\n",
      "   120        0.7556             nan     0.1000   -0.0003\n",
      "   140        0.7492             nan     0.1000   -0.0003\n",
      "   150        0.7464             nan     0.1000   -0.0007\n",
      "\n",
      "Iter   TrainDeviance   ValidDeviance   StepSize   Improve\n",
      "     1        1.2438             nan     0.1000    0.0412\n",
      "     2        1.1737             nan     0.1000    0.0337\n",
      "     3        1.1204             nan     0.1000    0.0260\n",
      "     4        1.0737             nan     0.1000    0.0227\n",
      "     5        1.0362             nan     0.1000    0.0196\n",
      "     6        1.0022             nan     0.1000    0.0167\n",
      "     7        0.9729             nan     0.1000    0.0132\n",
      "     8        0.9488             nan     0.1000    0.0111\n",
      "     9        0.9283             nan     0.1000    0.0100\n",
      "    10        0.9100             nan     0.1000    0.0072\n",
      "    20        0.8204             nan     0.1000    0.0014\n",
      "    40        0.7732             nan     0.1000   -0.0004\n",
      "    60        0.7537             nan     0.1000   -0.0003\n",
      "    80        0.7416             nan     0.1000   -0.0007\n",
      "   100        0.7308             nan     0.1000   -0.0007\n",
      "   120        0.7238             nan     0.1000   -0.0006\n",
      "   140        0.7163             nan     0.1000   -0.0006\n",
      "   150        0.7143             nan     0.1000   -0.0010\n",
      "\n",
      "Iter   TrainDeviance   ValidDeviance   StepSize   Improve\n",
      "     1        1.2545             nan     0.1000    0.0386\n",
      "     2        1.1925             nan     0.1000    0.0312\n",
      "     3        1.1406             nan     0.1000    0.0259\n",
      "     4        1.0947             nan     0.1000    0.0233\n",
      "     5        1.0561             nan     0.1000    0.0195\n",
      "     6        1.0251             nan     0.1000    0.0152\n",
      "     7        0.9964             nan     0.1000    0.0139\n",
      "     8        0.9715             nan     0.1000    0.0109\n",
      "     9        0.9502             nan     0.1000    0.0101\n",
      "    10        0.9330             nan     0.1000    0.0085\n",
      "    20        0.8434             nan     0.1000    0.0022\n",
      "    40        0.8043             nan     0.1000   -0.0001\n",
      "    60        0.7970             nan     0.1000   -0.0002\n",
      "    80        0.7919             nan     0.1000   -0.0001\n",
      "   100        0.7875             nan     0.1000   -0.0002\n",
      "   120        0.7843             nan     0.1000   -0.0001\n",
      "   140        0.7812             nan     0.1000   -0.0002\n",
      "   150        0.7795             nan     0.1000   -0.0005\n",
      "\n",
      "Iter   TrainDeviance   ValidDeviance   StepSize   Improve\n",
      "     1        1.2448             nan     0.1000    0.0425\n",
      "     2        1.1735             nan     0.1000    0.0334\n",
      "     3        1.1187             nan     0.1000    0.0265\n",
      "     4        1.0743             nan     0.1000    0.0229\n",
      "     5        1.0328             nan     0.1000    0.0197\n",
      "     6        0.9966             nan     0.1000    0.0158\n",
      "     7        0.9702             nan     0.1000    0.0131\n",
      "     8        0.9467             nan     0.1000    0.0115\n",
      "     9        0.9252             nan     0.1000    0.0102\n",
      "    10        0.9078             nan     0.1000    0.0088\n",
      "    20        0.8178             nan     0.1000    0.0019\n",
      "    40        0.7804             nan     0.1000   -0.0001\n",
      "    60        0.7650             nan     0.1000   -0.0002\n",
      "    80        0.7551             nan     0.1000    0.0001\n",
      "   100        0.7493             nan     0.1000   -0.0007\n",
      "   120        0.7439             nan     0.1000   -0.0004\n",
      "   140        0.7388             nan     0.1000   -0.0004\n",
      "   150        0.7372             nan     0.1000   -0.0001\n",
      "\n",
      "Iter   TrainDeviance   ValidDeviance   StepSize   Improve\n",
      "     1        1.2432             nan     0.1000    0.0432\n",
      "     2        1.1721             nan     0.1000    0.0348\n",
      "     3        1.1127             nan     0.1000    0.0287\n",
      "     4        1.0641             nan     0.1000    0.0239\n",
      "     5        1.0234             nan     0.1000    0.0183\n",
      "     6        0.9883             nan     0.1000    0.0148\n",
      "     7        0.9594             nan     0.1000    0.0130\n",
      "     8        0.9335             nan     0.1000    0.0104\n",
      "     9        0.9153             nan     0.1000    0.0087\n",
      "    10        0.8974             nan     0.1000    0.0092\n",
      "    20        0.8044             nan     0.1000    0.0020\n",
      "    40        0.7595             nan     0.1000    0.0001\n",
      "    60        0.7404             nan     0.1000   -0.0001\n",
      "    80        0.7280             nan     0.1000   -0.0006\n",
      "   100        0.7189             nan     0.1000   -0.0004\n",
      "   120        0.7106             nan     0.1000   -0.0013\n",
      "   140        0.7044             nan     0.1000   -0.0009\n",
      "   150        0.7006             nan     0.1000   -0.0008\n",
      "\n",
      "Iter   TrainDeviance   ValidDeviance   StepSize   Improve\n",
      "     1        1.2574             nan     0.1000    0.0372\n",
      "     2        1.1952             nan     0.1000    0.0291\n",
      "     3        1.1425             nan     0.1000    0.0253\n",
      "     4        1.1001             nan     0.1000    0.0208\n",
      "     5        1.0675             nan     0.1000    0.0175\n",
      "     6        1.0360             nan     0.1000    0.0151\n",
      "     7        1.0104             nan     0.1000    0.0127\n",
      "     8        0.9871             nan     0.1000    0.0117\n",
      "     9        0.9663             nan     0.1000    0.0097\n",
      "    10        0.9493             nan     0.1000    0.0089\n",
      "    20        0.8603             nan     0.1000    0.0023\n",
      "    40        0.8235             nan     0.1000   -0.0003\n",
      "    60        0.8150             nan     0.1000   -0.0001\n",
      "    80        0.8080             nan     0.1000   -0.0002\n",
      "   100        0.8021             nan     0.1000   -0.0002\n",
      "   120        0.7989             nan     0.1000   -0.0002\n",
      "   140        0.7960             nan     0.1000   -0.0001\n",
      "   150        0.7944             nan     0.1000   -0.0003\n",
      "\n",
      "Iter   TrainDeviance   ValidDeviance   StepSize   Improve\n",
      "     1        1.2505             nan     0.1000    0.0387\n",
      "     2        1.1843             nan     0.1000    0.0332\n",
      "     3        1.1293             nan     0.1000    0.0265\n",
      "     4        1.0818             nan     0.1000    0.0223\n",
      "     5        1.0432             nan     0.1000    0.0195\n",
      "     6        1.0131             nan     0.1000    0.0158\n",
      "     7        0.9853             nan     0.1000    0.0140\n",
      "     8        0.9623             nan     0.1000    0.0114\n",
      "     9        0.9428             nan     0.1000    0.0097\n",
      "    10        0.9264             nan     0.1000    0.0076\n",
      "    20        0.8352             nan     0.1000    0.0011\n",
      "    40        0.7950             nan     0.1000   -0.0001\n",
      "    60        0.7789             nan     0.1000   -0.0008\n",
      "    80        0.7677             nan     0.1000   -0.0001\n",
      "   100        0.7587             nan     0.1000    0.0003\n",
      "   120        0.7522             nan     0.1000   -0.0006\n",
      "   140        0.7456             nan     0.1000   -0.0002\n",
      "   150        0.7421             nan     0.1000   -0.0005\n",
      "\n",
      "Iter   TrainDeviance   ValidDeviance   StepSize   Improve\n",
      "     1        1.2467             nan     0.1000    0.0432\n",
      "     2        1.1776             nan     0.1000    0.0348\n",
      "     3        1.1190             nan     0.1000    0.0284\n",
      "     4        1.0688             nan     0.1000    0.0231\n",
      "     5        1.0319             nan     0.1000    0.0188\n",
      "     6        0.9978             nan     0.1000    0.0149\n",
      "     7        0.9690             nan     0.1000    0.0135\n",
      "     8        0.9435             nan     0.1000    0.0114\n",
      "     9        0.9224             nan     0.1000    0.0093\n",
      "    10        0.9068             nan     0.1000    0.0070\n",
      "    20        0.8208             nan     0.1000    0.0012\n",
      "    40        0.7747             nan     0.1000    0.0001\n",
      "    60        0.7561             nan     0.1000   -0.0001\n",
      "    80        0.7448             nan     0.1000   -0.0006\n",
      "   100        0.7347             nan     0.1000   -0.0010\n",
      "   120        0.7266             nan     0.1000   -0.0009\n",
      "   140        0.7192             nan     0.1000   -0.0006\n",
      "   150        0.7147             nan     0.1000   -0.0007\n",
      "\n",
      "Iter   TrainDeviance   ValidDeviance   StepSize   Improve\n",
      "     1        1.2525             nan     0.1000    0.0390\n",
      "     2        1.1879             nan     0.1000    0.0315\n",
      "     3        1.1370             nan     0.1000    0.0253\n",
      "     4        1.0928             nan     0.1000    0.0218\n",
      "     5        1.0553             nan     0.1000    0.0180\n",
      "     6        1.0226             nan     0.1000    0.0153\n",
      "     7        0.9959             nan     0.1000    0.0128\n",
      "     8        0.9717             nan     0.1000    0.0123\n",
      "     9        0.9538             nan     0.1000    0.0096\n",
      "    10        0.9356             nan     0.1000    0.0089\n",
      "    20        0.8450             nan     0.1000    0.0015\n",
      "    40        0.8109             nan     0.1000    0.0002\n",
      "    60        0.8029             nan     0.1000   -0.0004\n",
      "    80        0.7973             nan     0.1000   -0.0001\n",
      "   100        0.7927             nan     0.1000   -0.0001\n",
      "   120        0.7883             nan     0.1000   -0.0002\n",
      "   140        0.7855             nan     0.1000   -0.0002\n",
      "   150        0.7834             nan     0.1000   -0.0001\n",
      "\n",
      "Iter   TrainDeviance   ValidDeviance   StepSize   Improve\n",
      "     1        1.2480             nan     0.1000    0.0415\n",
      "     2        1.1794             nan     0.1000    0.0332\n",
      "     3        1.1232             nan     0.1000    0.0282\n",
      "     4        1.0762             nan     0.1000    0.0222\n",
      "     5        1.0342             nan     0.1000    0.0186\n",
      "     6        0.9991             nan     0.1000    0.0158\n",
      "     7        0.9713             nan     0.1000    0.0131\n",
      "     8        0.9502             nan     0.1000    0.0106\n",
      "     9        0.9301             nan     0.1000    0.0081\n",
      "    10        0.9121             nan     0.1000    0.0089\n",
      "    20        0.8232             nan     0.1000    0.0023\n",
      "    40        0.7831             nan     0.1000   -0.0000\n",
      "    60        0.7681             nan     0.1000    0.0000\n",
      "    80        0.7588             nan     0.1000   -0.0003\n",
      "   100        0.7512             nan     0.1000   -0.0002\n",
      "   120        0.7445             nan     0.1000   -0.0003\n",
      "   140        0.7378             nan     0.1000   -0.0003\n",
      "   150        0.7347             nan     0.1000   -0.0006\n",
      "\n",
      "Iter   TrainDeviance   ValidDeviance   StepSize   Improve\n",
      "     1        1.2426             nan     0.1000    0.0440\n",
      "     2        1.1721             nan     0.1000    0.0355\n",
      "     3        1.1141             nan     0.1000    0.0279\n",
      "     4        1.0679             nan     0.1000    0.0226\n",
      "     5        1.0261             nan     0.1000    0.0196\n",
      "     6        0.9937             nan     0.1000    0.0163\n",
      "     7        0.9651             nan     0.1000    0.0144\n",
      "     8        0.9390             nan     0.1000    0.0117\n",
      "     9        0.9181             nan     0.1000    0.0101\n",
      "    10        0.9003             nan     0.1000    0.0077\n",
      "    20        0.8080             nan     0.1000    0.0018\n",
      "    40        0.7637             nan     0.1000   -0.0010\n",
      "    60        0.7455             nan     0.1000    0.0004\n",
      "    80        0.7339             nan     0.1000   -0.0007\n",
      "   100        0.7229             nan     0.1000   -0.0004\n",
      "   120        0.7163             nan     0.1000   -0.0005\n",
      "   140        0.7078             nan     0.1000   -0.0004\n",
      "   150        0.7051             nan     0.1000   -0.0009\n",
      "\n",
      "Iter   TrainDeviance   ValidDeviance   StepSize   Improve\n",
      "     1        1.2535             nan     0.1000    0.0393\n",
      "     2        1.1924             nan     0.1000    0.0316\n",
      "     3        1.1407             nan     0.1000    0.0252\n",
      "     4        1.0988             nan     0.1000    0.0209\n",
      "     5        1.0612             nan     0.1000    0.0179\n",
      "     6        1.0266             nan     0.1000    0.0174\n",
      "     7        0.9957             nan     0.1000    0.0139\n",
      "     8        0.9712             nan     0.1000    0.0108\n",
      "     9        0.9500             nan     0.1000    0.0103\n",
      "    10        0.9310             nan     0.1000    0.0081\n",
      "    20        0.8427             nan     0.1000    0.0019\n",
      "    40        0.8070             nan     0.1000   -0.0000\n",
      "    60        0.7980             nan     0.1000   -0.0000\n",
      "    80        0.7922             nan     0.1000   -0.0003\n",
      "   100        0.7870             nan     0.1000   -0.0001\n",
      "   120        0.7835             nan     0.1000   -0.0001\n",
      "   140        0.7804             nan     0.1000   -0.0005\n",
      "   150        0.7791             nan     0.1000   -0.0007\n",
      "\n",
      "Iter   TrainDeviance   ValidDeviance   StepSize   Improve\n",
      "     1        1.2471             nan     0.1000    0.0419\n",
      "     2        1.1790             nan     0.1000    0.0334\n",
      "     3        1.1230             nan     0.1000    0.0274\n",
      "     4        1.0731             nan     0.1000    0.0228\n",
      "     5        1.0339             nan     0.1000    0.0193\n",
      "     6        1.0007             nan     0.1000    0.0158\n",
      "     7        0.9712             nan     0.1000    0.0134\n",
      "     8        0.9467             nan     0.1000    0.0114\n",
      "     9        0.9263             nan     0.1000    0.0091\n",
      "    10        0.9090             nan     0.1000    0.0078\n",
      "    20        0.8214             nan     0.1000    0.0015\n",
      "    40        0.7798             nan     0.1000   -0.0001\n",
      "    60        0.7659             nan     0.1000   -0.0003\n",
      "    80        0.7540             nan     0.1000   -0.0000\n",
      "   100        0.7479             nan     0.1000   -0.0006\n",
      "   120        0.7410             nan     0.1000   -0.0004\n",
      "   140        0.7343             nan     0.1000   -0.0004\n",
      "   150        0.7318             nan     0.1000   -0.0001\n",
      "\n",
      "Iter   TrainDeviance   ValidDeviance   StepSize   Improve\n",
      "     1        1.2418             nan     0.1000    0.0452\n",
      "     2        1.1722             nan     0.1000    0.0318\n",
      "     3        1.1133             nan     0.1000    0.0291\n",
      "     4        1.0671             nan     0.1000    0.0228\n",
      "     5        1.0280             nan     0.1000    0.0187\n",
      "     6        0.9933             nan     0.1000    0.0169\n",
      "     7        0.9638             nan     0.1000    0.0142\n",
      "     8        0.9360             nan     0.1000    0.0122\n",
      "     9        0.9136             nan     0.1000    0.0093\n",
      "    10        0.8954             nan     0.1000    0.0088\n",
      "    20        0.8022             nan     0.1000    0.0019\n",
      "    40        0.7563             nan     0.1000   -0.0003\n",
      "    60        0.7397             nan     0.1000   -0.0007\n",
      "    80        0.7276             nan     0.1000   -0.0001\n",
      "   100        0.7167             nan     0.1000    0.0000\n",
      "   120        0.7089             nan     0.1000   -0.0004\n",
      "   140        0.7022             nan     0.1000   -0.0005\n",
      "   150        0.6987             nan     0.1000   -0.0008\n",
      "\n",
      "Iter   TrainDeviance   ValidDeviance   StepSize   Improve\n",
      "     1        1.2513             nan     0.1000    0.0393\n",
      "     2        1.1904             nan     0.1000    0.0306\n",
      "     3        1.1362             nan     0.1000    0.0247\n",
      "     4        1.0908             nan     0.1000    0.0225\n",
      "     5        1.0535             nan     0.1000    0.0178\n",
      "     6        1.0214             nan     0.1000    0.0160\n",
      "     7        0.9929             nan     0.1000    0.0130\n",
      "     8        0.9692             nan     0.1000    0.0106\n",
      "     9        0.9491             nan     0.1000    0.0101\n",
      "    10        0.9319             nan     0.1000    0.0081\n",
      "    20        0.8406             nan     0.1000    0.0021\n",
      "    40        0.8055             nan     0.1000   -0.0002\n",
      "    60        0.7995             nan     0.1000   -0.0005\n",
      "    80        0.7926             nan     0.1000   -0.0001\n",
      "   100        0.7875             nan     0.1000   -0.0002\n",
      "   120        0.7830             nan     0.1000   -0.0002\n",
      "   140        0.7806             nan     0.1000   -0.0003\n",
      "   150        0.7790             nan     0.1000   -0.0005\n",
      "\n",
      "Iter   TrainDeviance   ValidDeviance   StepSize   Improve\n",
      "     1        1.2474             nan     0.1000    0.0426\n",
      "     2        1.1796             nan     0.1000    0.0313\n",
      "     3        1.1240             nan     0.1000    0.0256\n",
      "     4        1.0771             nan     0.1000    0.0241\n",
      "     5        1.0365             nan     0.1000    0.0190\n",
      "     6        1.0042             nan     0.1000    0.0155\n",
      "     7        0.9733             nan     0.1000    0.0129\n",
      "     8        0.9480             nan     0.1000    0.0114\n",
      "     9        0.9265             nan     0.1000    0.0100\n",
      "    10        0.9085             nan     0.1000    0.0084\n",
      "    20        0.8195             nan     0.1000    0.0012\n",
      "    40        0.7806             nan     0.1000    0.0002\n",
      "    60        0.7646             nan     0.1000   -0.0007\n",
      "    80        0.7502             nan     0.1000    0.0000\n",
      "   100        0.7427             nan     0.1000   -0.0002\n",
      "   120        0.7368             nan     0.1000   -0.0006\n",
      "   140        0.7314             nan     0.1000   -0.0007\n",
      "   150        0.7296             nan     0.1000   -0.0003\n",
      "\n",
      "Iter   TrainDeviance   ValidDeviance   StepSize   Improve\n",
      "     1        1.2414             nan     0.1000    0.0437\n",
      "     2        1.1684             nan     0.1000    0.0359\n",
      "     3        1.1100             nan     0.1000    0.0268\n",
      "     4        1.0671             nan     0.1000    0.0220\n",
      "     5        1.0259             nan     0.1000    0.0180\n",
      "     6        0.9894             nan     0.1000    0.0172\n",
      "     7        0.9600             nan     0.1000    0.0136\n",
      "     8        0.9355             nan     0.1000    0.0118\n",
      "     9        0.9141             nan     0.1000    0.0105\n",
      "    10        0.8963             nan     0.1000    0.0090\n",
      "    20        0.8010             nan     0.1000    0.0014\n",
      "    40        0.7585             nan     0.1000   -0.0006\n",
      "    60        0.7396             nan     0.1000   -0.0002\n",
      "    80        0.7262             nan     0.1000   -0.0007\n",
      "   100        0.7154             nan     0.1000   -0.0003\n",
      "   120        0.7054             nan     0.1000   -0.0008\n",
      "   140        0.6986             nan     0.1000   -0.0011\n",
      "   150        0.6951             nan     0.1000   -0.0004\n",
      "\n",
      "Iter   TrainDeviance   ValidDeviance   StepSize   Improve\n",
      "     1        1.2560             nan     0.1000    0.0390\n",
      "     2        1.1937             nan     0.1000    0.0326\n",
      "     3        1.1389             nan     0.1000    0.0265\n",
      "     4        1.0960             nan     0.1000    0.0219\n",
      "     5        1.0607             nan     0.1000    0.0185\n",
      "     6        1.0283             nan     0.1000    0.0165\n",
      "     7        1.0004             nan     0.1000    0.0131\n",
      "     8        0.9747             nan     0.1000    0.0120\n",
      "     9        0.9532             nan     0.1000    0.0097\n",
      "    10        0.9357             nan     0.1000    0.0086\n",
      "    20        0.8460             nan     0.1000    0.0021\n",
      "    40        0.8086             nan     0.1000   -0.0002\n",
      "    60        0.7995             nan     0.1000   -0.0002\n",
      "    80        0.7919             nan     0.1000    0.0001\n",
      "   100        0.7859             nan     0.1000   -0.0001\n",
      "   120        0.7812             nan     0.1000   -0.0001\n",
      "   140        0.7784             nan     0.1000   -0.0003\n",
      "   150        0.7763             nan     0.1000   -0.0000\n",
      "\n",
      "Iter   TrainDeviance   ValidDeviance   StepSize   Improve\n",
      "     1        1.2481             nan     0.1000    0.0423\n",
      "     2        1.1831             nan     0.1000    0.0341\n",
      "     3        1.1255             nan     0.1000    0.0278\n",
      "     4        1.0793             nan     0.1000    0.0227\n",
      "     5        1.0411             nan     0.1000    0.0199\n",
      "     6        1.0073             nan     0.1000    0.0160\n",
      "     7        0.9763             nan     0.1000    0.0143\n",
      "     8        0.9512             nan     0.1000    0.0123\n",
      "     9        0.9302             nan     0.1000    0.0098\n",
      "    10        0.9119             nan     0.1000    0.0090\n",
      "    20        0.8208             nan     0.1000    0.0018\n",
      "    40        0.7762             nan     0.1000   -0.0003\n",
      "    60        0.7597             nan     0.1000   -0.0006\n",
      "    80        0.7479             nan     0.1000   -0.0002\n",
      "   100        0.7399             nan     0.1000   -0.0002\n",
      "   120        0.7328             nan     0.1000   -0.0002\n",
      "   140        0.7254             nan     0.1000   -0.0003\n",
      "   150        0.7222             nan     0.1000   -0.0004\n",
      "\n",
      "Iter   TrainDeviance   ValidDeviance   StepSize   Improve\n",
      "     1        1.2449             nan     0.1000    0.0436\n",
      "     2        1.1749             nan     0.1000    0.0341\n",
      "     3        1.1167             nan     0.1000    0.0286\n",
      "     4        1.0691             nan     0.1000    0.0246\n",
      "     5        1.0280             nan     0.1000    0.0197\n",
      "     6        0.9943             nan     0.1000    0.0156\n",
      "     7        0.9654             nan     0.1000    0.0131\n",
      "     8        0.9385             nan     0.1000    0.0128\n",
      "     9        0.9186             nan     0.1000    0.0094\n",
      "    10        0.8974             nan     0.1000    0.0088\n",
      "    20        0.8055             nan     0.1000    0.0019\n",
      "    40        0.7612             nan     0.1000    0.0003\n",
      "    60        0.7412             nan     0.1000   -0.0001\n",
      "    80        0.7261             nan     0.1000    0.0000\n",
      "   100        0.7153             nan     0.1000   -0.0004\n",
      "   120        0.7083             nan     0.1000   -0.0003\n",
      "   140        0.7016             nan     0.1000   -0.0004\n",
      "   150        0.6988             nan     0.1000   -0.0002\n",
      "\n",
      "Iter   TrainDeviance   ValidDeviance   StepSize   Improve\n",
      "     1        1.2552             nan     0.1000    0.0390\n",
      "     2        1.1908             nan     0.1000    0.0311\n",
      "     3        1.1384             nan     0.1000    0.0253\n",
      "     4        1.0907             nan     0.1000    0.0212\n",
      "     5        1.0522             nan     0.1000    0.0178\n",
      "     6        1.0214             nan     0.1000    0.0154\n",
      "     7        0.9945             nan     0.1000    0.0135\n",
      "     8        0.9720             nan     0.1000    0.0113\n",
      "     9        0.9517             nan     0.1000    0.0097\n",
      "    10        0.9340             nan     0.1000    0.0084\n",
      "    20        0.8415             nan     0.1000    0.0010\n",
      "    40        0.8073             nan     0.1000   -0.0000\n",
      "    60        0.7995             nan     0.1000    0.0001\n",
      "    80        0.7924             nan     0.1000   -0.0005\n",
      "   100        0.7867             nan     0.1000    0.0000\n",
      "   120        0.7834             nan     0.1000   -0.0006\n",
      "   140        0.7803             nan     0.1000   -0.0006\n",
      "   150        0.7785             nan     0.1000   -0.0001\n",
      "\n",
      "Iter   TrainDeviance   ValidDeviance   StepSize   Improve\n",
      "     1        1.2493             nan     0.1000    0.0404\n",
      "     2        1.1818             nan     0.1000    0.0347\n",
      "     3        1.1255             nan     0.1000    0.0284\n",
      "     4        1.0798             nan     0.1000    0.0218\n",
      "     5        1.0396             nan     0.1000    0.0195\n",
      "     6        1.0053             nan     0.1000    0.0159\n",
      "     7        0.9761             nan     0.1000    0.0127\n",
      "     8        0.9505             nan     0.1000    0.0127\n",
      "     9        0.9292             nan     0.1000    0.0104\n",
      "    10        0.9094             nan     0.1000    0.0072\n",
      "    20        0.8188             nan     0.1000    0.0024\n",
      "    40        0.7803             nan     0.1000   -0.0001\n",
      "    60        0.7641             nan     0.1000   -0.0002\n",
      "    80        0.7530             nan     0.1000   -0.0003\n",
      "   100        0.7464             nan     0.1000   -0.0002\n",
      "   120        0.7401             nan     0.1000   -0.0005\n",
      "   140        0.7351             nan     0.1000   -0.0002\n",
      "   150        0.7330             nan     0.1000   -0.0001\n",
      "\n",
      "Iter   TrainDeviance   ValidDeviance   StepSize   Improve\n",
      "     1        1.2426             nan     0.1000    0.0436\n",
      "     2        1.1707             nan     0.1000    0.0356\n",
      "     3        1.1124             nan     0.1000    0.0292\n",
      "     4        1.0662             nan     0.1000    0.0240\n",
      "     5        1.0270             nan     0.1000    0.0201\n",
      "     6        0.9925             nan     0.1000    0.0169\n",
      "     7        0.9602             nan     0.1000    0.0141\n",
      "     8        0.9365             nan     0.1000    0.0112\n",
      "     9        0.9139             nan     0.1000    0.0103\n",
      "    10        0.8949             nan     0.1000    0.0081\n",
      "    20        0.8024             nan     0.1000    0.0021\n",
      "    40        0.7603             nan     0.1000   -0.0002\n",
      "    60        0.7422             nan     0.1000   -0.0001\n",
      "    80        0.7296             nan     0.1000   -0.0008\n",
      "   100        0.7189             nan     0.1000   -0.0012\n",
      "   120        0.7083             nan     0.1000   -0.0010\n",
      "   140        0.6986             nan     0.1000    0.0001\n",
      "   150        0.6944             nan     0.1000   -0.0002\n",
      "\n",
      "Iter   TrainDeviance   ValidDeviance   StepSize   Improve\n",
      "     1        1.2573             nan     0.1000    0.0391\n",
      "     2        1.1896             nan     0.1000    0.0301\n",
      "     3        1.1375             nan     0.1000    0.0255\n",
      "     4        1.0942             nan     0.1000    0.0216\n",
      "     5        1.0577             nan     0.1000    0.0176\n",
      "     6        1.0263             nan     0.1000    0.0143\n",
      "     7        0.9985             nan     0.1000    0.0123\n",
      "     8        0.9740             nan     0.1000    0.0118\n",
      "     9        0.9556             nan     0.1000    0.0099\n",
      "    10        0.9403             nan     0.1000    0.0079\n",
      "    20        0.8463             nan     0.1000    0.0021\n",
      "    40        0.8090             nan     0.1000    0.0001\n",
      "    60        0.8005             nan     0.1000   -0.0002\n",
      "    80        0.7945             nan     0.1000   -0.0005\n",
      "   100        0.7895             nan     0.1000   -0.0002\n",
      "   120        0.7847             nan     0.1000   -0.0001\n",
      "   140        0.7813             nan     0.1000    0.0000\n",
      "   150        0.7790             nan     0.1000   -0.0000\n",
      "\n",
      "Iter   TrainDeviance   ValidDeviance   StepSize   Improve\n",
      "     1        1.2486             nan     0.1000    0.0419\n",
      "     2        1.1818             nan     0.1000    0.0340\n",
      "     3        1.1242             nan     0.1000    0.0281\n",
      "     4        1.0766             nan     0.1000    0.0217\n",
      "     5        1.0363             nan     0.1000    0.0194\n",
      "     6        1.0029             nan     0.1000    0.0158\n",
      "     7        0.9731             nan     0.1000    0.0137\n",
      "     8        0.9477             nan     0.1000    0.0112\n",
      "     9        0.9274             nan     0.1000    0.0094\n",
      "    10        0.9092             nan     0.1000    0.0087\n",
      "    20        0.8235             nan     0.1000    0.0017\n",
      "    40        0.7833             nan     0.1000   -0.0005\n",
      "    60        0.7673             nan     0.1000    0.0002\n",
      "    80        0.7569             nan     0.1000   -0.0001\n",
      "   100        0.7490             nan     0.1000   -0.0002\n",
      "   120        0.7422             nan     0.1000   -0.0004\n",
      "   140        0.7370             nan     0.1000   -0.0002\n",
      "   150        0.7331             nan     0.1000   -0.0002\n",
      "\n",
      "Iter   TrainDeviance   ValidDeviance   StepSize   Improve\n",
      "     1        1.2424             nan     0.1000    0.0433\n",
      "     2        1.1712             nan     0.1000    0.0327\n",
      "     3        1.1153             nan     0.1000    0.0279\n",
      "     4        1.0653             nan     0.1000    0.0233\n",
      "     5        1.0250             nan     0.1000    0.0192\n",
      "     6        0.9914             nan     0.1000    0.0154\n",
      "     7        0.9616             nan     0.1000    0.0136\n",
      "     8        0.9382             nan     0.1000    0.0109\n",
      "     9        0.9168             nan     0.1000    0.0102\n",
      "    10        0.9007             nan     0.1000    0.0073\n",
      "    20        0.8048             nan     0.1000    0.0016\n",
      "    40        0.7603             nan     0.1000   -0.0009\n",
      "    60        0.7404             nan     0.1000   -0.0005\n",
      "    80        0.7272             nan     0.1000   -0.0003\n",
      "   100        0.7175             nan     0.1000   -0.0005\n",
      "   120        0.7094             nan     0.1000   -0.0006\n",
      "   140        0.7020             nan     0.1000   -0.0011\n",
      "   150        0.6976             nan     0.1000   -0.0009\n",
      "\n",
      "Iter   TrainDeviance   ValidDeviance   StepSize   Improve\n",
      "     1        1.2616             nan     0.1000    0.0342\n",
      "     2        1.1959             nan     0.1000    0.0314\n",
      "     3        1.1448             nan     0.1000    0.0244\n",
      "     4        1.1006             nan     0.1000    0.0206\n",
      "     5        1.0648             nan     0.1000    0.0175\n",
      "     6        1.0356             nan     0.1000    0.0154\n",
      "     7        1.0104             nan     0.1000    0.0122\n",
      "     8        0.9885             nan     0.1000    0.0110\n",
      "     9        0.9711             nan     0.1000    0.0074\n",
      "    10        0.9546             nan     0.1000    0.0087\n",
      "    20        0.8638             nan     0.1000    0.0019\n",
      "    40        0.8272             nan     0.1000   -0.0005\n",
      "    60        0.8185             nan     0.1000   -0.0003\n",
      "    80        0.8117             nan     0.1000   -0.0001\n",
      "   100        0.8069             nan     0.1000   -0.0002\n",
      "   120        0.8018             nan     0.1000   -0.0003\n",
      "   140        0.7989             nan     0.1000   -0.0004\n",
      "   150        0.7972             nan     0.1000   -0.0002\n",
      "\n",
      "Iter   TrainDeviance   ValidDeviance   StepSize   Improve\n",
      "     1        1.2534             nan     0.1000    0.0388\n",
      "     2        1.1872             nan     0.1000    0.0334\n",
      "     3        1.1338             nan     0.1000    0.0248\n",
      "     4        1.0888             nan     0.1000    0.0225\n",
      "     5        1.0501             nan     0.1000    0.0187\n",
      "     6        1.0175             nan     0.1000    0.0164\n",
      "     7        0.9891             nan     0.1000    0.0141\n",
      "     8        0.9672             nan     0.1000    0.0101\n",
      "     9        0.9455             nan     0.1000    0.0107\n",
      "    10        0.9295             nan     0.1000    0.0081\n",
      "    20        0.8390             nan     0.1000    0.0019\n",
      "    40        0.7987             nan     0.1000   -0.0001\n",
      "    60        0.7860             nan     0.1000   -0.0004\n",
      "    80        0.7751             nan     0.1000   -0.0002\n",
      "   100        0.7673             nan     0.1000   -0.0003\n",
      "   120        0.7591             nan     0.1000   -0.0004\n",
      "   140        0.7536             nan     0.1000    0.0001\n",
      "   150        0.7504             nan     0.1000   -0.0002\n",
      "\n",
      "Iter   TrainDeviance   ValidDeviance   StepSize   Improve\n",
      "     1        1.2448             nan     0.1000    0.0429\n",
      "     2        1.1746             nan     0.1000    0.0328\n",
      "     3        1.1204             nan     0.1000    0.0269\n",
      "     4        1.0729             nan     0.1000    0.0225\n",
      "     5        1.0332             nan     0.1000    0.0197\n",
      "     6        0.9998             nan     0.1000    0.0147\n",
      "     7        0.9737             nan     0.1000    0.0130\n",
      "     8        0.9510             nan     0.1000    0.0114\n",
      "     9        0.9321             nan     0.1000    0.0096\n",
      "    10        0.9136             nan     0.1000    0.0084\n",
      "    20        0.8207             nan     0.1000    0.0011\n",
      "    40        0.7780             nan     0.1000   -0.0003\n",
      "    60        0.7577             nan     0.1000   -0.0008\n",
      "    80        0.7471             nan     0.1000   -0.0008\n",
      "   100        0.7352             nan     0.1000   -0.0011\n",
      "   120        0.7277             nan     0.1000   -0.0008\n",
      "   140        0.7193             nan     0.1000   -0.0010\n",
      "   150        0.7161             nan     0.1000   -0.0003\n",
      "\n",
      "Iter   TrainDeviance   ValidDeviance   StepSize   Improve\n",
      "     1        1.2598             nan     0.1000    0.0379\n",
      "     2        1.1964             nan     0.1000    0.0298\n",
      "     3        1.1456             nan     0.1000    0.0258\n",
      "     4        1.1029             nan     0.1000    0.0201\n",
      "     5        1.0648             nan     0.1000    0.0189\n",
      "     6        1.0344             nan     0.1000    0.0156\n",
      "     7        1.0071             nan     0.1000    0.0139\n",
      "     8        0.9842             nan     0.1000    0.0106\n",
      "     9        0.9641             nan     0.1000    0.0098\n",
      "    10        0.9461             nan     0.1000    0.0086\n",
      "    20        0.8590             nan     0.1000    0.0018\n",
      "    40        0.8233             nan     0.1000   -0.0000\n",
      "    60        0.8141             nan     0.1000    0.0001\n",
      "    80        0.8081             nan     0.1000   -0.0004\n",
      "   100        0.8029             nan     0.1000   -0.0001\n",
      "   120        0.7988             nan     0.1000   -0.0004\n",
      "   140        0.7958             nan     0.1000   -0.0004\n",
      "   150        0.7939             nan     0.1000   -0.0001\n",
      "\n",
      "Iter   TrainDeviance   ValidDeviance   StepSize   Improve\n",
      "     1        1.2530             nan     0.1000    0.0393\n",
      "     2        1.1852             nan     0.1000    0.0340\n",
      "     3        1.1306             nan     0.1000    0.0273\n",
      "     4        1.0833             nan     0.1000    0.0226\n",
      "     5        1.0437             nan     0.1000    0.0185\n",
      "     6        1.0108             nan     0.1000    0.0149\n",
      "     7        0.9829             nan     0.1000    0.0137\n",
      "     8        0.9609             nan     0.1000    0.0109\n",
      "     9        0.9384             nan     0.1000    0.0096\n",
      "    10        0.9221             nan     0.1000    0.0082\n",
      "    20        0.8365             nan     0.1000    0.0014\n",
      "    40        0.7946             nan     0.1000    0.0004\n",
      "    60        0.7787             nan     0.1000    0.0000\n",
      "    80        0.7681             nan     0.1000   -0.0005\n",
      "   100        0.7581             nan     0.1000   -0.0001\n",
      "   120        0.7534             nan     0.1000   -0.0002\n",
      "   140        0.7512             nan     0.1000   -0.0005\n",
      "   150        0.7474             nan     0.1000   -0.0000\n",
      "\n",
      "Iter   TrainDeviance   ValidDeviance   StepSize   Improve\n",
      "     1        1.2439             nan     0.1000    0.0437\n",
      "     2        1.1757             nan     0.1000    0.0333\n",
      "     3        1.1168             nan     0.1000    0.0265\n",
      "     4        1.0700             nan     0.1000    0.0213\n",
      "     5        1.0332             nan     0.1000    0.0188\n",
      "     6        0.9988             nan     0.1000    0.0154\n",
      "     7        0.9712             nan     0.1000    0.0135\n",
      "     8        0.9478             nan     0.1000    0.0106\n",
      "     9        0.9257             nan     0.1000    0.0099\n",
      "    10        0.9091             nan     0.1000    0.0069\n",
      "    20        0.8221             nan     0.1000    0.0016\n",
      "    40        0.7771             nan     0.1000   -0.0001\n",
      "    60        0.7563             nan     0.1000   -0.0001\n",
      "    80        0.7409             nan     0.1000   -0.0005\n",
      "   100        0.7308             nan     0.1000   -0.0009\n",
      "   120        0.7218             nan     0.1000   -0.0006\n",
      "   140        0.7152             nan     0.1000   -0.0006\n",
      "   150        0.7109             nan     0.1000   -0.0004\n",
      "\n",
      "Iter   TrainDeviance   ValidDeviance   StepSize   Improve\n",
      "     1        1.2573             nan     0.1000    0.0342\n",
      "     2        1.1984             nan     0.1000    0.0299\n",
      "     3        1.1444             nan     0.1000    0.0253\n",
      "     4        1.0994             nan     0.1000    0.0221\n",
      "     5        1.0642             nan     0.1000    0.0181\n",
      "     6        1.0315             nan     0.1000    0.0145\n",
      "     7        1.0038             nan     0.1000    0.0135\n",
      "     8        0.9812             nan     0.1000    0.0105\n",
      "     9        0.9602             nan     0.1000    0.0095\n",
      "    10        0.9429             nan     0.1000    0.0073\n",
      "    20        0.8608             nan     0.1000    0.0020\n",
      "    40        0.8293             nan     0.1000   -0.0001\n",
      "    60        0.8202             nan     0.1000    0.0001\n",
      "    80        0.8131             nan     0.1000   -0.0002\n",
      "   100        0.8062             nan     0.1000   -0.0002\n",
      "   120        0.8005             nan     0.1000   -0.0001\n",
      "   140        0.7973             nan     0.1000   -0.0003\n",
      "   150        0.7961             nan     0.1000   -0.0001\n",
      "\n",
      "Iter   TrainDeviance   ValidDeviance   StepSize   Improve\n",
      "     1        1.2481             nan     0.1000    0.0418\n",
      "     2        1.1835             nan     0.1000    0.0309\n",
      "     3        1.1261             nan     0.1000    0.0278\n",
      "     4        1.0838             nan     0.1000    0.0216\n",
      "     5        1.0483             nan     0.1000    0.0181\n",
      "     6        1.0161             nan     0.1000    0.0148\n",
      "     7        0.9890             nan     0.1000    0.0125\n",
      "     8        0.9641             nan     0.1000    0.0111\n",
      "     9        0.9428             nan     0.1000    0.0102\n",
      "    10        0.9255             nan     0.1000    0.0083\n",
      "    20        0.8394             nan     0.1000    0.0016\n",
      "    40        0.7977             nan     0.1000   -0.0000\n",
      "    60        0.7822             nan     0.1000   -0.0003\n",
      "    80        0.7689             nan     0.1000   -0.0002\n",
      "   100        0.7587             nan     0.1000   -0.0002\n",
      "   120        0.7504             nan     0.1000   -0.0003\n",
      "   140        0.7465             nan     0.1000   -0.0003\n",
      "   150        0.7436             nan     0.1000   -0.0002\n",
      "\n",
      "Iter   TrainDeviance   ValidDeviance   StepSize   Improve\n",
      "     1        1.2460             nan     0.1000    0.0452\n",
      "     2        1.1779             nan     0.1000    0.0340\n",
      "     3        1.1227             nan     0.1000    0.0275\n",
      "     4        1.0760             nan     0.1000    0.0235\n",
      "     5        1.0385             nan     0.1000    0.0192\n",
      "     6        1.0058             nan     0.1000    0.0155\n",
      "     7        0.9765             nan     0.1000    0.0131\n",
      "     8        0.9541             nan     0.1000    0.0103\n",
      "     9        0.9337             nan     0.1000    0.0094\n",
      "    10        0.9162             nan     0.1000    0.0086\n",
      "    20        0.8212             nan     0.1000    0.0023\n",
      "    40        0.7779             nan     0.1000   -0.0006\n",
      "    60        0.7571             nan     0.1000   -0.0007\n",
      "    80        0.7445             nan     0.1000   -0.0001\n",
      "   100        0.7362             nan     0.1000   -0.0003\n",
      "   120        0.7284             nan     0.1000   -0.0012\n",
      "   140        0.7206             nan     0.1000   -0.0005\n",
      "   150        0.7156             nan     0.1000   -0.0004\n",
      "\n",
      "Iter   TrainDeviance   ValidDeviance   StepSize   Improve\n",
      "     1        1.2606             nan     0.1000    0.0381\n",
      "     2        1.1994             nan     0.1000    0.0297\n",
      "     3        1.1500             nan     0.1000    0.0257\n",
      "     4        1.1066             nan     0.1000    0.0210\n",
      "     5        1.0711             nan     0.1000    0.0179\n",
      "     6        1.0384             nan     0.1000    0.0154\n",
      "     7        1.0131             nan     0.1000    0.0121\n",
      "     8        0.9888             nan     0.1000    0.0106\n",
      "     9        0.9712             nan     0.1000    0.0083\n",
      "    10        0.9543             nan     0.1000    0.0078\n",
      "    20        0.8630             nan     0.1000    0.0017\n",
      "    40        0.8308             nan     0.1000    0.0000\n",
      "    60        0.8228             nan     0.1000    0.0001\n",
      "    80        0.8172             nan     0.1000   -0.0003\n",
      "   100        0.8127             nan     0.1000   -0.0004\n",
      "   120        0.8092             nan     0.1000   -0.0001\n",
      "   140        0.8061             nan     0.1000   -0.0002\n",
      "   150        0.8043             nan     0.1000   -0.0002\n",
      "\n",
      "Iter   TrainDeviance   ValidDeviance   StepSize   Improve\n",
      "     1        1.2498             nan     0.1000    0.0373\n",
      "     2        1.1861             nan     0.1000    0.0310\n",
      "     3        1.1348             nan     0.1000    0.0268\n",
      "     4        1.0887             nan     0.1000    0.0216\n",
      "     5        1.0508             nan     0.1000    0.0191\n",
      "     6        1.0177             nan     0.1000    0.0149\n",
      "     7        0.9886             nan     0.1000    0.0132\n",
      "     8        0.9679             nan     0.1000    0.0101\n",
      "     9        0.9477             nan     0.1000    0.0096\n",
      "    10        0.9287             nan     0.1000    0.0089\n",
      "    20        0.8435             nan     0.1000    0.0009\n",
      "    40        0.8054             nan     0.1000   -0.0001\n",
      "    60        0.7915             nan     0.1000    0.0001\n",
      "    80        0.7816             nan     0.1000   -0.0010\n",
      "   100        0.7706             nan     0.1000   -0.0007\n",
      "   120        0.7623             nan     0.1000   -0.0003\n",
      "   140        0.7574             nan     0.1000   -0.0006\n",
      "   150        0.7552             nan     0.1000   -0.0003\n",
      "\n",
      "Iter   TrainDeviance   ValidDeviance   StepSize   Improve\n",
      "     1        1.2462             nan     0.1000    0.0417\n",
      "     2        1.1780             nan     0.1000    0.0332\n",
      "     3        1.1204             nan     0.1000    0.0272\n",
      "     4        1.0765             nan     0.1000    0.0229\n",
      "     5        1.0404             nan     0.1000    0.0166\n",
      "     6        1.0098             nan     0.1000    0.0148\n",
      "     7        0.9833             nan     0.1000    0.0124\n",
      "     8        0.9590             nan     0.1000    0.0120\n",
      "     9        0.9387             nan     0.1000    0.0092\n",
      "    10        0.9207             nan     0.1000    0.0080\n",
      "    20        0.8273             nan     0.1000    0.0018\n",
      "    40        0.7873             nan     0.1000    0.0001\n",
      "    60        0.7698             nan     0.1000   -0.0003\n",
      "    80        0.7579             nan     0.1000   -0.0002\n",
      "   100        0.7467             nan     0.1000   -0.0005\n",
      "   120        0.7385             nan     0.1000   -0.0009\n",
      "   140        0.7297             nan     0.1000   -0.0005\n",
      "   150        0.7264             nan     0.1000   -0.0007\n",
      "\n",
      "Iter   TrainDeviance   ValidDeviance   StepSize   Improve\n",
      "     1        1.2555             nan     0.1000    0.0383\n",
      "     2        1.1962             nan     0.1000    0.0295\n",
      "     3        1.1415             nan     0.1000    0.0265\n",
      "     4        1.0990             nan     0.1000    0.0212\n",
      "     5        1.0588             nan     0.1000    0.0188\n",
      "     6        1.0276             nan     0.1000    0.0143\n",
      "     7        0.9986             nan     0.1000    0.0137\n",
      "     8        0.9765             nan     0.1000    0.0113\n",
      "     9        0.9570             nan     0.1000    0.0099\n",
      "    10        0.9413             nan     0.1000    0.0079\n",
      "    20        0.8525             nan     0.1000    0.0021\n",
      "    40        0.8150             nan     0.1000    0.0001\n",
      "    60        0.8070             nan     0.1000   -0.0001\n",
      "    80        0.8016             nan     0.1000   -0.0001\n",
      "   100        0.7965             nan     0.1000   -0.0004\n",
      "   120        0.7921             nan     0.1000   -0.0003\n",
      "   140        0.7896             nan     0.1000   -0.0002\n",
      "   150        0.7882             nan     0.1000   -0.0007\n",
      "\n",
      "Iter   TrainDeviance   ValidDeviance   StepSize   Improve\n",
      "     1        1.2504             nan     0.1000    0.0407\n",
      "     2        1.1835             nan     0.1000    0.0341\n",
      "     3        1.1290             nan     0.1000    0.0265\n",
      "     4        1.0835             nan     0.1000    0.0227\n",
      "     5        1.0434             nan     0.1000    0.0188\n",
      "     6        1.0090             nan     0.1000    0.0163\n",
      "     7        0.9817             nan     0.1000    0.0130\n",
      "     8        0.9569             nan     0.1000    0.0114\n",
      "     9        0.9352             nan     0.1000    0.0106\n",
      "    10        0.9170             nan     0.1000    0.0082\n",
      "    20        0.8285             nan     0.1000    0.0013\n",
      "    40        0.7913             nan     0.1000   -0.0005\n",
      "    60        0.7779             nan     0.1000   -0.0004\n",
      "    80        0.7685             nan     0.1000   -0.0001\n",
      "   100        0.7613             nan     0.1000   -0.0007\n",
      "   120        0.7532             nan     0.1000   -0.0003\n",
      "   140        0.7472             nan     0.1000   -0.0007\n",
      "   150        0.7443             nan     0.1000   -0.0007\n",
      "\n",
      "Iter   TrainDeviance   ValidDeviance   StepSize   Improve\n",
      "     1        1.2473             nan     0.1000    0.0438\n",
      "     2        1.1755             nan     0.1000    0.0347\n",
      "     3        1.1168             nan     0.1000    0.0273\n",
      "     4        1.0693             nan     0.1000    0.0226\n",
      "     5        1.0288             nan     0.1000    0.0199\n",
      "     6        0.9958             nan     0.1000    0.0163\n",
      "     7        0.9661             nan     0.1000    0.0141\n",
      "     8        0.9401             nan     0.1000    0.0110\n",
      "     9        0.9206             nan     0.1000    0.0094\n",
      "    10        0.9014             nan     0.1000    0.0085\n",
      "    20        0.8173             nan     0.1000    0.0017\n",
      "    40        0.7739             nan     0.1000   -0.0009\n",
      "    60        0.7569             nan     0.1000   -0.0003\n",
      "    80        0.7444             nan     0.1000   -0.0002\n",
      "   100        0.7341             nan     0.1000   -0.0001\n",
      "   120        0.7253             nan     0.1000   -0.0003\n",
      "   140        0.7202             nan     0.1000   -0.0009\n",
      "   150        0.7161             nan     0.1000   -0.0007\n",
      "\n",
      "Iter   TrainDeviance   ValidDeviance   StepSize   Improve\n",
      "     1        1.2473             nan     0.1000    0.0412\n",
      "     2        1.1835             nan     0.1000    0.0336\n",
      "     3        1.1291             nan     0.1000    0.0261\n",
      "     4        1.0801             nan     0.1000    0.0230\n",
      "     5        1.0397             nan     0.1000    0.0188\n",
      "     6        1.0067             nan     0.1000    0.0158\n",
      "     7        0.9777             nan     0.1000    0.0140\n",
      "     8        0.9534             nan     0.1000    0.0113\n",
      "     9        0.9323             nan     0.1000    0.0098\n",
      "    10        0.9158             nan     0.1000    0.0078\n",
      "    20        0.8306             nan     0.1000    0.0018\n",
      "    40        0.7912             nan     0.1000    0.0001\n",
      "    60        0.7762             nan     0.1000   -0.0003\n",
      "    80        0.7637             nan     0.1000   -0.0003\n",
      "   100        0.7569             nan     0.1000   -0.0002\n",
      "\n"
     ]
    }
   ],
   "source": [
    "stackControl <- trainControl(method=\"repeatedcv\", number=10, repeats=3, savePredictions=TRUE, classProbs=TRUE)\n",
    "set.seed(seed)\n",
    "stack.gbm <- caretStack(models, method=\"gbm\", metric=\"Accuracy\", trControl=stackControl)\n",
    "print(stack.gbm)"
   ]
  },
  {
   "cell_type": "code",
   "execution_count": 78,
   "metadata": {
    "collapsed": false
   },
   "outputs": [
    {
     "data": {
      "text/html": [
       "0.864406779661017"
      ],
      "text/latex": [
       "0.864406779661017"
      ],
      "text/markdown": [
       "0.864406779661017"
      ],
      "text/plain": [
       "[1] 0.8644068"
      ]
     },
     "metadata": {},
     "output_type": "display_data"
    }
   ],
   "source": [
    "predictions <- predict(stack.gbm, df.test)\n",
    "mean(predictions == y)"
   ]
  },
  {
   "cell_type": "markdown",
   "metadata": {},
   "source": [
    "### Conclusiones\n",
    "Los mejores puntajes en el leaderboar se obtuvieron con gbm simple."
   ]
  },
  {
   "cell_type": "code",
   "execution_count": 80,
   "metadata": {
    "collapsed": false
   },
   "outputs": [
    {
     "data": {
      "text/plain": [
       "Stochastic Gradient Boosting \n",
       "\n",
       "714 samples\n",
       "  8 predictor\n",
       "  2 classes: 'No', 'Yes' \n",
       "\n",
       "No pre-processing\n",
       "Resampling: Cross-Validated (10 fold, repeated 3 times) \n",
       "Summary of sample sizes: 642, 643, 643, 642, 642, 643, ... \n",
       "Resampling results across tuning parameters:\n",
       "\n",
       "  interaction.depth  n.trees  Accuracy   Kappa    \n",
       "  1                   50      0.8090506  0.5909097\n",
       "  1                  100      0.8188250  0.6118429\n",
       "  1                  150      0.8202400  0.6152220\n",
       "  2                   50      0.8159950  0.5983532\n",
       "  2                  100      0.8178991  0.6030630\n",
       "  2                  150      0.8141432  0.5952485\n",
       "  3                   50      0.8249152  0.6169482\n",
       "  3                  100      0.8188315  0.6048207\n",
       "  3                  150      0.8178860  0.6031681\n",
       "\n",
       "Tuning parameter 'shrinkage' was held constant at a value of 0.1\n",
       "\n",
       "Tuning parameter 'n.minobsinnode' was held constant at a value of 10\n",
       "Accuracy was used to select the optimal model using  the largest value.\n",
       "The final values used for the model were n.trees = 50, interaction.depth =\n",
       " 3, shrinkage = 0.1 and n.minobsinnode = 10. "
      ]
     },
     "metadata": {},
     "output_type": "display_data"
    },
    {
     "data": {},
     "metadata": {},
     "output_type": "display_data"
    },
    {
     "data": {
      "image/png": "[encoded data removed]",
      "text/plain": [
       "plot without title"
      ]
     },
     "metadata": {},
     "output_type": "display_data"
    }
   ],
   "source": [
    "fit.gbm\n",
    "plot(fit.gbm)"
   ]
  },
  {
   "cell_type": "markdown",
   "metadata": {},
   "source": [
    "*** \n",
    "## Submit"
   ]
  },
  {
   "cell_type": "code",
   "execution_count": 82,
   "metadata": {
    "collapsed": false
   },
   "outputs": [],
   "source": [
    "test.csv <- dataset[pass.id,]\n",
    "test.csv$Survived <- NULL\n",
    "\n",
    "predictions <- predict(fit.gbm, test.csv)\n",
    "\n",
    "predictions <- ifelse(predictions == \"Yes\", 1, 0)\n",
    "\n",
    "submit <- data.frame(PassengerId = pass.id, Survived = predictions)\n",
    "write.csv(submit, file = \"submit.csv\", row.names = FALSE, quote = FALSE)"
   ]
  },
  {
   "cell_type": "markdown",
   "metadata": {},
   "source": [
    "    Con estos pasos obtuve 0.80861 en el tablero. Puesto 604 para el momento que lo subí. 14 ene 2017"
   ]
  }
 ],
 "metadata": {
  "anaconda-cloud": {},
  "kernelspec": {
   "display_name": "R",
   "language": "R",
   "name": "ir"
  },
  "language_info": {
   "codemirror_mode": "r",
   "file_extension": ".r",
   "mimetype": "text/x-r-source",
   "name": "R",
   "pygments_lexer": "r",
   "version": "3.3.2"
  }
 },
 "nbformat": 4,
 "nbformat_minor": 0
}
