{
 "cells": [
  {
   "cell_type": "markdown",
   "metadata": {},
   "source": [
    "# Digit recognizer\n",
    "\n",
    "<img src=\"digit-recognizer.png\" height=\"400\" width=\"400\">\n",
    "\n",
    "El objetivo de esta competencia es tomar una imagen de un digito escrito a mano, y determinar cual es el digito.\n",
    "\n",
    "Los datos para esta competencia fueron tomados del dataset MNIST. El dataset MNIST es un clásico en la comunidad de aprendizaje automático que ha sido extensivamente estudiado. Más detalles sobre el dataset, incluyendo los algoritmos de aprendizaje automático que han sido probados y sus distintos niveles de éxito, pueden encontrarse en http://yann.lecun.com/exdb/mnist/index.html."
   ]
  },
  {
   "cell_type": "markdown",
   "metadata": {},
   "source": [
    "## Resolución con red convolucional"
   ]
  },
  {
   "cell_type": "markdown",
   "metadata": {},
   "source": [
    "#### Instalación de paquetes necesarios"
   ]
  },
  {
   "cell_type": "code",
   "execution_count": 1,
   "metadata": {
    "collapsed": true
   },
   "outputs": [],
   "source": [
    "list.of.packages <- c('mxnet')\n",
    "\n",
    "new.packages <- list.of.packages[!(list.of.packages %in% installed.packages()[,\"Package\"])]\n",
    "if(length(new.packages)) install.packages(new.packages, repos = \"https://cran.r-project.org\")\n",
    "\n",
    "library(mxnet)"
   ]
  },
  {
   "cell_type": "markdown",
   "metadata": {},
   "source": [
    "## Carga de datos"
   ]
  },
  {
   "cell_type": "code",
   "execution_count": 2,
   "metadata": {
    "collapsed": true
   },
   "outputs": [],
   "source": [
    "train <- read.csv('data/train.csv', header=TRUE)\n",
    "test <- read.csv('data/test.csv', header=TRUE)\n",
    "train <- data.matrix(train)\n",
    "test <- data.matrix(test)\n",
    "\n",
    "train.x <- train[,-1]\n",
    "train.y <- train[,1]"
   ]
  },
  {
   "cell_type": "markdown",
   "metadata": {},
   "source": [
    "Cada imagen se representa como una fila en el dataset de entramiento/prueba. La escala de grises de cada imagen se representa con un entero entre [0, 255].\n",
    "\n",
    "Para trabajar con redes neuronales es conveniente primero escalar estos valores."
   ]
  },
  {
   "cell_type": "code",
   "execution_count": 3,
   "metadata": {
    "collapsed": true
   },
   "outputs": [],
   "source": [
    "train.x <- t(train.x/255)\n",
    "test <- t(test/255)"
   ]
  },
  {
   "cell_type": "markdown",
   "metadata": {},
   "source": [
    "Debemos transponer la matrix de entrada a npixeles x nejemplos, que es el formato de columnas aceptado por MXNet (y la convención de R).\n",
    "\n",
    "Teniendo en cuenta la clase, el numero de digitos está distribuido bastante uniforme."
   ]
  },
  {
   "cell_type": "code",
   "execution_count": 4,
   "metadata": {
    "collapsed": false
   },
   "outputs": [
    {
     "data": {
      "text/plain": [
       "train.y\n",
       "   0    1    2    3    4    5    6    7    8    9 \n",
       "4132 4684 4177 4351 4072 3795 4137 4401 4063 4188 "
      ]
     },
     "metadata": {},
     "output_type": "display_data"
    }
   ],
   "source": [
    "table(train.y)"
   ]
  },
  {
   "cell_type": "markdown",
   "metadata": {},
   "source": [
    "## Configuración de la red"
   ]
  },
  {
   "cell_type": "code",
   "execution_count": 5,
   "metadata": {
    "collapsed": true
   },
   "outputs": [],
   "source": [
    "# Entrada\n",
    "data <- mx.symbol.Variable('data')\n",
    "\n",
    "# Primera convolucion\n",
    "conv1 <- mx.symbol.Convolution(data=data, kernel=c(5,5), num_filter=20)\n",
    "tanh1 <- mx.symbol.Activation(data=conv1, act_type=\"tanh\")\n",
    "pool1 <- mx.symbol.Pooling(data=tanh1, pool_type=\"max\",\n",
    "                          kernel=c(2,2), stride=c(2,2))\n",
    "# Segunda convolucion\n",
    "conv2 <- mx.symbol.Convolution(data=pool1, kernel=c(5,5), num_filter=50)\n",
    "tanh2 <- mx.symbol.Activation(data=conv2, act_type=\"tanh\")\n",
    "pool2 <- mx.symbol.Pooling(data=tanh2, pool_type=\"max\",\n",
    "                          kernel=c(2,2), stride=c(2,2))\n",
    "\n",
    "flatten <- mx.symbol.Flatten(data=pool2)\n",
    "fc1 <- mx.symbol.FullyConnected(data=flatten, num_hidden=500)\n",
    "tanh3 <- mx.symbol.Activation(data=fc1, act_type=\"tanh\")\n",
    "\n",
    "fc2 <- mx.symbol.FullyConnected(data=tanh3, num_hidden=10)\n",
    "\n",
    "lenet <- mx.symbol.SoftmaxOutput(data=fc2)"
   ]
  },
  {
   "cell_type": "markdown",
   "metadata": {},
   "source": [
    "Luego debemos transformar las matrices a vectores."
   ]
  },
  {
   "cell_type": "code",
   "execution_count": 6,
   "metadata": {
    "collapsed": true
   },
   "outputs": [],
   "source": [
    "train.array <- train.x\n",
    "dim(train.array) <- c(28, 28, 1, ncol(train.x))\n",
    "test.array <- test\n",
    "dim(test.array) <- c(28, 28, 1, ncol(test))"
   ]
  },
  {
   "cell_type": "markdown",
   "metadata": {},
   "source": [
    "Queremos comparar velocidades de entrenamiento en diferentes dispositivos:"
   ]
  },
  {
   "cell_type": "code",
   "execution_count": 7,
   "metadata": {
    "collapsed": true
   },
   "outputs": [],
   "source": [
    "n.gpu <- 1\n",
    "device.cpu <- mx.cpu()\n",
    "device.gpu <- lapply(0:(n.gpu-1), function(i) {\n",
    "  mx.gpu(i)\n",
    "})"
   ]
  },
  {
   "cell_type": "markdown",
   "metadata": {},
   "source": [
    "Podemos pasar una lista de dispositivos para solicitar a MXNet que entrene sobre multiples GPU (puedes hacerlo para CPU, pero porque los cómputos internos del CPU ya son multihilos, hay menos ganancia que usar GPU).\n",
    "\n",
    "Comencemos entrenando en el CPU primero. Corremos una sola iteración porque sino tomará mucho tiempo."
   ]
  },
  {
   "cell_type": "markdown",
   "metadata": {},
   "source": [
    "##### Entrenamiento en CPU"
   ]
  },
  {
   "cell_type": "code",
   "execution_count": null,
   "metadata": {
    "collapsed": false
   },
   "outputs": [],
   "source": [
    "mx.set.seed(0)\n",
    "tic <- proc.time()\n",
    "model <- mx.model.FeedForward.create(lenet, X=train.array, y=train.y,\n",
    "                                    ctx=device.cpu, num.round=10, array.batch.size=100,\n",
    "                                    learning.rate=0.05, momentum=0.9, wd=0.00001,\n",
    "                                    eval.metric=mx.metric.accuracy,\n",
    "                                    epoch.end.callback=mx.callback.log.train.metric(100))\n",
    "print(proc.time() - tic)"
   ]
  },
  {
   "cell_type": "markdown",
   "metadata": {},
   "source": [
    "##### Entrenamiento en GPU"
   ]
  },
  {
   "cell_type": "code",
   "execution_count": 12,
   "metadata": {
    "collapsed": false
   },
   "outputs": [
    {
     "name": "stdout",
     "output_type": "stream",
     "text": [
      "Start training with 1 devices\n"
     ]
    },
    {
     "ename": "ERROR",
     "evalue": "Error in mx.nd.internal.empty.array(shape, ctx): [14:53:12] src/storage/storage.cc:78: Compile with USE_CUDA=1 to enable GPU usage\n",
     "output_type": "error",
     "traceback": [
      "Error in mx.nd.internal.empty.array(shape, ctx): [14:53:12] src/storage/storage.cc:78: Compile with USE_CUDA=1 to enable GPU usage\nTraceback:\n",
      "1. mx.model.FeedForward.create(lenet, X = train.array, y = train.y, \n .     ctx = device.gpu, num.round = 5, array.batch.size = 100, \n .     learning.rate = 0.05, momentum = 0.9, wd = 1e-05, eval.metric = mx.metric.accuracy, \n .     epoch.end.callback = mx.callback.log.train.metric(100))",
      "2. mx.model.train(symbol, ctx, input.shape, params$arg.params, params$aux.params, \n .     begin.round, num.round, optimizer = optimizer, train.data = X, \n .     eval.data = eval.data, metric = eval.metric, epoch.end.callback = epoch.end.callback, \n .     batch.end.callback = batch.end.callback, kvstore = kvstore, \n .     verbose = verbose)",
      "3. lapply(1:ndevice, function(i) {\n .     mx.simple.bind(symbol, ctx = ctx[[i]], data = sliceinfo[[i]]$shape, \n .         grad.req = \"write\")\n . })",
      "4. FUN(X[[i]], ...)",
      "5. mx.simple.bind(symbol, ctx = ctx[[i]], data = sliceinfo[[i]]$shape, \n .     grad.req = \"write\")",
      "6. sapply(slist$arg.shapes, function(shape) {\n .     mx.nd.zeros(shape, ctx)\n . }, simplify = FALSE, USE.NAMES = TRUE)",
      "7. lapply(X = X, FUN = FUN, ...)",
      "8. FUN(X[[i]], ...)",
      "9. mx.nd.zeros(shape, ctx)",
      "10. mx.nd.internal.empty(shape, ctx)",
      "11. mx.nd.internal.empty.array(shape, ctx)"
     ]
    }
   ],
   "source": [
    "mx.set.seed(0)\n",
    "tic <- proc.time()\n",
    "model <- mx.model.FeedForward.create(lenet, X=train.array, y=train.y,\n",
    "                                    ctx=device.gpu, num.round=5, array.batch.size=100,\n",
    "                                    learning.rate=0.05, momentum=0.9, wd=0.00001,\n",
    "                                    eval.metric=mx.metric.accuracy,\n",
    "                                      epoch.end.callback=mx.callback.log.train.metric(100))\n",
    " print(proc.time() - tic)"
   ]
  },
  {
   "cell_type": "markdown",
   "metadata": {},
   "source": [
    "Usando el GPU incrementamos la velocidad de entrenamiento."
   ]
  },
  {
   "cell_type": "markdown",
   "metadata": {},
   "source": [
    "## Predicciones y envío"
   ]
  },
  {
   "cell_type": "code",
   "execution_count": null,
   "metadata": {
    "collapsed": true
   },
   "outputs": [],
   "source": [
    "preds <- predict(model, test.array)\n",
    "pred.label <- max.col(t(preds)) - 1\n",
    "\n",
    "submission <- data.frame(ImageId=1:ncol(test), Label=pred.label)\n",
    "write.csv(submission, file='submission.csv', row.names=FALSE, quote=FALSE)"
   ]
  },
  {
   "cell_type": "markdown",
   "metadata": {},
   "source": [
    "    El puntaje obtenido al enviar las predicciones fue de "
   ]
  },
  {
   "cell_type": "markdown",
   "metadata": {},
   "source": [
    "Fuente: http://mxnet.io/tutorials/r/mnistCompetition.html"
   ]
  }
 ],
 "metadata": {
  "kernelspec": {
   "display_name": "R",
   "language": "R",
   "name": "ir"
  },
  "language_info": {
   "codemirror_mode": "r",
   "file_extension": ".r",
   "mimetype": "text/x-r-source",
   "name": "R",
   "pygments_lexer": "r",
   "version": "3.3.2"
  }
 },
 "nbformat": 4,
 "nbformat_minor": 0
}
