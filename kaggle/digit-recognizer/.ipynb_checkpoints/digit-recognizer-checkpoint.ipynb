{
 "cells": [
  {
   "cell_type": "markdown",
   "metadata": {},
   "source": [
    "# Digit recognizer\n",
    "\n",
    "<img src=\"digit-recognizer.png\" height=\"400\" width=\"400\">\n",
    "\n",
    "El objetivo de esta competencia es tomar una imagen de un digito escrito a mano, y determinar cual es el digito.\n",
    "\n",
    "Los datos para esta competencia fueron tomados del dataset MNIST. El dataset MNIST es un clásico en la comunidad de aprendizaje automático que ha sido extensivamente estudiado. Más detalles sobre el dataset, incluyendo los algoritmos de aprendizaje automático que han sido probados y sus distintos niveles de éxito, pueden encontrarse en http://yann.lecun.com/exdb/mnist/index.html."
   ]
  },
  {
   "cell_type": "markdown",
   "metadata": {},
   "source": [
    "## Resolución con red neuronal multicapa"
   ]
  },
  {
   "cell_type": "markdown",
   "metadata": {
    "collapsed": true
   },
   "source": [
    "#### Instalación de paquetes necesarios"
   ]
  },
  {
   "cell_type": "code",
   "execution_count": 5,
   "metadata": {
    "collapsed": false
   },
   "outputs": [],
   "source": [
    "list.of.packages <- c('mxnet')\n",
    "\n",
    "new.packages <- list.of.packages[!(list.of.packages %in% installed.packages()[,\"Package\"])]\n",
    "if(length(new.packages)) install.packages(new.packages, repos = \"https://cran.r-project.org\")\n",
    "\n",
    "library(mxnet)"
   ]
  },
  {
   "cell_type": "markdown",
   "metadata": {},
   "source": [
    "## Carga de datos"
   ]
  },
  {
   "cell_type": "code",
   "execution_count": 6,
   "metadata": {
    "collapsed": false
   },
   "outputs": [],
   "source": [
    "train <- read.csv('data/train.csv', header=TRUE)\n",
    "test <- read.csv('data/test.csv', header=TRUE)\n",
    "train <- data.matrix(train)\n",
    "test <- data.matrix(test)\n",
    "\n",
    "train.x <- train[,-1]\n",
    "train.y <- train[,1]"
   ]
  },
  {
   "cell_type": "markdown",
   "metadata": {},
   "source": [
    "Cada imagen se representa como una fila en el dataset de entramiento/prueba. La escala de grises de cada imagen se representa con un entero entre [0, 255].\n",
    "\n",
    "Para trabajar con redes neuronales es conveniente primero escalar estos valores."
   ]
  },
  {
   "cell_type": "code",
   "execution_count": 7,
   "metadata": {
    "collapsed": true
   },
   "outputs": [],
   "source": [
    "train.x <- t(train.x/255)\n",
    "test <- t(test/255)"
   ]
  },
  {
   "cell_type": "markdown",
   "metadata": {},
   "source": [
    "Debemos transponer la matrix de entrada a npixeles x nejemplos, que es el formato de columnas aceptado por MXNet (y la convención de R).\n",
    "\n",
    "Teniendo en cuenta la clase, el numero de digitos está distribuido bastante uniforme."
   ]
  },
  {
   "cell_type": "code",
   "execution_count": 8,
   "metadata": {
    "collapsed": false
   },
   "outputs": [
    {
     "data": {
      "text/plain": [
       "train.y\n",
       "   0    1    2    3    4    5    6    7    8    9 \n",
       "4132 4684 4177 4351 4072 3795 4137 4401 4063 4188 "
      ]
     },
     "metadata": {},
     "output_type": "display_data"
    }
   ],
   "source": [
    "table(train.y)"
   ]
  },
  {
   "cell_type": "markdown",
   "metadata": {},
   "source": [
    "## Configuración de la red"
   ]
  },
  {
   "cell_type": "code",
   "execution_count": 9,
   "metadata": {
    "collapsed": true
   },
   "outputs": [],
   "source": [
    "data <- mx.symbol.Variable(\"data\")\n",
    "fc1 <- mx.symbol.FullyConnected(data, name=\"fc1\", num_hidden=128)\n",
    "act1 <- mx.symbol.Activation(fc1, name=\"relu1\", act_type=\"relu\")\n",
    "fc2 <- mx.symbol.FullyConnected(act1, name=\"fc2\", num_hidden=64)\n",
    "act2 <- mx.symbol.Activation(fc2, name=\"relu2\", act_type=\"relu\")\n",
    "fc3 <- mx.symbol.FullyConnected(act2, name=\"fc3\", num_hidden=10)\n",
    "softmax <- mx.symbol.SoftmaxOutput(fc3, name=\"sm\")"
   ]
  },
  {
   "cell_type": "markdown",
   "metadata": {},
   "source": [
    "1. En mxnet, utilizamos el símbolo de tipo de datos para configurar la red. data <- mx.symbol.Variable(\"data\") utiliza \"data\" para representar los datos de entrada, por ejemplo, la capa de entrada.\n",
    "2. Configuramos la primer capa oculta fc1 <- mx.symbol.FullyConnected(data, name=\"fc1\", num_hidden=128). Esta capa tiene \"data\" como entrada, su nombre, y la cantidad de neuronas ocultas.\n",
    "3. La activación se configura con act1 <- mx.symbol.Activation(fc1, name=\"relu1\", act_type=\"relu\"). La función de activación toma la salida de la primer capa fc1.\n",
    "4. La segunda capa oculta toma los resultados de act1 como entradas, con su nombre \"fc2\" y el numero de neuronas ocultas: 64.\n",
    "5. La segunda activación es casi lo mismo que act1, excepto que tenemos una fuente de entrada y nombre diferentes.\n",
    "6. Esto genera la capa de salida. Porque solo hay 10 digitos, configuramos el numero de neuronas a 10.\n",
    "7. Finalmente, configuramos la activación de softmax para obtener la predicción probabilística."
   ]
  },
  {
   "cell_type": "markdown",
   "metadata": {},
   "source": [
    "## Entrenamiento de la red\n",
    "Antes de entrenar la red configuramos el dispositivo que vamos a usar:"
   ]
  },
  {
   "cell_type": "code",
   "execution_count": 10,
   "metadata": {
    "collapsed": true
   },
   "outputs": [],
   "source": [
    "devices <- mx.cpu()"
   ]
  },
  {
   "cell_type": "code",
   "execution_count": 11,
   "metadata": {
    "collapsed": false
   },
   "outputs": [
    {
     "name": "stderr",
     "output_type": "stream",
     "text": [
      "Warning message in mx.model.select.layout.train(X, y):\n",
      "\"Auto detect layout input matrix, use colmajor..\n",
      "\""
     ]
    },
    {
     "name": "stdout",
     "output_type": "stream",
     "text": [
      "Start training with 1 devices\n",
      "[1] Train-accuracy=0.859832935560859\n",
      "[2] Train-accuracy=0.957666666666668\n",
      "[3] Train-accuracy=0.971023809523813\n",
      "[4] Train-accuracy=0.977714285714289\n",
      "[5] Train-accuracy=0.981571428571432\n",
      "[6] Train-accuracy=0.986309523809527\n",
      "[7] Train-accuracy=0.988952380952383\n",
      "[8] Train-accuracy=0.990880952380956\n",
      "[9] Train-accuracy=0.992142857142861\n",
      "[10] Train-accuracy=0.991095238095241\n"
     ]
    }
   ],
   "source": [
    "mx.set.seed(0)\n",
    "model <- mx.model.FeedForward.create(softmax, X=train.x, y=train.y,\n",
    "                                        ctx=devices, num.round=10, array.batch.size=100,\n",
    "                                        learning.rate=0.07, momentum=0.9,  eval.metric=mx.metric.accuracy,\n",
    "                                        initializer=mx.init.uniform(0.07),\n",
    "                                        epoch.end.callback=mx.callback.log.train.metric(100))"
   ]
  },
  {
   "cell_type": "markdown",
   "metadata": {},
   "source": [
    "## Predicciones"
   ]
  },
  {
   "cell_type": "code",
   "execution_count": 13,
   "metadata": {
    "collapsed": false
   },
   "outputs": [
    {
     "name": "stderr",
     "output_type": "stream",
     "text": [
      "Warning message in mx.model.select.layout.predict(X, model):\n",
      "\"Auto detect layout input matrix, use colmajor..\n",
      "\""
     ]
    },
    {
     "data": {
      "text/html": [
       "<ol class=list-inline>\n",
       "\t<li>10</li>\n",
       "\t<li>28000</li>\n",
       "</ol>\n"
      ],
      "text/latex": [
       "\\begin{enumerate*}\n",
       "\\item 10\n",
       "\\item 28000\n",
       "\\end{enumerate*}\n"
      ],
      "text/markdown": [
       "1. 10\n",
       "2. 28000\n",
       "\n",
       "\n"
      ],
      "text/plain": [
       "[1]    10 28000"
      ]
     },
     "metadata": {},
     "output_type": "display_data"
    }
   ],
   "source": [
    "preds <- predict(model, test)\n",
    "dim(preds)"
   ]
  },
  {
   "cell_type": "markdown",
   "metadata": {},
   "source": [
    "Preds es una matriz con 28000 filas y 10 columnas, y contiene las probabilidades de clasificación deseada de la capa de salida. Para extraer el valor máximo de cada fila usamos max.col:"
   ]
  },
  {
   "cell_type": "code",
   "execution_count": 14,
   "metadata": {
    "collapsed": false
   },
   "outputs": [
    {
     "data": {
      "text/plain": [
       "pred.label\n",
       "   0    1    2    3    4    5    6    7    8    9 \n",
       "2816 3216 2753 2791 2709 2544 2762 2836 2780 2793 "
      ]
     },
     "metadata": {},
     "output_type": "display_data"
    }
   ],
   "source": [
    "pred.label <- max.col(t(preds)) - 1\n",
    "table(pred.label)"
   ]
  },
  {
   "cell_type": "markdown",
   "metadata": {},
   "source": [
    "## Submit"
   ]
  },
  {
   "cell_type": "code",
   "execution_count": 15,
   "metadata": {
    "collapsed": true
   },
   "outputs": [],
   "source": [
    "submission <- data.frame(ImageId=1:ncol(test), Label=pred.label)\n",
    "write.csv(submission, file='submission.csv', row.names=FALSE,  quote=FALSE)"
   ]
  },
  {
   "cell_type": "markdown",
   "metadata": {},
   "source": [
    "    El puntaje obtenido al momento del envío fue de 0.97014."
   ]
  },
  {
   "cell_type": "markdown",
   "metadata": {},
   "source": [
    "Fuente: http://mxnet.io/tutorials/r/mnistCompetition.html"
   ]
  }
 ],
 "metadata": {
  "kernelspec": {
   "display_name": "R",
   "language": "R",
   "name": "ir"
  },
  "language_info": {
   "codemirror_mode": "r",
   "file_extension": ".r",
   "mimetype": "text/x-r-source",
   "name": "R",
   "pygments_lexer": "r",
   "version": "3.3.2"
  }
 },
 "nbformat": 4,
 "nbformat_minor": 0
}
