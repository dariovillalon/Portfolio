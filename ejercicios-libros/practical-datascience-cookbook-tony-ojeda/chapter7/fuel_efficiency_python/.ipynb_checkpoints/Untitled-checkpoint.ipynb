{
 "cells": [
  {
   "cell_type": "code",
   "execution_count": 63,
   "metadata": {
    "collapsed": false
   },
   "outputs": [],
   "source": [
    "import pandas as pd\n",
    "import numpy as np\n",
    "from ggplot import *\n",
    "import matplotlib.pyplot as plt\n",
    "%matplotlib inline"
   ]
  },
  {
   "cell_type": "code",
   "execution_count": 3,
   "metadata": {
    "collapsed": false
   },
   "outputs": [
    {
     "name": "stderr",
     "output_type": "stream",
     "text": [
      "C:\\Anaconda2\\lib\\site-packages\\IPython\\core\\interactiveshell.py:2723: DtypeWarning: Columns (70,71,72,73,74,76,79) have mixed types. Specify dtype option on import or set low_memory=False.\n",
      "  interactivity=interactivity, compiler=compiler, result=result)\n"
     ]
    },
    {
     "data": {
      "text/plain": [
       "<bound method DataFrame.head of        barrels08  barrelsA08  charge120  charge240  city08  city08U  cityA08  \\\n",
       "0      15.695714         0.0        0.0        0.0      19      0.0        0   \n",
       "1      29.964545         0.0        0.0        0.0       9      0.0        0   \n",
       "2      12.207778         0.0        0.0        0.0      23      0.0        0   \n",
       "3      29.964545         0.0        0.0        0.0      10      0.0        0   \n",
       "4      17.347895         0.0        0.0        0.0      17      0.0        0   \n",
       "5      14.982273         0.0        0.0        0.0      21      0.0        0   \n",
       "6      13.184400         0.0        0.0        0.0      22      0.0        0   \n",
       "7      13.733750         0.0        0.0        0.0      23      0.0        0   \n",
       "8      12.677308         0.0        0.0        0.0      23      0.0        0   \n",
       "9      13.184400         0.0        0.0        0.0      23      0.0        0   \n",
       "10     12.677308         0.0        0.0        0.0      23      0.0        0   \n",
       "11     15.695714         0.0        0.0        0.0      18      0.0        0   \n",
       "12     13.733750         0.0        0.0        0.0      21      0.0        0   \n",
       "13     15.695714         0.0        0.0        0.0      18      0.0        0   \n",
       "14     25.354615         0.0        0.0        0.0      12      0.0        0   \n",
       "15     14.330870         0.0        0.0        0.0      20      0.0        0   \n",
       "16     16.480500         0.0        0.0        0.0      18      0.0        0   \n",
       "17     15.695714         0.0        0.0        0.0      19      0.0        0   \n",
       "18     17.347895         0.0        0.0        0.0      17      0.0        0   \n",
       "19     17.347895         0.0        0.0        0.0      17      0.0        0   \n",
       "20     20.600625         0.0        0.0        0.0      14      0.0        0   \n",
       "21     20.600625         0.0        0.0        0.0      14      0.0        0   \n",
       "22     25.354615         0.0        0.0        0.0      11      0.0        0   \n",
       "23     14.330870         0.0        0.0        0.0      21      0.0        0   \n",
       "24     17.347895         0.0        0.0        0.0      17      0.0        0   \n",
       "25     25.354615         0.0        0.0        0.0      11      0.0        0   \n",
       "26     15.695714         0.0        0.0        0.0      18      0.0        0   \n",
       "27     16.480500         0.0        0.0        0.0      17      0.0        0   \n",
       "28     16.480500         0.0        0.0        0.0      17      0.0        0   \n",
       "29     16.480500         0.0        0.0        0.0      17      0.0        0   \n",
       "...          ...         ...        ...        ...     ...      ...      ...   \n",
       "37686  12.677308         0.0        0.0        0.0      23      0.0        0   \n",
       "37687  14.330870         0.0        0.0        0.0      21      0.0        0   \n",
       "37688  13.184400         0.0        0.0        0.0      22      0.0        0   \n",
       "37689  15.695714         0.0        0.0        0.0      18      0.0        0   \n",
       "37690  16.480500         0.0        0.0        0.0      17      0.0        0   \n",
       "37691  14.982273         0.0        0.0        0.0      19      0.0        0   \n",
       "37692  14.330870         0.0        0.0        0.0      19      0.0        0   \n",
       "37693  13.733750         0.0        0.0        0.0      21      0.0        0   \n",
       "37694  21.974000         0.0        0.0        0.0      14      0.0        0   \n",
       "37695  15.695714         0.0        0.0        0.0      18      0.0        0   \n",
       "37696  15.695714         0.0        0.0        0.0      18      0.0        0   \n",
       "37697  13.184400         0.0        0.0        0.0      23      0.0        0   \n",
       "37698  11.771786         0.0        0.0        0.0      24      0.0        0   \n",
       "37699  10.987000         0.0        0.0        0.0      26      0.0        0   \n",
       "37700  29.964545         0.0        0.0        0.0      10      0.0        0   \n",
       "37701  18.311667         0.0        0.0        0.0      17      0.0        0   \n",
       "37702  15.695714         0.0        0.0        0.0      18      0.0        0   \n",
       "37703  15.695714         0.0        0.0        0.0      18      0.0        0   \n",
       "37704  18.311667         0.0        0.0        0.0      16      0.0        0   \n",
       "37705  27.467500         0.0        0.0        0.0      11      0.0        0   \n",
       "37706  16.480500         0.0        0.0        0.0      18      0.0        0   \n",
       "37707  12.677308         0.0        0.0        0.0      23      0.0        0   \n",
       "37708  13.733750         0.0        0.0        0.0      21      0.0        0   \n",
       "37709  11.771786         0.0        0.0        0.0      24      0.0        0   \n",
       "37710  13.184400         0.0        0.0        0.0      21      0.0        0   \n",
       "37711  14.982273         0.0        0.0        0.0      19      0.0        0   \n",
       "37712  14.330870         0.0        0.0        0.0      20      0.0        0   \n",
       "37713  15.695714         0.0        0.0        0.0      18      0.0        0   \n",
       "37714  15.695714         0.0        0.0        0.0      18      0.0        0   \n",
       "37715  18.311667         0.0        0.0        0.0      16      0.0        0   \n",
       "\n",
       "       cityA08U  cityCD  cityE    ...     mfrCode  c240Dscr  charge240b  \\\n",
       "0           0.0     0.0    0.0    ...         NaN       NaN         0.0   \n",
       "1           0.0     0.0    0.0    ...         NaN       NaN         0.0   \n",
       "2           0.0     0.0    0.0    ...         NaN       NaN         0.0   \n",
       "3           0.0     0.0    0.0    ...         NaN       NaN         0.0   \n",
       "4           0.0     0.0    0.0    ...         NaN       NaN         0.0   \n",
       "5           0.0     0.0    0.0    ...         NaN       NaN         0.0   \n",
       "6           0.0     0.0    0.0    ...         NaN       NaN         0.0   \n",
       "7           0.0     0.0    0.0    ...         NaN       NaN         0.0   \n",
       "8           0.0     0.0    0.0    ...         NaN       NaN         0.0   \n",
       "9           0.0     0.0    0.0    ...         NaN       NaN         0.0   \n",
       "10          0.0     0.0    0.0    ...         NaN       NaN         0.0   \n",
       "11          0.0     0.0    0.0    ...         NaN       NaN         0.0   \n",
       "12          0.0     0.0    0.0    ...         NaN       NaN         0.0   \n",
       "13          0.0     0.0    0.0    ...         NaN       NaN         0.0   \n",
       "14          0.0     0.0    0.0    ...         NaN       NaN         0.0   \n",
       "15          0.0     0.0    0.0    ...         NaN       NaN         0.0   \n",
       "16          0.0     0.0    0.0    ...         NaN       NaN         0.0   \n",
       "17          0.0     0.0    0.0    ...         NaN       NaN         0.0   \n",
       "18          0.0     0.0    0.0    ...         NaN       NaN         0.0   \n",
       "19          0.0     0.0    0.0    ...         NaN       NaN         0.0   \n",
       "20          0.0     0.0    0.0    ...         NaN       NaN         0.0   \n",
       "21          0.0     0.0    0.0    ...         NaN       NaN         0.0   \n",
       "22          0.0     0.0    0.0    ...         NaN       NaN         0.0   \n",
       "23          0.0     0.0    0.0    ...         NaN       NaN         0.0   \n",
       "24          0.0     0.0    0.0    ...         NaN       NaN         0.0   \n",
       "25          0.0     0.0    0.0    ...         NaN       NaN         0.0   \n",
       "26          0.0     0.0    0.0    ...         NaN       NaN         0.0   \n",
       "27          0.0     0.0    0.0    ...         NaN       NaN         0.0   \n",
       "28          0.0     0.0    0.0    ...         NaN       NaN         0.0   \n",
       "29          0.0     0.0    0.0    ...         NaN       NaN         0.0   \n",
       "...         ...     ...    ...    ...         ...       ...         ...   \n",
       "37686       0.0     0.0    0.0    ...         NaN       NaN         0.0   \n",
       "37687       0.0     0.0    0.0    ...         NaN       NaN         0.0   \n",
       "37688       0.0     0.0    0.0    ...         NaN       NaN         0.0   \n",
       "37689       0.0     0.0    0.0    ...         NaN       NaN         0.0   \n",
       "37690       0.0     0.0    0.0    ...         NaN       NaN         0.0   \n",
       "37691       0.0     0.0    0.0    ...         NaN       NaN         0.0   \n",
       "37692       0.0     0.0    0.0    ...         NaN       NaN         0.0   \n",
       "37693       0.0     0.0    0.0    ...         NaN       NaN         0.0   \n",
       "37694       0.0     0.0    0.0    ...         NaN       NaN         0.0   \n",
       "37695       0.0     0.0    0.0    ...         NaN       NaN         0.0   \n",
       "37696       0.0     0.0    0.0    ...         NaN       NaN         0.0   \n",
       "37697       0.0     0.0    0.0    ...         NaN       NaN         0.0   \n",
       "37698       0.0     0.0    0.0    ...         NaN       NaN         0.0   \n",
       "37699       0.0     0.0    0.0    ...         NaN       NaN         0.0   \n",
       "37700       0.0     0.0    0.0    ...         NaN       NaN         0.0   \n",
       "37701       0.0     0.0    0.0    ...         NaN       NaN         0.0   \n",
       "37702       0.0     0.0    0.0    ...         NaN       NaN         0.0   \n",
       "37703       0.0     0.0    0.0    ...         NaN       NaN         0.0   \n",
       "37704       0.0     0.0    0.0    ...         NaN       NaN         0.0   \n",
       "37705       0.0     0.0    0.0    ...         NaN       NaN         0.0   \n",
       "37706       0.0     0.0    0.0    ...         NaN       NaN         0.0   \n",
       "37707       0.0     0.0    0.0    ...         NaN       NaN         0.0   \n",
       "37708       0.0     0.0    0.0    ...         NaN       NaN         0.0   \n",
       "37709       0.0     0.0    0.0    ...         NaN       NaN         0.0   \n",
       "37710       0.0     0.0    0.0    ...         NaN       NaN         0.0   \n",
       "37711       0.0     0.0    0.0    ...         NaN       NaN         0.0   \n",
       "37712       0.0     0.0    0.0    ...         NaN       NaN         0.0   \n",
       "37713       0.0     0.0    0.0    ...         NaN       NaN         0.0   \n",
       "37714       0.0     0.0    0.0    ...         NaN       NaN         0.0   \n",
       "37715       0.0     0.0    0.0    ...         NaN       NaN         0.0   \n",
       "\n",
       "       c240bDscr                     createdOn                    modifiedOn  \\\n",
       "0            NaN  Tue Jan 01 00:00:00 EST 2013  Tue Jan 01 00:00:00 EST 2013   \n",
       "1            NaN  Tue Jan 01 00:00:00 EST 2013  Tue Jan 01 00:00:00 EST 2013   \n",
       "2            NaN  Tue Jan 01 00:00:00 EST 2013  Tue Jan 01 00:00:00 EST 2013   \n",
       "3            NaN  Tue Jan 01 00:00:00 EST 2013  Tue Jan 01 00:00:00 EST 2013   \n",
       "4            NaN  Tue Jan 01 00:00:00 EST 2013  Tue Jan 01 00:00:00 EST 2013   \n",
       "5            NaN  Tue Jan 01 00:00:00 EST 2013  Tue Jan 01 00:00:00 EST 2013   \n",
       "6            NaN  Tue Jan 01 00:00:00 EST 2013  Tue Jan 01 00:00:00 EST 2013   \n",
       "7            NaN  Tue Jan 01 00:00:00 EST 2013  Tue Jan 01 00:00:00 EST 2013   \n",
       "8            NaN  Tue Jan 01 00:00:00 EST 2013  Tue Jan 01 00:00:00 EST 2013   \n",
       "9            NaN  Tue Jan 01 00:00:00 EST 2013  Tue Jan 01 00:00:00 EST 2013   \n",
       "10           NaN  Tue Jan 01 00:00:00 EST 2013  Tue Jan 01 00:00:00 EST 2013   \n",
       "11           NaN  Tue Jan 01 00:00:00 EST 2013  Tue Jan 01 00:00:00 EST 2013   \n",
       "12           NaN  Tue Jan 01 00:00:00 EST 2013  Tue Jan 01 00:00:00 EST 2013   \n",
       "13           NaN  Tue Jan 01 00:00:00 EST 2013  Tue Jan 01 00:00:00 EST 2013   \n",
       "14           NaN  Tue Jan 01 00:00:00 EST 2013  Tue Jan 01 00:00:00 EST 2013   \n",
       "15           NaN  Tue Jan 01 00:00:00 EST 2013  Tue Jan 01 00:00:00 EST 2013   \n",
       "16           NaN  Tue Jan 01 00:00:00 EST 2013  Tue Jan 01 00:00:00 EST 2013   \n",
       "17           NaN  Tue Jan 01 00:00:00 EST 2013  Tue Jan 01 00:00:00 EST 2013   \n",
       "18           NaN  Tue Jan 01 00:00:00 EST 2013  Tue Jan 01 00:00:00 EST 2013   \n",
       "19           NaN  Tue Jan 01 00:00:00 EST 2013  Tue Jan 01 00:00:00 EST 2013   \n",
       "20           NaN  Tue Jan 01 00:00:00 EST 2013  Tue Jan 01 00:00:00 EST 2013   \n",
       "21           NaN  Tue Jan 01 00:00:00 EST 2013  Tue Jan 01 00:00:00 EST 2013   \n",
       "22           NaN  Tue Jan 01 00:00:00 EST 2013  Tue Jan 01 00:00:00 EST 2013   \n",
       "23           NaN  Tue Jan 01 00:00:00 EST 2013  Tue Jan 01 00:00:00 EST 2013   \n",
       "24           NaN  Tue Jan 01 00:00:00 EST 2013  Tue Jan 01 00:00:00 EST 2013   \n",
       "25           NaN  Tue Jan 01 00:00:00 EST 2013  Tue Jan 01 00:00:00 EST 2013   \n",
       "26           NaN  Tue Jan 01 00:00:00 EST 2013  Tue Jan 01 00:00:00 EST 2013   \n",
       "27           NaN  Tue Jan 01 00:00:00 EST 2013  Tue Jan 01 00:00:00 EST 2013   \n",
       "28           NaN  Tue Jan 01 00:00:00 EST 2013  Tue Jan 01 00:00:00 EST 2013   \n",
       "29           NaN  Tue Jan 01 00:00:00 EST 2013  Tue Jan 01 00:00:00 EST 2013   \n",
       "...          ...                           ...                           ...   \n",
       "37686        NaN  Tue Jan 01 00:00:00 EST 2013  Tue Jan 01 00:00:00 EST 2013   \n",
       "37687        NaN  Tue Jan 01 00:00:00 EST 2013  Tue Jan 01 00:00:00 EST 2013   \n",
       "37688        NaN  Tue Jan 01 00:00:00 EST 2013  Tue Jan 01 00:00:00 EST 2013   \n",
       "37689        NaN  Tue Jan 01 00:00:00 EST 2013  Tue Jan 01 00:00:00 EST 2013   \n",
       "37690        NaN  Tue Jan 01 00:00:00 EST 2013  Tue Jan 01 00:00:00 EST 2013   \n",
       "37691        NaN  Tue Jan 01 00:00:00 EST 2013  Tue Jan 01 00:00:00 EST 2013   \n",
       "37692        NaN  Tue Jan 01 00:00:00 EST 2013  Tue Jan 01 00:00:00 EST 2013   \n",
       "37693        NaN  Tue Jan 01 00:00:00 EST 2013  Tue Jan 01 00:00:00 EST 2013   \n",
       "37694        NaN  Tue Jan 01 00:00:00 EST 2013  Tue Jan 01 00:00:00 EST 2013   \n",
       "37695        NaN  Tue Jan 01 00:00:00 EST 2013  Tue Jan 01 00:00:00 EST 2013   \n",
       "37696        NaN  Tue Jan 01 00:00:00 EST 2013  Tue Jan 01 00:00:00 EST 2013   \n",
       "37697        NaN  Tue Jan 01 00:00:00 EST 2013  Tue Jan 01 00:00:00 EST 2013   \n",
       "37698        NaN  Tue Jan 01 00:00:00 EST 2013  Tue Jan 01 00:00:00 EST 2013   \n",
       "37699        NaN  Tue Jan 01 00:00:00 EST 2013  Tue Jan 01 00:00:00 EST 2013   \n",
       "37700        NaN  Tue Jan 01 00:00:00 EST 2013  Tue Jan 01 00:00:00 EST 2013   \n",
       "37701        NaN  Tue Jan 01 00:00:00 EST 2013  Tue Jan 01 00:00:00 EST 2013   \n",
       "37702        NaN  Tue Jan 01 00:00:00 EST 2013  Tue Jan 01 00:00:00 EST 2013   \n",
       "37703        NaN  Tue Jan 01 00:00:00 EST 2013  Tue Jan 01 00:00:00 EST 2013   \n",
       "37704        NaN  Tue Jan 01 00:00:00 EST 2013  Tue Jan 01 00:00:00 EST 2013   \n",
       "37705        NaN  Tue Jan 01 00:00:00 EST 2013  Tue Jan 01 00:00:00 EST 2013   \n",
       "37706        NaN  Tue Jan 01 00:00:00 EST 2013  Tue Jan 01 00:00:00 EST 2013   \n",
       "37707        NaN  Tue Jan 01 00:00:00 EST 2013  Tue Jan 01 00:00:00 EST 2013   \n",
       "37708        NaN  Tue Jan 01 00:00:00 EST 2013  Tue Jan 01 00:00:00 EST 2013   \n",
       "37709        NaN  Tue Jan 01 00:00:00 EST 2013  Tue Jan 01 00:00:00 EST 2013   \n",
       "37710        NaN  Tue Jan 01 00:00:00 EST 2013  Tue Jan 01 00:00:00 EST 2013   \n",
       "37711        NaN  Tue Jan 01 00:00:00 EST 2013  Tue Jan 01 00:00:00 EST 2013   \n",
       "37712        NaN  Tue Jan 01 00:00:00 EST 2013  Tue Jan 01 00:00:00 EST 2013   \n",
       "37713        NaN  Tue Jan 01 00:00:00 EST 2013  Tue Jan 01 00:00:00 EST 2013   \n",
       "37714        NaN  Tue Jan 01 00:00:00 EST 2013  Tue Jan 01 00:00:00 EST 2013   \n",
       "37715        NaN  Tue Jan 01 00:00:00 EST 2013  Tue Jan 01 00:00:00 EST 2013   \n",
       "\n",
       "       startStop  phevCity  phevHwy  phevComb  \n",
       "0            NaN         0        0         0  \n",
       "1            NaN         0        0         0  \n",
       "2            NaN         0        0         0  \n",
       "3            NaN         0        0         0  \n",
       "4            NaN         0        0         0  \n",
       "5            NaN         0        0         0  \n",
       "6            NaN         0        0         0  \n",
       "7            NaN         0        0         0  \n",
       "8            NaN         0        0         0  \n",
       "9            NaN         0        0         0  \n",
       "10           NaN         0        0         0  \n",
       "11           NaN         0        0         0  \n",
       "12           NaN         0        0         0  \n",
       "13           NaN         0        0         0  \n",
       "14           NaN         0        0         0  \n",
       "15           NaN         0        0         0  \n",
       "16           NaN         0        0         0  \n",
       "17           NaN         0        0         0  \n",
       "18           NaN         0        0         0  \n",
       "19           NaN         0        0         0  \n",
       "20           NaN         0        0         0  \n",
       "21           NaN         0        0         0  \n",
       "22           NaN         0        0         0  \n",
       "23           NaN         0        0         0  \n",
       "24           NaN         0        0         0  \n",
       "25           NaN         0        0         0  \n",
       "26           NaN         0        0         0  \n",
       "27           NaN         0        0         0  \n",
       "28           NaN         0        0         0  \n",
       "29           NaN         0        0         0  \n",
       "...          ...       ...      ...       ...  \n",
       "37686        NaN         0        0         0  \n",
       "37687        NaN         0        0         0  \n",
       "37688        NaN         0        0         0  \n",
       "37689        NaN         0        0         0  \n",
       "37690        NaN         0        0         0  \n",
       "37691        NaN         0        0         0  \n",
       "37692        NaN         0        0         0  \n",
       "37693        NaN         0        0         0  \n",
       "37694        NaN         0        0         0  \n",
       "37695        NaN         0        0         0  \n",
       "37696        NaN         0        0         0  \n",
       "37697        NaN         0        0         0  \n",
       "37698        NaN         0        0         0  \n",
       "37699        NaN         0        0         0  \n",
       "37700        NaN         0        0         0  \n",
       "37701        NaN         0        0         0  \n",
       "37702        NaN         0        0         0  \n",
       "37703        NaN         0        0         0  \n",
       "37704        NaN         0        0         0  \n",
       "37705        NaN         0        0         0  \n",
       "37706        NaN         0        0         0  \n",
       "37707        NaN         0        0         0  \n",
       "37708        NaN         0        0         0  \n",
       "37709        NaN         0        0         0  \n",
       "37710        NaN         0        0         0  \n",
       "37711        NaN         0        0         0  \n",
       "37712        NaN         0        0         0  \n",
       "37713        NaN         0        0         0  \n",
       "37714        NaN         0        0         0  \n",
       "37715        NaN         0        0         0  \n",
       "\n",
       "[37716 rows x 83 columns]>"
      ]
     },
     "execution_count": 3,
     "metadata": {},
     "output_type": "execute_result"
    }
   ],
   "source": [
    "vehicles = pd.read_csv(\"vehicles.csv\")\n",
    "vehicles.head"
   ]
  },
  {
   "cell_type": "code",
   "execution_count": 4,
   "metadata": {
    "collapsed": false
   },
   "outputs": [
    {
     "data": {
      "text/plain": [
       "array(['fuelType2', 'rangeA', 'evMotor', 'mfrCode', 'c240Dscr',\n",
       "       'c240bDscr', 'startStop'], dtype=object)"
      ]
     },
     "execution_count": 4,
     "metadata": {},
     "output_type": "execute_result"
    }
   ],
   "source": [
    "column_names = vehicles.columns.values\n",
    "column_names[[70, 71, 72, 73, 74, 76, 79]]"
   ]
  },
  {
   "cell_type": "code",
   "execution_count": 5,
   "metadata": {
    "collapsed": false
   },
   "outputs": [
    {
     "data": {
      "text/plain": [
       "37716"
      ]
     },
     "execution_count": 5,
     "metadata": {},
     "output_type": "execute_result"
    }
   ],
   "source": [
    "len(vehicles)"
   ]
  },
  {
   "cell_type": "code",
   "execution_count": 6,
   "metadata": {
    "collapsed": false
   },
   "outputs": [
    {
     "data": {
      "text/plain": [
       "83"
      ]
     },
     "execution_count": 6,
     "metadata": {},
     "output_type": "execute_result"
    }
   ],
   "source": [
    "len(vehicles.columns)"
   ]
  },
  {
   "cell_type": "code",
   "execution_count": 7,
   "metadata": {
    "collapsed": false
   },
   "outputs": [
    {
     "name": "stdout",
     "output_type": "stream",
     "text": [
      "Index([u'barrels08', u'barrelsA08', u'charge120', u'charge240', u'city08',\n",
      "       u'city08U', u'cityA08', u'cityA08U', u'cityCD', u'cityE', u'cityUF',\n",
      "       u'co2', u'co2A', u'co2TailpipeAGpm', u'co2TailpipeGpm', u'comb08',\n",
      "       u'comb08U', u'combA08', u'combA08U', u'combE', u'combinedCD',\n",
      "       u'combinedUF', u'cylinders', u'displ', u'drive', u'engId', u'eng_dscr',\n",
      "       u'feScore', u'fuelCost08', u'fuelCostA08', u'fuelType', u'fuelType1',\n",
      "       u'ghgScore', u'ghgScoreA', u'highway08', u'highway08U', u'highwayA08',\n",
      "       u'highwayA08U', u'highwayCD', u'highwayE', u'highwayUF', u'hlv', u'hpv',\n",
      "       u'id', u'lv2', u'lv4', u'make', u'model', u'mpgData', u'phevBlended',\n",
      "       u'pv2', u'pv4', u'range', u'rangeCity', u'rangeCityA', u'rangeHwy',\n",
      "       u'rangeHwyA', u'trany', u'UCity', u'UCityA', u'UHighway', u'UHighwayA',\n",
      "       u'VClass', u'year', u'youSaveSpend', u'guzzler', u'trans_dscr',\n",
      "       u'tCharger', u'sCharger', u'atvType', u'fuelType2', u'rangeA',\n",
      "       u'evMotor', u'mfrCode', u'c240Dscr', u'charge240b', u'c240bDscr',\n",
      "       u'createdOn', u'modifiedOn', u'startStop', u'phevCity', u'phevHwy',\n",
      "       u'phevComb'],\n",
      "      dtype='object')\n"
     ]
    }
   ],
   "source": [
    "print(vehicles.columns)"
   ]
  },
  {
   "cell_type": "code",
   "execution_count": 11,
   "metadata": {
    "collapsed": false
   },
   "outputs": [
    {
     "data": {
      "text/plain": [
       "34"
      ]
     },
     "execution_count": 11,
     "metadata": {},
     "output_type": "execute_result"
    }
   ],
   "source": [
    "len(pd.unique(vehicles.year))"
   ]
  },
  {
   "cell_type": "code",
   "execution_count": 12,
   "metadata": {
    "collapsed": false
   },
   "outputs": [
    {
     "data": {
      "text/plain": [
       "1984"
      ]
     },
     "execution_count": 12,
     "metadata": {},
     "output_type": "execute_result"
    }
   ],
   "source": [
    "min(vehicles.year)"
   ]
  },
  {
   "cell_type": "code",
   "execution_count": 13,
   "metadata": {
    "collapsed": false
   },
   "outputs": [
    {
     "data": {
      "text/plain": [
       "2017"
      ]
     },
     "execution_count": 13,
     "metadata": {},
     "output_type": "execute_result"
    }
   ],
   "source": [
    "max(vehicles[\"year\"])"
   ]
  },
  {
   "cell_type": "code",
   "execution_count": 14,
   "metadata": {
    "collapsed": false
   },
   "outputs": [
    {
     "data": {
      "text/plain": [
       "Regular Gasoline     26261\n",
       "Premium Gasoline     10110\n",
       "Diesel                1096\n",
       "Electricity            115\n",
       "Midgrade Gasoline       74\n",
       "Natural Gas             60\n",
       "Name: fuelType1, dtype: int64"
      ]
     },
     "execution_count": 14,
     "metadata": {},
     "output_type": "execute_result"
    }
   ],
   "source": [
    "pd.value_counts(vehicles.fuelType1)"
   ]
  },
  {
   "cell_type": "code",
   "execution_count": 15,
   "metadata": {
    "collapsed": false
   },
   "outputs": [
    {
     "data": {
      "text/plain": [
       "Automatic 4-spd                     11041\n",
       "Manual 5-spd                         8309\n",
       "Automatic 3-spd                      3151\n",
       "Automatic (S6)                       2616\n",
       "Manual 6-spd                         2421\n",
       "Automatic 5-spd                      2184\n",
       "Manual 4-spd                         1483\n",
       "Automatic 6-spd                      1432\n",
       "Automatic (S8)                        942\n",
       "Automatic (S5)                        824\n",
       "Automatic (variable gear ratios)      668\n",
       "Automatic 7-spd                       650\n",
       "Auto(AM-S7)                           256\n",
       "Automatic (S7)                        250\n",
       "Automatic 8-spd                       243\n",
       "Automatic (S4)                        233\n",
       "Auto(AM7)                             150\n",
       "Auto(AV-S6)                           140\n",
       "Auto(AM6)                             109\n",
       "Automatic (A1)                        104\n",
       "Auto(AM-S6)                            91\n",
       "Automatic 9-spd                        80\n",
       "Manual 3-spd                           77\n",
       "Manual 7-spd                           68\n",
       "Auto(AV-S7)                            57\n",
       "Automatic (S9)                         26\n",
       "Auto(AV-S8)                            26\n",
       "Manual 4-spd Doubled                   17\n",
       "Auto(AM5)                              12\n",
       "Automatic (AV-S6)                       9\n",
       "Auto(AM-S8)                             6\n",
       "Auto(AM8)                               5\n",
       "Automatic (A6)                          4\n",
       "Automatic (AV)                          4\n",
       "Automatic (AM5)                         2\n",
       "Auto(L4)                                2\n",
       "Auto(L3)                                2\n",
       "Manual(M7)                              2\n",
       "Auto (AV)                               2\n",
       "Automatic 6spd                          1\n",
       "Auto (AV-S6)                            1\n",
       "Manual 5 spd                            1\n",
       "Auto(A1)                                1\n",
       "Auto (AV-S8)                            1\n",
       "Automatic (AM6)                         1\n",
       "Auto(AM-S9)                             1\n",
       "Name: trany, dtype: int64"
      ]
     },
     "execution_count": 15,
     "metadata": {},
     "output_type": "execute_result"
    }
   ],
   "source": [
    "pd.value_counts(vehicles.trany)"
   ]
  },
  {
   "cell_type": "code",
   "execution_count": 16,
   "metadata": {
    "collapsed": false
   },
   "outputs": [
    {
     "data": {
      "text/plain": [
       "A    25327\n",
       "M    12378\n",
       "Name: trany2, dtype: int64"
      ]
     },
     "execution_count": 16,
     "metadata": {},
     "output_type": "execute_result"
    }
   ],
   "source": [
    "vehicles[\"trany2\"] = vehicles.trany.str[0]\n",
    "pd.value_counts(vehicles.trany2)"
   ]
  },
  {
   "cell_type": "code",
   "execution_count": 17,
   "metadata": {
    "collapsed": true
   },
   "outputs": [],
   "source": [
    "#Analyzing automobile fuel efficiency over time with Python"
   ]
  },
  {
   "cell_type": "code",
   "execution_count": 18,
   "metadata": {
    "collapsed": true
   },
   "outputs": [],
   "source": [
    "grouped = vehicles.groupby(\"year\")"
   ]
  },
  {
   "cell_type": "code",
   "execution_count": 40,
   "metadata": {
    "collapsed": false
   },
   "outputs": [],
   "source": [
    "averaged = grouped['comb08', 'highway08', 'city08'].agg([np.mean])"
   ]
  },
  {
   "cell_type": "code",
   "execution_count": 41,
   "metadata": {
    "collapsed": false
   },
   "outputs": [
    {
     "data": {
      "text/html": [
       "<div>\n",
       "<table border=\"1\" class=\"dataframe\">\n",
       "  <thead>\n",
       "    <tr>\n",
       "      <th></th>\n",
       "      <th>comb08</th>\n",
       "      <th>highway08</th>\n",
       "      <th>city08</th>\n",
       "    </tr>\n",
       "    <tr>\n",
       "      <th></th>\n",
       "      <th>mean</th>\n",
       "      <th>mean</th>\n",
       "      <th>mean</th>\n",
       "    </tr>\n",
       "    <tr>\n",
       "      <th>year</th>\n",
       "      <th></th>\n",
       "      <th></th>\n",
       "      <th></th>\n",
       "    </tr>\n",
       "  </thead>\n",
       "  <tbody>\n",
       "    <tr>\n",
       "      <th>1984</th>\n",
       "      <td>19.881874</td>\n",
       "      <td>23.075356</td>\n",
       "      <td>17.982688</td>\n",
       "    </tr>\n",
       "    <tr>\n",
       "      <th>1985</th>\n",
       "      <td>19.808348</td>\n",
       "      <td>23.042328</td>\n",
       "      <td>17.878307</td>\n",
       "    </tr>\n",
       "    <tr>\n",
       "      <th>1986</th>\n",
       "      <td>19.550413</td>\n",
       "      <td>22.699174</td>\n",
       "      <td>17.665289</td>\n",
       "    </tr>\n",
       "    <tr>\n",
       "      <th>1987</th>\n",
       "      <td>19.228549</td>\n",
       "      <td>22.445068</td>\n",
       "      <td>17.310345</td>\n",
       "    </tr>\n",
       "    <tr>\n",
       "      <th>1988</th>\n",
       "      <td>19.328319</td>\n",
       "      <td>22.702655</td>\n",
       "      <td>17.333628</td>\n",
       "    </tr>\n",
       "    <tr>\n",
       "      <th>1989</th>\n",
       "      <td>19.125759</td>\n",
       "      <td>22.465742</td>\n",
       "      <td>17.143972</td>\n",
       "    </tr>\n",
       "    <tr>\n",
       "      <th>1990</th>\n",
       "      <td>19.000928</td>\n",
       "      <td>22.337662</td>\n",
       "      <td>17.033395</td>\n",
       "    </tr>\n",
       "    <tr>\n",
       "      <th>1991</th>\n",
       "      <td>18.825972</td>\n",
       "      <td>22.253534</td>\n",
       "      <td>16.848940</td>\n",
       "    </tr>\n",
       "    <tr>\n",
       "      <th>1992</th>\n",
       "      <td>18.862623</td>\n",
       "      <td>22.439786</td>\n",
       "      <td>16.805531</td>\n",
       "    </tr>\n",
       "    <tr>\n",
       "      <th>1993</th>\n",
       "      <td>19.104300</td>\n",
       "      <td>22.780421</td>\n",
       "      <td>16.998170</td>\n",
       "    </tr>\n",
       "    <tr>\n",
       "      <th>1994</th>\n",
       "      <td>19.012220</td>\n",
       "      <td>22.725051</td>\n",
       "      <td>16.918534</td>\n",
       "    </tr>\n",
       "    <tr>\n",
       "      <th>1995</th>\n",
       "      <td>18.797311</td>\n",
       "      <td>22.671148</td>\n",
       "      <td>16.569804</td>\n",
       "    </tr>\n",
       "    <tr>\n",
       "      <th>1996</th>\n",
       "      <td>19.584735</td>\n",
       "      <td>23.569211</td>\n",
       "      <td>17.289780</td>\n",
       "    </tr>\n",
       "    <tr>\n",
       "      <th>1997</th>\n",
       "      <td>19.429134</td>\n",
       "      <td>23.451444</td>\n",
       "      <td>17.135171</td>\n",
       "    </tr>\n",
       "    <tr>\n",
       "      <th>1998</th>\n",
       "      <td>19.518473</td>\n",
       "      <td>23.546798</td>\n",
       "      <td>17.113300</td>\n",
       "    </tr>\n",
       "    <tr>\n",
       "      <th>1999</th>\n",
       "      <td>19.611502</td>\n",
       "      <td>23.552817</td>\n",
       "      <td>17.272300</td>\n",
       "    </tr>\n",
       "    <tr>\n",
       "      <th>2000</th>\n",
       "      <td>19.526190</td>\n",
       "      <td>23.414286</td>\n",
       "      <td>17.221429</td>\n",
       "    </tr>\n",
       "    <tr>\n",
       "      <th>2001</th>\n",
       "      <td>19.479693</td>\n",
       "      <td>23.328211</td>\n",
       "      <td>17.275521</td>\n",
       "    </tr>\n",
       "    <tr>\n",
       "      <th>2002</th>\n",
       "      <td>19.168205</td>\n",
       "      <td>23.030769</td>\n",
       "      <td>16.893333</td>\n",
       "    </tr>\n",
       "    <tr>\n",
       "      <th>2003</th>\n",
       "      <td>19.000958</td>\n",
       "      <td>22.836207</td>\n",
       "      <td>16.780651</td>\n",
       "    </tr>\n",
       "    <tr>\n",
       "      <th>2004</th>\n",
       "      <td>19.067736</td>\n",
       "      <td>23.064171</td>\n",
       "      <td>16.740642</td>\n",
       "    </tr>\n",
       "    <tr>\n",
       "      <th>2005</th>\n",
       "      <td>19.193825</td>\n",
       "      <td>23.297599</td>\n",
       "      <td>16.851630</td>\n",
       "    </tr>\n",
       "    <tr>\n",
       "      <th>2006</th>\n",
       "      <td>18.959239</td>\n",
       "      <td>23.048913</td>\n",
       "      <td>16.626812</td>\n",
       "    </tr>\n",
       "    <tr>\n",
       "      <th>2007</th>\n",
       "      <td>18.978686</td>\n",
       "      <td>23.083481</td>\n",
       "      <td>16.605684</td>\n",
       "    </tr>\n",
       "    <tr>\n",
       "      <th>2008</th>\n",
       "      <td>19.276327</td>\n",
       "      <td>23.455771</td>\n",
       "      <td>16.900590</td>\n",
       "    </tr>\n",
       "    <tr>\n",
       "      <th>2009</th>\n",
       "      <td>19.740709</td>\n",
       "      <td>24.027872</td>\n",
       "      <td>17.336149</td>\n",
       "    </tr>\n",
       "    <tr>\n",
       "      <th>2010</th>\n",
       "      <td>20.601443</td>\n",
       "      <td>24.972949</td>\n",
       "      <td>18.111812</td>\n",
       "    </tr>\n",
       "    <tr>\n",
       "      <th>2011</th>\n",
       "      <td>21.103540</td>\n",
       "      <td>25.444248</td>\n",
       "      <td>18.674336</td>\n",
       "    </tr>\n",
       "    <tr>\n",
       "      <th>2012</th>\n",
       "      <td>21.937554</td>\n",
       "      <td>26.418907</td>\n",
       "      <td>19.405898</td>\n",
       "    </tr>\n",
       "    <tr>\n",
       "      <th>2013</th>\n",
       "      <td>23.253165</td>\n",
       "      <td>27.844726</td>\n",
       "      <td>20.702954</td>\n",
       "    </tr>\n",
       "    <tr>\n",
       "      <th>2014</th>\n",
       "      <td>23.704731</td>\n",
       "      <td>28.364600</td>\n",
       "      <td>21.091354</td>\n",
       "    </tr>\n",
       "    <tr>\n",
       "      <th>2015</th>\n",
       "      <td>24.213562</td>\n",
       "      <td>29.013250</td>\n",
       "      <td>21.529228</td>\n",
       "    </tr>\n",
       "    <tr>\n",
       "      <th>2016</th>\n",
       "      <td>25.007974</td>\n",
       "      <td>29.699362</td>\n",
       "      <td>22.346093</td>\n",
       "    </tr>\n",
       "    <tr>\n",
       "      <th>2017</th>\n",
       "      <td>23.387838</td>\n",
       "      <td>27.971622</td>\n",
       "      <td>20.739189</td>\n",
       "    </tr>\n",
       "  </tbody>\n",
       "</table>\n",
       "</div>"
      ],
      "text/plain": [
       "         comb08  highway08     city08\n",
       "           mean       mean       mean\n",
       "year                                 \n",
       "1984  19.881874  23.075356  17.982688\n",
       "1985  19.808348  23.042328  17.878307\n",
       "1986  19.550413  22.699174  17.665289\n",
       "1987  19.228549  22.445068  17.310345\n",
       "1988  19.328319  22.702655  17.333628\n",
       "1989  19.125759  22.465742  17.143972\n",
       "1990  19.000928  22.337662  17.033395\n",
       "1991  18.825972  22.253534  16.848940\n",
       "1992  18.862623  22.439786  16.805531\n",
       "1993  19.104300  22.780421  16.998170\n",
       "1994  19.012220  22.725051  16.918534\n",
       "1995  18.797311  22.671148  16.569804\n",
       "1996  19.584735  23.569211  17.289780\n",
       "1997  19.429134  23.451444  17.135171\n",
       "1998  19.518473  23.546798  17.113300\n",
       "1999  19.611502  23.552817  17.272300\n",
       "2000  19.526190  23.414286  17.221429\n",
       "2001  19.479693  23.328211  17.275521\n",
       "2002  19.168205  23.030769  16.893333\n",
       "2003  19.000958  22.836207  16.780651\n",
       "2004  19.067736  23.064171  16.740642\n",
       "2005  19.193825  23.297599  16.851630\n",
       "2006  18.959239  23.048913  16.626812\n",
       "2007  18.978686  23.083481  16.605684\n",
       "2008  19.276327  23.455771  16.900590\n",
       "2009  19.740709  24.027872  17.336149\n",
       "2010  20.601443  24.972949  18.111812\n",
       "2011  21.103540  25.444248  18.674336\n",
       "2012  21.937554  26.418907  19.405898\n",
       "2013  23.253165  27.844726  20.702954\n",
       "2014  23.704731  28.364600  21.091354\n",
       "2015  24.213562  29.013250  21.529228\n",
       "2016  25.007974  29.699362  22.346093\n",
       "2017  23.387838  27.971622  20.739189"
      ]
     },
     "execution_count": 41,
     "metadata": {},
     "output_type": "execute_result"
    }
   ],
   "source": [
    "averaged"
   ]
  },
  {
   "cell_type": "code",
   "execution_count": 42,
   "metadata": {
    "collapsed": false
   },
   "outputs": [],
   "source": [
    "averaged.columns = ['comb08_mean','highway08_mean', 'city08_mean']"
   ]
  },
  {
   "cell_type": "code",
   "execution_count": 43,
   "metadata": {
    "collapsed": true
   },
   "outputs": [],
   "source": [
    "averaged['year'] = averaged.index"
   ]
  },
  {
   "cell_type": "code",
   "execution_count": 44,
   "metadata": {
    "collapsed": false
   },
   "outputs": [
    {
     "data": {
      "text/html": [
       "<div>\n",
       "<table border=\"1\" class=\"dataframe\">\n",
       "  <thead>\n",
       "    <tr style=\"text-align: right;\">\n",
       "      <th></th>\n",
       "      <th>comb08_mean</th>\n",
       "      <th>highway08_mean</th>\n",
       "      <th>city08_mean</th>\n",
       "      <th>year</th>\n",
       "    </tr>\n",
       "    <tr>\n",
       "      <th>year</th>\n",
       "      <th></th>\n",
       "      <th></th>\n",
       "      <th></th>\n",
       "      <th></th>\n",
       "    </tr>\n",
       "  </thead>\n",
       "  <tbody>\n",
       "    <tr>\n",
       "      <th>1984</th>\n",
       "      <td>19.881874</td>\n",
       "      <td>23.075356</td>\n",
       "      <td>17.982688</td>\n",
       "      <td>1984</td>\n",
       "    </tr>\n",
       "    <tr>\n",
       "      <th>1985</th>\n",
       "      <td>19.808348</td>\n",
       "      <td>23.042328</td>\n",
       "      <td>17.878307</td>\n",
       "      <td>1985</td>\n",
       "    </tr>\n",
       "    <tr>\n",
       "      <th>1986</th>\n",
       "      <td>19.550413</td>\n",
       "      <td>22.699174</td>\n",
       "      <td>17.665289</td>\n",
       "      <td>1986</td>\n",
       "    </tr>\n",
       "    <tr>\n",
       "      <th>1987</th>\n",
       "      <td>19.228549</td>\n",
       "      <td>22.445068</td>\n",
       "      <td>17.310345</td>\n",
       "      <td>1987</td>\n",
       "    </tr>\n",
       "    <tr>\n",
       "      <th>1988</th>\n",
       "      <td>19.328319</td>\n",
       "      <td>22.702655</td>\n",
       "      <td>17.333628</td>\n",
       "      <td>1988</td>\n",
       "    </tr>\n",
       "    <tr>\n",
       "      <th>1989</th>\n",
       "      <td>19.125759</td>\n",
       "      <td>22.465742</td>\n",
       "      <td>17.143972</td>\n",
       "      <td>1989</td>\n",
       "    </tr>\n",
       "    <tr>\n",
       "      <th>1990</th>\n",
       "      <td>19.000928</td>\n",
       "      <td>22.337662</td>\n",
       "      <td>17.033395</td>\n",
       "      <td>1990</td>\n",
       "    </tr>\n",
       "    <tr>\n",
       "      <th>1991</th>\n",
       "      <td>18.825972</td>\n",
       "      <td>22.253534</td>\n",
       "      <td>16.848940</td>\n",
       "      <td>1991</td>\n",
       "    </tr>\n",
       "    <tr>\n",
       "      <th>1992</th>\n",
       "      <td>18.862623</td>\n",
       "      <td>22.439786</td>\n",
       "      <td>16.805531</td>\n",
       "      <td>1992</td>\n",
       "    </tr>\n",
       "    <tr>\n",
       "      <th>1993</th>\n",
       "      <td>19.104300</td>\n",
       "      <td>22.780421</td>\n",
       "      <td>16.998170</td>\n",
       "      <td>1993</td>\n",
       "    </tr>\n",
       "    <tr>\n",
       "      <th>1994</th>\n",
       "      <td>19.012220</td>\n",
       "      <td>22.725051</td>\n",
       "      <td>16.918534</td>\n",
       "      <td>1994</td>\n",
       "    </tr>\n",
       "    <tr>\n",
       "      <th>1995</th>\n",
       "      <td>18.797311</td>\n",
       "      <td>22.671148</td>\n",
       "      <td>16.569804</td>\n",
       "      <td>1995</td>\n",
       "    </tr>\n",
       "    <tr>\n",
       "      <th>1996</th>\n",
       "      <td>19.584735</td>\n",
       "      <td>23.569211</td>\n",
       "      <td>17.289780</td>\n",
       "      <td>1996</td>\n",
       "    </tr>\n",
       "    <tr>\n",
       "      <th>1997</th>\n",
       "      <td>19.429134</td>\n",
       "      <td>23.451444</td>\n",
       "      <td>17.135171</td>\n",
       "      <td>1997</td>\n",
       "    </tr>\n",
       "    <tr>\n",
       "      <th>1998</th>\n",
       "      <td>19.518473</td>\n",
       "      <td>23.546798</td>\n",
       "      <td>17.113300</td>\n",
       "      <td>1998</td>\n",
       "    </tr>\n",
       "    <tr>\n",
       "      <th>1999</th>\n",
       "      <td>19.611502</td>\n",
       "      <td>23.552817</td>\n",
       "      <td>17.272300</td>\n",
       "      <td>1999</td>\n",
       "    </tr>\n",
       "    <tr>\n",
       "      <th>2000</th>\n",
       "      <td>19.526190</td>\n",
       "      <td>23.414286</td>\n",
       "      <td>17.221429</td>\n",
       "      <td>2000</td>\n",
       "    </tr>\n",
       "    <tr>\n",
       "      <th>2001</th>\n",
       "      <td>19.479693</td>\n",
       "      <td>23.328211</td>\n",
       "      <td>17.275521</td>\n",
       "      <td>2001</td>\n",
       "    </tr>\n",
       "    <tr>\n",
       "      <th>2002</th>\n",
       "      <td>19.168205</td>\n",
       "      <td>23.030769</td>\n",
       "      <td>16.893333</td>\n",
       "      <td>2002</td>\n",
       "    </tr>\n",
       "    <tr>\n",
       "      <th>2003</th>\n",
       "      <td>19.000958</td>\n",
       "      <td>22.836207</td>\n",
       "      <td>16.780651</td>\n",
       "      <td>2003</td>\n",
       "    </tr>\n",
       "    <tr>\n",
       "      <th>2004</th>\n",
       "      <td>19.067736</td>\n",
       "      <td>23.064171</td>\n",
       "      <td>16.740642</td>\n",
       "      <td>2004</td>\n",
       "    </tr>\n",
       "    <tr>\n",
       "      <th>2005</th>\n",
       "      <td>19.193825</td>\n",
       "      <td>23.297599</td>\n",
       "      <td>16.851630</td>\n",
       "      <td>2005</td>\n",
       "    </tr>\n",
       "    <tr>\n",
       "      <th>2006</th>\n",
       "      <td>18.959239</td>\n",
       "      <td>23.048913</td>\n",
       "      <td>16.626812</td>\n",
       "      <td>2006</td>\n",
       "    </tr>\n",
       "    <tr>\n",
       "      <th>2007</th>\n",
       "      <td>18.978686</td>\n",
       "      <td>23.083481</td>\n",
       "      <td>16.605684</td>\n",
       "      <td>2007</td>\n",
       "    </tr>\n",
       "    <tr>\n",
       "      <th>2008</th>\n",
       "      <td>19.276327</td>\n",
       "      <td>23.455771</td>\n",
       "      <td>16.900590</td>\n",
       "      <td>2008</td>\n",
       "    </tr>\n",
       "    <tr>\n",
       "      <th>2009</th>\n",
       "      <td>19.740709</td>\n",
       "      <td>24.027872</td>\n",
       "      <td>17.336149</td>\n",
       "      <td>2009</td>\n",
       "    </tr>\n",
       "    <tr>\n",
       "      <th>2010</th>\n",
       "      <td>20.601443</td>\n",
       "      <td>24.972949</td>\n",
       "      <td>18.111812</td>\n",
       "      <td>2010</td>\n",
       "    </tr>\n",
       "    <tr>\n",
       "      <th>2011</th>\n",
       "      <td>21.103540</td>\n",
       "      <td>25.444248</td>\n",
       "      <td>18.674336</td>\n",
       "      <td>2011</td>\n",
       "    </tr>\n",
       "    <tr>\n",
       "      <th>2012</th>\n",
       "      <td>21.937554</td>\n",
       "      <td>26.418907</td>\n",
       "      <td>19.405898</td>\n",
       "      <td>2012</td>\n",
       "    </tr>\n",
       "    <tr>\n",
       "      <th>2013</th>\n",
       "      <td>23.253165</td>\n",
       "      <td>27.844726</td>\n",
       "      <td>20.702954</td>\n",
       "      <td>2013</td>\n",
       "    </tr>\n",
       "    <tr>\n",
       "      <th>2014</th>\n",
       "      <td>23.704731</td>\n",
       "      <td>28.364600</td>\n",
       "      <td>21.091354</td>\n",
       "      <td>2014</td>\n",
       "    </tr>\n",
       "    <tr>\n",
       "      <th>2015</th>\n",
       "      <td>24.213562</td>\n",
       "      <td>29.013250</td>\n",
       "      <td>21.529228</td>\n",
       "      <td>2015</td>\n",
       "    </tr>\n",
       "    <tr>\n",
       "      <th>2016</th>\n",
       "      <td>25.007974</td>\n",
       "      <td>29.699362</td>\n",
       "      <td>22.346093</td>\n",
       "      <td>2016</td>\n",
       "    </tr>\n",
       "    <tr>\n",
       "      <th>2017</th>\n",
       "      <td>23.387838</td>\n",
       "      <td>27.971622</td>\n",
       "      <td>20.739189</td>\n",
       "      <td>2017</td>\n",
       "    </tr>\n",
       "  </tbody>\n",
       "</table>\n",
       "</div>"
      ],
      "text/plain": [
       "      comb08_mean  highway08_mean  city08_mean  year\n",
       "year                                                \n",
       "1984    19.881874       23.075356    17.982688  1984\n",
       "1985    19.808348       23.042328    17.878307  1985\n",
       "1986    19.550413       22.699174    17.665289  1986\n",
       "1987    19.228549       22.445068    17.310345  1987\n",
       "1988    19.328319       22.702655    17.333628  1988\n",
       "1989    19.125759       22.465742    17.143972  1989\n",
       "1990    19.000928       22.337662    17.033395  1990\n",
       "1991    18.825972       22.253534    16.848940  1991\n",
       "1992    18.862623       22.439786    16.805531  1992\n",
       "1993    19.104300       22.780421    16.998170  1993\n",
       "1994    19.012220       22.725051    16.918534  1994\n",
       "1995    18.797311       22.671148    16.569804  1995\n",
       "1996    19.584735       23.569211    17.289780  1996\n",
       "1997    19.429134       23.451444    17.135171  1997\n",
       "1998    19.518473       23.546798    17.113300  1998\n",
       "1999    19.611502       23.552817    17.272300  1999\n",
       "2000    19.526190       23.414286    17.221429  2000\n",
       "2001    19.479693       23.328211    17.275521  2001\n",
       "2002    19.168205       23.030769    16.893333  2002\n",
       "2003    19.000958       22.836207    16.780651  2003\n",
       "2004    19.067736       23.064171    16.740642  2004\n",
       "2005    19.193825       23.297599    16.851630  2005\n",
       "2006    18.959239       23.048913    16.626812  2006\n",
       "2007    18.978686       23.083481    16.605684  2007\n",
       "2008    19.276327       23.455771    16.900590  2008\n",
       "2009    19.740709       24.027872    17.336149  2009\n",
       "2010    20.601443       24.972949    18.111812  2010\n",
       "2011    21.103540       25.444248    18.674336  2011\n",
       "2012    21.937554       26.418907    19.405898  2012\n",
       "2013    23.253165       27.844726    20.702954  2013\n",
       "2014    23.704731       28.364600    21.091354  2014\n",
       "2015    24.213562       29.013250    21.529228  2015\n",
       "2016    25.007974       29.699362    22.346093  2016\n",
       "2017    23.387838       27.971622    20.739189  2017"
      ]
     },
     "execution_count": 44,
     "metadata": {},
     "output_type": "execute_result"
    }
   ],
   "source": [
    "averaged"
   ]
  },
  {
   "cell_type": "code",
   "execution_count": 48,
   "metadata": {
    "collapsed": false
   },
   "outputs": [
    {
     "data": {
      "image/png": "[encoded data removed]",
      "text/plain": [
       "<matplotlib.figure.Figure at 0xb460438>"
      ]
     },
     "metadata": {},
     "output_type": "display_data"
    },
    {
     "name": "stdout",
     "output_type": "stream",
     "text": [
      "<ggplot: (11821116)>\n"
     ]
    }
   ],
   "source": [
    "print ggplot(averaged, aes('year', 'comb08_mean')) + geom_point(color='steelblue') + xlab(\"Year\") + ylab(\"Average MPG\") + ggtitle(\"All cars\")"
   ]
  },
  {
   "cell_type": "code",
   "execution_count": 49,
   "metadata": {
    "collapsed": false
   },
   "outputs": [
    {
     "data": {
      "text/plain": [
       "34587"
      ]
     },
     "execution_count": 49,
     "metadata": {},
     "output_type": "execute_result"
    }
   ],
   "source": [
    "criteria1 = vehicles.fuelType1.isin([\"Regular Gasoline\", \"Premium Gasoline\", \"Midgrade Gasoline\"])\n",
    "criteria2 = vehicles.fuelType2.isnull()\n",
    "criteria3 = vehicles.atvType != \"Hybrid\"\n",
    "vehicles_non_hybrid = vehicles[criteria1 & criteria2 & criteria3]\n",
    "len(vehicles_non_hybrid)"
   ]
  },
  {
   "cell_type": "code",
   "execution_count": 50,
   "metadata": {
    "collapsed": false
   },
   "outputs": [
    {
     "name": "stdout",
     "output_type": "stream",
     "text": [
      "           mean\n",
      "year           \n",
      "1984  19.121622\n",
      "1985  19.394686\n",
      "1986  19.320457\n",
      "1987  19.164568\n",
      "1988  19.367607\n",
      "1989  19.141964\n",
      "1990  19.031459\n",
      "1991  18.838060\n",
      "1992  18.861566\n",
      "1993  19.137383\n",
      "1994  19.092632\n",
      "1995  18.872591\n",
      "1996  19.530962\n",
      "1997  19.368000\n",
      "1998  19.329545\n",
      "1999  19.239759\n",
      "2000  19.169345\n",
      "2001  19.075058\n",
      "2002  18.950270\n",
      "2003  18.761711\n",
      "2004  18.967339\n",
      "2005  19.005510\n",
      "2006  18.786398\n",
      "2007  18.987512\n",
      "2008  19.191781\n",
      "2009  19.738095\n",
      "2010  20.466736\n",
      "2011  20.920652\n",
      "2012  21.496767\n",
      "2013  22.330481\n",
      "2014  22.433128\n",
      "2015  22.551078\n",
      "2016  22.877111\n",
      "2017  22.576923\n"
     ]
    }
   ],
   "source": [
    "grouped = vehicles_non_hybrid.groupby(['year'])\n",
    "averaged = grouped['comb08'].agg([np.mean])\n",
    "print(averaged)"
   ]
  },
  {
   "cell_type": "code",
   "execution_count": 51,
   "metadata": {
    "collapsed": false
   },
   "outputs": [
    {
     "data": {
      "text/plain": [
       "array([ 2. ,  4.9,  2.2,  5.2,  1.8,  1.6,  2.3,  2.8,  4. ,  5. ,  3.3,\n",
       "        3.1,  3.8,  4.6,  3.4,  3. ,  5.9,  2.5,  4.5,  6.8,  2.4,  2.9,\n",
       "        5.7,  4.3,  3.5,  5.8,  3.2,  4.2,  1.9,  2.6,  7.4,  3.9,  1.5,\n",
       "        1.3,  4.1,  8. ,  6. ,  3.6,  5.4,  5.6,  1. ,  2.1,  1.2,  6.5,\n",
       "        2.7,  4.7,  5.5,  1.1,  5.3,  4.4,  3.7,  6.7,  4.8,  1.7,  6.2,\n",
       "        8.3,  1.4,  6.1,  7. ,  8.4,  6.3,  nan,  6.6,  6.4,  0.9])"
      ]
     },
     "execution_count": 51,
     "metadata": {},
     "output_type": "execute_result"
    }
   ],
   "source": [
    "pd.unique(vehicles_non_hybrid.displ)"
   ]
  },
  {
   "cell_type": "code",
   "execution_count": 53,
   "metadata": {
    "collapsed": false
   },
   "outputs": [
    {
     "name": "stderr",
     "output_type": "stream",
     "text": [
      "C:\\Anaconda2\\lib\\site-packages\\pandas\\core\\generic.py:2701: SettingWithCopyWarning: \n",
      "A value is trying to be set on a copy of a slice from a DataFrame.\n",
      "Try using .loc[row_indexer,col_indexer] = value instead\n",
      "\n",
      "See the caveats in the documentation: http://pandas.pydata.org/pandas-docs/stable/indexing.html#indexing-view-versus-copy\n",
      "  self[name] = value\n"
     ]
    }
   ],
   "source": [
    "criteria = vehicles_non_hybrid.displ.notnull()\n",
    "vehicles_non_hybrid = vehicles_non_hybrid[criteria]\n",
    "vehicles_non_hybrid.displ = vehicles_non_hybrid.displ.astype('float')\n",
    "criteria = vehicles_non_hybrid.comb08.notnull()\n",
    "vehicles_non_hybrid = vehicles_non_hybrid[criteria]\n",
    "vehicles_non_hybrid.comb08 = vehicles_non_hybrid.comb08.astype('float')"
   ]
  },
  {
   "cell_type": "code",
   "execution_count": 54,
   "metadata": {
    "collapsed": false
   },
   "outputs": [
    {
     "data": {
      "image/png": "[encoded data removed]",
      "text/plain": [
       "<matplotlib.figure.Figure at 0xb47b550>"
      ]
     },
     "metadata": {},
     "output_type": "display_data"
    },
    {
     "name": "stdout",
     "output_type": "stream",
     "text": [
      "<ggplot: (11827997)>\n"
     ]
    }
   ],
   "source": [
    "print ggplot(vehicles_non_hybrid, aes('displ', 'comb08')) + geom_point(color='steelblue') + xlab(\"Engine Displacement\") + ylab(\"Average MPG\") + ggtitle(\"Gasoline cars\")"
   ]
  },
  {
   "cell_type": "code",
   "execution_count": 55,
   "metadata": {
    "collapsed": true
   },
   "outputs": [],
   "source": [
    "grouped_by_year = vehicles_non_hybrid.groupby(['year'])\n",
    "avg_grouped_by_year = grouped_by_year['displ', 'comb08'].agg([np.mean])"
   ]
  },
  {
   "cell_type": "code",
   "execution_count": 56,
   "metadata": {
    "collapsed": true
   },
   "outputs": [],
   "source": [
    "avg_grouped_by_year['year'] = avg_grouped_by_year.index\n",
    "melted_avg_grouped_by_year = pd.melt(avg_grouped_by_year,id_vars='year')"
   ]
  },
  {
   "cell_type": "code",
   "execution_count": 57,
   "metadata": {
    "collapsed": false
   },
   "outputs": [
    {
     "data": {
      "image/png": "[encoded data removed]",
      "text/plain": [
       "<matplotlib.figure.Figure at 0xf361860>"
      ]
     },
     "metadata": {},
     "output_type": "display_data"
    },
    {
     "data": {
      "text/plain": [
       "<ggplot: (11839299)>"
      ]
     },
     "execution_count": 57,
     "metadata": {},
     "output_type": "execute_result"
    }
   ],
   "source": [
    "p = ggplot(aes(x='year', y='value', color = 'variable_0'), data=melted_avg_grouped_by_year)\n",
    "p + geom_point() + facet_wrap(\"variable_0\")"
   ]
  },
  {
   "cell_type": "code",
   "execution_count": 58,
   "metadata": {
    "collapsed": true
   },
   "outputs": [],
   "source": [
    "#Investigating the makes and models of automobiles with Python"
   ]
  },
  {
   "cell_type": "code",
   "execution_count": 59,
   "metadata": {
    "collapsed": false
   },
   "outputs": [
    {
     "data": {
      "text/plain": [
       "array([  4.,  12.,   8.,   6.,   5.,  10.,   2.,   3.,  16.,  nan])"
      ]
     },
     "execution_count": 59,
     "metadata": {},
     "output_type": "execute_result"
    }
   ],
   "source": [
    "pd.unique(vehicles_non_hybrid.cylinders)"
   ]
  },
  {
   "cell_type": "code",
   "execution_count": 60,
   "metadata": {
    "collapsed": false
   },
   "outputs": [
    {
     "data": {
      "text/plain": [
       "array([  4.,  12.,   8.,   6.,   5.,  10.,   2.,   3.,  16.,  nan])"
      ]
     },
     "execution_count": 60,
     "metadata": {},
     "output_type": "execute_result"
    }
   ],
   "source": [
    "vehicles_non_hybrid.cylinders = vehicles_non_hybrid.cylinders.astype('float')\n",
    "pd.unique(vehicles_non_hybrid.cylinders)"
   ]
  },
  {
   "cell_type": "code",
   "execution_count": 61,
   "metadata": {
    "collapsed": true
   },
   "outputs": [],
   "source": [
    "vehicles_non_hybrid_4 = vehicles_non_hybrid[(vehicles_non_hybrid.cylinders == 4.0)]"
   ]
  },
  {
   "cell_type": "code",
   "execution_count": 64,
   "metadata": {
    "collapsed": false
   },
   "outputs": [
    {
     "name": "stdout",
     "output_type": "stream",
     "text": [
      "Axes(0.125,0.125;0.775x0.775)\n"
     ]
    },
    {
     "data": {
      "image/png": "[encoded data removed]",
      "text/plain": [
       "<matplotlib.figure.Figure at 0xe719f28>"
      ]
     },
     "metadata": {},
     "output_type": "display_data"
    }
   ],
   "source": [
    "grouped_by_year_4_cylinder = vehicles_non_hybrid_4.groupby(['year']).make.nunique()\n",
    "fig = grouped_by_year_4_cylinder.plot()\n",
    "fig.set_xlabel('Year')\n",
    "fig.set_ylabel('Number of 4-Cylinder Makes')\n",
    "print fig"
   ]
  },
  {
   "cell_type": "code",
   "execution_count": 92,
   "metadata": {
    "collapsed": false
   },
   "outputs": [],
   "source": [
    "grouped_by_year_4_cylinder = vehicles_non_hybrid_4.groupby(['year'])\n",
    "unique_makes = []"
   ]
  },
  {
   "cell_type": "code",
   "execution_count": 96,
   "metadata": {
    "collapsed": false
   },
   "outputs": [
    {
     "ename": "AttributeError",
     "evalue": "'set' object has no attribute 'append'",
     "output_type": "error",
     "traceback": [
      "\u001b[1;31m---------------------------------------------------------------------------\u001b[0m",
      "\u001b[1;31mAttributeError\u001b[0m                            Traceback (most recent call last)",
      "\u001b[1;32m<ipython-input-96-1e8516b06793>\u001b[0m in \u001b[0;36m<module>\u001b[1;34m()\u001b[0m\n\u001b[0;32m      1\u001b[0m \u001b[1;32mfor\u001b[0m \u001b[0mname\u001b[0m\u001b[1;33m,\u001b[0m \u001b[0mgroup\u001b[0m \u001b[1;32min\u001b[0m \u001b[0mgrouped_by_year_4_cylinder\u001b[0m\u001b[1;33m:\u001b[0m\u001b[1;33m\u001b[0m\u001b[0m\n\u001b[1;32m----> 2\u001b[1;33m     \u001b[0munique_makes\u001b[0m\u001b[1;33m.\u001b[0m\u001b[0mappend\u001b[0m\u001b[1;33m(\u001b[0m\u001b[0mset\u001b[0m\u001b[1;33m(\u001b[0m\u001b[0mpd\u001b[0m\u001b[1;33m.\u001b[0m\u001b[0munique\u001b[0m\u001b[1;33m(\u001b[0m\u001b[0mgroup\u001b[0m\u001b[1;33m[\u001b[0m\u001b[1;34m'make'\u001b[0m\u001b[1;33m]\u001b[0m\u001b[1;33m)\u001b[0m\u001b[1;33m)\u001b[0m\u001b[1;33m)\u001b[0m\u001b[1;33m\u001b[0m\u001b[0m\n\u001b[0m\u001b[0;32m      3\u001b[0m     \u001b[0munique_makes\u001b[0m \u001b[1;33m=\u001b[0m \u001b[0mreduce\u001b[0m\u001b[1;33m(\u001b[0m\u001b[0mset\u001b[0m\u001b[1;33m.\u001b[0m\u001b[0mintersection\u001b[0m\u001b[1;33m,\u001b[0m \u001b[0munique_makes\u001b[0m\u001b[1;33m)\u001b[0m\u001b[1;33m\u001b[0m\u001b[0m\n\u001b[0;32m      4\u001b[0m \u001b[1;33m\u001b[0m\u001b[0m\n\u001b[0;32m      5\u001b[0m \u001b[1;32mprint\u001b[0m \u001b[0munique_makes\u001b[0m\u001b[1;33m\u001b[0m\u001b[0m\n",
      "\u001b[1;31mAttributeError\u001b[0m: 'set' object has no attribute 'append'"
     ]
    }
   ],
   "source": [
    "for name, group in grouped_by_year_4_cylinder:\n",
    "    unique_makes.append(set(pd.unique(group['make'])))\n",
    "    unique_makes = reduce(set.intersection, unique_makes)\n",
    "    \n",
    "print unique_makes"
   ]
  },
  {
   "cell_type": "code",
   "execution_count": 99,
   "metadata": {
    "collapsed": false
   },
   "outputs": [],
   "source": [
    "boolean_mask = []\n",
    "for index, row in vehicles_non_hybrid_4.iterrows():\n",
    "    make = row['make']\n",
    "    boolean_mask.append(make in unique_makes)\n",
    "\n",
    "df_common_makes = vehicles_non_hybrid_4[boolean_mask]"
   ]
  },
  {
   "cell_type": "code",
   "execution_count": 100,
   "metadata": {
    "collapsed": true
   },
   "outputs": [],
   "source": [
    "df_common_makes_grouped = df_common_makes.groupby(['year','make']).agg(np.mean).reset_index()"
   ]
  },
  {
   "cell_type": "code",
   "execution_count": 101,
   "metadata": {
    "collapsed": false
   },
   "outputs": [
    {
     "data": {
      "image/png": "[encoded data removed]",
      "text/plain": [
       "<matplotlib.figure.Figure at 0xefe36a0>"
      ]
     },
     "metadata": {},
     "output_type": "display_data"
    },
    {
     "data": {
      "text/plain": [
       "<ggplot: (15717941)>"
      ]
     },
     "execution_count": 101,
     "metadata": {},
     "output_type": "execute_result"
    }
   ],
   "source": [
    "ggplot(aes(x='year', y='comb08'), data = df_common_makes_grouped) + geom_line() + facet_wrap('make')"
   ]
  },
  {
   "cell_type": "code",
   "execution_count": null,
   "metadata": {
    "collapsed": true
   },
   "outputs": [],
   "source": []
  }
 ],
 "metadata": {
  "anaconda-cloud": {},
  "kernelspec": {
   "display_name": "Python 2",
   "language": "python",
   "name": "python2"
  },
  "language_info": {
   "codemirror_mode": {
    "name": "ipython",
    "version": 2
   },
   "file_extension": ".py",
   "mimetype": "text/x-python",
   "name": "python",
   "nbconvert_exporter": "python",
   "pygments_lexer": "ipython2",
   "version": "2.7.12"
  }
 },
 "nbformat": 4,
 "nbformat_minor": 0
}
