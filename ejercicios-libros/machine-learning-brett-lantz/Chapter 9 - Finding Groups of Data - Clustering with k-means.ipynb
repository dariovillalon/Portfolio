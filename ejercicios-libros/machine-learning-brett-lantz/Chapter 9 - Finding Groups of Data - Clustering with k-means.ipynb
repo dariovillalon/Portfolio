{
 "cells": [
  {
   "cell_type": "code",
   "execution_count": 1,
   "metadata": {
    "collapsed": true
   },
   "outputs": [],
   "source": [
    "## Machine Learning with R by Brett Lantz\n",
    "## Chapter 9: Finding Groups of Data - Clustering with k-means"
   ]
  },
  {
   "cell_type": "code",
   "execution_count": 2,
   "metadata": {
    "collapsed": true
   },
   "outputs": [],
   "source": [
    "#Example: Finding teen market segments using k-means clustering"
   ]
  },
  {
   "cell_type": "code",
   "execution_count": 5,
   "metadata": {
    "collapsed": false
   },
   "outputs": [
    {
     "data": {
      "text/html": [
       "<table>\n",
       "<thead><tr><th></th><th scope=col>gradyear</th><th scope=col>gender</th><th scope=col>age</th><th scope=col>friends</th><th scope=col>basketball</th><th scope=col>football</th><th scope=col>soccer</th><th scope=col>softball</th><th scope=col>volleyball</th><th scope=col>swimming</th><th scope=col>ellip.h</th><th scope=col>blonde</th><th scope=col>mall</th><th scope=col>shopping</th><th scope=col>clothes</th><th scope=col>hollister</th><th scope=col>abercrombie</th><th scope=col>die</th><th scope=col>death</th><th scope=col>drunk</th><th scope=col>drugs</th></tr></thead>\n",
       "<tbody>\n",
       "\t<tr><th scope=row>1</th><td>2006</td><td>M</td><td>18.982</td><td>7</td><td>0</td><td>0</td><td>0</td><td>0</td><td>0</td><td>0</td><td><e2><8b><af></td><td>0</td><td>0</td><td>0</td><td>0</td><td>0</td><td>0</td><td>0</td><td>0</td><td>0</td><td>0</td></tr>\n",
       "\t<tr><th scope=row>2</th><td>2006</td><td>F</td><td>18.801</td><td>0</td><td>0</td><td>1</td><td>0</td><td>0</td><td>0</td><td>0</td><td><e2><8b><af></td><td>0</td><td>1</td><td>0</td><td>0</td><td>0</td><td>0</td><td>0</td><td>0</td><td>0</td><td>0</td></tr>\n",
       "\t<tr><th scope=row>3</th><td>2006</td><td>M</td><td>18.335</td><td>69</td><td>0</td><td>1</td><td>0</td><td>0</td><td>0</td><td>0</td><td><e2><8b><af></td><td>0</td><td>0</td><td>0</td><td>0</td><td>0</td><td>0</td><td>0</td><td>1</td><td>0</td><td>0</td></tr>\n",
       "\t<tr><th scope=row>4</th><td>2006</td><td>F</td><td>18.875</td><td>0</td><td>0</td><td>0</td><td>0</td><td>0</td><td>0</td><td>0</td><td><e2><8b><af></td><td>0</td><td>0</td><td>0</td><td>0</td><td>0</td><td>0</td><td>0</td><td>0</td><td>0</td><td>0</td></tr>\n",
       "\t<tr><th scope=row>5</th><td>2006</td><td>NA</td><td>18.995</td><td>10</td><td>0</td><td>0</td><td>0</td><td>0</td><td>0</td><td>0</td><td><e2><8b><af></td><td>0</td><td>0</td><td>2</td><td>0</td><td>0</td><td>0</td><td>0</td><td>0</td><td>1</td><td>1</td></tr>\n",
       "\t<tr><th scope=row>6</th><td>2006</td><td>F</td><td>NA</td><td>142</td><td>0</td><td>0</td><td>0</td><td>0</td><td>0</td><td>0</td><td><e2><8b><af></td><td>0</td><td>0</td><td>1</td><td>0</td><td>0</td><td>0</td><td>0</td><td>0</td><td>1</td><td>0</td></tr>\n",
       "</tbody>\n",
       "</table>\n"
      ],
      "text/latex": [
       "\\begin{tabular}{r|llllllllllllllllllllllllllllllllllllllll}\n",
       "  & gradyear & gender & age & friends & basketball & football & soccer & softball & volleyball & swimming & ellip.h & blonde & mall & shopping & clothes & hollister & abercrombie & die & death & drunk & drugs\\\\\n",
       "\\hline\n",
       "\t1 & 2006 & M & 18.982 & 7 & 0 & 0 & 0 & 0 & 0 & 0 & <e2><8b><af> & 0 & 0 & 0 & 0 & 0 & 0 & 0 & 0 & 0 & 0\\\\\n",
       "\t2 & 2006 & F & 18.801 & 0 & 0 & 1 & 0 & 0 & 0 & 0 & <e2><8b><af> & 0 & 1 & 0 & 0 & 0 & 0 & 0 & 0 & 0 & 0\\\\\n",
       "\t3 & 2006 & M & 18.335 & 69 & 0 & 1 & 0 & 0 & 0 & 0 & <e2><8b><af> & 0 & 0 & 0 & 0 & 0 & 0 & 0 & 1 & 0 & 0\\\\\n",
       "\t4 & 2006 & F & 18.875 & 0 & 0 & 0 & 0 & 0 & 0 & 0 & <e2><8b><af> & 0 & 0 & 0 & 0 & 0 & 0 & 0 & 0 & 0 & 0\\\\\n",
       "\t5 & 2006 & NA & 18.995 & 10 & 0 & 0 & 0 & 0 & 0 & 0 & <e2><8b><af> & 0 & 0 & 2 & 0 & 0 & 0 & 0 & 0 & 1 & 1\\\\\n",
       "\t6 & 2006 & F & NA & 142 & 0 & 0 & 0 & 0 & 0 & 0 & <e2><8b><af> & 0 & 0 & 1 & 0 & 0 & 0 & 0 & 0 & 1 & 0\\\\\n",
       "\\end{tabular}\n"
      ],
      "text/plain": [
       "  gradyear gender    age friends basketball football soccer softball volleyball\n",
       "1     2006      M 18.982       7          0        0      0        0          0\n",
       "2     2006      F 18.801       0          0        1      0        0          0\n",
       "3     2006      M 18.335      69          0        1      0        0          0\n",
       "4     2006      F 18.875       0          0        0      0        0          0\n",
       "5     2006   <NA> 18.995      10          0        0      0        0          0\n",
       "6     2006      F     NA     142          0        0      0        0          0\n",
       "  swimming cheerleading baseball tennis sports cute sex sexy hot kissed dance\n",
       "1        0            0        0      0      0    0   0    0   0      0     1\n",
       "2        0            0        0      0      0    1   0    0   0      0     0\n",
       "3        0            0        0      0      0    0   0    0   0      0     0\n",
       "4        0            0        0      0      0    1   0    0   0      0     0\n",
       "5        0            0        0      0      0    0   1    0   0      5     1\n",
       "6        0            0        0      0      0    0   1    0   0      0     0\n",
       "  band marching music rock god church jesus bible hair dress blonde mall\n",
       "1    0        0     0    0   0      0     0     0    0     0      0    0\n",
       "2    0        0     2    2   1      0     0     0    6     4      0    1\n",
       "3    2        0     1    0   0      0     0     0    0     0      0    0\n",
       "4    0        0     0    1   0      0     0     0    0     0      0    0\n",
       "5    1        0     3    0   1      0     0     0    1     0      0    0\n",
       "6    0        1     2    0   0      0     0     0    0     1      0    0\n",
       "  shopping clothes hollister abercrombie die death drunk drugs\n",
       "1        0       0         0           0   0     0     0     0\n",
       "2        0       0         0           0   0     0     0     0\n",
       "3        0       0         0           0   0     1     0     0\n",
       "4        0       0         0           0   0     0     0     0\n",
       "5        2       0         0           0   0     0     1     1\n",
       "6        1       0         0           0   0     0     1     0"
      ]
     },
     "execution_count": 5,
     "metadata": {},
     "output_type": "execute_result"
    },
    {
     "name": "stdout",
     "output_type": "stream",
     "text": [
      "'data.frame':\t30000 obs. of  40 variables:\n",
      " $ gradyear    : int  2006 2006 2006 2006 2006 2006 2006 2006 2006 2006 ...\n",
      " $ gender      : Factor w/ 2 levels \"F\",\"M\": 2 1 2 1 NA 1 1 2 1 1 ...\n",
      " $ age         : num  19 18.8 18.3 18.9 19 ...\n",
      " $ friends     : int  7 0 69 0 10 142 72 17 52 39 ...\n",
      " $ basketball  : int  0 0 0 0 0 0 0 0 0 0 ...\n",
      " $ football    : int  0 1 1 0 0 0 0 0 0 0 ...\n",
      " $ soccer      : int  0 0 0 0 0 0 0 0 0 0 ...\n",
      " $ softball    : int  0 0 0 0 0 0 0 1 0 0 ...\n",
      " $ volleyball  : int  0 0 0 0 0 0 0 0 0 0 ...\n",
      " $ swimming    : int  0 0 0 0 0 0 0 0 0 0 ...\n",
      " $ cheerleading: int  0 0 0 0 0 0 0 0 0 0 ...\n",
      " $ baseball    : int  0 0 0 0 0 0 0 0 0 0 ...\n",
      " $ tennis      : int  0 0 0 0 0 0 0 0 0 0 ...\n",
      " $ sports      : int  0 0 0 0 0 0 0 0 0 0 ...\n",
      " $ cute        : int  0 1 0 1 0 0 0 0 0 1 ...\n",
      " $ sex         : int  0 0 0 0 1 1 0 2 0 0 ...\n",
      " $ sexy        : int  0 0 0 0 0 0 0 1 0 0 ...\n",
      " $ hot         : int  0 0 0 0 0 0 0 0 0 1 ...\n",
      " $ kissed      : int  0 0 0 0 5 0 0 0 0 0 ...\n",
      " $ dance       : int  1 0 0 0 1 0 0 0 0 0 ...\n",
      " $ band        : int  0 0 2 0 1 0 1 0 0 0 ...\n",
      " $ marching    : int  0 0 0 0 0 1 1 0 0 0 ...\n",
      " $ music       : int  0 2 1 0 3 2 0 1 0 1 ...\n",
      " $ rock        : int  0 2 0 1 0 0 0 1 0 1 ...\n",
      " $ god         : int  0 1 0 0 1 0 0 0 0 6 ...\n",
      " $ church      : int  0 0 0 0 0 0 0 0 0 0 ...\n",
      " $ jesus       : int  0 0 0 0 0 0 0 0 0 2 ...\n",
      " $ bible       : int  0 0 0 0 0 0 0 0 0 0 ...\n",
      " $ hair        : int  0 6 0 0 1 0 0 0 0 1 ...\n",
      " $ dress       : int  0 4 0 0 0 1 0 0 0 0 ...\n",
      " $ blonde      : int  0 0 0 0 0 0 0 0 0 0 ...\n",
      " $ mall        : int  0 1 0 0 0 0 2 0 0 0 ...\n",
      " $ shopping    : int  0 0 0 0 2 1 0 0 0 1 ...\n",
      " $ clothes     : int  0 0 0 0 0 0 0 0 0 0 ...\n",
      " $ hollister   : int  0 0 0 0 0 0 2 0 0 0 ...\n",
      " $ abercrombie : int  0 0 0 0 0 0 0 0 0 0 ...\n",
      " $ die         : int  0 0 0 0 0 0 0 0 0 0 ...\n",
      " $ death       : int  0 0 1 0 0 0 0 0 0 0 ...\n",
      " $ drunk       : int  0 0 0 0 1 1 0 0 0 0 ...\n",
      " $ drugs       : int  0 0 0 0 1 0 0 0 0 0 ...\n"
     ]
    }
   ],
   "source": [
    "#Step 1: Collecting data\n",
    "#Step 2: Preparing and exploring data\n",
    "teens <- read.csv(\"snsdata.csv\")\n",
    "head(teens)\n",
    "str(teens)"
   ]
  },
  {
   "cell_type": "code",
   "execution_count": 9,
   "metadata": {
    "collapsed": false
   },
   "outputs": [
    {
     "data": {
      "text/plain": [
       "\n",
       "    F     M  <NA> \n",
       "22054  5222  2724 "
      ]
     },
     "execution_count": 9,
     "metadata": {},
     "output_type": "execute_result"
    }
   ],
   "source": [
    "#check if missing values on genre\n",
    "table(teens$gender, useNA = \"ifany\")"
   ]
  },
  {
   "cell_type": "code",
   "execution_count": 10,
   "metadata": {
    "collapsed": false
   },
   "outputs": [
    {
     "data": {
      "text/plain": [
       "   Min. 1st Qu.  Median    Mean 3rd Qu.    Max.    NA's \n",
       "  3.086  16.310  17.290  17.990  18.260 106.900    5086 "
      ]
     },
     "execution_count": 10,
     "metadata": {},
     "output_type": "execute_result"
    }
   ],
   "source": [
    "#Check if there are missing values on age\n",
    "#Check max and min \n",
    "summary(teens$age)"
   ]
  },
  {
   "cell_type": "code",
   "execution_count": 13,
   "metadata": {
    "collapsed": false
   },
   "outputs": [
    {
     "data": {
      "text/plain": [
       "   Min. 1st Qu.  Median    Mean 3rd Qu.    Max.    NA's \n",
       "  13.03   16.30   17.26   17.25   18.22   20.00    5523 "
      ]
     },
     "execution_count": 13,
     "metadata": {},
     "output_type": "execute_result"
    }
   ],
   "source": [
    "#We'll treat non-teenagers as missing values\n",
    "teens$age <- ifelse(teens$age >= 13 & teens$age <20, teens$age, NA )\n",
    "summary(teens$age)"
   ]
  },
  {
   "cell_type": "code",
   "execution_count": 15,
   "metadata": {
    "collapsed": false
   },
   "outputs": [],
   "source": [
    "#Data preparation - dummy coding missing values\n",
    "teens$female <- ifelse(teens$gender == \"F\" & !is.na(teens$gender), 1, 0)\n",
    "teens$nogender <- ifelse(is.na(teens$gender), 1, 0)"
   ]
  },
  {
   "cell_type": "code",
   "execution_count": 18,
   "metadata": {
    "collapsed": false
   },
   "outputs": [
    {
     "data": {
      "text/plain": [
       "\n",
       "    F     M  <NA> \n",
       "22054  5222  2724 "
      ]
     },
     "execution_count": 18,
     "metadata": {},
     "output_type": "execute_result"
    },
    {
     "data": {
      "text/plain": [
       "\n",
       "    0     1 \n",
       " 7946 22054 "
      ]
     },
     "execution_count": 18,
     "metadata": {},
     "output_type": "execute_result"
    },
    {
     "data": {
      "text/plain": [
       "\n",
       "    0     1 \n",
       "27276  2724 "
      ]
     },
     "execution_count": 18,
     "metadata": {},
     "output_type": "execute_result"
    }
   ],
   "source": [
    "table(teens$gender, useNA = \"ifany\")\n",
    "table(teens$female, useNA = \"ifany\")\n",
    "table(teens$nogender, useNA = \"ifany\")"
   ]
  },
  {
   "cell_type": "code",
   "execution_count": 21,
   "metadata": {
    "collapsed": false
   },
   "outputs": [
    {
     "data": {
      "text/plain": [
       "[1] NA"
      ]
     },
     "execution_count": 21,
     "metadata": {},
     "output_type": "execute_result"
    },
    {
     "data": {
      "text/html": [
       "17.2524289332843"
      ],
      "text/latex": [
       "17.2524289332843"
      ],
      "text/markdown": [
       "17.2524289332843"
      ],
      "text/plain": [
       "[1] 17.25243"
      ]
     },
     "execution_count": 21,
     "metadata": {},
     "output_type": "execute_result"
    }
   ],
   "source": [
    "#Imputing missing values\n",
    "mean(teens$age)\n",
    "mean(teens$age, na.rm = TRUE)"
   ]
  },
  {
   "cell_type": "code",
   "execution_count": 25,
   "metadata": {
    "collapsed": false
   },
   "outputs": [
    {
     "data": {
      "text/html": [
       "<table>\n",
       "<thead><tr><th></th><th scope=col>gradyear</th><th scope=col>age</th></tr></thead>\n",
       "<tbody>\n",
       "\t<tr><th scope=row>1</th><td>2006</td><td>18.65586</td></tr>\n",
       "\t<tr><th scope=row>2</th><td>2007</td><td>17.70617</td></tr>\n",
       "\t<tr><th scope=row>3</th><td>2008</td><td>16.7677</td></tr>\n",
       "\t<tr><th scope=row>4</th><td>2009</td><td>15.81957</td></tr>\n",
       "</tbody>\n",
       "</table>\n"
      ],
      "text/latex": [
       "\\begin{tabular}{r|ll}\n",
       "  & gradyear & age\\\\\n",
       "\\hline\n",
       "\t1 & 2006 & 18.65586\\\\\n",
       "\t2 & 2007 & 17.70617\\\\\n",
       "\t3 & 2008 & 16.7677\\\\\n",
       "\t4 & 2009 & 15.81957\\\\\n",
       "\\end{tabular}\n"
      ],
      "text/plain": [
       "  gradyear      age\n",
       "1     2006 18.65586\n",
       "2     2007 17.70617\n",
       "3     2008 16.76770\n",
       "4     2009 15.81957"
      ]
     },
     "execution_count": 25,
     "metadata": {},
     "output_type": "execute_result"
    }
   ],
   "source": [
    "#Compute mean age by gradyear skipping NA values\n",
    "aggregate(data = teens, age ~ gradyear, mean, na.rm = TRUE)"
   ]
  },
  {
   "cell_type": "code",
   "execution_count": 26,
   "metadata": {
    "collapsed": true
   },
   "outputs": [],
   "source": [
    "ave_age <- ave(teens$age, teens$gradyear, FUN = function(x) mean(x, na.rm = TRUE))\n",
    "teens$age <- ifelse(is.na(teens$age), ave_age, teens$age)    "
   ]
  },
  {
   "cell_type": "code",
   "execution_count": 27,
   "metadata": {
    "collapsed": false
   },
   "outputs": [
    {
     "data": {
      "text/plain": [
       "   Min. 1st Qu.  Median    Mean 3rd Qu.    Max. \n",
       "  13.03   16.28   17.24   17.24   18.21   20.00 "
      ]
     },
     "execution_count": 27,
     "metadata": {},
     "output_type": "execute_result"
    }
   ],
   "source": [
    "summary(teens$age)"
   ]
  },
  {
   "cell_type": "code",
   "execution_count": 28,
   "metadata": {
    "collapsed": false
   },
   "outputs": [
    {
     "name": "stderr",
     "output_type": "stream",
     "text": [
      "Warning message:\n",
      ": package 'stats' is not available (for R version 3.2.3)"
     ]
    }
   ],
   "source": [
    "#Step 3: Training a model on the data\n",
    "install.packages(\"stats\", repos = \"https://cran.r-project.org\")\n",
    "library(stats)"
   ]
  },
  {
   "cell_type": "code",
   "execution_count": 30,
   "metadata": {
    "collapsed": false
   },
   "outputs": [
    {
     "data": {
      "text/html": [
       "<table>\n",
       "<thead><tr><th></th><th scope=col>basketball</th><th scope=col>football</th><th scope=col>soccer</th><th scope=col>softball</th><th scope=col>volleyball</th><th scope=col>swimming</th><th scope=col>cheerleading</th><th scope=col>baseball</th><th scope=col>tennis</th><th scope=col>sports</th><th scope=col>ellip.h</th><th scope=col>blonde</th><th scope=col>mall</th><th scope=col>shopping</th><th scope=col>clothes</th><th scope=col>hollister</th><th scope=col>abercrombie</th><th scope=col>die</th><th scope=col>death</th><th scope=col>drunk</th><th scope=col>drugs</th></tr></thead>\n",
       "<tbody>\n",
       "\t<tr><th scope=row>1</th><td>0</td><td>0</td><td>0</td><td>0</td><td>0</td><td>0</td><td>0</td><td>0</td><td>0</td><td>0</td><td><e2><8b><af></td><td>0</td><td>0</td><td>0</td><td>0</td><td>0</td><td>0</td><td>0</td><td>0</td><td>0</td><td>0</td></tr>\n",
       "\t<tr><th scope=row>2</th><td>0</td><td>1</td><td>0</td><td>0</td><td>0</td><td>0</td><td>0</td><td>0</td><td>0</td><td>0</td><td><e2><8b><af></td><td>0</td><td>1</td><td>0</td><td>0</td><td>0</td><td>0</td><td>0</td><td>0</td><td>0</td><td>0</td></tr>\n",
       "\t<tr><th scope=row>3</th><td>0</td><td>1</td><td>0</td><td>0</td><td>0</td><td>0</td><td>0</td><td>0</td><td>0</td><td>0</td><td><e2><8b><af></td><td>0</td><td>0</td><td>0</td><td>0</td><td>0</td><td>0</td><td>0</td><td>1</td><td>0</td><td>0</td></tr>\n",
       "\t<tr><th scope=row>4</th><td>0</td><td>0</td><td>0</td><td>0</td><td>0</td><td>0</td><td>0</td><td>0</td><td>0</td><td>0</td><td><e2><8b><af></td><td>0</td><td>0</td><td>0</td><td>0</td><td>0</td><td>0</td><td>0</td><td>0</td><td>0</td><td>0</td></tr>\n",
       "\t<tr><th scope=row>5</th><td>0</td><td>0</td><td>0</td><td>0</td><td>0</td><td>0</td><td>0</td><td>0</td><td>0</td><td>0</td><td><e2><8b><af></td><td>0</td><td>0</td><td>2</td><td>0</td><td>0</td><td>0</td><td>0</td><td>0</td><td>1</td><td>1</td></tr>\n",
       "\t<tr><th scope=row>6</th><td>0</td><td>0</td><td>0</td><td>0</td><td>0</td><td>0</td><td>0</td><td>0</td><td>0</td><td>0</td><td><e2><8b><af></td><td>0</td><td>0</td><td>1</td><td>0</td><td>0</td><td>0</td><td>0</td><td>0</td><td>1</td><td>0</td></tr>\n",
       "</tbody>\n",
       "</table>\n"
      ],
      "text/latex": [
       "\\begin{tabular}{r|llllllllllllllllllllllllllllllllllll}\n",
       "  & basketball & football & soccer & softball & volleyball & swimming & cheerleading & baseball & tennis & sports & ellip.h & blonde & mall & shopping & clothes & hollister & abercrombie & die & death & drunk & drugs\\\\\n",
       "\\hline\n",
       "\t1 & 0 & 0 & 0 & 0 & 0 & 0 & 0 & 0 & 0 & 0 & <e2><8b><af> & 0 & 0 & 0 & 0 & 0 & 0 & 0 & 0 & 0 & 0\\\\\n",
       "\t2 & 0 & 1 & 0 & 0 & 0 & 0 & 0 & 0 & 0 & 0 & <e2><8b><af> & 0 & 1 & 0 & 0 & 0 & 0 & 0 & 0 & 0 & 0\\\\\n",
       "\t3 & 0 & 1 & 0 & 0 & 0 & 0 & 0 & 0 & 0 & 0 & <e2><8b><af> & 0 & 0 & 0 & 0 & 0 & 0 & 0 & 1 & 0 & 0\\\\\n",
       "\t4 & 0 & 0 & 0 & 0 & 0 & 0 & 0 & 0 & 0 & 0 & <e2><8b><af> & 0 & 0 & 0 & 0 & 0 & 0 & 0 & 0 & 0 & 0\\\\\n",
       "\t5 & 0 & 0 & 0 & 0 & 0 & 0 & 0 & 0 & 0 & 0 & <e2><8b><af> & 0 & 0 & 2 & 0 & 0 & 0 & 0 & 0 & 1 & 1\\\\\n",
       "\t6 & 0 & 0 & 0 & 0 & 0 & 0 & 0 & 0 & 0 & 0 & <e2><8b><af> & 0 & 0 & 1 & 0 & 0 & 0 & 0 & 0 & 1 & 0\\\\\n",
       "\\end{tabular}\n"
      ],
      "text/plain": [
       "  basketball football soccer softball volleyball swimming cheerleading baseball\n",
       "1          0        0      0        0          0        0            0        0\n",
       "2          0        1      0        0          0        0            0        0\n",
       "3          0        1      0        0          0        0            0        0\n",
       "4          0        0      0        0          0        0            0        0\n",
       "5          0        0      0        0          0        0            0        0\n",
       "6          0        0      0        0          0        0            0        0\n",
       "  tennis sports cute sex sexy hot kissed dance band marching music rock god\n",
       "1      0      0    0   0    0   0      0     1    0        0     0    0   0\n",
       "2      0      0    1   0    0   0      0     0    0        0     2    2   1\n",
       "3      0      0    0   0    0   0      0     0    2        0     1    0   0\n",
       "4      0      0    1   0    0   0      0     0    0        0     0    1   0\n",
       "5      0      0    0   1    0   0      5     1    1        0     3    0   1\n",
       "6      0      0    0   1    0   0      0     0    0        1     2    0   0\n",
       "  church jesus bible hair dress blonde mall shopping clothes hollister\n",
       "1      0     0     0    0     0      0    0        0       0         0\n",
       "2      0     0     0    6     4      0    1        0       0         0\n",
       "3      0     0     0    0     0      0    0        0       0         0\n",
       "4      0     0     0    0     0      0    0        0       0         0\n",
       "5      0     0     0    1     0      0    0        2       0         0\n",
       "6      0     0     0    0     1      0    0        1       0         0\n",
       "  abercrombie die death drunk drugs\n",
       "1           0   0     0     0     0\n",
       "2           0   0     0     0     0\n",
       "3           0   0     1     0     0\n",
       "4           0   0     0     0     0\n",
       "5           0   0     0     1     1\n",
       "6           0   0     0     1     0"
      ]
     },
     "execution_count": 30,
     "metadata": {},
     "output_type": "execute_result"
    }
   ],
   "source": [
    "#The dataset should be all numeric\n",
    "#First let's just consider those features that denotes interests' teenagers\n",
    "interests <- teens[5:40]\n",
    "head(interests)"
   ]
  },
  {
   "cell_type": "code",
   "execution_count": 32,
   "metadata": {
    "collapsed": false
   },
   "outputs": [
    {
     "data": {
      "text/html": [
       "<table>\n",
       "<thead><tr><th></th><th scope=col>basketball</th><th scope=col>football</th><th scope=col>soccer</th><th scope=col>softball</th><th scope=col>volleyball</th><th scope=col>swimming</th><th scope=col>cheerleading</th><th scope=col>baseball</th><th scope=col>tennis</th><th scope=col>sports</th><th scope=col>ellip.h</th><th scope=col>blonde</th><th scope=col>mall</th><th scope=col>shopping</th><th scope=col>clothes</th><th scope=col>hollister</th><th scope=col>abercrombie</th><th scope=col>die</th><th scope=col>death</th><th scope=col>drunk</th><th scope=col>drugs</th></tr></thead>\n",
       "<tbody>\n",
       "\t<tr><th scope=row>1</th><td>-0.3322117</td><td>-0.3576914</td><td>-0.2428701</td><td>-0.2179242</td><td>-0.2236659</td><td>-0.2599662</td><td>-0.2073236</td><td>-0.2011273</td><td>-0.1689361</td><td>-0.2971184</td><td><e2><8b><af></td><td>-0.05093567</td><td>-0.3699086</td><td>-0.4873061</td><td>-0.3141926</td><td>-0.2014729</td><td>-0.1830287</td><td>-0.2947883</td><td>-0.2615258</td><td>-0.220399</td><td>-0.1749047</td></tr>\n",
       "\t<tr><th scope=row>2</th><td>-0.3322117</td><td>1.060031</td><td>-0.2428701</td><td>-0.2179242</td><td>-0.2236659</td><td>-0.2599662</td><td>-0.2073236</td><td>-0.2011273</td><td>-0.1689361</td><td>-0.2971184</td><td><e2><8b><af></td><td>-0.05093567</td><td>1.067374</td><td>-0.4873061</td><td>-0.3141926</td><td>-0.2014729</td><td>-0.1830287</td><td>-0.2947883</td><td>-0.2615258</td><td>-0.220399</td><td>-0.1749047</td></tr>\n",
       "\t<tr><th scope=row>3</th><td>-0.3322117</td><td>1.060031</td><td>-0.2428701</td><td>-0.2179242</td><td>-0.2236659</td><td>-0.2599662</td><td>-0.2073236</td><td>-0.2011273</td><td>-0.1689361</td><td>-0.2971184</td><td><e2><8b><af></td><td>-0.05093567</td><td>-0.3699086</td><td>-0.4873061</td><td>-0.3141926</td><td>-0.2014729</td><td>-0.1830287</td><td>-0.2947883</td><td>2.027874</td><td>-0.220399</td><td>-0.1749047</td></tr>\n",
       "\t<tr><th scope=row>4</th><td>-0.3322117</td><td>-0.3576914</td><td>-0.2428701</td><td>-0.2179242</td><td>-0.2236659</td><td>-0.2599662</td><td>-0.2073236</td><td>-0.2011273</td><td>-0.1689361</td><td>-0.2971184</td><td><e2><8b><af></td><td>-0.05093567</td><td>-0.3699086</td><td>-0.4873061</td><td>-0.3141926</td><td>-0.2014729</td><td>-0.1830287</td><td>-0.2947883</td><td>-0.2615258</td><td>-0.220399</td><td>-0.1749047</td></tr>\n",
       "\t<tr><th scope=row>5</th><td>-0.3322117</td><td>-0.3576914</td><td>-0.2428701</td><td>-0.2179242</td><td>-0.2236659</td><td>-0.2599662</td><td>-0.2073236</td><td>-0.2011273</td><td>-0.1689361</td><td>-0.2971184</td><td><e2><8b><af></td><td>-0.05093567</td><td>-0.3699086</td><td>2.273635</td><td>-0.3141926</td><td>-0.2014729</td><td>-0.1830287</td><td>-0.2947883</td><td>-0.2615258</td><td>2.285084</td><td>2.719271</td></tr>\n",
       "\t<tr><th scope=row>6</th><td>-0.3322117</td><td>-0.3576914</td><td>-0.2428701</td><td>-0.2179242</td><td>-0.2236659</td><td>-0.2599662</td><td>-0.2073236</td><td>-0.2011273</td><td>-0.1689361</td><td>-0.2971184</td><td><e2><8b><af></td><td>-0.05093567</td><td>-0.3699086</td><td>0.8931645</td><td>-0.3141926</td><td>-0.2014729</td><td>-0.1830287</td><td>-0.2947883</td><td>-0.2615258</td><td>2.285084</td><td>-0.1749047</td></tr>\n",
       "</tbody>\n",
       "</table>\n"
      ],
      "text/latex": [
       "\\begin{tabular}{r|llllllllllllllllllllllllllllllllllll}\n",
       "  & basketball & football & soccer & softball & volleyball & swimming & cheerleading & baseball & tennis & sports & ellip.h & blonde & mall & shopping & clothes & hollister & abercrombie & die & death & drunk & drugs\\\\\n",
       "\\hline\n",
       "\t1 & -0.3322117 & -0.3576914 & -0.2428701 & -0.2179242 & -0.2236659 & -0.2599662 & -0.2073236 & -0.2011273 & -0.1689361 & -0.2971184 & <e2><8b><af> & -0.05093567 & -0.3699086 & -0.4873061 & -0.3141926 & -0.2014729 & -0.1830287 & -0.2947883 & -0.2615258 & -0.220399 & -0.1749047\\\\\n",
       "\t2 & -0.3322117 & 1.060031 & -0.2428701 & -0.2179242 & -0.2236659 & -0.2599662 & -0.2073236 & -0.2011273 & -0.1689361 & -0.2971184 & <e2><8b><af> & -0.05093567 & 1.067374 & -0.4873061 & -0.3141926 & -0.2014729 & -0.1830287 & -0.2947883 & -0.2615258 & -0.220399 & -0.1749047\\\\\n",
       "\t3 & -0.3322117 & 1.060031 & -0.2428701 & -0.2179242 & -0.2236659 & -0.2599662 & -0.2073236 & -0.2011273 & -0.1689361 & -0.2971184 & <e2><8b><af> & -0.05093567 & -0.3699086 & -0.4873061 & -0.3141926 & -0.2014729 & -0.1830287 & -0.2947883 & 2.027874 & -0.220399 & -0.1749047\\\\\n",
       "\t4 & -0.3322117 & -0.3576914 & -0.2428701 & -0.2179242 & -0.2236659 & -0.2599662 & -0.2073236 & -0.2011273 & -0.1689361 & -0.2971184 & <e2><8b><af> & -0.05093567 & -0.3699086 & -0.4873061 & -0.3141926 & -0.2014729 & -0.1830287 & -0.2947883 & -0.2615258 & -0.220399 & -0.1749047\\\\\n",
       "\t5 & -0.3322117 & -0.3576914 & -0.2428701 & -0.2179242 & -0.2236659 & -0.2599662 & -0.2073236 & -0.2011273 & -0.1689361 & -0.2971184 & <e2><8b><af> & -0.05093567 & -0.3699086 & 2.273635 & -0.3141926 & -0.2014729 & -0.1830287 & -0.2947883 & -0.2615258 & 2.285084 & 2.719271\\\\\n",
       "\t6 & -0.3322117 & -0.3576914 & -0.2428701 & -0.2179242 & -0.2236659 & -0.2599662 & -0.2073236 & -0.2011273 & -0.1689361 & -0.2971184 & <e2><8b><af> & -0.05093567 & -0.3699086 & 0.8931645 & -0.3141926 & -0.2014729 & -0.1830287 & -0.2947883 & -0.2615258 & 2.285084 & -0.1749047\\\\\n",
       "\\end{tabular}\n"
      ],
      "text/plain": [
       "  basketball   football     soccer   softball volleyball   swimming\n",
       "1 -0.3322117 -0.3576914 -0.2428701 -0.2179242 -0.2236659 -0.2599662\n",
       "2 -0.3322117  1.0600312 -0.2428701 -0.2179242 -0.2236659 -0.2599662\n",
       "3 -0.3322117  1.0600312 -0.2428701 -0.2179242 -0.2236659 -0.2599662\n",
       "4 -0.3322117 -0.3576914 -0.2428701 -0.2179242 -0.2236659 -0.2599662\n",
       "5 -0.3322117 -0.3576914 -0.2428701 -0.2179242 -0.2236659 -0.2599662\n",
       "6 -0.3322117 -0.3576914 -0.2428701 -0.2179242 -0.2236659 -0.2599662\n",
       "  cheerleading   baseball     tennis     sports       cute        sex\n",
       "1   -0.2073236 -0.2011273 -0.1689361 -0.2971184 -0.4023555 -0.1863812\n",
       "2   -0.2073236 -0.2011273 -0.1689361 -0.2971184  0.8438417 -0.1863812\n",
       "3   -0.2073236 -0.2011273 -0.1689361 -0.2971184 -0.4023555 -0.1863812\n",
       "4   -0.2073236 -0.2011273 -0.1689361 -0.2971184  0.8438417 -0.1863812\n",
       "5   -0.2073236 -0.2011273 -0.1689361 -0.2971184 -0.4023555  0.7036915\n",
       "6   -0.2073236 -0.2011273 -0.1689361 -0.2971184 -0.4023555  0.7036915\n",
       "        sexy        hot    kissed      dance       band   marching      music\n",
       "1 -0.2673182 -0.2642206 -0.202616  0.4944488 -0.2677903 -0.1414187 -0.5891515\n",
       "2 -0.2673182 -0.2642206 -0.202616 -0.3657115 -0.2677903 -0.1414187  1.0078256\n",
       "3 -0.2673182 -0.2642206 -0.202616 -0.3657115  1.5198620 -0.1414187  0.2093371\n",
       "4 -0.2673182 -0.2642206 -0.202616 -0.3657115 -0.2677903 -0.1414187 -0.5891515\n",
       "5 -0.2673182 -0.2642206  9.614050  0.4944488  0.6260359 -0.1414187  1.8063142\n",
       "6 -0.2673182 -0.2642206 -0.202616 -0.3657115 -0.2677903  3.3418014  1.0078256\n",
       "        rock        god     church      jesus      bible       hair      dress\n",
       "1 -0.3377872 -0.3464049 -0.2975519 -0.1926506 -0.1042455 -0.3848661 -0.2469018\n",
       "2  2.4385462  0.3980715 -0.2975519 -0.1926506 -0.1042455  5.0798257  8.6531327\n",
       "3 -0.3377872 -0.3464049 -0.2975519 -0.1926506 -0.1042455 -0.3848661 -0.2469018\n",
       "4  1.0503795 -0.3464049 -0.2975519 -0.1926506 -0.1042455 -0.3848661 -0.2469018\n",
       "5 -0.3377872  0.3980715 -0.2975519 -0.1926506 -0.1042455  0.5259159 -0.2469018\n",
       "6 -0.3377872 -0.3464049 -0.2975519 -0.1926506 -0.1042455 -0.3848661  1.9781068\n",
       "       blonde       mall   shopping    clothes  hollister abercrombie\n",
       "1 -0.05093567 -0.3699086 -0.4873061 -0.3141926 -0.2014729  -0.1830287\n",
       "2 -0.05093567  1.0673738 -0.4873061 -0.3141926 -0.2014729  -0.1830287\n",
       "3 -0.05093567 -0.3699086 -0.4873061 -0.3141926 -0.2014729  -0.1830287\n",
       "4 -0.05093567 -0.3699086 -0.4873061 -0.3141926 -0.2014729  -0.1830287\n",
       "5 -0.05093567 -0.3699086  2.2736351 -0.3141926 -0.2014729  -0.1830287\n",
       "6 -0.05093567 -0.3699086  0.8931645 -0.3141926 -0.2014729  -0.1830287\n",
       "         die      death     drunk      drugs\n",
       "1 -0.2947883 -0.2615258 -0.220399 -0.1749047\n",
       "2 -0.2947883 -0.2615258 -0.220399 -0.1749047\n",
       "3 -0.2947883  2.0278743 -0.220399 -0.1749047\n",
       "4 -0.2947883 -0.2615258 -0.220399 -0.1749047\n",
       "5 -0.2947883 -0.2615258  2.285084  2.7192710\n",
       "6 -0.2947883 -0.2615258  2.285084 -0.1749047"
      ]
     },
     "execution_count": 32,
     "metadata": {},
     "output_type": "execute_result"
    }
   ],
   "source": [
    "#We should scale by z-core technique using lapply and scale son larger values don't dominate\n",
    "interests_z <- as.data.frame(lapply(interests, scale))\n",
    "head(interests_z)"
   ]
  },
  {
   "cell_type": "code",
   "execution_count": 33,
   "metadata": {
    "collapsed": false
   },
   "outputs": [
    {
     "data": {
      "text/plain": [
       "             Length Class  Mode   \n",
       "cluster      30000  -none- numeric\n",
       "centers        180  -none- numeric\n",
       "totss            1  -none- numeric\n",
       "withinss         5  -none- numeric\n",
       "tot.withinss     1  -none- numeric\n",
       "betweenss        1  -none- numeric\n",
       "size             5  -none- numeric\n",
       "iter             1  -none- numeric\n",
       "ifault           1  -none- numeric"
      ]
     },
     "execution_count": 33,
     "metadata": {},
     "output_type": "execute_result"
    }
   ],
   "source": [
    "teen_clusters <- kmeans(interests_z, 5)\n",
    "summary(teen_clusters)"
   ]
  },
  {
   "cell_type": "code",
   "execution_count": 36,
   "metadata": {
    "collapsed": false
   },
   "outputs": [
    {
     "data": {
      "text/html": [
       "<ol class=list-inline>\n",
       "\t<li>1045</li>\n",
       "\t<li>865</li>\n",
       "\t<li>21538</li>\n",
       "\t<li>448</li>\n",
       "\t<li>6104</li>\n",
       "</ol>\n"
      ],
      "text/latex": [
       "\\begin{enumerate*}\n",
       "\\item 1045\n",
       "\\item 865\n",
       "\\item 21538\n",
       "\\item 448\n",
       "\\item 6104\n",
       "\\end{enumerate*}\n"
      ],
      "text/markdown": [
       "1. 1045\n",
       "2. 865\n",
       "3. 21538\n",
       "4. 448\n",
       "5. 6104\n",
       "\n",
       "\n"
      ],
      "text/plain": [
       "[1]  1045   865 21538   448  6104"
      ]
     },
     "execution_count": 36,
     "metadata": {},
     "output_type": "execute_result"
    },
    {
     "data": {
      "text/html": [
       "<table>\n",
       "<thead><tr><th></th><th scope=col>basketball</th><th scope=col>football</th><th scope=col>soccer</th><th scope=col>softball</th><th scope=col>volleyball</th><th scope=col>swimming</th><th scope=col>cheerleading</th><th scope=col>baseball</th><th scope=col>tennis</th><th scope=col>sports</th><th scope=col></th><th scope=col>blonde</th><th scope=col>mall</th><th scope=col>shopping</th><th scope=col>clothes</th><th scope=col>hollister</th><th scope=col>abercrombie</th><th scope=col>die</th><th scope=col>death</th><th scope=col>drunk</th><th scope=col>drugs</th></tr></thead>\n",
       "<tbody>\n",
       "\t<tr><th scope=row>1</th><td>0.332536768403742 </td><td>0.359988250776662 </td><td>0.125413375952348 </td><td>0.165002661186523 </td><td>0.109797032667434 </td><td>0.265711672842304 </td><td>0.185250787993477 </td><td>0.275758695695738 </td><td>0.0531939806729629</td><td>0.785600911744181 </td><td><e2><8b><af>      </td><td>0.366362497250728 </td><td>0.614870528202528 </td><td>0.264356815846442 </td><td>1.22050377305789  </td><td>0.154502547831156 </td><td>0.258547318763069 </td><td>1.69718501683948  </td><td>0.923704293556115 </td><td>1.8798908859951   </td><td>2.7331187323661   </td></tr>\n",
       "\t<tr><th scope=row>2</th><td>0.159116645759225 </td><td>0.235621393758306 </td><td>0.103739357136903 </td><td>0.0649562173730987</td><td>0.177381643102623 </td><td>0.236459792169916 </td><td>0.395061887167999 </td><td>0.0271058177721962</td><td>0.0278566012063206</td><td>0.0906263436135761</td><td><e2><8b><af>      </td><td>0.0609620166964236</td><td>0.613757496000652 </td><td>0.789429688772518 </td><td>0.566361279310996 </td><td>4.14571209859379  </td><td>3.96476243252421  </td><td>0.0458223081629249</td><td>0.0984261183413327</td><td>0.034494076975784 </td><td>0.0358849902801541</td></tr>\n",
       "\t<tr><th scope=row>3</th><td>-0.164889178748075 </td><td>-0.163246587322126 </td><td>-0.0883791489449224</td><td>-0.11322795017053  </td><td>-0.114691735639493 </td><td>-0.107293591979164 </td><td>-0.111184535987488 </td><td>-0.108130381358217 </td><td>-0.119179934225852 </td><td>-0.127497099968252 </td><td><e2><8b><af>       </td><td>-0.0294697066946642</td><td>-0.187862588337058 </td><td>-0.229966095476345 </td><td>-0.189729492768666 </td><td>-0.155281593021098 </td><td>-0.149811977991784 </td><td>-0.0968822220128942</td><td>-0.0860313499457542</td><td>-0.089296771965477 </td><td>-0.113898287743507 </td></tr>\n",
       "\t<tr><th scope=row>4</th><td>0.10605744004794   </td><td>0.120157051147463  </td><td>0.112432726350475  </td><td>-0.0640263345617661</td><td>0.0379368116558175 </td><td>0.0983923015285166 </td><td>-0.0814670904371048</td><td>-4.335426172373e-05</td><td>6.4330083165284    </td><td>0.195669769631385  </td><td><e2><8b><af>       </td><td>0.0237633175061754 </td><td>-0.0747523697175859</td><td>0.0981613196101578 </td><td>0.0777925279985496 </td><td>-0.0727373237483488</td><td>0.0165867091156146 </td><td>-0.0696139129006557</td><td>0.0348697438548055 </td><td>-0.0638062942359785</td><td>-0.0650810530097855</td></tr>\n",
       "\t<tr><th scope=row>5</th><td>0.494549897964012   </td><td>0.472177983480689   </td><td>0.267422792722426   </td><td>0.36677137609581    </td><td>0.357972131415392   </td><td>0.292366188501947   </td><td>0.310595377909906   </td><td>0.330491023431905   </td><td>-0.0646746350419092 </td><td>0.288176235636034   </td><td><e2><8b><af>        </td><td>0.0308800167885904  </td><td>0.476119520515414   </td><td>0.64710418411449    </td><td>0.374543547388742   </td><td>-0.0606905072476989 </td><td>-0.078715910212632  </td><td>0.0499085339996598  </td><td>0.128917429677913   </td><td>-0.00695679194615464</td><td>-0.0663256813150065 </td></tr>\n",
       "</tbody>\n",
       "</table>\n"
      ],
      "text/latex": [
       "\\begin{tabular}{r|llllllllllllllllllllllllllllllllllll}\n",
       "  & basketball & football & soccer & softball & volleyball & swimming & cheerleading & baseball & tennis & sports &  & blonde & mall & shopping & clothes & hollister & abercrombie & die & death & drunk & drugs\\\\\n",
       "\\hline\n",
       "\t1 & 0.332536768403742  & 0.359988250776662  & 0.125413375952348  & 0.165002661186523  & 0.109797032667434  & 0.265711672842304  & 0.185250787993477  & 0.275758695695738  & 0.0531939806729629 & 0.785600911744181  & <e2><8b><af>       & 0.366362497250728  & 0.614870528202528  & 0.264356815846442  & 1.22050377305789   & 0.154502547831156  & 0.258547318763069  & 1.69718501683948   & 0.923704293556115  & 1.8798908859951    & 2.7331187323661   \\\\\n",
       "\t2 & 0.159116645759225  & 0.235621393758306  & 0.103739357136903  & 0.0649562173730987 & 0.177381643102623  & 0.236459792169916  & 0.395061887167999  & 0.0271058177721962 & 0.0278566012063206 & 0.0906263436135761 & <e2><8b><af>       & 0.0609620166964236 & 0.613757496000652  & 0.789429688772518  & 0.566361279310996  & 4.14571209859379   & 3.96476243252421   & 0.0458223081629249 & 0.0984261183413327 & 0.034494076975784  & 0.0358849902801541\\\\\n",
       "\t3 & -0.164889178748075  & -0.163246587322126  & -0.0883791489449224 & -0.11322795017053   & -0.114691735639493  & -0.107293591979164  & -0.111184535987488  & -0.108130381358217  & -0.119179934225852  & -0.127497099968252  & <e2><8b><af>        & -0.0294697066946642 & -0.187862588337058  & -0.229966095476345  & -0.189729492768666  & -0.155281593021098  & -0.149811977991784  & -0.0968822220128942 & -0.0860313499457542 & -0.089296771965477  & -0.113898287743507 \\\\\n",
       "\t4 & 0.10605744004794    & 0.120157051147463   & 0.112432726350475   & -0.0640263345617661 & 0.0379368116558175  & 0.0983923015285166  & -0.0814670904371048 & -4.335426172373e-05 & 6.4330083165284     & 0.195669769631385   & <e2><8b><af>        & 0.0237633175061754  & -0.0747523697175859 & 0.0981613196101578  & 0.0777925279985496  & -0.0727373237483488 & 0.0165867091156146  & -0.0696139129006557 & 0.0348697438548055  & -0.0638062942359785 & -0.0650810530097855\\\\\n",
       "\t5 & 0.494549897964012    & 0.472177983480689    & 0.267422792722426    & 0.36677137609581     & 0.357972131415392    & 0.292366188501947    & 0.310595377909906    & 0.330491023431905    & -0.0646746350419092  & 0.288176235636034    & <e2><8b><af>         & 0.0308800167885904   & 0.476119520515414    & 0.64710418411449     & 0.374543547388742    & -0.0606905072476989  & -0.078715910212632   & 0.0499085339996598   & 0.128917429677913    & -0.00695679194615464 & -0.0663256813150065 \\\\\n",
       "\\end{tabular}\n"
      ],
      "text/markdown": [
       "1. 0.332536768403742\n",
       "2. 0.159116645759225\n",
       "3. -0.164889178748075\n",
       "4. 0.10605744004794\n",
       "5. 0.494549897964012\n",
       "6. 0.359988250776662\n",
       "7. 0.235621393758306\n",
       "8. -0.163246587322126\n",
       "9. 0.120157051147463\n",
       "10. 0.472177983480689\n",
       "11. 0.125413375952348\n",
       "12. 0.103739357136903\n",
       "13. -0.0883791489449224\n",
       "14. 0.112432726350475\n",
       "15. 0.267422792722426\n",
       "16. 0.165002661186523\n",
       "17. 0.0649562173730987\n",
       "18. -0.11322795017053\n",
       "19. -0.0640263345617661\n",
       "20. 0.36677137609581\n",
       "21. 0.109797032667434\n",
       "22. 0.177381643102623\n",
       "23. -0.114691735639493\n",
       "24. 0.0379368116558175\n",
       "25. 0.357972131415392\n",
       "26. 0.265711672842304\n",
       "27. 0.236459792169916\n",
       "28. -0.107293591979164\n",
       "29. 0.0983923015285166\n",
       "30. 0.292366188501947\n",
       "31. 0.185250787993477\n",
       "32. 0.395061887167999\n",
       "33. -0.111184535987488\n",
       "34. -0.0814670904371048\n",
       "35. 0.310595377909906\n",
       "36. 0.275758695695738\n",
       "37. 0.0271058177721962\n",
       "38. -0.108130381358217\n",
       "39. -4.335426172373e-05\n",
       "40. 0.330491023431905\n",
       "41. 0.0531939806729629\n",
       "42. 0.0278566012063206\n",
       "43. -0.119179934225852\n",
       "44. 6.4330083165284\n",
       "45. -0.0646746350419092\n",
       "46. 0.785600911744181\n",
       "47. 0.0906263436135761\n",
       "48. -0.127497099968252\n",
       "49. 0.195669769631385\n",
       "50. 0.288176235636034\n",
       "51. 0.476541435536017\n",
       "52. 0.372735900836754\n",
       "53. -0.187519886743604\n",
       "54. 0.0204613711213383\n",
       "55. 0.525759218882852\n",
       "56. 2.03496788185046\n",
       "57. 0.0194159346374556\n",
       "58. -0.0988534229817444\n",
       "59. -0.0731353737983695\n",
       "60. 0.00303627975885123\n",
       "61. 0.52256712750275\n",
       "62. 0.117885455081113\n",
       "63. -0.0888813761304999\n",
       "64. -0.0517989894638544\n",
       "65. 0.21125154972027\n",
       "66. 0.316958010741908\n",
       "67. 0.408943605005565\n",
       "68. -0.137668061083387\n",
       "69. -0.00799787435548356\n",
       "70. 0.374135060250693\n",
       "71. 2.95562632316278\n",
       "72. 0.0720236892516935\n",
       "73. -0.135798123068081\n",
       "74. -0.0667603429549537\n",
       "75. -0.032143084964526\n",
       "76. 0.447530968907037\n",
       "77. 0.228942680563921\n",
       "78. -0.160995090135561\n",
       "79. -0.00859136282370114\n",
       "80. 0.45964218556481\n",
       "81. 0.465232679314077\n",
       "82. -0.0962583633116508\n",
       "83. -0.0921209850117949\n",
       "84. 0.0813605283206658\n",
       "85. 0.253071361873936\n",
       "86. 0.0952402372649671\n",
       "87. -0.0930966075280872\n",
       "88. -0.0571603243320724\n",
       "89. -0.024793063075054\n",
       "90. 0.200397915349289\n",
       "91. 1.15224124794798\n",
       "92. 0.132719103200583\n",
       "93. -0.156689355799621\n",
       "94. 0.0845732444083429\n",
       "95. 0.330601638817612\n",
       "96. 1.2376823589176\n",
       "97. 0.0634170189358387\n",
       "98. -0.128640563498258\n",
       "99. 0.0464374817968312\n",
       "100. 0.229623636686079\n",
       "101. 0.414457116531171\n",
       "102. 0.037452325153788\n",
       "103. -0.122660980831156\n",
       "104. 0.055745326668147\n",
       "105. 0.352456479482503\n",
       "106. 0.160248182934002\n",
       "107. -0.00369287417063716\n",
       "108. -0.159047252951716\n",
       "109. 0.181512917235517\n",
       "110. 0.520966076694541\n",
       "111. 0.123197951995117\n",
       "112. 0.0180101753067227\n",
       "113. -0.0876131084041892\n",
       "114. -0.000789954420595313\n",
       "115. 0.285557727214214\n",
       "116. 0.0874739544660888\n",
       "117. -0.0364558000732199\n",
       "118. -0.0720287692742026\n",
       "119. 0.0157357202638576\n",
       "120. 0.243189714055589\n",
       "121. 2.54706743266339\n",
       "122. 0.441681697532053\n",
       "123. -0.205568322317629\n",
       "124. -0.0229929076485856\n",
       "125. 0.228389779358953\n",
       "126. 0.543029500826481\n",
       "127. 0.149226912621204\n",
       "128. -0.145041891306698\n",
       "129. -0.0134745462678239\n",
       "130. 0.39865690431019\n",
       "131. 0.366362497250728\n",
       "132. 0.0609620166964236\n",
       "133. -0.0294697066946642\n",
       "134. 0.0237633175061754\n",
       "135. 0.0308800167885904\n",
       "136. 0.614870528202528\n",
       "137. 0.613757496000652\n",
       "138. -0.187862588337058\n",
       "139. -0.0747523697175859\n",
       "140. 0.476119520515414\n",
       "141. 0.264356815846442\n",
       "142. 0.789429688772518\n",
       "143. -0.229966095476345\n",
       "144. 0.0981613196101578\n",
       "145. 0.64710418411449\n",
       "146. 1.22050377305789\n",
       "147. 0.566361279310996\n",
       "148. -0.189729492768666\n",
       "149. 0.0777925279985496\n",
       "150. 0.374543547388742\n",
       "151. 0.154502547831156\n",
       "152. 4.14571209859379\n",
       "153. -0.155281593021098\n",
       "154. -0.0727373237483488\n",
       "155. -0.0606905072476989\n",
       "156. 0.258547318763069\n",
       "157. 3.96476243252421\n",
       "158. -0.149811977991784\n",
       "159. 0.0165867091156146\n",
       "160. -0.078715910212632\n",
       "161. 1.69718501683948\n",
       "162. 0.0458223081629249\n",
       "163. -0.0968822220128942\n",
       "164. -0.0696139129006557\n",
       "165. 0.0499085339996598\n",
       "166. 0.923704293556115\n",
       "167. 0.0984261183413327\n",
       "168. -0.0860313499457542\n",
       "169. 0.0348697438548055\n",
       "170. 0.128917429677913\n",
       "171. 1.8798908859951\n",
       "172. 0.034494076975784\n",
       "173. -0.089296771965477\n",
       "174. -0.0638062942359785\n",
       "175. -0.00695679194615464\n",
       "176. 2.7331187323661\n",
       "177. 0.0358849902801541\n",
       "178. -0.113898287743507\n",
       "179. -0.0650810530097855\n",
       "180. -0.0663256813150065\n",
       "\n",
       "\n"
      ],
      "text/plain": [
       "  basketball   football      soccer    softball  volleyball   swimming\n",
       "1  0.3325368  0.3599883  0.12541338  0.16500266  0.10979703  0.2657117\n",
       "2  0.1591166  0.2356214  0.10373936  0.06495622  0.17738164  0.2364598\n",
       "3 -0.1648892 -0.1632466 -0.08837915 -0.11322795 -0.11469174 -0.1072936\n",
       "4  0.1060574  0.1201571  0.11243273 -0.06402633  0.03793681  0.0983923\n",
       "5  0.4945499  0.4721780  0.26742279  0.36677138  0.35797213  0.2923662\n",
       "  cheerleading      baseball      tennis      sports        cute         sex\n",
       "1   0.18525079  2.757587e-01  0.05319398  0.78560091  0.47654144  2.03496788\n",
       "2   0.39506189  2.710582e-02  0.02785660  0.09062634  0.37273590  0.01941593\n",
       "3  -0.11118454 -1.081304e-01 -0.11917993 -0.12749710 -0.18751989 -0.09885342\n",
       "4  -0.08146709 -4.335426e-05  6.43300832  0.19566977  0.02046137 -0.07313537\n",
       "5   0.31059538  3.304910e-01 -0.06467464  0.28817624  0.52575922  0.00303628\n",
       "         sexy          hot      kissed        dance        band    marching\n",
       "1  0.52256713  0.316958011  2.95562632  0.447530969  0.46523268  0.09524024\n",
       "2  0.11788546  0.408943605  0.07202369  0.228942681 -0.09625836 -0.09309661\n",
       "3 -0.08888138 -0.137668061 -0.13579812 -0.160995090 -0.09212099 -0.05716032\n",
       "4 -0.05179899 -0.007997874 -0.06676034 -0.008591363  0.08136053 -0.02479306\n",
       "5  0.21125155  0.374135060 -0.03214308  0.459642186  0.25307136  0.20039792\n",
       "        music        rock         god       church         jesus       bible\n",
       "1  1.15224125  1.23768236  0.41445712  0.160248183  0.1231979520  0.08747395\n",
       "2  0.13271910  0.06341702  0.03745233 -0.003692874  0.0180101753 -0.03645580\n",
       "3 -0.15668936 -0.12864056 -0.12266098 -0.159047253 -0.0876131084 -0.07202877\n",
       "4  0.08457324  0.04643748  0.05574533  0.181512917 -0.0007899544  0.01573572\n",
       "5  0.33060164  0.22962364  0.35245648  0.520966077  0.2855577272  0.24318971\n",
       "         hair       dress      blonde        mall    shopping     clothes\n",
       "1  2.54706743  0.54302950  0.36636250  0.61487053  0.26435682  1.22050377\n",
       "2  0.44168170  0.14922691  0.06096202  0.61375750  0.78942969  0.56636128\n",
       "3 -0.20556832 -0.14504189 -0.02946971 -0.18786259 -0.22996610 -0.18972949\n",
       "4 -0.02299291 -0.01347455  0.02376332 -0.07475237  0.09816132  0.07779253\n",
       "5  0.22838978  0.39865690  0.03088002  0.47611952  0.64710418  0.37454355\n",
       "    hollister abercrombie         die       death        drunk       drugs\n",
       "1  0.15450255  0.25854732  1.69718502  0.92370429  1.879890886  2.73311873\n",
       "2  4.14571210  3.96476243  0.04582231  0.09842612  0.034494077  0.03588499\n",
       "3 -0.15528159 -0.14981198 -0.09688222 -0.08603135 -0.089296772 -0.11389829\n",
       "4 -0.07273732  0.01658671 -0.06961391  0.03486974 -0.063806294 -0.06508105\n",
       "5 -0.06069051 -0.07871591  0.04990853  0.12891743 -0.006956792 -0.06632568"
      ]
     },
     "execution_count": 36,
     "metadata": {},
     "output_type": "execute_result"
    }
   ],
   "source": [
    "#Step 4: Evaluating model performance\n",
    "teen_clusters$size\n",
    "teen_clusters$centers"
   ]
  },
  {
   "cell_type": "code",
   "execution_count": 47,
   "metadata": {
    "collapsed": false
   },
   "outputs": [
    {
     "data": {
      "text/html": [
       "<table>\n",
       "<thead><tr><th></th><th scope=col>cluster</th><th scope=col>gender</th><th scope=col>age</th><th scope=col>friends</th><th scope=col>female</th></tr></thead>\n",
       "<tbody>\n",
       "\t<tr><th scope=row>1</th><td>3</td><td>M</td><td>18.982</td><td>7</td><td>0</td></tr>\n",
       "\t<tr><th scope=row>2</th><td>5</td><td>F</td><td>18.801</td><td>0</td><td>1</td></tr>\n",
       "\t<tr><th scope=row>3</th><td>3</td><td>M</td><td>18.335</td><td>69</td><td>0</td></tr>\n",
       "\t<tr><th scope=row>4</th><td>3</td><td>F</td><td>18.875</td><td>0</td><td>1</td></tr>\n",
       "\t<tr><th scope=row>5</th><td>1</td><td>NA</td><td>18.995</td><td>10</td><td>0</td></tr>\n",
       "\t<tr><th scope=row>6</th><td>3</td><td>F</td><td>18.65586</td><td>142</td><td>1</td></tr>\n",
       "</tbody>\n",
       "</table>\n"
      ],
      "text/latex": [
       "\\begin{tabular}{r|lllll}\n",
       "  & cluster & gender & age & friends & female\\\\\n",
       "\\hline\n",
       "\t1 & 3 & M & 18.982 & 7 & 0\\\\\n",
       "\t2 & 5 & F & 18.801 & 0 & 1\\\\\n",
       "\t3 & 3 & M & 18.335 & 69 & 0\\\\\n",
       "\t4 & 3 & F & 18.875 & 0 & 1\\\\\n",
       "\t5 & 1 & NA & 18.995 & 10 & 0\\\\\n",
       "\t6 & 3 & F & 18.65586 & 142 & 1\\\\\n",
       "\\end{tabular}\n"
      ],
      "text/plain": [
       "  cluster gender      age friends female\n",
       "1       3      M 18.98200       7      0\n",
       "2       5      F 18.80100       0      1\n",
       "3       3      M 18.33500      69      0\n",
       "4       3      F 18.87500       0      1\n",
       "5       1   <NA> 18.99500      10      0\n",
       "6       3      F 18.65586     142      1"
      ]
     },
     "execution_count": 47,
     "metadata": {},
     "output_type": "execute_result"
    }
   ],
   "source": [
    "#Step 5: Improving model performance\n",
    "#Merge cluster label to its indiviudal on original teens dataset\n",
    "teens$cluster <- teen_clusters$cluste\n",
    "head(teens[c(\"cluster\", \"gender\", \"age\", \"friends\", \"female\")])"
   ]
  },
  {
   "cell_type": "code",
   "execution_count": 46,
   "metadata": {
    "collapsed": false
   },
   "outputs": [
    {
     "data": {
      "text/html": [
       "<table>\n",
       "<thead><tr><th></th><th scope=col>cluster</th><th scope=col>age</th></tr></thead>\n",
       "<tbody>\n",
       "\t<tr><th scope=row>1</th><td>1</td><td>17.12754</td></tr>\n",
       "\t<tr><th scope=row>2</th><td>2</td><td>16.86781</td></tr>\n",
       "\t<tr><th scope=row>3</th><td>3</td><td>17.29867</td></tr>\n",
       "\t<tr><th scope=row>4</th><td>4</td><td>17.22877</td></tr>\n",
       "\t<tr><th scope=row>5</th><td>5</td><td>17.09266</td></tr>\n",
       "</tbody>\n",
       "</table>\n"
      ],
      "text/latex": [
       "\\begin{tabular}{r|ll}\n",
       "  & cluster & age\\\\\n",
       "\\hline\n",
       "\t1 & 1 & 17.12754\\\\\n",
       "\t2 & 2 & 16.86781\\\\\n",
       "\t3 & 3 & 17.29867\\\\\n",
       "\t4 & 4 & 17.22877\\\\\n",
       "\t5 & 5 & 17.09266\\\\\n",
       "\\end{tabular}\n"
      ],
      "text/plain": [
       "  cluster      age\n",
       "1       1 17.12754\n",
       "2       2 16.86781\n",
       "3       3 17.29867\n",
       "4       4 17.22877\n",
       "5       5 17.09266"
      ]
     },
     "execution_count": 46,
     "metadata": {},
     "output_type": "execute_result"
    }
   ],
   "source": [
    "#Check average age by cluster\n",
    "aggregate(data = teens, age ~ cluster, mean)"
   ]
  },
  {
   "cell_type": "code",
   "execution_count": 48,
   "metadata": {
    "collapsed": false
   },
   "outputs": [
    {
     "data": {
      "text/html": [
       "<table>\n",
       "<thead><tr><th></th><th scope=col>cluster</th><th scope=col>female</th></tr></thead>\n",
       "<tbody>\n",
       "\t<tr><th scope=row>1</th><td>1</td><td>0.8038278</td></tr>\n",
       "\t<tr><th scope=row>2</th><td>2</td><td>0.8369942</td></tr>\n",
       "\t<tr><th scope=row>3</th><td>3</td><td>0.6991828</td></tr>\n",
       "\t<tr><th scope=row>4</th><td>4</td><td>0.7008929</td></tr>\n",
       "\t<tr><th scope=row>5</th><td>5</td><td>0.8383028</td></tr>\n",
       "</tbody>\n",
       "</table>\n"
      ],
      "text/latex": [
       "\\begin{tabular}{r|ll}\n",
       "  & cluster & female\\\\\n",
       "\\hline\n",
       "\t1 & 1 & 0.8038278\\\\\n",
       "\t2 & 2 & 0.8369942\\\\\n",
       "\t3 & 3 & 0.6991828\\\\\n",
       "\t4 & 4 & 0.7008929\\\\\n",
       "\t5 & 5 & 0.8383028\\\\\n",
       "\\end{tabular}\n"
      ],
      "text/plain": [
       "  cluster    female\n",
       "1       1 0.8038278\n",
       "2       2 0.8369942\n",
       "3       3 0.6991828\n",
       "4       4 0.7008929\n",
       "5       5 0.8383028"
      ]
     },
     "execution_count": 48,
     "metadata": {},
     "output_type": "execute_result"
    }
   ],
   "source": [
    "#Check average female by cluster\n",
    "aggregate(data = teens, female ~ cluster, mean)"
   ]
  },
  {
   "cell_type": "code",
   "execution_count": 49,
   "metadata": {
    "collapsed": false
   },
   "outputs": [
    {
     "data": {
      "text/html": [
       "<table>\n",
       "<thead><tr><th></th><th scope=col>cluster</th><th scope=col>friends</th></tr></thead>\n",
       "<tbody>\n",
       "\t<tr><th scope=row>1</th><td>1</td><td>30.64689</td></tr>\n",
       "\t<tr><th scope=row>2</th><td>2</td><td>41.44046</td></tr>\n",
       "\t<tr><th scope=row>3</th><td>3</td><td>27.72732</td></tr>\n",
       "\t<tr><th scope=row>4</th><td>4</td><td>31.48438</td></tr>\n",
       "\t<tr><th scope=row>5</th><td>5</td><td>37.06029</td></tr>\n",
       "</tbody>\n",
       "</table>\n"
      ],
      "text/latex": [
       "\\begin{tabular}{r|ll}\n",
       "  & cluster & friends\\\\\n",
       "\\hline\n",
       "\t1 & 1 & 30.64689\\\\\n",
       "\t2 & 2 & 41.44046\\\\\n",
       "\t3 & 3 & 27.72732\\\\\n",
       "\t4 & 4 & 31.48438\\\\\n",
       "\t5 & 5 & 37.06029\\\\\n",
       "\\end{tabular}\n"
      ],
      "text/plain": [
       "  cluster  friends\n",
       "1       1 30.64689\n",
       "2       2 41.44046\n",
       "3       3 27.72732\n",
       "4       4 31.48438\n",
       "5       5 37.06029"
      ]
     },
     "execution_count": 49,
     "metadata": {},
     "output_type": "execute_result"
    }
   ],
   "source": [
    "aggregate(data = teens, friends ~ cluster, mean)"
   ]
  }
 ],
 "metadata": {
  "kernelspec": {
   "display_name": "R",
   "language": "R",
   "name": "ir"
  },
  "language_info": {
   "codemirror_mode": "r",
   "file_extension": ".r",
   "mimetype": "text/x-r-source",
   "name": "R",
   "pygments_lexer": "r",
   "version": "3.2.3"
  }
 },
 "nbformat": 4,
 "nbformat_minor": 0
}
