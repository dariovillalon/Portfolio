{
 "cells": [
  {
   "cell_type": "code",
   "execution_count": 1,
   "metadata": {
    "collapsed": true
   },
   "outputs": [],
   "source": [
    "## Machine Learning with R by Brett Lantz\n",
    "## Chapter 12: Specialized Machine Learning Topics"
   ]
  },
  {
   "cell_type": "code",
   "execution_count": 2,
   "metadata": {
    "collapsed": false
   },
   "outputs": [
    {
     "name": "stdout",
     "output_type": "stream",
     "text": [
      "package 'RCurl' successfully unpacked and MD5 sums checked\n",
      "\n",
      "The downloaded binary packages are in\n",
      "\tC:\\Users\\Administrator\\AppData\\Local\\Temp\\Rtmp8SjFb9\\downloaded_packages\n"
     ]
    },
    {
     "name": "stderr",
     "output_type": "stream",
     "text": [
      "Loading required package: bitops\n"
     ]
    }
   ],
   "source": [
    "install.packages(\"RCurl\", repos = \"https://cran.r-project.org\")\n",
    "library(RCurl)"
   ]
  },
  {
   "cell_type": "code",
   "execution_count": 7,
   "metadata": {
    "collapsed": false
   },
   "outputs": [
    {
     "name": "stdout",
     "output_type": "stream",
     "text": [
      " chr \"<!DOCTYPE html>\\n<html xmlns=\\\"http://www.w3.org/1999/xhtml\\\" lang=\\\"en\\\" xml:lang=\\\"en\\\">\\n\\t<head>\\n\\t\\t<title>Packt Publishi\"| __truncated__\n"
     ]
    }
   ],
   "source": [
    "#Getting data from the Web with the RCurl package\n",
    "webpage <- getURL(\"https://www.packtpub.com/\")\n",
    "str(webpage)"
   ]
  },
  {
   "cell_type": "code",
   "execution_count": 10,
   "metadata": {
    "collapsed": false
   },
   "outputs": [
    {
     "name": "stderr",
     "output_type": "stream",
     "text": [
      "Warning message:\n",
      ": package 'rjson' is in use and will not be installed"
     ]
    },
    {
     "ename": "ERROR",
     "evalue": "Error in fromJSON(json_string): objeto 'json_string' no encontrado\n",
     "output_type": "error",
     "traceback": [
      "Error in fromJSON(json_string): objeto 'json_string' no encontrado\n"
     ]
    },
    {
     "ename": "ERROR",
     "evalue": "Error in toJSON(r_object): objeto 'r_object' no encontrado\n",
     "output_type": "error",
     "traceback": [
      "Error in toJSON(r_object): objeto 'r_object' no encontrado\n"
     ]
    }
   ],
   "source": [
    "#Reading and writing JSON with the rjson package\n",
    "install.packages(\"rjson\", repos = \"https://cran.r-project.org\")\n",
    "library(rjson)\n",
    "\n",
    "#to convert from JSON to R:\n",
    "r_object <- fromJSON(json_string)\n",
    "\n",
    "#to convert from an R object to a JSON object:\n",
    "json_string <- toJSON(r_object)"
   ]
  },
  {
   "cell_type": "code",
   "execution_count": 12,
   "metadata": {
    "collapsed": false
   },
   "outputs": [
    {
     "data": {
      "text/plain": [
       "   user  system elapsed \n",
       "   0.15    0.00    0.15 "
      ]
     },
     "execution_count": 12,
     "metadata": {},
     "output_type": "execute_result"
    }
   ],
   "source": [
    "#Measuring execution time\n",
    "system.time(rnorm(1000000))"
   ]
  }
 ],
 "metadata": {
  "kernelspec": {
   "display_name": "R",
   "language": "R",
   "name": "ir"
  },
  "language_info": {
   "codemirror_mode": "r",
   "file_extension": ".r",
   "mimetype": "text/x-r-source",
   "name": "R",
   "pygments_lexer": "r",
   "version": "3.2.3"
  }
 },
 "nbformat": 4,
 "nbformat_minor": 0
}
