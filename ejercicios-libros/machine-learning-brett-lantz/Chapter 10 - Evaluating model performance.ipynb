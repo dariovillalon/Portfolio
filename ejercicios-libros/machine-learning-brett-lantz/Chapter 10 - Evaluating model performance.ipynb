{
 "cells": [
  {
   "cell_type": "code",
   "execution_count": 1,
   "metadata": {
    "collapsed": true
   },
   "outputs": [],
   "source": [
    "## Machine Learning with R by Brett Lantz\n",
    "## Chapter 10: Evaluating model performance"
   ]
  },
  {
   "cell_type": "code",
   "execution_count": 2,
   "metadata": {
    "collapsed": false
   },
   "outputs": [
    {
     "data": {
      "text/html": [
       "<table>\n",
       "<thead><tr><th></th><th scope=col>actual_type</th><th scope=col>predict_type</th><th scope=col>prob_spam</th></tr></thead>\n",
       "<tbody>\n",
       "\t<tr><th scope=row>1</th><td>spam</td><td>spam</td><td>1</td></tr>\n",
       "\t<tr><th scope=row>2</th><td>ham</td><td>ham</td><td>0.00136434</td></tr>\n",
       "\t<tr><th scope=row>3</th><td>ham</td><td>ham</td><td>8.751898e-06</td></tr>\n",
       "\t<tr><th scope=row>4</th><td>ham</td><td>ham</td><td>4.854477e-08</td></tr>\n",
       "\t<tr><th scope=row>5</th><td>ham</td><td>ham</td><td>8.667503e-05</td></tr>\n",
       "\t<tr><th scope=row>6</th><td>ham</td><td>ham</td><td>4.572569e-06</td></tr>\n",
       "</tbody>\n",
       "</table>\n"
      ],
      "text/latex": [
       "\\begin{tabular}{r|lll}\n",
       "  & actual_type & predict_type & prob_spam\\\\\n",
       "\\hline\n",
       "\t1 & spam & spam & 1\\\\\n",
       "\t2 & ham & ham & 0.00136434\\\\\n",
       "\t3 & ham & ham & 8.751898e-06\\\\\n",
       "\t4 & ham & ham & 4.854477e-08\\\\\n",
       "\t5 & ham & ham & 8.667503e-05\\\\\n",
       "\t6 & ham & ham & 4.572569e-06\\\\\n",
       "\\end{tabular}\n"
      ],
      "text/plain": [
       "  actual_type predict_type    prob_spam\n",
       "1        spam         spam 1.000000e+00\n",
       "2         ham          ham 1.364340e-03\n",
       "3         ham          ham 8.751898e-06\n",
       "4         ham          ham 4.854477e-08\n",
       "5         ham          ham 8.667503e-05\n",
       "6         ham          ham 4.572569e-06"
      ]
     },
     "execution_count": 2,
     "metadata": {},
     "output_type": "execute_result"
    }
   ],
   "source": [
    "sms_results <- read.csv(\"sms_results.csv\")\n",
    "head(sms_results)"
   ]
  },
  {
   "cell_type": "code",
   "execution_count": 3,
   "metadata": {
    "collapsed": false
   },
   "outputs": [
    {
     "data": {
      "text/html": [
       "<table>\n",
       "<thead><tr><th></th><th scope=col>actual_type</th><th scope=col>predict_type</th><th scope=col>prob_spam</th></tr></thead>\n",
       "<tbody>\n",
       "\t<tr><th scope=row>45</th><td>spam</td><td>ham</td><td>0.006475778</td></tr>\n",
       "\t<tr><th scope=row>54</th><td>ham</td><td>spam</td><td>0.940526</td></tr>\n",
       "\t<tr><th scope=row>88</th><td>spam</td><td>ham</td><td>0.09959125</td></tr>\n",
       "\t<tr><th scope=row>104</th><td>spam</td><td>ham</td><td>0.4553965</td></tr>\n",
       "\t<tr><th scope=row>130</th><td>spam</td><td>ham</td><td>0.02055777</td></tr>\n",
       "\t<tr><th scope=row>205</th><td>spam</td><td>ham</td><td>0.05379267</td></tr>\n",
       "</tbody>\n",
       "</table>\n"
      ],
      "text/latex": [
       "\\begin{tabular}{r|lll}\n",
       "  & actual_type & predict_type & prob_spam\\\\\n",
       "\\hline\n",
       "\t45 & spam & ham & 0.006475778\\\\\n",
       "\t54 & ham & spam & 0.940526\\\\\n",
       "\t88 & spam & ham & 0.09959125\\\\\n",
       "\t104 & spam & ham & 0.4553965\\\\\n",
       "\t130 & spam & ham & 0.02055777\\\\\n",
       "\t205 & spam & ham & 0.05379267\\\\\n",
       "\\end{tabular}\n"
      ],
      "text/plain": [
       "    actual_type predict_type   prob_spam\n",
       "45         spam          ham 0.006475778\n",
       "54          ham         spam 0.940526034\n",
       "88         spam          ham 0.099591246\n",
       "104        spam          ham 0.455396505\n",
       "130        spam          ham 0.020557769\n",
       "205        spam          ham 0.053792669"
      ]
     },
     "execution_count": 3,
     "metadata": {},
     "output_type": "execute_result"
    }
   ],
   "source": [
    "head(subset(sms_results, actual_type != predict_type))"
   ]
  },
  {
   "cell_type": "code",
   "execution_count": 4,
   "metadata": {
    "collapsed": false
   },
   "outputs": [
    {
     "data": {
      "text/plain": [
       "      \n",
       "        ham spam\n",
       "  ham  1216    6\n",
       "  spam   28  155"
      ]
     },
     "execution_count": 4,
     "metadata": {},
     "output_type": "execute_result"
    }
   ],
   "source": [
    "#Confusion matrix\n",
    "table(sms_results$actual_type, sms_results$predict_type)"
   ]
  },
  {
   "cell_type": "code",
   "execution_count": 6,
   "metadata": {
    "collapsed": false
   },
   "outputs": [
    {
     "name": "stdout",
     "output_type": "stream",
     "text": [
      "package 'gmodels' successfully unpacked and MD5 sums checked\n",
      "\n",
      "The downloaded binary packages are in\n",
      "\tC:\\Users\\Administrator\\AppData\\Local\\Temp\\RtmpKSCUsO\\downloaded_packages\n"
     ]
    },
    {
     "name": "stderr",
     "output_type": "stream",
     "text": [
      "Warning message:\n",
      ": package 'gmodels' was built under R version 3.2.5"
     ]
    }
   ],
   "source": [
    "install.packages(\"gmodels\", repos = \"https://cran.r-project.org\")\n",
    "library(gmodels)"
   ]
  },
  {
   "cell_type": "code",
   "execution_count": 7,
   "metadata": {
    "collapsed": false
   },
   "outputs": [
    {
     "name": "stdout",
     "output_type": "stream",
     "text": [
      "\n",
      " \n",
      "   Cell Contents\n",
      "|-------------------------|\n",
      "|                       N |\n",
      "| Chi-square contribution |\n",
      "|           N / Row Total |\n",
      "|           N / Col Total |\n",
      "|         N / Table Total |\n",
      "|-------------------------|\n",
      "\n",
      " \n",
      "Total Observations in Table:  1405 \n",
      "\n",
      " \n",
      "                        | sms_results$predict_type \n",
      "sms_results$actual_type |       ham |      spam | Row Total | \n",
      "------------------------|-----------|-----------|-----------|\n",
      "                    ham |      1216 |         6 |      1222 | \n",
      "                        |    16.603 |   128.287 |           | \n",
      "                        |     0.995 |     0.005 |     0.870 | \n",
      "                        |     0.977 |     0.037 |           | \n",
      "                        |     0.865 |     0.004 |           | \n",
      "------------------------|-----------|-----------|-----------|\n",
      "                   spam |        28 |       155 |       183 | \n",
      "                        |   110.869 |   856.649 |           | \n",
      "                        |     0.153 |     0.847 |     0.130 | \n",
      "                        |     0.023 |     0.963 |           | \n",
      "                        |     0.020 |     0.110 |           | \n",
      "------------------------|-----------|-----------|-----------|\n",
      "           Column Total |      1244 |       161 |      1405 | \n",
      "                        |     0.885 |     0.115 |           | \n",
      "------------------------|-----------|-----------|-----------|\n",
      "\n",
      " \n"
     ]
    }
   ],
   "source": [
    "#Build confusion matrix with much more details\n",
    "CrossTable(sms_results$actual_type, sms_results$predict_type)"
   ]
  },
  {
   "cell_type": "code",
   "execution_count": 12,
   "metadata": {
    "collapsed": false
   },
   "outputs": [
    {
     "data": {
      "text/html": [
       "0.975800711743772"
      ],
      "text/latex": [
       "0.975800711743772"
      ],
      "text/markdown": [
       "0.975800711743772"
      ],
      "text/plain": [
       "[1] 0.9758007"
      ]
     },
     "execution_count": 12,
     "metadata": {},
     "output_type": "execute_result"
    }
   ],
   "source": [
    "#Compute accuracy: (TP + TN) / (TP + TN + FP + FN)\n",
    "accuracy_rate <- (155 + 1216) / (155 + 1216 + 6 +28)\n",
    "accuracy_rate"
   ]
  },
  {
   "cell_type": "code",
   "execution_count": 14,
   "metadata": {
    "collapsed": false
   },
   "outputs": [
    {
     "data": {
      "text/html": [
       "0.0241992882562278"
      ],
      "text/latex": [
       "0.0241992882562278"
      ],
      "text/markdown": [
       "0.0241992882562278"
      ],
      "text/plain": [
       "[1] 0.02419929"
      ]
     },
     "execution_count": 14,
     "metadata": {},
     "output_type": "execute_result"
    },
    {
     "data": {
      "text/html": [
       "0.0241992882562277"
      ],
      "text/latex": [
       "0.0241992882562277"
      ],
      "text/markdown": [
       "0.0241992882562277"
      ],
      "text/plain": [
       "[1] 0.02419929"
      ]
     },
     "execution_count": 14,
     "metadata": {},
     "output_type": "execute_result"
    }
   ],
   "source": [
    "#Compute error rate: (FP + FN) / (TP + TN + FP + FN)\n",
    "error_rate <- (6 + 28) / (155 + 1216 + 6 + 28)\n",
    "error_rate\n",
    "\n",
    "#Or\n",
    "1 - accuracy_rate"
   ]
  },
  {
   "cell_type": "code",
   "execution_count": 15,
   "metadata": {
    "collapsed": true
   },
   "outputs": [],
   "source": [
    "#Beyond accuracy - other measures of performance"
   ]
  },
  {
   "cell_type": "code",
   "execution_count": 16,
   "metadata": {
    "collapsed": false
   },
   "outputs": [
    {
     "name": "stdout",
     "output_type": "stream",
     "text": [
      "package 'caret' successfully unpacked and MD5 sums checked\n",
      "\n",
      "The downloaded binary packages are in\n",
      "\tC:\\Users\\Administrator\\AppData\\Local\\Temp\\RtmpKSCUsO\\downloaded_packages\n"
     ]
    },
    {
     "name": "stderr",
     "output_type": "stream",
     "text": [
      "Warning message:\n",
      ": package 'caret' was built under R version 3.2.5Loading required package: lattice\n",
      "Loading required package: ggplot2\n",
      "Warning message:\n",
      ": package 'ggplot2' was built under R version 3.2.4"
     ]
    }
   ],
   "source": [
    "install.packages(\"caret\", repos = \"https://cran.r-project.org\")\n",
    "library(caret)"
   ]
  },
  {
   "cell_type": "code",
   "execution_count": 17,
   "metadata": {
    "collapsed": false
   },
   "outputs": [
    {
     "data": {
      "text/plain": [
       "Confusion Matrix and Statistics\n",
       "\n",
       "          Reference\n",
       "Prediction  ham spam\n",
       "      ham  1216   28\n",
       "      spam    6  155\n",
       "                                          \n",
       "               Accuracy : 0.9758          \n",
       "                 95% CI : (0.9663, 0.9832)\n",
       "    No Information Rate : 0.8698          \n",
       "    P-Value [Acc > NIR] : < 2.2e-16       \n",
       "                                          \n",
       "                  Kappa : 0.8874          \n",
       " Mcnemar's Test P-Value : 0.0003164       \n",
       "                                          \n",
       "            Sensitivity : 0.8470          \n",
       "            Specificity : 0.9951          \n",
       "         Pos Pred Value : 0.9627          \n",
       "         Neg Pred Value : 0.9775          \n",
       "             Prevalence : 0.1302          \n",
       "         Detection Rate : 0.1103          \n",
       "   Detection Prevalence : 0.1146          \n",
       "      Balanced Accuracy : 0.9210          \n",
       "                                          \n",
       "       'Positive' Class : spam            \n",
       "                                          "
      ]
     },
     "execution_count": 17,
     "metadata": {},
     "output_type": "execute_result"
    }
   ],
   "source": [
    "confusionMatrix(sms_results$predict_type, sms_results$actual_type, positive = \"spam\")"
   ]
  },
  {
   "cell_type": "code",
   "execution_count": 18,
   "metadata": {
    "collapsed": false
   },
   "outputs": [
    {
     "data": {
      "text/html": [
       "0.976"
      ],
      "text/latex": [
       "0.976"
      ],
      "text/markdown": [
       "0.976"
      ],
      "text/plain": [
       "[1] 0.976"
      ]
     },
     "execution_count": 18,
     "metadata": {},
     "output_type": "execute_result"
    }
   ],
   "source": [
    "#Computing Kappa manually\n",
    "pr_a <- 0.865 + 0.111\n",
    "pr_a"
   ]
  },
  {
   "cell_type": "code",
   "execution_count": 21,
   "metadata": {
    "collapsed": false
   },
   "outputs": [
    {
     "data": {
      "text/html": [
       "0.784096"
      ],
      "text/latex": [
       "0.784096"
      ],
      "text/markdown": [
       "0.784096"
      ],
      "text/plain": [
       "[1] 0.784096"
      ]
     },
     "execution_count": 21,
     "metadata": {},
     "output_type": "execute_result"
    }
   ],
   "source": [
    "pr_e <- 0.868 * 0.886 + 0.132 * 0.114\n",
    "pr_e"
   ]
  },
  {
   "cell_type": "code",
   "execution_count": 22,
   "metadata": {
    "collapsed": false
   },
   "outputs": [
    {
     "data": {
      "text/html": [
       "0.888839484215207"
      ],
      "text/latex": [
       "0.888839484215207"
      ],
      "text/markdown": [
       "0.888839484215207"
      ],
      "text/plain": [
       "[1] 0.8888395"
      ]
     },
     "execution_count": 22,
     "metadata": {},
     "output_type": "execute_result"
    }
   ],
   "source": [
    "k <- (pr_a - pr_e) / (1 - pr_e)\n",
    "k"
   ]
  },
  {
   "cell_type": "code",
   "execution_count": 23,
   "metadata": {
    "collapsed": false
   },
   "outputs": [
    {
     "name": "stderr",
     "output_type": "stream",
     "text": [
      "also installing the dependency 'lmtest'\n",
      "\n"
     ]
    },
    {
     "name": "stdout",
     "output_type": "stream",
     "text": [
      "package 'lmtest' successfully unpacked and MD5 sums checked\n",
      "package 'vcd' successfully unpacked and MD5 sums checked\n",
      "\n",
      "The downloaded binary packages are in\n",
      "\tC:\\Users\\Administrator\\AppData\\Local\\Temp\\RtmpKSCUsO\\downloaded_packages\n"
     ]
    },
    {
     "name": "stderr",
     "output_type": "stream",
     "text": [
      "Warning message:\n",
      ": package 'vcd' was built under R version 3.2.5Loading required package: grid\n"
     ]
    }
   ],
   "source": [
    "#Computing Kappa automatically\n",
    "install.packages(\"vcd\", repos = \"https://cran.r-project.org\")\n",
    "library(vcd)"
   ]
  },
  {
   "cell_type": "code",
   "execution_count": 24,
   "metadata": {
    "collapsed": false
   },
   "outputs": [
    {
     "data": {
      "text/plain": [
       "            value     ASE     z Pr(>|z|)\n",
       "Unweighted 0.8874 0.01898 46.76        0\n",
       "Weighted   0.8874 0.01898 46.76        0"
      ]
     },
     "execution_count": 24,
     "metadata": {},
     "output_type": "execute_result"
    }
   ],
   "source": [
    "Kappa(table(sms_results$actual_type, sms_results$predict_type))"
   ]
  },
  {
   "cell_type": "code",
   "execution_count": 29,
   "metadata": {
    "collapsed": false
   },
   "outputs": [
    {
     "name": "stdout",
     "output_type": "stream",
     "text": [
      "package 'irr' successfully unpacked and MD5 sums checked\n",
      "\n",
      "The downloaded binary packages are in\n",
      "\tC:\\Users\\Administrator\\AppData\\Local\\Temp\\RtmpKSCUsO\\downloaded_packages\n"
     ]
    },
    {
     "name": "stderr",
     "output_type": "stream",
     "text": [
      "Loading required package: lpSolve\n"
     ]
    }
   ],
   "source": [
    "#Kappa2 is used to calculate kappa from vectors of predicted and actual values stored in a data frame.\n",
    "install.packages(\"irr\", repos = \"https://cran.r-project.org\")\n",
    "library(irr)"
   ]
  },
  {
   "cell_type": "code",
   "execution_count": 30,
   "metadata": {
    "collapsed": false
   },
   "outputs": [
    {
     "data": {
      "text/plain": [
       " Cohen's Kappa for 2 Raters (Weights: unweighted)\n",
       "\n",
       " Subjects = 1405 \n",
       "   Raters = 2 \n",
       "    Kappa = 0.887 \n",
       "\n",
       "        z = 33.4 \n",
       "  p-value = 0 "
      ]
     },
     "execution_count": 30,
     "metadata": {},
     "output_type": "execute_result"
    }
   ],
   "source": [
    "kappa2(sms_results[1:2])"
   ]
  },
  {
   "cell_type": "code",
   "execution_count": 31,
   "metadata": {
    "collapsed": false
   },
   "outputs": [
    {
     "data": {
      "text/html": [
       "0.841530054644809"
      ],
      "text/latex": [
       "0.841530054644809"
      ],
      "text/markdown": [
       "0.841530054644809"
      ],
      "text/plain": [
       "[1] 0.8415301"
      ]
     },
     "execution_count": 31,
     "metadata": {},
     "output_type": "execute_result"
    }
   ],
   "source": [
    "#Sensitivity (true positive rate) TP / (TP + FN)\n",
    "sens <- 154 / (154 + 29)\n",
    "sens"
   ]
  },
  {
   "cell_type": "code",
   "execution_count": 32,
   "metadata": {
    "collapsed": false
   },
   "outputs": [
    {
     "data": {
      "text/html": [
       "0.995857497928749"
      ],
      "text/latex": [
       "0.995857497928749"
      ],
      "text/markdown": [
       "0.995857497928749"
      ],
      "text/plain": [
       "[1] 0.9958575"
      ]
     },
     "execution_count": 32,
     "metadata": {},
     "output_type": "execute_result"
    }
   ],
   "source": [
    "#Specificity (true negative rate) TN / (TN + FP)\n",
    "spec <- 1202 / (1202 + 5)\n",
    "spec"
   ]
  },
  {
   "cell_type": "code",
   "execution_count": 35,
   "metadata": {
    "collapsed": false
   },
   "outputs": [
    {
     "data": {
      "text/html": [
       "0.846994535519126"
      ],
      "text/latex": [
       "0.846994535519126"
      ],
      "text/markdown": [
       "0.846994535519126"
      ],
      "text/plain": [
       "[1] 0.8469945"
      ]
     },
     "execution_count": 35,
     "metadata": {},
     "output_type": "execute_result"
    },
    {
     "data": {
      "text/html": [
       "0.995090016366612"
      ],
      "text/latex": [
       "0.995090016366612"
      ],
      "text/markdown": [
       "0.995090016366612"
      ],
      "text/plain": [
       "[1] 0.99509"
      ]
     },
     "execution_count": 35,
     "metadata": {},
     "output_type": "execute_result"
    }
   ],
   "source": [
    "#Compute sensitivity and specificity by caret package\n",
    "sensitivity(sms_results$predict_type, sms_results$actual_type, positive = \"spam\")\n",
    "specificity(sms_results$predict_type, sms_results$actual_type, negative = \"ham\")"
   ]
  },
  {
   "cell_type": "code",
   "execution_count": 37,
   "metadata": {
    "collapsed": false
   },
   "outputs": [
    {
     "data": {
      "text/html": [
       "0.968553459119497"
      ],
      "text/latex": [
       "0.968553459119497"
      ],
      "text/markdown": [
       "0.968553459119497"
      ],
      "text/plain": [
       "[1] 0.9685535"
      ]
     },
     "execution_count": 37,
     "metadata": {},
     "output_type": "execute_result"
    }
   ],
   "source": [
    "#Precision (positive predicted value) TP / (TP + FP)\n",
    "prec <- 154 / (154 + 5)\n",
    "prec"
   ]
  },
  {
   "cell_type": "code",
   "execution_count": 38,
   "metadata": {
    "collapsed": false
   },
   "outputs": [
    {
     "data": {
      "text/html": [
       "0.841530054644809"
      ],
      "text/latex": [
       "0.841530054644809"
      ],
      "text/markdown": [
       "0.841530054644809"
      ],
      "text/plain": [
       "[1] 0.8415301"
      ]
     },
     "execution_count": 38,
     "metadata": {},
     "output_type": "execute_result"
    }
   ],
   "source": [
    "#Recall (same as sensitivity, interpretation differs)\n",
    "rec <- 154 / (154 + 29)\n",
    "rec"
   ]
  },
  {
   "cell_type": "code",
   "execution_count": 39,
   "metadata": {
    "collapsed": false
   },
   "outputs": [
    {
     "data": {
      "text/html": [
       "0.962732919254658"
      ],
      "text/latex": [
       "0.962732919254658"
      ],
      "text/markdown": [
       "0.962732919254658"
      ],
      "text/plain": [
       "[1] 0.9627329"
      ]
     },
     "execution_count": 39,
     "metadata": {},
     "output_type": "execute_result"
    }
   ],
   "source": [
    "#Compute precision with caret package\n",
    "posPredValue(sms_results$predict_type, sms_results$actual_type, positive = \"spam\")"
   ]
  },
  {
   "cell_type": "code",
   "execution_count": 42,
   "metadata": {
    "collapsed": false
   },
   "outputs": [
    {
     "data": {
      "text/html": [
       "0.900584795321637"
      ],
      "text/latex": [
       "0.900584795321637"
      ],
      "text/markdown": [
       "0.900584795321637"
      ],
      "text/plain": [
       "[1] 0.9005848"
      ]
     },
     "execution_count": 42,
     "metadata": {},
     "output_type": "execute_result"
    }
   ],
   "source": [
    "#F-measure (combine precision and recall also called F1 or F-score)\n",
    "f <- (2 * prec * rec) / (prec + rec)\n",
    "f"
   ]
  },
  {
   "cell_type": "code",
   "execution_count": 43,
   "metadata": {
    "collapsed": false
   },
   "outputs": [
    {
     "name": "stderr",
     "output_type": "stream",
     "text": [
      "also installing the dependencies 'caTools', 'gplots'\n",
      "\n"
     ]
    },
    {
     "name": "stdout",
     "output_type": "stream",
     "text": [
      "package 'caTools' successfully unpacked and MD5 sums checked\n",
      "package 'gplots' successfully unpacked and MD5 sums checked\n",
      "package 'ROCR' successfully unpacked and MD5 sums checked\n",
      "\n",
      "The downloaded binary packages are in\n",
      "\tC:\\Users\\Administrator\\AppData\\Local\\Temp\\RtmpKSCUsO\\downloaded_packages\n"
     ]
    },
    {
     "name": "stderr",
     "output_type": "stream",
     "text": [
      "Warning message:\n",
      ": package 'ROCR' was built under R version 3.2.5Loading required package: gplots\n",
      "Warning message:\n",
      ": package 'gplots' was built under R version 3.2.5\n",
      "Attaching package: 'gplots'\n",
      "\n",
      "The following object is masked from 'package:stats':\n",
      "\n",
      "    lowess\n",
      "\n"
     ]
    }
   ],
   "source": [
    "#Visualizing performance tradeoffs\n",
    "install.packages(\"ROCR\", repos = \"https://cran.r-project.org\")\n",
    "library(ROCR)"
   ]
  },
  {
   "cell_type": "code",
   "execution_count": 47,
   "metadata": {
    "collapsed": false
   },
   "outputs": [],
   "source": [
    "pred <- prediction(predictions = sms_results$prob_spam, labels = sms_results$actual_type)"
   ]
  },
  {
   "cell_type": "code",
   "execution_count": 54,
   "metadata": {
    "collapsed": false
   },
   "outputs": [
    {
     "data": {
      "image/png": "[encoded data removed]",
      "image/svg+xml": [
       "<?xml version=\"1.0\" encoding=\"UTF-8\"?>\n",
       "<svg xmlns=\"http://www.w3.org/2000/svg\" xmlns:xlink=\"http://www.w3.org/1999/xlink\" width=\"504pt\" height=\"504pt\" viewBox=\"0 0 504 504\" version=\"1.1\">\n",
       "<defs>\n",
       "<g>\n",
       "<symbol overflow=\"visible\" id=\"glyph0-0\">\n",
       "<path style=\"stroke:none;\" d=\"M 1.054688 0 L 1.054688 -10.308594 L 5.433594 -10.308594 C 6.53125 -10.304688 7.332031 -10.214844 7.835938 -10.03125 C 8.332031 -9.84375 8.734375 -9.511719 9.035156 -9.042969 C 9.332031 -8.566406 9.480469 -8.027344 9.484375 -7.417969 C 9.480469 -6.644531 9.253906 -6.003906 8.800781 -5.5 C 8.347656 -4.996094 7.667969 -4.679688 6.765625 -4.550781 C 7.210938 -4.285156 7.582031 -3.996094 7.875 -3.683594 C 8.167969 -3.367188 8.5625 -2.808594 9.0625 -2.011719 L 10.320313 0 L 7.832031 0 L 6.328125 -2.242188 C 5.792969 -3.042969 5.425781 -3.546875 5.230469 -3.757813 C 5.03125 -3.960938 4.824219 -4.105469 4.605469 -4.1875 C 4.382813 -4.261719 4.03125 -4.300781 3.558594 -4.304688 L 3.136719 -4.304688 L 3.136719 0 Z M 3.136719 -5.949219 L 4.675781 -5.949219 C 5.671875 -5.945313 6.292969 -5.988281 6.542969 -6.074219 C 6.789063 -6.15625 6.984375 -6.300781 7.128906 -6.511719 C 7.265625 -6.714844 7.335938 -6.972656 7.339844 -7.285156 C 7.335938 -7.628906 7.242188 -7.910156 7.0625 -8.125 C 6.875 -8.335938 6.613281 -8.46875 6.277344 -8.527344 C 6.105469 -8.546875 5.601563 -8.558594 4.761719 -8.5625 L 3.136719 -8.5625 Z M 3.136719 -5.949219 \"/>\n",
       "</symbol>\n",
       "<symbol overflow=\"visible\" id=\"glyph0-1\">\n",
       "<path style=\"stroke:none;\" d=\"M 0.625 -5.089844 C 0.621094 -6.136719 0.777344 -7.019531 1.097656 -7.734375 C 1.328125 -8.257813 1.648438 -8.726563 2.054688 -9.148438 C 2.457031 -9.5625 2.902344 -9.871094 3.390625 -10.074219 C 4.027344 -10.34375 4.765625 -10.480469 5.609375 -10.484375 C 7.125 -10.480469 8.34375 -10.011719 9.257813 -9.070313 C 10.167969 -8.125 10.621094 -6.8125 10.625 -5.140625 C 10.621094 -3.472656 10.167969 -2.171875 9.265625 -1.234375 C 8.359375 -0.292969 7.152344 0.175781 5.640625 0.175781 C 4.105469 0.175781 2.886719 -0.289063 1.980469 -1.226563 C 1.074219 -2.15625 0.621094 -3.445313 0.625 -5.089844 Z M 2.769531 -5.160156 C 2.765625 -3.992188 3.035156 -3.105469 3.578125 -2.503906 C 4.113281 -1.898438 4.796875 -1.597656 5.632813 -1.601563 C 6.457031 -1.597656 7.136719 -1.898438 7.671875 -2.496094 C 8.203125 -3.09375 8.472656 -3.988281 8.472656 -5.1875 C 8.472656 -6.367188 8.210938 -7.25 7.695313 -7.832031 C 7.171875 -8.410156 6.484375 -8.699219 5.632813 -8.703125 C 4.769531 -8.699219 4.078125 -8.40625 3.554688 -7.820313 C 3.027344 -7.230469 2.765625 -6.34375 2.769531 -5.160156 Z M 2.769531 -5.160156 \"/>\n",
       "</symbol>\n",
       "<symbol overflow=\"visible\" id=\"glyph0-2\">\n",
       "<path style=\"stroke:none;\" d=\"M 7.644531 -3.789063 L 9.660156 -3.148438 C 9.347656 -2.019531 8.832031 -1.183594 8.117188 -0.640625 C 7.394531 -0.09375 6.484375 0.175781 5.378906 0.175781 C 4.007813 0.175781 2.882813 -0.289063 2.003906 -1.226563 C 1.121094 -2.15625 0.679688 -3.4375 0.683594 -5.0625 C 0.679688 -6.777344 1.121094 -8.109375 2.011719 -9.058594 C 2.894531 -10.007813 4.058594 -10.480469 5.503906 -10.484375 C 6.761719 -10.480469 7.789063 -10.109375 8.578125 -9.367188 C 9.046875 -8.921875 9.398438 -8.289063 9.632813 -7.46875 L 7.574219 -6.976563 C 7.449219 -7.507813 7.195313 -7.929688 6.808594 -8.238281 C 6.421875 -8.546875 5.949219 -8.699219 5.398438 -8.703125 C 4.632813 -8.699219 4.015625 -8.425781 3.539063 -7.878906 C 3.0625 -7.328125 2.824219 -6.441406 2.828125 -5.21875 C 2.824219 -3.910156 3.058594 -2.980469 3.53125 -2.429688 C 3.996094 -1.875 4.605469 -1.597656 5.359375 -1.601563 C 5.910156 -1.597656 6.386719 -1.773438 6.785156 -2.128906 C 7.183594 -2.476563 7.46875 -3.03125 7.644531 -3.789063 Z M 7.644531 -3.789063 \"/>\n",
       "</symbol>\n",
       "<symbol overflow=\"visible\" id=\"glyph0-3\">\n",
       "<path style=\"stroke:none;\" d=\"\"/>\n",
       "</symbol>\n",
       "<symbol overflow=\"visible\" id=\"glyph0-4\">\n",
       "<path style=\"stroke:none;\" d=\"M 5.949219 0 L 5.949219 -1.117188 C 5.671875 -0.714844 5.316406 -0.402344 4.875 -0.175781 C 4.429688 0.0507813 3.960938 0.164063 3.472656 0.167969 C 2.96875 0.164063 2.519531 0.0585938 2.125 -0.160156 C 1.722656 -0.378906 1.433594 -0.691406 1.257813 -1.089844 C 1.078125 -1.488281 0.988281 -2.039063 0.992188 -2.742188 L 0.992188 -7.46875 L 2.96875 -7.46875 L 2.96875 -4.035156 C 2.964844 -2.984375 3 -2.339844 3.074219 -2.105469 C 3.144531 -1.863281 3.277344 -1.675781 3.472656 -1.542969 C 3.664063 -1.402344 3.90625 -1.335938 4.203125 -1.335938 C 4.539063 -1.335938 4.84375 -1.425781 5.109375 -1.613281 C 5.375 -1.792969 5.558594 -2.023438 5.660156 -2.300781 C 5.757813 -2.574219 5.804688 -3.246094 5.808594 -4.316406 L 5.808594 -7.46875 L 7.785156 -7.46875 L 7.785156 0 Z M 5.949219 0 \"/>\n",
       "</symbol>\n",
       "<symbol overflow=\"visible\" id=\"glyph0-5\">\n",
       "<path style=\"stroke:none;\" d=\"M 2.925781 0 L 0.949219 0 L 0.949219 -7.46875 L 2.785156 -7.46875 L 2.785156 -6.40625 C 3.09375 -6.902344 3.375 -7.234375 3.628906 -7.394531 C 3.878906 -7.554688 4.164063 -7.632813 4.484375 -7.636719 C 4.929688 -7.632813 5.363281 -7.507813 5.785156 -7.261719 L 5.175781 -5.539063 C 4.839844 -5.75 4.53125 -5.859375 4.246094 -5.863281 C 3.96875 -5.859375 3.734375 -5.78125 3.542969 -5.632813 C 3.347656 -5.476563 3.195313 -5.203125 3.089844 -4.808594 C 2.976563 -4.40625 2.921875 -3.570313 2.925781 -2.304688 Z M 2.925781 0 \"/>\n",
       "</symbol>\n",
       "<symbol overflow=\"visible\" id=\"glyph0-6\">\n",
       "<path style=\"stroke:none;\" d=\"M 3.085938 0 L 0.078125 -7.46875 L 2.152344 -7.46875 L 3.558594 -3.65625 L 3.964844 -2.382813 C 4.070313 -2.703125 4.136719 -2.917969 4.167969 -3.023438 C 4.230469 -3.234375 4.300781 -3.445313 4.378906 -3.65625 L 5.800781 -7.46875 L 7.832031 -7.46875 L 4.867188 0 Z M 3.085938 0 \"/>\n",
       "</symbol>\n",
       "<symbol overflow=\"visible\" id=\"glyph0-7\">\n",
       "<path style=\"stroke:none;\" d=\"M 5.359375 -2.375 L 7.328125 -2.046875 C 7.070313 -1.320313 6.667969 -0.773438 6.125 -0.398438 C 5.578125 -0.0234375 4.898438 0.164063 4.078125 0.167969 C 2.777344 0.164063 1.816406 -0.257813 1.195313 -1.105469 C 0.703125 -1.78125 0.457031 -2.636719 0.457031 -3.675781 C 0.457031 -4.910156 0.777344 -5.882813 1.425781 -6.585938 C 2.070313 -7.285156 2.890625 -7.632813 3.882813 -7.636719 C 4.988281 -7.632813 5.863281 -7.265625 6.507813 -6.535156 C 7.148438 -5.796875 7.457031 -4.675781 7.433594 -3.164063 L 2.480469 -3.164063 C 2.492188 -2.578125 2.652344 -2.121094 2.960938 -1.796875 C 3.261719 -1.46875 3.640625 -1.304688 4.097656 -1.308594 C 4.402344 -1.304688 4.664063 -1.390625 4.878906 -1.558594 C 5.085938 -1.726563 5.246094 -1.996094 5.359375 -2.375 Z M 5.46875 -4.375 C 5.453125 -4.941406 5.308594 -5.375 5.027344 -5.675781 C 4.746094 -5.972656 4.402344 -6.121094 4 -6.125 C 3.566406 -6.121094 3.210938 -5.964844 2.933594 -5.652344 C 2.648438 -5.335938 2.507813 -4.910156 2.515625 -4.375 Z M 5.46875 -4.375 \"/>\n",
       "</symbol>\n",
       "<symbol overflow=\"visible\" id=\"glyph0-8\">\n",
       "<path style=\"stroke:none;\" d=\"M 0.167969 -7.46875 L 1.265625 -7.46875 L 1.265625 -8.03125 C 1.265625 -8.65625 1.332031 -9.125 1.464844 -9.433594 C 1.597656 -9.742188 1.84375 -9.992188 2.203125 -10.191406 C 2.5625 -10.382813 3.015625 -10.480469 3.566406 -10.484375 C 4.125 -10.480469 4.675781 -10.398438 5.21875 -10.230469 L 4.949219 -8.851563 C 4.632813 -8.925781 4.332031 -8.964844 4.042969 -8.964844 C 3.753906 -8.964844 3.546875 -8.894531 3.425781 -8.761719 C 3.300781 -8.625 3.238281 -8.371094 3.242188 -7.996094 L 3.242188 -7.46875 L 4.71875 -7.46875 L 4.71875 -5.914063 L 3.242188 -5.914063 L 3.242188 0 L 1.265625 0 L 1.265625 -5.914063 L 0.167969 -5.914063 Z M 0.167969 -7.46875 \"/>\n",
       "</symbol>\n",
       "<symbol overflow=\"visible\" id=\"glyph0-9\">\n",
       "<path style=\"stroke:none;\" d=\"M 0.578125 -3.839844 C 0.574219 -4.492188 0.734375 -5.128906 1.0625 -5.742188 C 1.382813 -6.355469 1.839844 -6.824219 2.433594 -7.148438 C 3.023438 -7.472656 3.6875 -7.632813 4.421875 -7.636719 C 5.550781 -7.632813 6.476563 -7.265625 7.199219 -6.535156 C 7.917969 -5.796875 8.277344 -4.871094 8.28125 -3.753906 C 8.277344 -2.621094 7.914063 -1.683594 7.1875 -0.945313 C 6.457031 -0.203125 5.539063 0.164063 4.4375 0.167969 C 3.75 0.164063 3.097656 0.0117188 2.476563 -0.292969 C 1.855469 -0.601563 1.382813 -1.054688 1.0625 -1.652344 C 0.734375 -2.25 0.574219 -2.976563 0.578125 -3.839844 Z M 2.601563 -3.734375 C 2.601563 -2.988281 2.777344 -2.421875 3.128906 -2.03125 C 3.480469 -1.636719 3.914063 -1.441406 4.429688 -1.441406 C 4.945313 -1.441406 5.375 -1.636719 5.726563 -2.03125 C 6.070313 -2.421875 6.246094 -2.992188 6.25 -3.746094 C 6.246094 -4.472656 6.070313 -5.035156 5.726563 -5.433594 C 5.375 -5.824219 4.945313 -6.023438 4.429688 -6.027344 C 3.914063 -6.023438 3.480469 -5.824219 3.128906 -5.433594 C 2.777344 -5.035156 2.601563 -4.46875 2.601563 -3.734375 Z M 2.601563 -3.734375 \"/>\n",
       "</symbol>\n",
       "<symbol overflow=\"visible\" id=\"glyph0-10\">\n",
       "<path style=\"stroke:none;\" d=\"M 0.335938 -2.128906 L 2.320313 -2.433594 C 2.402344 -2.042969 2.570313 -1.75 2.832031 -1.554688 C 3.085938 -1.351563 3.449219 -1.253906 3.917969 -1.257813 C 4.425781 -1.253906 4.808594 -1.347656 5.070313 -1.539063 C 5.238281 -1.667969 5.324219 -1.84375 5.328125 -2.066406 C 5.324219 -2.214844 5.277344 -2.339844 5.1875 -2.441406 C 5.085938 -2.53125 4.867188 -2.617188 4.527344 -2.699219 C 2.929688 -3.046875 1.917969 -3.367188 1.496094 -3.664063 C 0.902344 -4.0625 0.609375 -4.625 0.613281 -5.34375 C 0.609375 -5.988281 0.863281 -6.53125 1.378906 -6.972656 C 1.886719 -7.414063 2.679688 -7.632813 3.753906 -7.636719 C 4.773438 -7.632813 5.53125 -7.46875 6.03125 -7.136719 C 6.523438 -6.800781 6.867188 -6.308594 7.058594 -5.660156 L 5.195313 -5.316406 C 5.113281 -5.601563 4.960938 -5.824219 4.742188 -5.980469 C 4.515625 -6.132813 4.199219 -6.210938 3.789063 -6.214844 C 3.265625 -6.210938 2.894531 -6.136719 2.671875 -5.996094 C 2.519531 -5.890625 2.441406 -5.757813 2.445313 -5.597656 C 2.441406 -5.453125 2.507813 -5.335938 2.644531 -5.238281 C 2.816406 -5.105469 3.433594 -4.917969 4.488281 -4.683594 C 5.539063 -4.441406 6.273438 -4.148438 6.695313 -3.804688 C 7.105469 -3.449219 7.3125 -2.960938 7.3125 -2.335938 C 7.3125 -1.648438 7.023438 -1.058594 6.453125 -0.570313 C 5.878906 -0.078125 5.035156 0.164063 3.917969 0.167969 C 2.898438 0.164063 2.09375 -0.0390625 1.5 -0.449219 C 0.90625 -0.859375 0.515625 -1.417969 0.335938 -2.128906 Z M 0.335938 -2.128906 \"/>\n",
       "</symbol>\n",
       "<symbol overflow=\"visible\" id=\"glyph0-11\">\n",
       "<path style=\"stroke:none;\" d=\"M 0.886719 -7.46875 L 2.707031 -7.46875 L 2.707031 -6.449219 C 3.355469 -7.238281 4.128906 -7.632813 5.035156 -7.636719 C 5.507813 -7.632813 5.921875 -7.535156 6.277344 -7.339844 C 6.625 -7.140625 6.914063 -6.84375 7.144531 -6.449219 C 7.46875 -6.84375 7.824219 -7.140625 8.203125 -7.339844 C 8.582031 -7.535156 8.988281 -7.632813 9.421875 -7.636719 C 9.96875 -7.632813 10.429688 -7.523438 10.8125 -7.300781 C 11.1875 -7.078125 11.472656 -6.75 11.664063 -6.320313 C 11.796875 -6 11.863281 -5.484375 11.867188 -4.773438 L 11.867188 0 L 9.894531 0 L 9.894531 -4.269531 C 9.890625 -5.007813 9.820313 -5.484375 9.6875 -5.703125 C 9.5 -5.980469 9.21875 -6.121094 8.84375 -6.125 C 8.5625 -6.121094 8.304688 -6.039063 8.0625 -5.871094 C 7.820313 -5.699219 7.644531 -5.449219 7.535156 -5.128906 C 7.425781 -4.800781 7.371094 -4.289063 7.375 -3.585938 L 7.375 0 L 5.398438 0 L 5.398438 -4.09375 C 5.394531 -4.816406 5.359375 -5.285156 5.292969 -5.5 C 5.21875 -5.707031 5.109375 -5.863281 4.964844 -5.96875 C 4.816406 -6.070313 4.617188 -6.121094 4.367188 -6.125 C 4.058594 -6.121094 3.785156 -6.039063 3.542969 -5.878906 C 3.296875 -5.710938 3.121094 -5.476563 3.019531 -5.167969 C 2.910156 -4.855469 2.859375 -4.339844 2.863281 -3.628906 L 2.863281 0 L 0.886719 0 Z M 0.886719 -7.46875 \"/>\n",
       "</symbol>\n",
       "<symbol overflow=\"visible\" id=\"glyph0-12\">\n",
       "<path style=\"stroke:none;\" d=\"M 0.976563 -7.46875 L 2.820313 -7.46875 L 2.820313 -6.371094 C 3.054688 -6.742188 3.378906 -7.046875 3.789063 -7.285156 C 4.195313 -7.515625 4.648438 -7.632813 5.148438 -7.636719 C 6.011719 -7.632813 6.746094 -7.292969 7.355469 -6.617188 C 7.957031 -5.933594 8.261719 -4.988281 8.261719 -3.777344 C 8.261719 -2.527344 7.957031 -1.558594 7.347656 -0.867188 C 6.738281 -0.179688 6 0.164063 5.132813 0.167969 C 4.71875 0.164063 4.34375 0.0859375 4.011719 -0.078125 C 3.671875 -0.238281 3.320313 -0.519531 2.953125 -0.921875 L 2.953125 2.839844 L 0.976563 2.839844 Z M 2.933594 -3.859375 C 2.929688 -3.019531 3.09375 -2.398438 3.429688 -2 C 3.757813 -1.59375 4.164063 -1.394531 4.648438 -1.398438 C 5.101563 -1.394531 5.484375 -1.578125 5.792969 -1.949219 C 6.09375 -2.316406 6.246094 -2.921875 6.25 -3.761719 C 6.246094 -4.542969 6.089844 -5.121094 5.777344 -5.503906 C 5.464844 -5.878906 5.074219 -6.070313 4.613281 -6.074219 C 4.125 -6.070313 3.726563 -5.882813 3.410156 -5.515625 C 3.089844 -5.140625 2.929688 -4.589844 2.933594 -3.859375 Z M 2.933594 -3.859375 \"/>\n",
       "</symbol>\n",
       "<symbol overflow=\"visible\" id=\"glyph0-13\">\n",
       "<path style=\"stroke:none;\" d=\"M 2.511719 -5.1875 L 0.71875 -5.511719 C 0.917969 -6.230469 1.265625 -6.765625 1.757813 -7.113281 C 2.25 -7.460938 2.980469 -7.632813 3.953125 -7.636719 C 4.832031 -7.632813 5.488281 -7.53125 5.917969 -7.324219 C 6.347656 -7.113281 6.648438 -6.847656 6.828125 -6.527344 C 7 -6.207031 7.089844 -5.617188 7.09375 -4.761719 L 7.074219 -2.453125 C 7.070313 -1.792969 7.101563 -1.308594 7.167969 -1 C 7.226563 -0.6875 7.347656 -0.355469 7.523438 0 L 5.570313 0 C 5.515625 -0.128906 5.453125 -0.320313 5.378906 -0.582031 C 5.34375 -0.695313 5.320313 -0.773438 5.308594 -0.816406 C 4.96875 -0.484375 4.605469 -0.238281 4.222656 -0.078125 C 3.835938 0.0859375 3.425781 0.164063 2.996094 0.167969 C 2.222656 0.164063 1.617188 -0.0429688 1.175781 -0.457031 C 0.730469 -0.871094 0.507813 -1.398438 0.511719 -2.039063 C 0.507813 -2.460938 0.609375 -2.835938 0.8125 -3.167969 C 1.011719 -3.496094 1.292969 -3.75 1.660156 -3.925781 C 2.019531 -4.101563 2.546875 -4.253906 3.234375 -4.386719 C 4.15625 -4.558594 4.792969 -4.71875 5.152344 -4.871094 L 5.152344 -5.070313 C 5.148438 -5.445313 5.054688 -5.71875 4.871094 -5.882813 C 4.679688 -6.042969 4.328125 -6.121094 3.8125 -6.125 C 3.457031 -6.121094 3.183594 -6.054688 2.988281 -5.917969 C 2.789063 -5.777344 2.628906 -5.53125 2.511719 -5.1875 Z M 5.152344 -3.585938 C 4.894531 -3.5 4.496094 -3.398438 3.949219 -3.285156 C 3.402344 -3.164063 3.042969 -3.046875 2.875 -2.9375 C 2.613281 -2.75 2.484375 -2.519531 2.488281 -2.242188 C 2.484375 -1.964844 2.585938 -1.726563 2.796875 -1.523438 C 3 -1.320313 3.265625 -1.21875 3.585938 -1.222656 C 3.941406 -1.21875 4.28125 -1.335938 4.605469 -1.574219 C 4.84375 -1.75 5 -1.96875 5.078125 -2.230469 C 5.125 -2.394531 5.148438 -2.714844 5.152344 -3.191406 Z M 5.152344 -3.585938 \"/>\n",
       "</symbol>\n",
       "<symbol overflow=\"visible\" id=\"glyph0-14\">\n",
       "<path style=\"stroke:none;\" d=\"M 1.035156 -8.480469 L 1.035156 -10.308594 L 3.007813 -10.308594 L 3.007813 -8.480469 Z M 1.035156 0 L 1.035156 -7.46875 L 3.007813 -7.46875 L 3.007813 0 Z M 1.035156 0 \"/>\n",
       "</symbol>\n",
       "<symbol overflow=\"visible\" id=\"glyph0-15\">\n",
       "<path style=\"stroke:none;\" d=\"M 1.035156 0 L 1.035156 -10.308594 L 3.007813 -10.308594 L 3.007813 0 Z M 1.035156 0 \"/>\n",
       "</symbol>\n",
       "<symbol overflow=\"visible\" id=\"glyph0-16\">\n",
       "<path style=\"stroke:none;\" d=\"M 4.457031 -7.46875 L 4.457031 -5.890625 L 3.109375 -5.890625 L 3.109375 -2.882813 C 3.105469 -2.273438 3.117188 -1.917969 3.144531 -1.816406 C 3.167969 -1.714844 3.226563 -1.628906 3.320313 -1.566406 C 3.410156 -1.496094 3.523438 -1.464844 3.65625 -1.46875 C 3.835938 -1.464844 4.097656 -1.527344 4.449219 -1.660156 L 4.621094 -0.125 C 4.15625 0.0703125 3.636719 0.164063 3.058594 0.167969 C 2.699219 0.164063 2.375 0.105469 2.09375 -0.0117188 C 1.804688 -0.128906 1.597656 -0.28125 1.464844 -0.472656 C 1.332031 -0.660156 1.238281 -0.917969 1.1875 -1.246094 C 1.144531 -1.472656 1.125 -1.9375 1.125 -2.636719 L 1.125 -5.890625 L 0.21875 -5.890625 L 0.21875 -7.46875 L 1.125 -7.46875 L 1.125 -8.949219 L 3.109375 -10.105469 L 3.109375 -7.46875 Z M 4.457031 -7.46875 \"/>\n",
       "</symbol>\n",
       "<symbol overflow=\"visible\" id=\"glyph1-0\">\n",
       "<path style=\"stroke:none;\" d=\"M 0.984375 0 L 0.984375 -8.589844 L 6.78125 -8.589844 L 6.78125 -7.578125 L 2.121094 -7.578125 L 2.121094 -4.914063 L 6.152344 -4.914063 L 6.152344 -3.902344 L 2.121094 -3.902344 L 2.121094 0 Z M 0.984375 0 \"/>\n",
       "</symbol>\n",
       "<symbol overflow=\"visible\" id=\"glyph1-1\">\n",
       "<path style=\"stroke:none;\" d=\"M 4.851563 -0.765625 C 4.460938 -0.433594 4.082031 -0.199219 3.722656 -0.0625 C 3.355469 0.0742188 2.96875 0.140625 2.5625 0.140625 C 1.875 0.140625 1.351563 -0.0234375 0.984375 -0.359375 C 0.617188 -0.6875 0.433594 -1.117188 0.433594 -1.640625 C 0.433594 -1.945313 0.5 -2.222656 0.640625 -2.472656 C 0.777344 -2.722656 0.960938 -2.925781 1.1875 -3.082031 C 1.410156 -3.234375 1.664063 -3.347656 1.945313 -3.429688 C 2.152344 -3.476563 2.464844 -3.53125 2.882813 -3.585938 C 3.734375 -3.6875 4.359375 -3.808594 4.765625 -3.949219 C 4.765625 -4.089844 4.769531 -4.179688 4.769531 -4.226563 C 4.769531 -4.648438 4.667969 -4.953125 4.46875 -5.132813 C 4.199219 -5.371094 3.800781 -5.488281 3.269531 -5.492188 C 2.769531 -5.488281 2.402344 -5.402344 2.167969 -5.230469 C 1.933594 -5.054688 1.757813 -4.746094 1.648438 -4.304688 L 0.617188 -4.445313 C 0.707031 -4.886719 0.863281 -5.242188 1.078125 -5.515625 C 1.289063 -5.78125 1.597656 -5.992188 2.007813 -6.140625 C 2.410156 -6.289063 2.882813 -6.363281 3.421875 -6.363281 C 3.953125 -6.363281 4.382813 -6.300781 4.714844 -6.175781 C 5.046875 -6.050781 5.292969 -5.890625 5.449219 -5.703125 C 5.605469 -5.511719 5.714844 -5.273438 5.777344 -4.984375 C 5.808594 -4.804688 5.824219 -4.480469 5.828125 -4.015625 L 5.828125 -2.609375 C 5.824219 -1.625 5.847656 -1.003906 5.894531 -0.746094 C 5.941406 -0.484375 6.03125 -0.238281 6.164063 0 L 5.0625 0 C 4.953125 -0.21875 4.882813 -0.472656 4.851563 -0.765625 Z M 4.765625 -3.125 C 4.375 -2.964844 3.800781 -2.832031 3.039063 -2.726563 C 2.605469 -2.660156 2.300781 -2.589844 2.121094 -2.515625 C 1.941406 -2.433594 1.800781 -2.320313 1.703125 -2.171875 C 1.605469 -2.019531 1.558594 -1.851563 1.558594 -1.671875 C 1.558594 -1.386719 1.664063 -1.152344 1.875 -0.96875 C 2.085938 -0.777344 2.398438 -0.683594 2.8125 -0.6875 C 3.21875 -0.683594 3.578125 -0.773438 3.894531 -0.953125 C 4.210938 -1.128906 4.445313 -1.371094 4.59375 -1.679688 C 4.707031 -1.917969 4.761719 -2.269531 4.765625 -2.734375 Z M 4.765625 -3.125 \"/>\n",
       "</symbol>\n",
       "<symbol overflow=\"visible\" id=\"glyph1-2\">\n",
       "<path style=\"stroke:none;\" d=\"M 0.765625 0 L 0.765625 -8.589844 L 1.820313 -8.589844 L 1.820313 0 Z M 0.765625 0 \"/>\n",
       "</symbol>\n",
       "<symbol overflow=\"visible\" id=\"glyph1-3\">\n",
       "<path style=\"stroke:none;\" d=\"M 0.367188 -1.859375 L 1.414063 -2.023438 C 1.46875 -1.601563 1.632813 -1.28125 1.902344 -1.058594 C 2.167969 -0.835938 2.542969 -0.726563 3.023438 -0.726563 C 3.507813 -0.726563 3.867188 -0.824219 4.101563 -1.023438 C 4.335938 -1.21875 4.453125 -1.449219 4.453125 -1.71875 C 4.453125 -1.953125 4.347656 -2.140625 4.140625 -2.28125 C 3.996094 -2.371094 3.636719 -2.492188 3.0625 -2.636719 C 2.289063 -2.832031 1.753906 -3 1.457031 -3.144531 C 1.15625 -3.285156 0.929688 -3.480469 0.777344 -3.734375 C 0.621094 -3.984375 0.542969 -4.265625 0.546875 -4.570313 C 0.542969 -4.84375 0.605469 -5.097656 0.734375 -5.339844 C 0.859375 -5.574219 1.035156 -5.773438 1.253906 -5.929688 C 1.417969 -6.046875 1.640625 -6.148438 1.925781 -6.234375 C 2.207031 -6.320313 2.511719 -6.363281 2.835938 -6.363281 C 3.324219 -6.363281 3.75 -6.292969 4.121094 -6.152344 C 4.488281 -6.011719 4.761719 -5.820313 4.9375 -5.578125 C 5.113281 -5.335938 5.234375 -5.015625 5.304688 -4.617188 L 4.273438 -4.476563 C 4.222656 -4.796875 4.085938 -5.046875 3.863281 -5.226563 C 3.636719 -5.40625 3.320313 -5.496094 2.914063 -5.496094 C 2.425781 -5.496094 2.082031 -5.414063 1.875 -5.253906 C 1.664063 -5.09375 1.558594 -4.90625 1.5625 -4.695313 C 1.558594 -4.554688 1.601563 -4.433594 1.695313 -4.324219 C 1.773438 -4.210938 1.910156 -4.117188 2.097656 -4.042969 C 2.203125 -4.003906 2.511719 -3.914063 3.03125 -3.773438 C 3.773438 -3.574219 4.292969 -3.410156 4.589844 -3.285156 C 4.878906 -3.15625 5.113281 -2.972656 5.285156 -2.730469 C 5.453125 -2.488281 5.535156 -2.1875 5.539063 -1.828125 C 5.535156 -1.476563 5.433594 -1.144531 5.230469 -0.832031 C 5.023438 -0.519531 4.726563 -0.277344 4.339844 -0.113281 C 3.953125 0.0585938 3.515625 0.140625 3.03125 0.140625 C 2.21875 0.140625 1.601563 -0.0273438 1.179688 -0.363281 C 0.753906 -0.699219 0.484375 -1.195313 0.367188 -1.859375 Z M 0.367188 -1.859375 \"/>\n",
       "</symbol>\n",
       "<symbol overflow=\"visible\" id=\"glyph1-4\">\n",
       "<path style=\"stroke:none;\" d=\"M 5.050781 -2.003906 L 6.140625 -1.867188 C 5.96875 -1.230469 5.648438 -0.738281 5.183594 -0.386719 C 4.71875 -0.0351563 4.125 0.140625 3.40625 0.140625 C 2.492188 0.140625 1.769531 -0.136719 1.238281 -0.699219 C 0.699219 -1.253906 0.433594 -2.042969 0.4375 -3.058594 C 0.433594 -4.105469 0.703125 -4.917969 1.246094 -5.496094 C 1.78125 -6.074219 2.480469 -6.363281 3.34375 -6.363281 C 4.175781 -6.363281 4.855469 -6.078125 5.382813 -5.511719 C 5.910156 -4.945313 6.175781 -4.148438 6.175781 -3.125 C 6.175781 -3.058594 6.171875 -2.964844 6.171875 -2.84375 L 1.53125 -2.84375 C 1.5625 -2.15625 1.757813 -1.632813 2.109375 -1.269531 C 2.457031 -0.90625 2.890625 -0.726563 3.410156 -0.726563 C 3.796875 -0.726563 4.125 -0.828125 4.402344 -1.03125 C 4.671875 -1.234375 4.890625 -1.558594 5.050781 -2.003906 Z M 1.585938 -3.710938 L 5.0625 -3.710938 C 5.015625 -4.226563 4.882813 -4.621094 4.664063 -4.886719 C 4.328125 -5.292969 3.890625 -5.496094 3.359375 -5.496094 C 2.871094 -5.496094 2.464844 -5.332031 2.136719 -5.007813 C 1.804688 -4.683594 1.621094 -4.25 1.585938 -3.710938 Z M 1.585938 -3.710938 \"/>\n",
       "</symbol>\n",
       "<symbol overflow=\"visible\" id=\"glyph1-5\">\n",
       "<path style=\"stroke:none;\" d=\"\"/>\n",
       "</symbol>\n",
       "<symbol overflow=\"visible\" id=\"glyph1-6\">\n",
       "<path style=\"stroke:none;\" d=\"M 0.789063 2.382813 L 0.789063 -6.222656 L 1.75 -6.222656 L 1.75 -5.414063 C 1.976563 -5.730469 2.234375 -5.964844 2.519531 -6.125 C 2.800781 -6.28125 3.144531 -6.363281 3.554688 -6.363281 C 4.082031 -6.363281 4.550781 -6.226563 4.960938 -5.953125 C 5.363281 -5.679688 5.671875 -5.292969 5.882813 -4.792969 C 6.089844 -4.292969 6.191406 -3.746094 6.195313 -3.15625 C 6.191406 -2.519531 6.078125 -1.945313 5.851563 -1.4375 C 5.621094 -0.921875 5.289063 -0.53125 4.855469 -0.265625 C 4.417969 0.0078125 3.960938 0.140625 3.480469 0.140625 C 3.128906 0.140625 2.8125 0.0664063 2.535156 -0.0820313 C 2.253906 -0.230469 2.023438 -0.417969 1.84375 -0.644531 L 1.84375 2.382813 Z M 1.746094 -3.078125 C 1.746094 -2.273438 1.90625 -1.683594 2.230469 -1.300781 C 2.554688 -0.917969 2.949219 -0.726563 3.410156 -0.726563 C 3.878906 -0.726563 4.277344 -0.921875 4.613281 -1.320313 C 4.945313 -1.710938 5.113281 -2.328125 5.117188 -3.164063 C 5.113281 -3.953125 4.949219 -4.546875 4.625 -4.945313 C 4.296875 -5.339844 3.910156 -5.535156 3.457031 -5.539063 C 3.003906 -5.535156 2.605469 -5.324219 2.261719 -4.90625 C 1.917969 -4.484375 1.746094 -3.875 1.746094 -3.078125 Z M 1.746094 -3.078125 \"/>\n",
       "</symbol>\n",
       "<symbol overflow=\"visible\" id=\"glyph1-7\">\n",
       "<path style=\"stroke:none;\" d=\"M 0.398438 -3.109375 C 0.398438 -4.261719 0.71875 -5.117188 1.359375 -5.671875 C 1.894531 -6.132813 2.546875 -6.363281 3.316406 -6.363281 C 4.171875 -6.363281 4.871094 -6.082031 5.414063 -5.519531 C 5.953125 -4.957031 6.222656 -4.183594 6.226563 -3.199219 C 6.222656 -2.398438 6.101563 -1.765625 5.867188 -1.308594 C 5.625 -0.847656 5.277344 -0.492188 4.820313 -0.238281 C 4.359375 0.015625 3.859375 0.140625 3.316406 0.140625 C 2.441406 0.140625 1.734375 -0.136719 1.203125 -0.695313 C 0.664063 -1.253906 0.398438 -2.058594 0.398438 -3.109375 Z M 1.484375 -3.109375 C 1.480469 -2.308594 1.65625 -1.710938 2.003906 -1.320313 C 2.347656 -0.921875 2.785156 -0.726563 3.316406 -0.726563 C 3.839844 -0.726563 4.273438 -0.925781 4.621094 -1.324219 C 4.96875 -1.722656 5.144531 -2.328125 5.144531 -3.148438 C 5.144531 -3.914063 4.96875 -4.496094 4.617188 -4.894531 C 4.265625 -5.289063 3.832031 -5.488281 3.316406 -5.492188 C 2.785156 -5.488281 2.347656 -5.292969 2.003906 -4.898438 C 1.65625 -4.5 1.480469 -3.902344 1.484375 -3.109375 Z M 1.484375 -3.109375 \"/>\n",
       "</symbol>\n",
       "<symbol overflow=\"visible\" id=\"glyph1-8\">\n",
       "<path style=\"stroke:none;\" d=\"M 0.796875 -7.375 L 0.796875 -8.589844 L 1.851563 -8.589844 L 1.851563 -7.375 Z M 0.796875 0 L 0.796875 -6.222656 L 1.851563 -6.222656 L 1.851563 0 Z M 0.796875 0 \"/>\n",
       "</symbol>\n",
       "<symbol overflow=\"visible\" id=\"glyph1-9\">\n",
       "<path style=\"stroke:none;\" d=\"M 3.09375 -0.945313 L 3.246094 -0.0117188 C 2.949219 0.0507813 2.683594 0.0820313 2.449219 0.0820313 C 2.066406 0.0820313 1.769531 0.0234375 1.558594 -0.0976563 C 1.347656 -0.21875 1.199219 -0.378906 1.113281 -0.578125 C 1.027344 -0.773438 0.984375 -1.1875 0.984375 -1.820313 L 0.984375 -5.402344 L 0.210938 -5.402344 L 0.210938 -6.222656 L 0.984375 -6.222656 L 0.984375 -7.765625 L 2.03125 -8.398438 L 2.03125 -6.222656 L 3.09375 -6.222656 L 3.09375 -5.402344 L 2.03125 -5.402344 L 2.03125 -1.765625 C 2.027344 -1.460938 2.046875 -1.269531 2.085938 -1.183594 C 2.125 -1.097656 2.183594 -1.027344 2.269531 -0.976563 C 2.351563 -0.925781 2.472656 -0.902344 2.632813 -0.902344 C 2.742188 -0.902344 2.898438 -0.914063 3.09375 -0.945313 Z M 3.09375 -0.945313 \"/>\n",
       "</symbol>\n",
       "<symbol overflow=\"visible\" id=\"glyph1-10\">\n",
       "<path style=\"stroke:none;\" d=\"M 2.519531 0 L 0.152344 -6.222656 L 1.265625 -6.222656 L 2.601563 -2.496094 C 2.746094 -2.089844 2.878906 -1.671875 3 -1.242188 C 3.09375 -1.570313 3.222656 -1.964844 3.390625 -2.425781 L 4.773438 -6.222656 L 5.859375 -6.222656 L 3.503906 0 Z M 2.519531 0 \"/>\n",
       "</symbol>\n",
       "<symbol overflow=\"visible\" id=\"glyph1-11\">\n",
       "<path style=\"stroke:none;\" d=\"M 0.78125 0 L 0.78125 -6.222656 L 1.726563 -6.222656 L 1.726563 -5.28125 C 1.96875 -5.71875 2.191406 -6.011719 2.398438 -6.152344 C 2.601563 -6.292969 2.828125 -6.363281 3.078125 -6.363281 C 3.429688 -6.363281 3.792969 -6.25 4.160156 -6.023438 L 3.796875 -5.046875 C 3.539063 -5.195313 3.28125 -5.273438 3.023438 -5.273438 C 2.792969 -5.273438 2.585938 -5.203125 2.402344 -5.066406 C 2.214844 -4.925781 2.082031 -4.734375 2.007813 -4.488281 C 1.890625 -4.113281 1.832031 -3.703125 1.835938 -3.257813 L 1.835938 0 Z M 0.78125 0 \"/>\n",
       "</symbol>\n",
       "<symbol overflow=\"visible\" id=\"glyph1-12\">\n",
       "<path style=\"stroke:none;\" d=\"M 0.5 -4.234375 C 0.496094 -5.246094 0.601563 -6.0625 0.8125 -6.6875 C 1.019531 -7.304688 1.328125 -7.785156 1.742188 -8.121094 C 2.148438 -8.457031 2.667969 -8.625 3.296875 -8.625 C 3.757813 -8.625 4.164063 -8.53125 4.511719 -8.347656 C 4.855469 -8.160156 5.140625 -7.890625 5.371094 -7.542969 C 5.59375 -7.191406 5.773438 -6.765625 5.90625 -6.265625 C 6.035156 -5.761719 6.097656 -5.085938 6.101563 -4.234375 C 6.097656 -3.226563 5.996094 -2.414063 5.789063 -1.796875 C 5.578125 -1.175781 5.265625 -0.695313 4.859375 -0.359375 C 4.445313 -0.0195313 3.925781 0.144531 3.296875 0.148438 C 2.464844 0.144531 1.816406 -0.148438 1.347656 -0.742188 C 0.78125 -1.457031 0.496094 -2.621094 0.5 -4.234375 Z M 1.582031 -4.234375 C 1.582031 -2.824219 1.746094 -1.886719 2.074219 -1.417969 C 2.402344 -0.949219 2.808594 -0.714844 3.296875 -0.71875 C 3.777344 -0.714844 4.183594 -0.949219 4.519531 -1.421875 C 4.847656 -1.886719 5.015625 -2.824219 5.015625 -4.234375 C 5.015625 -5.648438 4.847656 -6.589844 4.519531 -7.054688 C 4.183594 -7.515625 3.773438 -7.746094 3.289063 -7.75 C 2.800781 -7.746094 2.414063 -7.542969 2.125 -7.136719 C 1.761719 -6.613281 1.582031 -5.644531 1.582031 -4.234375 Z M 1.582031 -4.234375 \"/>\n",
       "</symbol>\n",
       "<symbol overflow=\"visible\" id=\"glyph1-13\">\n",
       "<path style=\"stroke:none;\" d=\"M 1.089844 0 L 1.089844 -1.203125 L 2.289063 -1.203125 L 2.289063 0 Z M 1.089844 0 \"/>\n",
       "</symbol>\n",
       "<symbol overflow=\"visible\" id=\"glyph1-14\">\n",
       "<path style=\"stroke:none;\" d=\"M 6.039063 -1.015625 L 6.039063 0 L 0.363281 0 C 0.355469 -0.253906 0.394531 -0.496094 0.484375 -0.734375 C 0.628906 -1.117188 0.859375 -1.5 1.179688 -1.875 C 1.492188 -2.25 1.953125 -2.683594 2.5625 -3.175781 C 3.492188 -3.941406 4.125 -4.546875 4.453125 -4.992188 C 4.78125 -5.4375 4.945313 -5.859375 4.945313 -6.265625 C 4.945313 -6.679688 4.792969 -7.03125 4.496094 -7.320313 C 4.191406 -7.601563 3.804688 -7.746094 3.328125 -7.75 C 2.820313 -7.746094 2.414063 -7.59375 2.109375 -7.292969 C 1.804688 -6.984375 1.648438 -6.5625 1.648438 -6.03125 L 0.5625 -6.140625 C 0.632813 -6.945313 0.910156 -7.558594 1.398438 -7.988281 C 1.878906 -8.410156 2.53125 -8.625 3.351563 -8.625 C 4.171875 -8.625 4.824219 -8.394531 5.308594 -7.9375 C 5.789063 -7.480469 6.027344 -6.914063 6.03125 -6.242188 C 6.027344 -5.894531 5.957031 -5.558594 5.820313 -5.226563 C 5.675781 -4.890625 5.441406 -4.539063 5.117188 -4.175781 C 4.789063 -3.804688 4.25 -3.300781 3.492188 -2.664063 C 2.859375 -2.128906 2.453125 -1.769531 2.273438 -1.582031 C 2.09375 -1.394531 1.945313 -1.203125 1.828125 -1.015625 Z M 6.039063 -1.015625 \"/>\n",
       "</symbol>\n",
       "<symbol overflow=\"visible\" id=\"glyph1-15\">\n",
       "<path style=\"stroke:none;\" d=\"M 3.878906 0 L 3.878906 -2.054688 L 0.152344 -2.054688 L 0.152344 -3.023438 L 4.070313 -8.589844 L 4.933594 -8.589844 L 4.933594 -3.023438 L 6.09375 -3.023438 L 6.09375 -2.054688 L 4.933594 -2.054688 L 4.933594 0 Z M 3.878906 -3.023438 L 3.878906 -6.898438 L 1.1875 -3.023438 Z M 3.878906 -3.023438 \"/>\n",
       "</symbol>\n",
       "<symbol overflow=\"visible\" id=\"glyph1-16\">\n",
       "<path style=\"stroke:none;\" d=\"M 5.96875 -6.484375 L 4.921875 -6.40625 C 4.828125 -6.8125 4.695313 -7.113281 4.523438 -7.304688 C 4.234375 -7.605469 3.882813 -7.757813 3.46875 -7.757813 C 3.132813 -7.757813 2.835938 -7.664063 2.585938 -7.476563 C 2.25 -7.234375 1.988281 -6.878906 1.796875 -6.414063 C 1.605469 -5.949219 1.507813 -5.289063 1.5 -4.429688 C 1.753906 -4.8125 2.0625 -5.097656 2.433594 -5.289063 C 2.796875 -5.472656 3.183594 -5.566406 3.585938 -5.570313 C 4.289063 -5.566406 4.886719 -5.308594 5.382813 -4.792969 C 5.875 -4.277344 6.121094 -3.609375 6.125 -2.789063 C 6.121094 -2.25 6.003906 -1.746094 5.773438 -1.285156 C 5.539063 -0.820313 5.222656 -0.46875 4.816406 -0.222656 C 4.410156 0.0234375 3.949219 0.144531 3.433594 0.148438 C 2.554688 0.144531 1.835938 -0.175781 1.285156 -0.820313 C 0.726563 -1.46875 0.449219 -2.535156 0.453125 -4.019531 C 0.449219 -5.675781 0.757813 -6.882813 1.371094 -7.640625 C 1.902344 -8.296875 2.621094 -8.625 3.53125 -8.625 C 4.207031 -8.625 4.761719 -8.433594 5.195313 -8.054688 C 5.625 -7.675781 5.882813 -7.152344 5.96875 -6.484375 Z M 1.664063 -2.78125 C 1.664063 -2.417969 1.738281 -2.070313 1.894531 -1.738281 C 2.042969 -1.40625 2.261719 -1.152344 2.542969 -0.980469 C 2.820313 -0.800781 3.109375 -0.714844 3.414063 -0.71875 C 3.859375 -0.714844 4.242188 -0.894531 4.566406 -1.257813 C 4.882813 -1.613281 5.042969 -2.101563 5.046875 -2.726563 C 5.042969 -3.316406 4.886719 -3.785156 4.570313 -4.128906 C 4.25 -4.46875 3.851563 -4.640625 3.375 -4.640625 C 2.898438 -4.640625 2.492188 -4.46875 2.160156 -4.128906 C 1.828125 -3.785156 1.664063 -3.335938 1.664063 -2.78125 Z M 1.664063 -2.78125 \"/>\n",
       "</symbol>\n",
       "<symbol overflow=\"visible\" id=\"glyph1-17\">\n",
       "<path style=\"stroke:none;\" d=\"M 2.121094 -4.65625 C 1.683594 -4.816406 1.359375 -5.046875 1.148438 -5.34375 C 0.9375 -5.640625 0.832031 -5.996094 0.832031 -6.410156 C 0.832031 -7.035156 1.054688 -7.558594 1.503906 -7.984375 C 1.953125 -8.410156 2.550781 -8.625 3.296875 -8.625 C 4.042969 -8.625 4.648438 -8.40625 5.109375 -7.972656 C 5.566406 -7.535156 5.792969 -7.003906 5.796875 -6.382813 C 5.792969 -5.976563 5.6875 -5.628906 5.480469 -5.339844 C 5.269531 -5.042969 4.953125 -4.816406 4.53125 -4.65625 C 5.054688 -4.480469 5.457031 -4.203125 5.734375 -3.824219 C 6.007813 -3.4375 6.144531 -2.980469 6.148438 -2.453125 C 6.144531 -1.714844 5.886719 -1.097656 5.367188 -0.601563 C 4.84375 -0.101563 4.160156 0.144531 3.316406 0.148438 C 2.46875 0.144531 1.785156 -0.101563 1.265625 -0.605469 C 0.742188 -1.105469 0.480469 -1.734375 0.484375 -2.484375 C 0.480469 -3.039063 0.621094 -3.503906 0.910156 -3.886719 C 1.191406 -4.261719 1.597656 -4.519531 2.121094 -4.65625 Z M 1.910156 -6.445313 C 1.910156 -6.039063 2.039063 -5.707031 2.300781 -5.449219 C 2.5625 -5.191406 2.902344 -5.0625 3.320313 -5.0625 C 3.722656 -5.0625 4.054688 -5.1875 4.320313 -5.445313 C 4.578125 -5.695313 4.710938 -6.011719 4.710938 -6.386719 C 4.710938 -6.773438 4.574219 -7.097656 4.308594 -7.363281 C 4.035156 -7.625 3.703125 -7.757813 3.3125 -7.757813 C 2.90625 -7.757813 2.574219 -7.628906 2.308594 -7.371094 C 2.042969 -7.113281 1.910156 -6.804688 1.910156 -6.445313 Z M 1.570313 -2.476563 C 1.570313 -2.175781 1.640625 -1.886719 1.785156 -1.605469 C 1.925781 -1.324219 2.136719 -1.105469 2.421875 -0.949219 C 2.699219 -0.792969 3.003906 -0.714844 3.328125 -0.71875 C 3.832031 -0.714844 4.246094 -0.878906 4.578125 -1.207031 C 4.902344 -1.53125 5.066406 -1.941406 5.070313 -2.445313 C 5.066406 -2.945313 4.898438 -3.367188 4.5625 -3.703125 C 4.222656 -4.035156 3.800781 -4.199219 3.292969 -4.203125 C 2.792969 -4.199219 2.378906 -4.035156 2.058594 -3.710938 C 1.730469 -3.378906 1.570313 -2.96875 1.570313 -2.476563 Z M 1.570313 -2.476563 \"/>\n",
       "</symbol>\n",
       "<symbol overflow=\"visible\" id=\"glyph1-18\">\n",
       "<path style=\"stroke:none;\" d=\"M 4.46875 0 L 3.414063 0 L 3.414063 -6.71875 C 3.160156 -6.476563 2.828125 -6.234375 2.414063 -5.996094 C 2 -5.75 1.628906 -5.570313 1.304688 -5.449219 L 1.304688 -6.46875 C 1.894531 -6.742188 2.410156 -7.078125 2.851563 -7.476563 C 3.292969 -7.871094 3.605469 -8.253906 3.789063 -8.625 L 4.46875 -8.625 Z M 4.46875 0 \"/>\n",
       "</symbol>\n",
       "<symbol overflow=\"visible\" id=\"glyph2-0\">\n",
       "<path style=\"stroke:none;\" d=\"M 0 -3.109375 L -7.578125 -3.113281 L -7.578125 -0.28125 L -8.589844 -0.28125 L -8.589844 -7.089844 L -7.578125 -7.089844 L -7.578125 -4.25 L 0 -4.25 Z M 0 -3.109375 \"/>\n",
       "</symbol>\n",
       "<symbol overflow=\"visible\" id=\"glyph2-1\">\n",
       "<path style=\"stroke:none;\" d=\"M 0 -0.78125 L -6.222656 -0.78125 L -6.222656 -1.730469 L -5.28125 -1.730469 C -5.71875 -1.96875 -6.011719 -2.191406 -6.152344 -2.398438 C -6.292969 -2.601563 -6.363281 -2.828125 -6.363281 -3.078125 C -6.363281 -3.429688 -6.25 -3.792969 -6.023438 -4.160156 L -5.046875 -3.796875 C -5.195313 -3.539063 -5.273438 -3.28125 -5.273438 -3.023438 C -5.273438 -2.792969 -5.203125 -2.585938 -5.066406 -2.402344 C -4.925781 -2.21875 -4.734375 -2.085938 -4.488281 -2.011719 C -4.113281 -1.890625 -3.703125 -1.832031 -3.257813 -1.835938 L 0 -1.835938 Z M 0 -0.78125 \"/>\n",
       "</symbol>\n",
       "<symbol overflow=\"visible\" id=\"glyph2-2\">\n",
       "<path style=\"stroke:none;\" d=\"M 0 -4.867188 L -0.914063 -4.867188 C -0.210938 -4.378906 0.140625 -3.722656 0.140625 -2.894531 C 0.140625 -2.527344 0.0703125 -2.183594 -0.0703125 -1.867188 C -0.210938 -1.546875 -0.386719 -1.308594 -0.597656 -1.15625 C -0.808594 -1 -1.070313 -0.894531 -1.382813 -0.832031 C -1.589844 -0.789063 -1.917969 -0.765625 -2.367188 -0.769531 L -6.222656 -0.769531 L -6.222656 -1.824219 L -2.773438 -1.824219 C -2.21875 -1.820313 -1.847656 -1.84375 -1.65625 -1.886719 C -1.378906 -1.949219 -1.160156 -2.089844 -1.003906 -2.308594 C -0.839844 -2.523438 -0.761719 -2.789063 -0.765625 -3.105469 C -0.761719 -3.417969 -0.84375 -3.714844 -1.007813 -3.996094 C -1.171875 -4.273438 -1.390625 -4.46875 -1.671875 -4.585938 C -1.945313 -4.699219 -2.351563 -4.757813 -2.886719 -4.757813 L -6.222656 -4.757813 L -6.222656 -5.8125 L 0 -5.8125 Z M 0 -4.867188 \"/>\n",
       "</symbol>\n",
       "<symbol overflow=\"visible\" id=\"glyph2-3\">\n",
       "<path style=\"stroke:none;\" d=\"M -2.003906 -5.050781 L -1.867188 -6.140625 C -1.230469 -5.96875 -0.738281 -5.648438 -0.386719 -5.183594 C -0.0351563 -4.71875 0.140625 -4.125 0.140625 -3.40625 C 0.140625 -2.492188 -0.136719 -1.769531 -0.699219 -1.238281 C -1.253906 -0.703125 -2.042969 -0.4375 -3.058594 -0.441406 C -4.105469 -0.4375 -4.917969 -0.707031 -5.496094 -1.25 C -6.074219 -1.785156 -6.363281 -2.484375 -6.363281 -3.347656 C -6.363281 -4.175781 -6.078125 -4.855469 -5.511719 -5.382813 C -4.945313 -5.910156 -4.148438 -6.175781 -3.121094 -6.175781 C -3.054688 -6.175781 -2.960938 -6.171875 -2.839844 -6.171875 L -2.84375 -1.53125 C -2.15625 -1.566406 -1.632813 -1.761719 -1.269531 -2.109375 C -0.90625 -2.457031 -0.726563 -2.890625 -0.726563 -3.410156 C -0.726563 -3.796875 -0.828125 -4.125 -1.03125 -4.402344 C -1.234375 -4.671875 -1.558594 -4.890625 -2.003906 -5.050781 Z M -3.710938 -1.589844 L -3.707031 -5.0625 C -4.226563 -5.015625 -4.621094 -4.882813 -4.886719 -4.664063 C -5.292969 -4.328125 -5.496094 -3.890625 -5.496094 -3.359375 C -5.496094 -2.871094 -5.332031 -2.464844 -5.007813 -2.136719 C -4.683594 -1.804688 -4.25 -1.621094 -3.710938 -1.589844 Z M -3.710938 -1.589844 \"/>\n",
       "</symbol>\n",
       "<symbol overflow=\"visible\" id=\"glyph2-4\">\n",
       "<path style=\"stroke:none;\" d=\"\"/>\n",
       "</symbol>\n",
       "<symbol overflow=\"visible\" id=\"glyph2-5\">\n",
       "<path style=\"stroke:none;\" d=\"M 2.382813 -0.789063 L -6.222656 -0.792969 L -6.222656 -1.753906 L -5.414063 -1.753906 C -5.730469 -1.976563 -5.964844 -2.234375 -6.125 -2.519531 C -6.28125 -2.804688 -6.363281 -3.148438 -6.363281 -3.558594 C -6.363281 -4.082031 -6.226563 -4.550781 -5.953125 -4.960938 C -5.679688 -5.363281 -5.292969 -5.671875 -4.792969 -5.882813 C -4.292969 -6.089844 -3.746094 -6.191406 -3.15625 -6.195313 C -2.519531 -6.191406 -1.945313 -6.078125 -1.4375 -5.851563 C -0.921875 -5.621094 -0.53125 -5.289063 -0.265625 -4.855469 C 0.0078125 -4.417969 0.140625 -3.960938 0.140625 -3.480469 C 0.140625 -3.128906 0.0664063 -2.8125 -0.0820313 -2.535156 C -0.230469 -2.253906 -0.417969 -2.023438 -0.644531 -1.84375 L 2.382813 -1.84375 Z M -3.078125 -1.746094 C -2.273438 -1.746094 -1.683594 -1.90625 -1.300781 -2.230469 C -0.917969 -2.554688 -0.726563 -2.949219 -0.726563 -3.410156 C -0.726563 -3.878906 -0.921875 -4.277344 -1.320313 -4.613281 C -1.710938 -4.945313 -2.328125 -5.113281 -3.164063 -5.117188 C -3.953125 -5.113281 -4.546875 -4.949219 -4.945313 -4.625 C -5.339844 -4.296875 -5.535156 -3.910156 -5.539063 -3.457031 C -5.535156 -3.007813 -5.324219 -2.609375 -4.90625 -2.265625 C -4.484375 -1.917969 -3.875 -1.746094 -3.078125 -1.746094 Z M -3.078125 -1.746094 \"/>\n",
       "</symbol>\n",
       "<symbol overflow=\"visible\" id=\"glyph2-6\">\n",
       "<path style=\"stroke:none;\" d=\"M -3.109375 -0.398438 C -4.261719 -0.398438 -5.117188 -0.71875 -5.671875 -1.359375 C -6.132813 -1.894531 -6.363281 -2.546875 -6.363281 -3.316406 C -6.363281 -4.171875 -6.082031 -4.871094 -5.519531 -5.414063 C -4.957031 -5.953125 -4.183594 -6.222656 -3.199219 -6.226563 C -2.394531 -6.222656 -1.761719 -6.101563 -1.308594 -5.867188 C -0.847656 -5.625 -0.492188 -5.277344 -0.238281 -4.820313 C 0.015625 -4.359375 0.140625 -3.859375 0.140625 -3.316406 C 0.140625 -2.441406 -0.136719 -1.734375 -0.695313 -1.203125 C -1.253906 -0.664063 -2.058594 -0.398438 -3.109375 -0.398438 Z M -3.109375 -1.484375 C -2.308594 -1.480469 -1.710938 -1.65625 -1.320313 -2.003906 C -0.921875 -2.347656 -0.726563 -2.785156 -0.726563 -3.316406 C -0.726563 -3.839844 -0.925781 -4.273438 -1.324219 -4.621094 C -1.722656 -4.96875 -2.328125 -5.144531 -3.144531 -5.144531 C -3.914063 -5.144531 -4.496094 -4.96875 -4.894531 -4.617188 C -5.289063 -4.265625 -5.488281 -3.832031 -5.492188 -3.316406 C -5.488281 -2.789063 -5.292969 -2.351563 -4.898438 -2.003906 C -4.5 -1.65625 -3.902344 -1.480469 -3.109375 -1.484375 Z M -3.109375 -1.484375 \"/>\n",
       "</symbol>\n",
       "<symbol overflow=\"visible\" id=\"glyph2-7\">\n",
       "<path style=\"stroke:none;\" d=\"M -1.859375 -0.371094 L -2.023438 -1.414063 C -1.601563 -1.46875 -1.28125 -1.632813 -1.058594 -1.902344 C -0.835938 -2.167969 -0.726563 -2.542969 -0.726563 -3.023438 C -0.726563 -3.507813 -0.824219 -3.867188 -1.019531 -4.101563 C -1.214844 -4.335938 -1.445313 -4.453125 -1.714844 -4.453125 C -1.953125 -4.453125 -2.140625 -4.347656 -2.277344 -4.140625 C -2.367188 -3.996094 -2.488281 -3.636719 -2.636719 -3.0625 C -2.832031 -2.289063 -3 -1.753906 -3.144531 -1.457031 C -3.285156 -1.15625 -3.480469 -0.929688 -3.734375 -0.777344 C -3.984375 -0.621094 -4.265625 -0.542969 -4.570313 -0.546875 C -4.84375 -0.542969 -5.097656 -0.605469 -5.339844 -0.734375 C -5.574219 -0.859375 -5.773438 -1.035156 -5.929688 -1.253906 C -6.046875 -1.417969 -6.148438 -1.640625 -6.234375 -1.925781 C -6.320313 -2.207031 -6.363281 -2.511719 -6.363281 -2.835938 C -6.363281 -3.324219 -6.292969 -3.75 -6.152344 -4.121094 C -6.011719 -4.488281 -5.820313 -4.761719 -5.578125 -4.9375 C -5.335938 -5.113281 -5.015625 -5.234375 -4.617188 -5.304688 L -4.476563 -4.273438 C -4.796875 -4.222656 -5.046875 -4.085938 -5.226563 -3.863281 C -5.40625 -3.636719 -5.496094 -3.320313 -5.496094 -2.914063 C -5.496094 -2.425781 -5.414063 -2.082031 -5.253906 -1.875 C -5.09375 -1.667969 -4.90625 -1.5625 -4.695313 -1.566406 C -4.554688 -1.5625 -4.433594 -1.605469 -4.324219 -1.695313 C -4.210938 -1.777344 -4.117188 -1.914063 -4.042969 -2.097656 C -4.003906 -2.203125 -3.914063 -2.511719 -3.773438 -3.03125 C -3.570313 -3.773438 -3.40625 -4.292969 -3.28125 -4.589844 C -3.15625 -4.878906 -2.972656 -5.113281 -2.730469 -5.285156 C -2.488281 -5.453125 -2.1875 -5.535156 -1.828125 -5.539063 C -1.476563 -5.535156 -1.144531 -5.433594 -0.832031 -5.230469 C -0.519531 -5.023438 -0.277344 -4.726563 -0.113281 -4.339844 C 0.0585938 -3.953125 0.140625 -3.515625 0.140625 -3.03125 C 0.140625 -2.21875 -0.0273438 -1.601563 -0.363281 -1.179688 C -0.699219 -0.753906 -1.195313 -0.484375 -1.859375 -0.371094 Z M -1.859375 -0.371094 \"/>\n",
       "</symbol>\n",
       "<symbol overflow=\"visible\" id=\"glyph2-8\">\n",
       "<path style=\"stroke:none;\" d=\"M -7.375 -0.796875 L -8.589844 -0.796875 L -8.589844 -1.851563 L -7.375 -1.851563 Z M 0 -0.796875 L -6.222656 -0.796875 L -6.222656 -1.851563 L 0 -1.851563 Z M 0 -0.796875 \"/>\n",
       "</symbol>\n",
       "<symbol overflow=\"visible\" id=\"glyph2-9\">\n",
       "<path style=\"stroke:none;\" d=\"M -0.941406 -3.09375 L -0.0117188 -3.246094 C 0.0507813 -2.949219 0.0820313 -2.683594 0.0820313 -2.449219 C 0.0820313 -2.066406 0.0234375 -1.769531 -0.0976563 -1.558594 C -0.21875 -1.347656 -0.378906 -1.199219 -0.574219 -1.113281 C -0.769531 -1.027344 -1.183594 -0.984375 -1.820313 -0.984375 L -5.402344 -0.984375 L -5.402344 -0.210938 L -6.222656 -0.210938 L -6.222656 -0.984375 L -7.765625 -0.984375 L -8.398438 -2.035156 L -6.222656 -2.035156 L -6.222656 -3.09375 L -5.402344 -3.09375 L -5.402344 -2.035156 L -1.761719 -2.03125 C -1.460938 -2.027344 -1.269531 -2.046875 -1.183594 -2.085938 C -1.097656 -2.125 -1.027344 -2.183594 -0.976563 -2.269531 C -0.925781 -2.351563 -0.902344 -2.472656 -0.902344 -2.632813 C -0.902344 -2.742188 -0.914063 -2.898438 -0.941406 -3.09375 Z M -0.941406 -3.09375 \"/>\n",
       "</symbol>\n",
       "<symbol overflow=\"visible\" id=\"glyph2-10\">\n",
       "<path style=\"stroke:none;\" d=\"M 0 -2.519531 L -6.222656 -0.152344 L -6.222656 -1.265625 L -2.496094 -2.601563 C -2.089844 -2.746094 -1.671875 -2.878906 -1.242188 -3 C -1.570313 -3.09375 -1.964844 -3.222656 -2.425781 -3.390625 L -6.222656 -4.773438 L -6.222656 -5.859375 L 0 -3.503906 Z M 0 -2.519531 \"/>\n",
       "</symbol>\n",
       "<symbol overflow=\"visible\" id=\"glyph2-11\">\n",
       "<path style=\"stroke:none;\" d=\"M -0.765625 -4.851563 C -0.433594 -4.460938 -0.199219 -4.082031 -0.0625 -3.722656 C 0.0742188 -3.355469 0.140625 -2.96875 0.140625 -2.5625 C 0.140625 -1.875 -0.0234375 -1.351563 -0.359375 -0.984375 C -0.6875 -0.617188 -1.117188 -0.433594 -1.640625 -0.433594 C -1.945313 -0.433594 -2.222656 -0.5 -2.472656 -0.640625 C -2.722656 -0.777344 -2.925781 -0.960938 -3.082031 -1.1875 C -3.234375 -1.410156 -3.347656 -1.664063 -3.429688 -1.945313 C -3.476563 -2.152344 -3.53125 -2.464844 -3.585938 -2.882813 C -3.6875 -3.734375 -3.808594 -4.359375 -3.949219 -4.765625 C -4.089844 -4.765625 -4.179688 -4.769531 -4.226563 -4.769531 C -4.648438 -4.769531 -4.953125 -4.667969 -5.132813 -4.46875 C -5.371094 -4.199219 -5.488281 -3.800781 -5.492188 -3.269531 C -5.488281 -2.773438 -5.402344 -2.40625 -5.230469 -2.171875 C -5.054688 -1.933594 -4.746094 -1.757813 -4.304688 -1.648438 L -4.445313 -0.617188 C -4.886719 -0.707031 -5.242188 -0.863281 -5.515625 -1.078125 C -5.78125 -1.292969 -5.992188 -1.601563 -6.140625 -2.011719 C -6.289063 -2.414063 -6.363281 -2.886719 -6.363281 -3.421875 C -6.363281 -3.953125 -6.300781 -4.382813 -6.175781 -4.714844 C -6.050781 -5.046875 -5.890625 -5.292969 -5.703125 -5.449219 C -5.511719 -5.605469 -5.273438 -5.714844 -4.984375 -5.777344 C -4.804688 -5.808594 -4.480469 -5.824219 -4.015625 -5.828125 L -2.605469 -5.828125 C -1.625 -5.824219 -1.003906 -5.847656 -0.746094 -5.894531 C -0.480469 -5.941406 -0.234375 -6.03125 0 -6.164063 L 0 -5.0625 C -0.21875 -4.953125 -0.472656 -4.882813 -0.765625 -4.851563 Z M -3.121094 -4.765625 C -2.960938 -4.375 -2.828125 -3.800781 -2.726563 -3.039063 C -2.660156 -2.605469 -2.589844 -2.300781 -2.515625 -2.121094 C -2.433594 -1.941406 -2.320313 -1.800781 -2.171875 -1.703125 C -2.019531 -1.605469 -1.851563 -1.558594 -1.671875 -1.558594 C -1.386719 -1.558594 -1.152344 -1.664063 -0.964844 -1.875 C -0.773438 -2.085938 -0.679688 -2.398438 -0.683594 -2.8125 C -0.679688 -3.21875 -0.769531 -3.578125 -0.949219 -3.894531 C -1.128906 -4.210938 -1.371094 -4.445313 -1.679688 -4.59375 C -1.917969 -4.707031 -2.269531 -4.761719 -2.734375 -4.765625 Z M -3.121094 -4.765625 \"/>\n",
       "</symbol>\n",
       "<symbol overflow=\"visible\" id=\"glyph2-12\">\n",
       "<path style=\"stroke:none;\" d=\"M -4.234375 -0.5 C -5.246094 -0.496094 -6.0625 -0.601563 -6.6875 -0.8125 C -7.304688 -1.019531 -7.785156 -1.328125 -8.121094 -1.742188 C -8.457031 -2.152344 -8.625 -2.671875 -8.625 -3.300781 C -8.625 -3.757813 -8.53125 -4.164063 -8.347656 -4.511719 C -8.160156 -4.859375 -7.890625 -5.144531 -7.542969 -5.371094 C -7.191406 -5.59375 -6.765625 -5.773438 -6.265625 -5.90625 C -5.761719 -6.035156 -5.085938 -6.097656 -4.234375 -6.101563 C -3.222656 -6.097656 -2.410156 -5.996094 -1.792969 -5.789063 C -1.175781 -5.578125 -0.695313 -5.265625 -0.359375 -4.859375 C -0.0195313 -4.445313 0.144531 -3.925781 0.148438 -3.296875 C 0.144531 -2.464844 -0.148438 -1.816406 -0.742188 -1.347656 C -1.457031 -0.78125 -2.621094 -0.496094 -4.234375 -0.5 Z M -4.234375 -1.582031 C -2.824219 -1.582031 -1.886719 -1.746094 -1.417969 -2.074219 C -0.949219 -2.402344 -0.714844 -2.808594 -0.71875 -3.296875 C -0.714844 -3.777344 -0.949219 -4.183594 -1.421875 -4.519531 C -1.886719 -4.847656 -2.824219 -5.015625 -4.234375 -5.015625 C -5.648438 -5.015625 -6.589844 -4.847656 -7.054688 -4.519531 C -7.515625 -4.1875 -7.746094 -3.777344 -7.75 -3.289063 C -7.746094 -2.800781 -7.542969 -2.414063 -7.136719 -2.128906 C -6.613281 -1.761719 -5.644531 -1.582031 -4.234375 -1.582031 Z M -4.234375 -1.582031 \"/>\n",
       "</symbol>\n",
       "<symbol overflow=\"visible\" id=\"glyph2-13\">\n",
       "<path style=\"stroke:none;\" d=\"M 0 -1.089844 L -1.203125 -1.089844 L -1.199219 -2.289063 L 0 -2.289063 Z M 0 -1.089844 \"/>\n",
       "</symbol>\n",
       "<symbol overflow=\"visible\" id=\"glyph2-14\">\n",
       "<path style=\"stroke:none;\" d=\"M -1.011719 -6.039063 L 0 -6.039063 L 0 -0.363281 C -0.253906 -0.355469 -0.496094 -0.394531 -0.734375 -0.488281 C -1.117188 -0.628906 -1.5 -0.859375 -1.875 -1.179688 C -2.25 -1.496094 -2.683594 -1.957031 -3.175781 -2.5625 C -3.941406 -3.492188 -4.546875 -4.125 -4.992188 -4.453125 C -5.4375 -4.78125 -5.859375 -4.945313 -6.265625 -4.945313 C -6.679688 -4.945313 -7.03125 -4.792969 -7.320313 -4.496094 C -7.601563 -4.195313 -7.746094 -3.808594 -7.75 -3.328125 C -7.746094 -2.820313 -7.59375 -2.414063 -7.292969 -2.109375 C -6.984375 -1.804688 -6.5625 -1.648438 -6.03125 -1.648438 L -6.140625 -0.5625 C -6.945313 -0.636719 -7.558594 -0.914063 -7.988281 -1.402344 C -8.410156 -1.882813 -8.625 -2.535156 -8.625 -3.351563 C -8.625 -4.175781 -8.394531 -4.828125 -7.9375 -5.308594 C -7.480469 -5.789063 -6.914063 -6.027344 -6.242188 -6.03125 C -5.894531 -6.027344 -5.558594 -5.957031 -5.226563 -5.820313 C -4.890625 -5.675781 -4.539063 -5.441406 -4.175781 -5.117188 C -3.804688 -4.789063 -3.300781 -4.25 -2.664063 -3.492188 C -2.128906 -2.859375 -1.769531 -2.453125 -1.582031 -2.273438 C -1.394531 -2.09375 -1.203125 -1.945313 -1.011719 -1.828125 Z M -1.011719 -6.039063 \"/>\n",
       "</symbol>\n",
       "<symbol overflow=\"visible\" id=\"glyph2-15\">\n",
       "<path style=\"stroke:none;\" d=\"M 0 -3.878906 L -2.054688 -3.878906 L -2.054688 -0.152344 L -3.023438 -0.152344 L -8.589844 -4.074219 L -8.589844 -4.933594 L -3.023438 -4.933594 L -3.023438 -6.09375 L -2.054688 -6.09375 L -2.054688 -4.933594 L 0 -4.933594 Z M -3.023438 -3.878906 L -6.898438 -3.878906 L -3.023438 -1.191406 Z M -3.023438 -3.878906 \"/>\n",
       "</symbol>\n",
       "<symbol overflow=\"visible\" id=\"glyph2-16\">\n",
       "<path style=\"stroke:none;\" d=\"M -6.484375 -5.96875 L -6.40625 -4.921875 C -6.8125 -4.828125 -7.113281 -4.695313 -7.304688 -4.523438 C -7.605469 -4.238281 -7.757813 -3.886719 -7.757813 -3.46875 C -7.757813 -3.132813 -7.664063 -2.835938 -7.476563 -2.585938 C -7.234375 -2.25 -6.878906 -1.988281 -6.414063 -1.796875 C -5.949219 -1.605469 -5.289063 -1.507813 -4.429688 -1.5 C -4.8125 -1.753906 -5.097656 -2.0625 -5.289063 -2.433594 C -5.472656 -2.796875 -5.566406 -3.183594 -5.570313 -3.585938 C -5.566406 -4.289063 -5.308594 -4.886719 -4.792969 -5.382813 C -4.277344 -5.875 -3.609375 -6.121094 -2.789063 -6.125 C -2.25 -6.121094 -1.746094 -6.003906 -1.285156 -5.773438 C -0.816406 -5.539063 -0.460938 -5.222656 -0.21875 -4.816406 C 0.0273438 -4.410156 0.144531 -3.949219 0.148438 -3.433594 C 0.144531 -2.554688 -0.175781 -1.835938 -0.820313 -1.285156 C -1.46875 -0.726563 -2.535156 -0.449219 -4.019531 -0.453125 C -5.675781 -0.449219 -6.882813 -0.757813 -7.640625 -1.371094 C -8.296875 -1.90625 -8.625 -2.625 -8.625 -3.535156 C -8.625 -4.207031 -8.433594 -4.761719 -8.054688 -5.195313 C -7.675781 -5.625 -7.152344 -5.882813 -6.484375 -5.96875 Z M -2.78125 -1.664063 C -2.417969 -1.664063 -2.070313 -1.738281 -1.738281 -1.894531 C -1.40625 -2.042969 -1.152344 -2.261719 -0.980469 -2.542969 C -0.800781 -2.820313 -0.714844 -3.109375 -0.71875 -3.414063 C -0.714844 -3.859375 -0.894531 -4.242188 -1.257813 -4.566406 C -1.613281 -4.882813 -2.101563 -5.042969 -2.722656 -5.046875 C -3.3125 -5.042969 -3.78125 -4.886719 -4.125 -4.570313 C -4.46875 -4.25 -4.640625 -3.851563 -4.640625 -3.375 C -4.640625 -2.898438 -4.46875 -2.492188 -4.128906 -2.160156 C -3.785156 -1.828125 -3.335938 -1.664063 -2.78125 -1.664063 Z M -2.78125 -1.664063 \"/>\n",
       "</symbol>\n",
       "<symbol overflow=\"visible\" id=\"glyph2-17\">\n",
       "<path style=\"stroke:none;\" d=\"M -4.65625 -2.121094 C -4.816406 -1.683594 -5.046875 -1.359375 -5.34375 -1.148438 C -5.640625 -0.9375 -5.996094 -0.832031 -6.410156 -0.832031 C -7.035156 -0.832031 -7.558594 -1.054688 -7.984375 -1.503906 C -8.410156 -1.953125 -8.625 -2.550781 -8.625 -3.300781 C -8.625 -4.046875 -8.40625 -4.652344 -7.972656 -5.109375 C -7.535156 -5.566406 -7.003906 -5.792969 -6.382813 -5.796875 C -5.976563 -5.792969 -5.628906 -5.6875 -5.339844 -5.480469 C -5.042969 -5.269531 -4.816406 -4.953125 -4.65625 -4.53125 C -4.480469 -5.054688 -4.203125 -5.457031 -3.824219 -5.734375 C -3.4375 -6.007813 -2.980469 -6.144531 -2.453125 -6.148438 C -1.714844 -6.144531 -1.097656 -5.886719 -0.601563 -5.367188 C -0.101563 -4.84375 0.144531 -4.160156 0.148438 -3.316406 C 0.144531 -2.46875 -0.101563 -1.785156 -0.605469 -1.265625 C -1.105469 -0.746094 -1.734375 -0.484375 -2.484375 -0.488281 C -3.039063 -0.484375 -3.503906 -0.625 -3.886719 -0.910156 C -4.261719 -1.191406 -4.519531 -1.597656 -4.65625 -2.121094 Z M -6.445313 -1.910156 C -6.039063 -1.910156 -5.707031 -2.039063 -5.449219 -2.300781 C -5.191406 -2.5625 -5.0625 -2.902344 -5.0625 -3.324219 C -5.0625 -3.726563 -5.1875 -4.058594 -5.445313 -4.320313 C -5.695313 -4.578125 -6.011719 -4.710938 -6.386719 -4.710938 C -6.773438 -4.710938 -7.097656 -4.574219 -7.363281 -4.308594 C -7.625 -4.039063 -7.757813 -3.707031 -7.757813 -3.3125 C -7.757813 -2.90625 -7.628906 -2.574219 -7.371094 -2.308594 C -7.113281 -2.042969 -6.804688 -1.910156 -6.445313 -1.910156 Z M -2.476563 -1.570313 C -2.175781 -1.570313 -1.886719 -1.640625 -1.605469 -1.785156 C -1.324219 -1.925781 -1.105469 -2.136719 -0.949219 -2.421875 C -0.792969 -2.699219 -0.714844 -3.003906 -0.71875 -3.328125 C -0.714844 -3.832031 -0.875 -4.246094 -1.203125 -4.578125 C -1.523438 -4.902344 -1.9375 -5.066406 -2.441406 -5.070313 C -2.945313 -5.066406 -3.367188 -4.898438 -3.703125 -4.5625 C -4.035156 -4.222656 -4.199219 -3.800781 -4.203125 -3.292969 C -4.199219 -2.796875 -4.035156 -2.382813 -3.710938 -2.058594 C -3.378906 -1.730469 -2.96875 -1.570313 -2.476563 -1.570313 Z M -2.476563 -1.570313 \"/>\n",
       "</symbol>\n",
       "<symbol overflow=\"visible\" id=\"glyph2-18\">\n",
       "<path style=\"stroke:none;\" d=\"M 0 -4.46875 L 0 -3.414063 L -6.71875 -3.417969 C -6.476563 -3.160156 -6.234375 -2.828125 -5.996094 -2.417969 C -5.75 -2.003906 -5.570313 -1.632813 -5.449219 -1.308594 L -6.46875 -1.308594 C -6.742188 -1.894531 -7.078125 -2.410156 -7.476563 -2.851563 C -7.871094 -3.292969 -8.253906 -3.605469 -8.625 -3.792969 L -8.625 -4.472656 Z M 0 -4.46875 \"/>\n",
       "</symbol>\n",
       "</g>\n",
       "<clipPath id=\"clip1\">\n",
       "  <path d=\"M 59.039063 59.039063 L 474.757813 59.039063 L 474.757813 431.558594 L 59.039063 431.558594 Z M 59.039063 59.039063 \"/>\n",
       "</clipPath>\n",
       "</defs>\n",
       "<g id=\"surface6\">\n",
       "<rect x=\"0\" y=\"0\" width=\"504\" height=\"504\" style=\"fill:rgb(100%,100%,100%);fill-opacity:1;stroke:none;\"/>\n",
       "<g style=\"fill:rgb(0%,0%,0%);fill-opacity:1;\">\n",
       "  <use xlink:href=\"#glyph0-0\" x=\"161.570313\" y=\"34.675781\"/>\n",
       "  <use xlink:href=\"#glyph0-1\" x=\"171.969531\" y=\"34.675781\"/>\n",
       "  <use xlink:href=\"#glyph0-2\" x=\"183.170312\" y=\"34.675781\"/>\n",
       "  <use xlink:href=\"#glyph0-3\" x=\"193.569531\" y=\"34.675781\"/>\n",
       "  <use xlink:href=\"#glyph0-2\" x=\"197.570312\" y=\"34.675781\"/>\n",
       "  <use xlink:href=\"#glyph0-4\" x=\"207.969531\" y=\"34.675781\"/>\n",
       "  <use xlink:href=\"#glyph0-5\" x=\"216.765625\" y=\"34.675781\"/>\n",
       "  <use xlink:href=\"#glyph0-6\" x=\"222.369531\" y=\"34.675781\"/>\n",
       "  <use xlink:href=\"#glyph0-7\" x=\"230.378125\" y=\"34.675781\"/>\n",
       "  <use xlink:href=\"#glyph0-3\" x=\"238.386719\" y=\"34.675781\"/>\n",
       "  <use xlink:href=\"#glyph0-8\" x=\"242.3875\" y=\"34.675781\"/>\n",
       "  <use xlink:href=\"#glyph0-9\" x=\"247.182812\" y=\"34.675781\"/>\n",
       "  <use xlink:href=\"#glyph0-5\" x=\"255.978906\" y=\"34.675781\"/>\n",
       "  <use xlink:href=\"#glyph0-3\" x=\"261.582812\" y=\"34.675781\"/>\n",
       "  <use xlink:href=\"#glyph0-10\" x=\"265.583594\" y=\"34.675781\"/>\n",
       "  <use xlink:href=\"#glyph0-11\" x=\"273.592187\" y=\"34.675781\"/>\n",
       "  <use xlink:href=\"#glyph0-10\" x=\"286.396094\" y=\"34.675781\"/>\n",
       "  <use xlink:href=\"#glyph0-3\" x=\"294.404687\" y=\"34.675781\"/>\n",
       "  <use xlink:href=\"#glyph0-10\" x=\"298.405469\" y=\"34.675781\"/>\n",
       "  <use xlink:href=\"#glyph0-12\" x=\"306.414062\" y=\"34.675781\"/>\n",
       "  <use xlink:href=\"#glyph0-13\" x=\"315.210156\" y=\"34.675781\"/>\n",
       "  <use xlink:href=\"#glyph0-11\" x=\"323.21875\" y=\"34.675781\"/>\n",
       "  <use xlink:href=\"#glyph0-3\" x=\"336.022656\" y=\"34.675781\"/>\n",
       "  <use xlink:href=\"#glyph0-8\" x=\"340.023437\" y=\"34.675781\"/>\n",
       "  <use xlink:href=\"#glyph0-14\" x=\"344.81875\" y=\"34.675781\"/>\n",
       "  <use xlink:href=\"#glyph0-15\" x=\"348.819531\" y=\"34.675781\"/>\n",
       "  <use xlink:href=\"#glyph0-16\" x=\"352.820312\" y=\"34.675781\"/>\n",
       "  <use xlink:href=\"#glyph0-7\" x=\"357.615625\" y=\"34.675781\"/>\n",
       "  <use xlink:href=\"#glyph0-5\" x=\"365.624219\" y=\"34.675781\"/>\n",
       "</g>\n",
       "<g style=\"fill:rgb(0%,0%,0%);fill-opacity:1;\">\n",
       "  <use xlink:href=\"#glyph1-0\" x=\"217.710938\" y=\"485.28125\"/>\n",
       "  <use xlink:href=\"#glyph1-1\" x=\"225.041016\" y=\"485.28125\"/>\n",
       "  <use xlink:href=\"#glyph1-2\" x=\"231.714844\" y=\"485.28125\"/>\n",
       "  <use xlink:href=\"#glyph1-3\" x=\"234.380859\" y=\"485.28125\"/>\n",
       "  <use xlink:href=\"#glyph1-4\" x=\"240.380859\" y=\"485.28125\"/>\n",
       "  <use xlink:href=\"#glyph1-5\" x=\"247.054688\" y=\"485.28125\"/>\n",
       "  <use xlink:href=\"#glyph1-6\" x=\"250.388672\" y=\"485.28125\"/>\n",
       "  <use xlink:href=\"#glyph1-7\" x=\"257.0625\" y=\"485.28125\"/>\n",
       "  <use xlink:href=\"#glyph1-3\" x=\"263.736328\" y=\"485.28125\"/>\n",
       "  <use xlink:href=\"#glyph1-8\" x=\"269.736328\" y=\"485.28125\"/>\n",
       "  <use xlink:href=\"#glyph1-9\" x=\"272.402344\" y=\"485.28125\"/>\n",
       "  <use xlink:href=\"#glyph1-8\" x=\"275.736328\" y=\"485.28125\"/>\n",
       "  <use xlink:href=\"#glyph1-10\" x=\"278.402344\" y=\"485.28125\"/>\n",
       "  <use xlink:href=\"#glyph1-4\" x=\"284.402344\" y=\"485.28125\"/>\n",
       "  <use xlink:href=\"#glyph1-5\" x=\"291.076172\" y=\"485.28125\"/>\n",
       "  <use xlink:href=\"#glyph1-11\" x=\"294.410156\" y=\"485.28125\"/>\n",
       "  <use xlink:href=\"#glyph1-1\" x=\"298.40625\" y=\"485.28125\"/>\n",
       "  <use xlink:href=\"#glyph1-9\" x=\"305.080078\" y=\"485.28125\"/>\n",
       "  <use xlink:href=\"#glyph1-4\" x=\"308.414063\" y=\"485.28125\"/>\n",
       "</g>\n",
       "<g style=\"fill:rgb(0%,0%,0%);fill-opacity:1;\">\n",
       "  <use xlink:href=\"#glyph2-0\" x=\"12.960938\" y=\"291.152344\"/>\n",
       "  <use xlink:href=\"#glyph2-1\" x=\"12.960938\" y=\"283.822266\"/>\n",
       "  <use xlink:href=\"#glyph2-2\" x=\"12.960938\" y=\"279.826172\"/>\n",
       "  <use xlink:href=\"#glyph2-3\" x=\"12.960938\" y=\"273.152344\"/>\n",
       "  <use xlink:href=\"#glyph2-4\" x=\"12.960938\" y=\"266.478516\"/>\n",
       "  <use xlink:href=\"#glyph2-5\" x=\"12.960938\" y=\"263.144531\"/>\n",
       "  <use xlink:href=\"#glyph2-6\" x=\"12.960938\" y=\"256.470703\"/>\n",
       "  <use xlink:href=\"#glyph2-7\" x=\"12.960938\" y=\"249.796875\"/>\n",
       "  <use xlink:href=\"#glyph2-8\" x=\"12.960938\" y=\"243.796875\"/>\n",
       "  <use xlink:href=\"#glyph2-9\" x=\"12.960938\" y=\"241.130859\"/>\n",
       "  <use xlink:href=\"#glyph2-8\" x=\"12.960938\" y=\"237.796875\"/>\n",
       "  <use xlink:href=\"#glyph2-10\" x=\"12.960938\" y=\"235.130859\"/>\n",
       "  <use xlink:href=\"#glyph2-3\" x=\"12.960938\" y=\"229.130859\"/>\n",
       "  <use xlink:href=\"#glyph2-4\" x=\"12.960938\" y=\"222.457031\"/>\n",
       "  <use xlink:href=\"#glyph2-1\" x=\"12.960938\" y=\"219.123047\"/>\n",
       "  <use xlink:href=\"#glyph2-11\" x=\"12.960938\" y=\"215.126953\"/>\n",
       "  <use xlink:href=\"#glyph2-9\" x=\"12.960938\" y=\"208.453125\"/>\n",
       "  <use xlink:href=\"#glyph2-3\" x=\"12.960938\" y=\"205.119141\"/>\n",
       "</g>\n",
       "<path style=\"fill:none;stroke-width:0.75;stroke-linecap:round;stroke-linejoin:round;stroke:rgb(0%,0%,0%);stroke-opacity:1;stroke-miterlimit:10;\" d=\"M 74.398438 430.558594 L 458.398438 430.558594 \"/>\n",
       "<path style=\"fill:none;stroke-width:0.75;stroke-linecap:round;stroke-linejoin:round;stroke:rgb(0%,0%,0%);stroke-opacity:1;stroke-miterlimit:10;\" d=\"M 74.398438 430.558594 L 74.398438 437.761719 \"/>\n",
       "<path style=\"fill:none;stroke-width:0.75;stroke-linecap:round;stroke-linejoin:round;stroke:rgb(0%,0%,0%);stroke-opacity:1;stroke-miterlimit:10;\" d=\"M 151.199219 430.558594 L 151.199219 437.761719 \"/>\n",
       "<path style=\"fill:none;stroke-width:0.75;stroke-linecap:round;stroke-linejoin:round;stroke:rgb(0%,0%,0%);stroke-opacity:1;stroke-miterlimit:10;\" d=\"M 228 430.558594 L 228 437.761719 \"/>\n",
       "<path style=\"fill:none;stroke-width:0.75;stroke-linecap:round;stroke-linejoin:round;stroke:rgb(0%,0%,0%);stroke-opacity:1;stroke-miterlimit:10;\" d=\"M 304.800781 430.558594 L 304.800781 437.761719 \"/>\n",
       "<path style=\"fill:none;stroke-width:0.75;stroke-linecap:round;stroke-linejoin:round;stroke:rgb(0%,0%,0%);stroke-opacity:1;stroke-miterlimit:10;\" d=\"M 381.601563 430.558594 L 381.601563 437.761719 \"/>\n",
       "<path style=\"fill:none;stroke-width:0.75;stroke-linecap:round;stroke-linejoin:round;stroke:rgb(0%,0%,0%);stroke-opacity:1;stroke-miterlimit:10;\" d=\"M 458.398438 430.558594 L 458.398438 437.761719 \"/>\n",
       "<g style=\"fill:rgb(0%,0%,0%);fill-opacity:1;\">\n",
       "  <use xlink:href=\"#glyph1-12\" x=\"66.058594\" y=\"456.480469\"/>\n",
       "  <use xlink:href=\"#glyph1-13\" x=\"72.732422\" y=\"456.480469\"/>\n",
       "  <use xlink:href=\"#glyph1-12\" x=\"76.066406\" y=\"456.480469\"/>\n",
       "</g>\n",
       "<g style=\"fill:rgb(0%,0%,0%);fill-opacity:1;\">\n",
       "  <use xlink:href=\"#glyph1-12\" x=\"142.859375\" y=\"456.480469\"/>\n",
       "  <use xlink:href=\"#glyph1-13\" x=\"149.533203\" y=\"456.480469\"/>\n",
       "  <use xlink:href=\"#glyph1-14\" x=\"152.867188\" y=\"456.480469\"/>\n",
       "</g>\n",
       "<g style=\"fill:rgb(0%,0%,0%);fill-opacity:1;\">\n",
       "  <use xlink:href=\"#glyph1-12\" x=\"219.660156\" y=\"456.480469\"/>\n",
       "  <use xlink:href=\"#glyph1-13\" x=\"226.333984\" y=\"456.480469\"/>\n",
       "  <use xlink:href=\"#glyph1-15\" x=\"229.667969\" y=\"456.480469\"/>\n",
       "</g>\n",
       "<g style=\"fill:rgb(0%,0%,0%);fill-opacity:1;\">\n",
       "  <use xlink:href=\"#glyph1-12\" x=\"296.460938\" y=\"456.480469\"/>\n",
       "  <use xlink:href=\"#glyph1-13\" x=\"303.134766\" y=\"456.480469\"/>\n",
       "  <use xlink:href=\"#glyph1-16\" x=\"306.46875\" y=\"456.480469\"/>\n",
       "</g>\n",
       "<g style=\"fill:rgb(0%,0%,0%);fill-opacity:1;\">\n",
       "  <use xlink:href=\"#glyph1-12\" x=\"373.261719\" y=\"456.480469\"/>\n",
       "  <use xlink:href=\"#glyph1-13\" x=\"379.935547\" y=\"456.480469\"/>\n",
       "  <use xlink:href=\"#glyph1-17\" x=\"383.269531\" y=\"456.480469\"/>\n",
       "</g>\n",
       "<g style=\"fill:rgb(0%,0%,0%);fill-opacity:1;\">\n",
       "  <use xlink:href=\"#glyph1-18\" x=\"450.058594\" y=\"456.480469\"/>\n",
       "  <use xlink:href=\"#glyph1-13\" x=\"456.732422\" y=\"456.480469\"/>\n",
       "  <use xlink:href=\"#glyph1-12\" x=\"460.066406\" y=\"456.480469\"/>\n",
       "</g>\n",
       "<path style=\"fill:none;stroke-width:0.75;stroke-linecap:round;stroke-linejoin:round;stroke:rgb(0%,0%,0%);stroke-opacity:1;stroke-miterlimit:10;\" d=\"M 59.039063 416.800781 L 59.039063 72.800781 \"/>\n",
       "<path style=\"fill:none;stroke-width:0.75;stroke-linecap:round;stroke-linejoin:round;stroke:rgb(0%,0%,0%);stroke-opacity:1;stroke-miterlimit:10;\" d=\"M 59.039063 416.800781 L 51.839844 416.800781 \"/>\n",
       "<path style=\"fill:none;stroke-width:0.75;stroke-linecap:round;stroke-linejoin:round;stroke:rgb(0%,0%,0%);stroke-opacity:1;stroke-miterlimit:10;\" d=\"M 59.039063 348 L 51.839844 348 \"/>\n",
       "<path style=\"fill:none;stroke-width:0.75;stroke-linecap:round;stroke-linejoin:round;stroke:rgb(0%,0%,0%);stroke-opacity:1;stroke-miterlimit:10;\" d=\"M 59.039063 279.199219 L 51.839844 279.199219 \"/>\n",
       "<path style=\"fill:none;stroke-width:0.75;stroke-linecap:round;stroke-linejoin:round;stroke:rgb(0%,0%,0%);stroke-opacity:1;stroke-miterlimit:10;\" d=\"M 59.039063 210.398438 L 51.839844 210.398438 \"/>\n",
       "<path style=\"fill:none;stroke-width:0.75;stroke-linecap:round;stroke-linejoin:round;stroke:rgb(0%,0%,0%);stroke-opacity:1;stroke-miterlimit:10;\" d=\"M 59.039063 141.601563 L 51.839844 141.601563 \"/>\n",
       "<path style=\"fill:none;stroke-width:0.75;stroke-linecap:round;stroke-linejoin:round;stroke:rgb(0%,0%,0%);stroke-opacity:1;stroke-miterlimit:10;\" d=\"M 59.039063 72.800781 L 51.839844 72.800781 \"/>\n",
       "<g style=\"fill:rgb(0%,0%,0%);fill-opacity:1;\">\n",
       "  <use xlink:href=\"#glyph2-12\" x=\"41.761719\" y=\"425.140625\"/>\n",
       "  <use xlink:href=\"#glyph2-13\" x=\"41.761719\" y=\"418.466797\"/>\n",
       "  <use xlink:href=\"#glyph2-12\" x=\"41.761719\" y=\"415.132813\"/>\n",
       "</g>\n",
       "<g style=\"fill:rgb(0%,0%,0%);fill-opacity:1;\">\n",
       "  <use xlink:href=\"#glyph2-12\" x=\"41.761719\" y=\"356.339844\"/>\n",
       "  <use xlink:href=\"#glyph2-13\" x=\"41.761719\" y=\"349.666016\"/>\n",
       "  <use xlink:href=\"#glyph2-14\" x=\"41.761719\" y=\"346.332031\"/>\n",
       "</g>\n",
       "<g style=\"fill:rgb(0%,0%,0%);fill-opacity:1;\">\n",
       "  <use xlink:href=\"#glyph2-12\" x=\"41.761719\" y=\"287.539063\"/>\n",
       "  <use xlink:href=\"#glyph2-13\" x=\"41.761719\" y=\"280.865234\"/>\n",
       "  <use xlink:href=\"#glyph2-15\" x=\"41.761719\" y=\"277.53125\"/>\n",
       "</g>\n",
       "<g style=\"fill:rgb(0%,0%,0%);fill-opacity:1;\">\n",
       "  <use xlink:href=\"#glyph2-12\" x=\"41.761719\" y=\"218.738281\"/>\n",
       "  <use xlink:href=\"#glyph2-13\" x=\"41.761719\" y=\"212.064453\"/>\n",
       "  <use xlink:href=\"#glyph2-16\" x=\"41.761719\" y=\"208.730469\"/>\n",
       "</g>\n",
       "<g style=\"fill:rgb(0%,0%,0%);fill-opacity:1;\">\n",
       "  <use xlink:href=\"#glyph2-12\" x=\"41.761719\" y=\"149.941406\"/>\n",
       "  <use xlink:href=\"#glyph2-13\" x=\"41.761719\" y=\"143.267578\"/>\n",
       "  <use xlink:href=\"#glyph2-17\" x=\"41.761719\" y=\"139.933594\"/>\n",
       "</g>\n",
       "<g style=\"fill:rgb(0%,0%,0%);fill-opacity:1;\">\n",
       "  <use xlink:href=\"#glyph2-18\" x=\"41.761719\" y=\"81.140625\"/>\n",
       "  <use xlink:href=\"#glyph2-13\" x=\"41.761719\" y=\"74.466797\"/>\n",
       "  <use xlink:href=\"#glyph2-12\" x=\"41.761719\" y=\"71.132813\"/>\n",
       "</g>\n",
       "<path style=\"fill:none;stroke-width:0.75;stroke-linecap:round;stroke-linejoin:round;stroke:rgb(0%,0%,0%);stroke-opacity:1;stroke-miterlimit:10;\" d=\"M 59.039063 430.558594 L 473.761719 430.558594 L 473.761719 59.039063 L 59.039063 59.039063 L 59.039063 430.558594 \"/>\n",
       "<g clip-path=\"url(#clip1)\" clip-rule=\"nonzero\">\n",
       "<path style=\"fill:none;stroke-width:2.25;stroke-linecap:round;stroke-linejoin:round;stroke:rgb(0%,0%,100%);stroke-opacity:1;stroke-miterlimit:10;\" d=\"M 74.398438 416.800781 L 74.398438 174.308594 L 74.714844 174.308594 L 74.714844 144.230469 L 75.027344 144.230469 L 75.027344 140.472656 L 75.34375 140.472656 L 75.34375 132.953125 L 75.65625 132.953125 L 75.65625 131.074219 L 75.972656 131.074219 L 75.972656 127.3125 L 76.285156 127.3125 L 76.285156 125.433594 L 76.601563 125.433594 L 76.601563 110.394531 L 76.914063 110.394531 L 76.914063 108.515625 L 77.855469 108.515625 L 77.855469 106.636719 L 79.113281 106.636719 L 79.113281 102.875 L 79.742188 102.875 L 79.742188 100.996094 L 80.371094 100.996094 L 80.371094 99.117188 L 82.257813 99.117188 L 82.257813 95.355469 L 83.511719 95.355469 L 83.511719 93.476563 L 85.085938 93.476563 L 85.085938 89.71875 L 86.027344 89.71875 L 86.027344 87.839844 L 90.113281 87.839844 L 90.113281 85.957031 L 90.425781 85.957031 L 90.425781 84.078125 L 91.054688 84.078125 L 91.054688 82.199219 L 95.769531 82.199219 L 95.769531 80.320313 L 96.082031 80.320313 L 96.082031 78.4375 L 124.050781 78.4375 L 124.050781 76.558594 L 131.90625 76.558594 L 131.90625 74.679688 L 134.417969 74.679688 L 145.417969 72.800781 L 458.398438 72.800781 \"/>\n",
       "<path style=\"fill:none;stroke-width:1.5;stroke-linecap:round;stroke-linejoin:round;stroke:rgb(0%,0%,0%);stroke-opacity:1;stroke-dasharray:6,6;stroke-miterlimit:10;\" d=\"M 59.039063 430.558594 L 473.761719 59.039063 \"/>\n",
       "</g>\n",
       "</g>\n",
       "</svg>\n"
      ],
      "text/plain": [
       "Plot with title \"ROC Curve for sms spam filter\""
      ]
     },
     "metadata": {
      "image/svg+xml": {
       "isolated": true
      }
     },
     "output_type": "display_data"
    }
   ],
   "source": [
    "#ROC Curves\n",
    "perf <- performance(pred, measure = \"tpr\", x.measure = \"fpr\")\n",
    "plot(perf, main = \"ROC Curve for sms spam filter\", col = \"blue\", lwd = 3)\n",
    "abline(a = 0, b = 1, lwd = 2, lty = 2)"
   ]
  },
  {
   "cell_type": "code",
   "execution_count": 56,
   "metadata": {
    "collapsed": false
   },
   "outputs": [
    {
     "name": "stdout",
     "output_type": "stream",
     "text": [
      "Formal class 'performance' [package \"ROCR\"] with 6 slots\n",
      "  ..@ x.name      : chr \"None\"\n",
      "  ..@ y.name      : chr \"Area under the ROC curve\"\n",
      "  ..@ alpha.name  : chr \"none\"\n",
      "  ..@ x.values    : list()\n",
      "  ..@ y.values    :List of 1\n",
      "  .. ..$ : num 0.995\n",
      "  ..@ alpha.values: list()\n"
     ]
    }
   ],
   "source": [
    "#Compute area under the curve\n",
    "perf.auc <- performance(pred, measure = \"auc\")\n",
    "str(perf.auc)"
   ]
  },
  {
   "cell_type": "code",
   "execution_count": 58,
   "metadata": {
    "collapsed": false
   },
   "outputs": [
    {
     "data": {
      "text/html": [
       "0.994555642009426"
      ],
      "text/latex": [
       "0.994555642009426"
      ],
      "text/markdown": [
       "0.994555642009426"
      ],
      "text/plain": [
       "[1] 0.9945556"
      ]
     },
     "execution_count": 58,
     "metadata": {},
     "output_type": "execute_result"
    }
   ],
   "source": [
    "unlist(perf.auc@y.values)"
   ]
  },
  {
   "cell_type": "code",
   "execution_count": 60,
   "metadata": {
    "collapsed": false
   },
   "outputs": [
    {
     "data": {
      "text/html": [
       "<table>\n",
       "<thead><tr><th></th><th scope=col>checking_balance</th><th scope=col>months_loan_duration</th><th scope=col>credit_history</th><th scope=col>purpose</th><th scope=col>amount</th><th scope=col>savings_balance</th><th scope=col>employment_length</th><th scope=col>installment_rate</th><th scope=col>personal_status</th><th scope=col>other_debtors</th><th scope=col>ellip.h</th><th scope=col>property</th><th scope=col>age</th><th scope=col>installment_plan</th><th scope=col>housing</th><th scope=col>existing_credits</th><th scope=col>job</th><th scope=col>dependents</th><th scope=col>telephone</th><th scope=col>foreign_worker</th><th scope=col>default</th></tr></thead>\n",
       "<tbody>\n",
       "\t<tr><th scope=row>1</th><td>< 0 DM</td><td>6</td><td>critical</td><td>radio/tv</td><td>1169</td><td>unknown</td><td>> 7 yrs</td><td>4</td><td>single male</td><td>none</td><td><e2><8b><af></td><td>real estate</td><td>67</td><td>none</td><td>own</td><td>2</td><td>skilled employee</td><td>1</td><td>yes</td><td>yes</td><td>1</td></tr>\n",
       "\t<tr><th scope=row>2</th><td>1 - 200 DM</td><td>48</td><td>repaid</td><td>radio/tv</td><td>5951</td><td>< 100 DM</td><td>1 - 4 yrs</td><td>2</td><td>female</td><td>none</td><td><e2><8b><af></td><td>real estate</td><td>22</td><td>none</td><td>own</td><td>1</td><td>skilled employee</td><td>1</td><td>none</td><td>yes</td><td>2</td></tr>\n",
       "\t<tr><th scope=row>3</th><td>unknown</td><td>12</td><td>critical</td><td>education</td><td>2096</td><td>< 100 DM</td><td>4 - 7 yrs</td><td>2</td><td>single male</td><td>none</td><td><e2><8b><af></td><td>real estate</td><td>49</td><td>none</td><td>own</td><td>1</td><td>unskilled resident</td><td>2</td><td>none</td><td>yes</td><td>1</td></tr>\n",
       "\t<tr><th scope=row>4</th><td>< 0 DM</td><td>42</td><td>repaid</td><td>furniture</td><td>7882</td><td>< 100 DM</td><td>4 - 7 yrs</td><td>2</td><td>single male</td><td>guarantor</td><td><e2><8b><af></td><td>building society savings</td><td>45</td><td>none</td><td>for free</td><td>1</td><td>skilled employee</td><td>2</td><td>none</td><td>yes</td><td>1</td></tr>\n",
       "\t<tr><th scope=row>5</th><td>< 0 DM</td><td>24</td><td>delayed</td><td>car (new)</td><td>4870</td><td>< 100 DM</td><td>1 - 4 yrs</td><td>3</td><td>single male</td><td>none</td><td><e2><8b><af></td><td>unknown/none</td><td>53</td><td>none</td><td>for free</td><td>2</td><td>skilled employee</td><td>2</td><td>none</td><td>yes</td><td>2</td></tr>\n",
       "\t<tr><th scope=row>6</th><td>unknown</td><td>36</td><td>repaid</td><td>education</td><td>9055</td><td>unknown</td><td>1 - 4 yrs</td><td>2</td><td>single male</td><td>none</td><td><e2><8b><af></td><td>unknown/none</td><td>35</td><td>none</td><td>for free</td><td>1</td><td>unskilled resident</td><td>2</td><td>yes</td><td>yes</td><td>1</td></tr>\n",
       "</tbody>\n",
       "</table>\n"
      ],
      "text/latex": [
       "\\begin{tabular}{r|lllllllllllllllllllll}\n",
       "  & checking_balance & months_loan_duration & credit_history & purpose & amount & savings_balance & employment_length & installment_rate & personal_status & other_debtors & ellip.h & property & age & installment_plan & housing & existing_credits & job & dependents & telephone & foreign_worker & default\\\\\n",
       "\\hline\n",
       "\t1 & < 0 DM & 6 & critical & radio/tv & 1169 & unknown & > 7 yrs & 4 & single male & none & <e2><8b><af> & real estate & 67 & none & own & 2 & skilled employee & 1 & yes & yes & 1\\\\\n",
       "\t2 & 1 - 200 DM & 48 & repaid & radio/tv & 5951 & < 100 DM & 1 - 4 yrs & 2 & female & none & <e2><8b><af> & real estate & 22 & none & own & 1 & skilled employee & 1 & none & yes & 2\\\\\n",
       "\t3 & unknown & 12 & critical & education & 2096 & < 100 DM & 4 - 7 yrs & 2 & single male & none & <e2><8b><af> & real estate & 49 & none & own & 1 & unskilled resident & 2 & none & yes & 1\\\\\n",
       "\t4 & < 0 DM & 42 & repaid & furniture & 7882 & < 100 DM & 4 - 7 yrs & 2 & single male & guarantor & <e2><8b><af> & building society savings & 45 & none & for free & 1 & skilled employee & 2 & none & yes & 1\\\\\n",
       "\t5 & < 0 DM & 24 & delayed & car (new) & 4870 & < 100 DM & 1 - 4 yrs & 3 & single male & none & <e2><8b><af> & unknown/none & 53 & none & for free & 2 & skilled employee & 2 & none & yes & 2\\\\\n",
       "\t6 & unknown & 36 & repaid & education & 9055 & unknown & 1 - 4 yrs & 2 & single male & none & <e2><8b><af> & unknown/none & 35 & none & for free & 1 & unskilled resident & 2 & yes & yes & 1\\\\\n",
       "\\end{tabular}\n"
      ],
      "text/plain": [
       "  checking_balance months_loan_duration credit_history   purpose amount\n",
       "1           < 0 DM                    6       critical  radio/tv   1169\n",
       "2       1 - 200 DM                   48         repaid  radio/tv   5951\n",
       "3          unknown                   12       critical education   2096\n",
       "4           < 0 DM                   42         repaid furniture   7882\n",
       "5           < 0 DM                   24        delayed car (new)   4870\n",
       "6          unknown                   36         repaid education   9055\n",
       "  savings_balance employment_length installment_rate personal_status\n",
       "1         unknown           > 7 yrs                4     single male\n",
       "2        < 100 DM         1 - 4 yrs                2          female\n",
       "3        < 100 DM         4 - 7 yrs                2     single male\n",
       "4        < 100 DM         4 - 7 yrs                2     single male\n",
       "5        < 100 DM         1 - 4 yrs                3     single male\n",
       "6         unknown         1 - 4 yrs                2     single male\n",
       "  other_debtors residence_history                 property age installment_plan\n",
       "1          none                 4              real estate  67             none\n",
       "2          none                 2              real estate  22             none\n",
       "3          none                 3              real estate  49             none\n",
       "4     guarantor                 4 building society savings  45             none\n",
       "5          none                 4             unknown/none  53             none\n",
       "6          none                 4             unknown/none  35             none\n",
       "   housing existing_credits                job dependents telephone\n",
       "1      own                2   skilled employee          1       yes\n",
       "2      own                1   skilled employee          1      none\n",
       "3      own                1 unskilled resident          2      none\n",
       "4 for free                1   skilled employee          2      none\n",
       "5 for free                2   skilled employee          2      none\n",
       "6 for free                1 unskilled resident          2       yes\n",
       "  foreign_worker default\n",
       "1            yes       1\n",
       "2            yes       2\n",
       "3            yes       1\n",
       "4            yes       1\n",
       "5            yes       2\n",
       "6            yes       1"
      ]
     },
     "execution_count": 60,
     "metadata": {},
     "output_type": "execute_result"
    }
   ],
   "source": [
    "#Estimating future performance\n",
    "#What if we have small dataset and don't want to split it into training and test set?\n",
    "#The holdout method\n",
    "\n",
    "credit <- read.csv(\"credit.csv\")\n",
    "head(credit)"
   ]
  },
  {
   "cell_type": "code",
   "execution_count": 65,
   "metadata": {
    "collapsed": false
   },
   "outputs": [
    {
     "data": {
      "text/plain": [
       "\n",
       "   1    2 \n",
       "0.71 0.29 "
      ]
     },
     "execution_count": 65,
     "metadata": {},
     "output_type": "execute_result"
    },
    {
     "data": {
      "text/plain": [
       "\n",
       "    1     2 \n",
       "0.672 0.328 "
      ]
     },
     "execution_count": 65,
     "metadata": {},
     "output_type": "execute_result"
    },
    {
     "data": {
      "text/plain": [
       "\n",
       "    1     2 \n",
       "0.708 0.292 "
      ]
     },
     "execution_count": 65,
     "metadata": {},
     "output_type": "execute_result"
    }
   ],
   "source": [
    "random_ids <- order(runif(1000))\n",
    "credit_train <- credit[random_ids[1:500],]\n",
    "credit_validate <- credit[random_ids[501:750],]\n",
    "credit_test <- credit[random_ids[751:1000],]\n",
    "\n",
    "prop.table(table(credit_train$default))\n",
    "prop.table(table(credit_validate$default))\n",
    "prop.table(table(credit_test$default))\n",
    "#a problem with spliting the dataset could be different proportion classes and if not present on training set model won't learn\n",
    "#this class"
   ]
  },
  {
   "cell_type": "code",
   "execution_count": 66,
   "metadata": {
    "collapsed": false
   },
   "outputs": [
    {
     "data": {
      "text/plain": [
       "\n",
       "    1     2 \n",
       "0.708 0.292 "
      ]
     },
     "execution_count": 66,
     "metadata": {},
     "output_type": "execute_result"
    },
    {
     "data": {
      "text/plain": [
       "\n",
       "    1     2 \n",
       "0.676 0.324 "
      ]
     },
     "execution_count": 66,
     "metadata": {},
     "output_type": "execute_result"
    }
   ],
   "source": [
    "#Stratified random sampling using caret package\n",
    "in_train <- createDataPartition(credit$default, p = 0.75, list = FALSE)\n",
    "credit_train <- credit[in_train,]\n",
    "credit_test <- credit[-in_train,]\n",
    "\n",
    "prop.table(table(credit_train$default))\n",
    "prop.table(table(credit_test$default))"
   ]
  },
  {
   "cell_type": "code",
   "execution_count": 68,
   "metadata": {
    "collapsed": false
   },
   "outputs": [
    {
     "name": "stdout",
     "output_type": "stream",
     "text": [
      "List of 10\n",
      " $ Fold01: int [1:100] 8 39 55 67 99 102 114 131 153 158 ...\n",
      " $ Fold02: int [1:100] 12 23 26 42 47 82 91 92 105 122 ...\n",
      " $ Fold03: int [1:100] 18 33 48 53 60 61 62 66 68 69 ...\n",
      " $ Fold04: int [1:100] 1 6 7 11 13 22 25 34 37 38 ...\n",
      " $ Fold05: int [1:100] 28 35 43 46 50 77 88 90 95 98 ...\n",
      " $ Fold06: int [1:100] 3 4 16 19 49 51 52 72 76 81 ...\n",
      " $ Fold07: int [1:100] 21 29 32 36 56 87 94 128 141 173 ...\n",
      " $ Fold08: int [1:100] 5 10 15 20 27 44 73 75 101 119 ...\n",
      " $ Fold09: int [1:100] 17 24 30 31 45 54 65 71 79 80 ...\n",
      " $ Fold10: int [1:100] 2 9 14 41 59 64 78 96 100 108 ...\n"
     ]
    }
   ],
   "source": [
    "#Cross-validation (repeated holdout method or k-fold cross-validation) (in caret package)\n",
    "folds <- createFolds(credit$default, k = 10)\n",
    "str(folds)"
   ]
  },
  {
   "cell_type": "code",
   "execution_count": 69,
   "metadata": {
    "collapsed": true
   },
   "outputs": [],
   "source": [
    "credit01_train <- credit[folds$Fold01,]\n",
    "credit01_test <- credit[-folds$Fold01,]"
   ]
  },
  {
   "cell_type": "code",
   "execution_count": 74,
   "metadata": {
    "collapsed": false
   },
   "outputs": [
    {
     "name": "stderr",
     "output_type": "stream",
     "text": [
      "Warning message:\n",
      ": package 'C5.0' is not available (for R version 3.2.3)"
     ]
    }
   ],
   "source": [
    "#Full example with C5.0 and Kappa \n",
    "install.packages(\"C5.0\", repos = \"https://cran.r-project.org\")\n",
    "library(C50)\n",
    "set.seed(123)\n",
    "credit$default <- as.factor(credit$default)\n",
    "folds <- createFolds(credit$default, k =10)"
   ]
  },
  {
   "cell_type": "code",
   "execution_count": 75,
   "metadata": {
    "collapsed": false
   },
   "outputs": [],
   "source": [
    "cv_results <- lapply(folds, function(x) {\n",
    "    \n",
    "    credit_train <- credit[x,]\n",
    "    credit_test <- credit[-x,]\n",
    "    credit_model <- C5.0(default ~ ., data = credit_train)\n",
    "    credit_pred <- predict(credit_model, credit_test)\n",
    "    credit_actual <- credit_test$default\n",
    "    \n",
    "    kappa <- kappa2(data.frame(credit_actual, credit_pred))$value\n",
    "    \n",
    "    return (kappa)\n",
    "})"
   ]
  },
  {
   "cell_type": "code",
   "execution_count": 76,
   "metadata": {
    "collapsed": false
   },
   "outputs": [
    {
     "name": "stdout",
     "output_type": "stream",
     "text": [
      "List of 10\n",
      " $ Fold01: num 0.201\n",
      " $ Fold02: num 0.0937\n",
      " $ Fold03: num 0.261\n",
      " $ Fold04: num 0.164\n",
      " $ Fold05: num 0.243\n",
      " $ Fold06: num 0.269\n",
      " $ Fold07: num 0.0901\n",
      " $ Fold08: num 0.194\n",
      " $ Fold09: num 0.15\n",
      " $ Fold10: num 0.143\n"
     ]
    }
   ],
   "source": [
    "str(cv_results)"
   ]
  },
  {
   "cell_type": "code",
   "execution_count": 77,
   "metadata": {
    "collapsed": false
   },
   "outputs": [
    {
     "data": {
      "text/html": [
       "0.18095030691588"
      ],
      "text/latex": [
       "0.18095030691588"
      ],
      "text/markdown": [
       "0.18095030691588"
      ],
      "text/plain": [
       "[1] 0.1809503"
      ]
     },
     "execution_count": 77,
     "metadata": {},
     "output_type": "execute_result"
    }
   ],
   "source": [
    "mean(unlist(cv_results))"
   ]
  },
  {
   "cell_type": "code",
   "execution_count": null,
   "metadata": {
    "collapsed": true
   },
   "outputs": [],
   "source": [
    "#Bootstrap sampling\n",
    "#it differs from k cross validations because it uses sampling with replacement"
   ]
  }
 ],
 "metadata": {
  "kernelspec": {
   "display_name": "R",
   "language": "R",
   "name": "ir"
  },
  "language_info": {
   "codemirror_mode": "r",
   "file_extension": ".r",
   "mimetype": "text/x-r-source",
   "name": "R",
   "pygments_lexer": "r",
   "version": "3.2.3"
  }
 },
 "nbformat": 4,
 "nbformat_minor": 0
}
